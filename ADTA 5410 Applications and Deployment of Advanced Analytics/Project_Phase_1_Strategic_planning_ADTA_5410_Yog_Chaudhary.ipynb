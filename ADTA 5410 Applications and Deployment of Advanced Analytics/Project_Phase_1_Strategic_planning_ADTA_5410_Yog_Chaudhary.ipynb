{
  "nbformat": 4,
  "nbformat_minor": 0,
  "metadata": {
    "colab": {
      "provenance": []
    },
    "kernelspec": {
      "name": "python3",
      "display_name": "Python 3"
    },
    "language_info": {
      "name": "python"
    }
  },
  "cells": [
    {
      "cell_type": "code",
      "execution_count": 26,
      "metadata": {
        "id": "jsj2p0HeXpGm"
      },
      "outputs": [],
      "source": [
        "# Import necessary libraries\n",
        "import pandas as pd\n",
        "# Load the dataset\n",
        "DataFrame = pd.read_csv('/content/eps_APC.csv')\n"
      ]
    },
    {
      "cell_type": "code",
      "source": [
        "# Display the first few rows of the dataset\n",
        "print(DataFrame.head())\n",
        "print(DataFrame.shape)"
      ],
      "metadata": {
        "colab": {
          "base_uri": "https://localhost:8080/"
        },
        "id": "E9bnfdmdXz9X",
        "outputId": "6e04fb16-64f5-489f-d846-97a591ebe0ed"
      },
      "execution_count": 27,
      "outputs": [
        {
          "output_type": "stream",
          "name": "stdout",
          "text": [
            "  TICKER    CUSIP OFTIC             CNAME     ACTDATS  ESTIMATOR    ANALYS  \\\n",
            "0    APC  3251110   APC  ANADARKO PETE CO  20121016.0     1267.0  107698.0   \n",
            "1    APC  3251110   APC  ANADARKO PETE CO  20121030.0      118.0   78506.0   \n",
            "2    APC  3251110   APC  ANADARKO PETE CO  20121030.0      432.0  153543.0   \n",
            "3    APC  3251110   APC  ANADARKO PETE CO  20121030.0     2394.0   57530.0   \n",
            "4    APC  3251110   APC  ANADARKO PETE CO  20121030.0      260.0   78362.0   \n",
            "\n",
            "   CURRFL PDF  FPI  ...   REVTIMS     ANNDATS   ANNTIMS  ACTUAL  ACTDATS_ACT  \\\n",
            "0     NaN   D  6.0  ...   8:37:29  20121016.0  21:26:00    0.84   20121029.0   \n",
            "1     NaN   D  6.0  ...  17:45:17  20121030.0  12:30:00    0.91   20130204.0   \n",
            "2     NaN   D  6.0  ...   4:34:26  20121030.0  18:42:00    0.91   20130204.0   \n",
            "3     NaN   D  6.0  ...   9:12:15  20121030.0   8:28:00    0.91   20130204.0   \n",
            "4     NaN   D  6.0  ...  15:54:23  20121030.0   0:03:00    0.91   20130204.0   \n",
            "\n",
            "  ACTTIMS_ACT  ANNDATS_ACT ANNTIMS_ACT  CURR_ACT report_curr  \n",
            "0    12:43:05   20121029.0    12:30:00       USD         USD  \n",
            "1    16:13:05   20130204.0    16:05:00       USD         USD  \n",
            "2    16:13:05   20130204.0    16:05:00       USD         USD  \n",
            "3    16:13:05   20130204.0    16:05:00       USD         USD  \n",
            "4    16:13:05   20130204.0    16:05:00       USD         USD  \n",
            "\n",
            "[5 rows x 27 columns]\n",
            "(5772, 27)\n"
          ]
        }
      ]
    },
    {
      "cell_type": "code",
      "source": [
        "print(DataFrame.columns)"
      ],
      "metadata": {
        "colab": {
          "base_uri": "https://localhost:8080/"
        },
        "id": "Co3qttjpbJVY",
        "outputId": "25bd1be1-6d23-4bdb-cb7b-1e3b82c1343b"
      },
      "execution_count": 28,
      "outputs": [
        {
          "output_type": "stream",
          "name": "stdout",
          "text": [
            "Index(['TICKER', 'CUSIP', 'OFTIC', 'CNAME', 'ACTDATS', 'ESTIMATOR', 'ANALYS',\n",
            "       'CURRFL', 'PDF', 'FPI', 'MEASURE', 'VALUE', 'CURR', 'USFIRM', 'FPEDATS',\n",
            "       'ACTTIMS', 'REVDATS', 'REVTIMS', 'ANNDATS', 'ANNTIMS', 'ACTUAL',\n",
            "       'ACTDATS_ACT', 'ACTTIMS_ACT', 'ANNDATS_ACT', 'ANNTIMS_ACT', 'CURR_ACT',\n",
            "       'report_curr'],\n",
            "      dtype='object')\n"
          ]
        }
      ]
    },
    {
      "cell_type": "code",
      "source": [
        "# dataFrame Informatation\n",
        "# Perform exploratory data analysis\n",
        "print(DataFrame.info())"
      ],
      "metadata": {
        "colab": {
          "base_uri": "https://localhost:8080/"
        },
        "id": "0oQuj_VfYHo8",
        "outputId": "ca95a384-f089-403c-d5d9-d1bc553fae57"
      },
      "execution_count": 29,
      "outputs": [
        {
          "output_type": "stream",
          "name": "stdout",
          "text": [
            "<class 'pandas.core.frame.DataFrame'>\n",
            "RangeIndex: 5772 entries, 0 to 5771\n",
            "Data columns (total 27 columns):\n",
            " #   Column       Non-Null Count  Dtype  \n",
            "---  ------       --------------  -----  \n",
            " 0   TICKER       5772 non-null   object \n",
            " 1   CUSIP        5772 non-null   int64  \n",
            " 2   OFTIC        5772 non-null   object \n",
            " 3   CNAME        5772 non-null   object \n",
            " 4   ACTDATS      5772 non-null   float64\n",
            " 5   ESTIMATOR    5772 non-null   float64\n",
            " 6   ANALYS       5772 non-null   float64\n",
            " 7   CURRFL       0 non-null      float64\n",
            " 8   PDF          5772 non-null   object \n",
            " 9   FPI          5772 non-null   float64\n",
            " 10  MEASURE      5772 non-null   object \n",
            " 11  VALUE        5772 non-null   float64\n",
            " 12  CURR         0 non-null      float64\n",
            " 13  USFIRM       5772 non-null   float64\n",
            " 14  FPEDATS      5772 non-null   float64\n",
            " 15  ACTTIMS      5772 non-null   object \n",
            " 16  REVDATS      5772 non-null   float64\n",
            " 17  REVTIMS      5772 non-null   object \n",
            " 18  ANNDATS      5772 non-null   float64\n",
            " 19  ANNTIMS      5772 non-null   object \n",
            " 20  ACTUAL       5764 non-null   float64\n",
            " 21  ACTDATS_ACT  5764 non-null   float64\n",
            " 22  ACTTIMS_ACT  5764 non-null   object \n",
            " 23  ANNDATS_ACT  5764 non-null   float64\n",
            " 24  ANNTIMS_ACT  5764 non-null   object \n",
            " 25  CURR_ACT     5764 non-null   object \n",
            " 26  report_curr  5772 non-null   object \n",
            "dtypes: float64(14), int64(1), object(12)\n",
            "memory usage: 1.2+ MB\n",
            "None\n"
          ]
        }
      ]
    },
    {
      "cell_type": "code",
      "source": [
        "# Data discratives\n",
        "print(DataFrame.describe())"
      ],
      "metadata": {
        "colab": {
          "base_uri": "https://localhost:8080/"
        },
        "id": "Txw1CINAYQOL",
        "outputId": "32b9a228-7104-4c9a-daee-0265cb64334f"
      },
      "execution_count": 30,
      "outputs": [
        {
          "output_type": "stream",
          "name": "stdout",
          "text": [
            "           CUSIP       ACTDATS    ESTIMATOR         ANALYS  CURRFL     FPI  \\\n",
            "count     5772.0  5.772000e+03  5772.000000    5772.000000     0.0  5772.0   \n",
            "mean   3251110.0  2.008465e+07   871.591649   67327.069647     NaN     6.0   \n",
            "std          0.0  6.486716e+04  1031.922649   47532.711966     NaN     0.0   \n",
            "min    3251110.0  1.995010e+07     7.000000       0.000000     NaN     6.0   \n",
            "25%    3251110.0  2.003080e+07   133.000000   18677.000000     NaN     6.0   \n",
            "50%    3251110.0  2.009021e+07   282.000000   74954.000000     NaN     6.0   \n",
            "75%    3251110.0  2.014073e+07  1273.000000  107698.000000     NaN     6.0   \n",
            "max    3251110.0  2.019081e+07  4078.000000  190786.000000     NaN     6.0   \n",
            "\n",
            "             VALUE  CURR  USFIRM       FPEDATS       REVDATS       ANNDATS  \\\n",
            "count  5772.000000   0.0  5772.0  5.772000e+03  5.772000e+03  5.772000e+03   \n",
            "mean      0.434577   NaN     1.0  2.008388e+07  2.008534e+07  2.008463e+07   \n",
            "std       0.652887   NaN     0.0  6.476606e+04  6.417837e+04  6.488206e+04   \n",
            "min      -3.260000   NaN     1.0  1.994123e+07  1.995031e+07  1.995010e+07   \n",
            "25%       0.052500   NaN     1.0  2.003093e+07  2.003080e+07  2.003080e+07   \n",
            "50%       0.535000   NaN     1.0  2.009033e+07  2.009026e+07  2.009021e+07   \n",
            "75%       0.870000   NaN     1.0  2.014093e+07  2.014073e+07  2.014073e+07   \n",
            "max       2.380000   NaN     1.0  2.019093e+07  2.019081e+07  2.019081e+07   \n",
            "\n",
            "            ACTUAL   ACTDATS_ACT   ANNDATS_ACT  \n",
            "count  5764.000000  5.764000e+03  5.764000e+03  \n",
            "mean      0.482214  2.008602e+07  2.008601e+07  \n",
            "std       0.687998  6.479605e+04  6.479828e+04  \n",
            "min      -1.120000  1.995013e+07  1.995013e+07  \n",
            "25%       0.057500  2.003110e+07  2.003103e+07  \n",
            "50%       0.585000  2.009051e+07  2.009051e+07  \n",
            "75%       0.935000  2.014073e+07  2.014073e+07  \n",
            "max       1.940000  2.019073e+07  2.019073e+07  \n"
          ]
        }
      ]
    },
    {
      "cell_type": "code",
      "source": [
        "# Data preprocessing\n",
        "# Check for missing values\n",
        "print(DataFrame.isnull().sum())"
      ],
      "metadata": {
        "colab": {
          "base_uri": "https://localhost:8080/"
        },
        "id": "0ijvxaIrYWoO",
        "outputId": "1f6440a4-49a0-4ab8-edf6-dc2214705713"
      },
      "execution_count": 31,
      "outputs": [
        {
          "output_type": "stream",
          "name": "stdout",
          "text": [
            "TICKER            0\n",
            "CUSIP             0\n",
            "OFTIC             0\n",
            "CNAME             0\n",
            "ACTDATS           0\n",
            "ESTIMATOR         0\n",
            "ANALYS            0\n",
            "CURRFL         5772\n",
            "PDF               0\n",
            "FPI               0\n",
            "MEASURE           0\n",
            "VALUE             0\n",
            "CURR           5772\n",
            "USFIRM            0\n",
            "FPEDATS           0\n",
            "ACTTIMS           0\n",
            "REVDATS           0\n",
            "REVTIMS           0\n",
            "ANNDATS           0\n",
            "ANNTIMS           0\n",
            "ACTUAL            8\n",
            "ACTDATS_ACT       8\n",
            "ACTTIMS_ACT       8\n",
            "ANNDATS_ACT       8\n",
            "ANNTIMS_ACT       8\n",
            "CURR_ACT          8\n",
            "report_curr       0\n",
            "dtype: int64\n"
          ]
        }
      ]
    },
    {
      "cell_type": "code",
      "source": [
        "# Check for duplicate rows\n",
        "print(DataFrame.duplicated().sum())"
      ],
      "metadata": {
        "colab": {
          "base_uri": "https://localhost:8080/"
        },
        "id": "o7mytCfIYaim",
        "outputId": "10bacb99-98e3-4d29-b979-6739e637af5c"
      },
      "execution_count": 32,
      "outputs": [
        {
          "output_type": "stream",
          "name": "stdout",
          "text": [
            "0\n"
          ]
        }
      ]
    },
    {
      "cell_type": "code",
      "source": [
        "# Data analysis\n",
        "# Calculate the accuracy of EPS forecasts\n",
        "DataFrame['Forecast_Error'] = DataFrame['ACTUAL'] - DataFrame['VALUE']\n",
        "DataFrame['Accuracy'] = DataFrame['Forecast_Error'] / DataFrame['VALUE']"
      ],
      "metadata": {
        "id": "r9aHJrY7YeaN"
      },
      "execution_count": 33,
      "outputs": []
    },
    {
      "cell_type": "code",
      "source": [
        "# Categorize stock recommendations based on EPS predictions\n",
        "def categorize_recommendations(row):\n",
        "   if row['Accuracy'] > 0.1:\n",
        "       return 'Buy'\n",
        "   elif row['Accuracy'] < -0.1:\n",
        "       return 'Sell'\n",
        "   else:\n",
        "       return 'Neutral'\n",
        "\n",
        "\n",
        "DataFrame['Recommendation'] = DataFrame.apply(categorize_recommendations, axis=1)"
      ],
      "metadata": {
        "id": "CwwyaQ0bYjiE"
      },
      "execution_count": 34,
      "outputs": []
    },
    {
      "cell_type": "code",
      "source": [
        "# Display the updated dataset with recommendations\n",
        "print(DataFrame[['TICKER', 'CUSIP', 'OFTIC', 'CNAME', 'ACTDATS', 'ESTIMATOR', 'ANALYS',\n",
        "       'CURRFL', 'PDF', 'FPI', 'MEASURE', 'VALUE', 'CURR', 'USFIRM', 'FPEDATS',\n",
        "       'ACTTIMS', 'REVDATS', 'REVTIMS', 'ANNDATS', 'ANNTIMS', 'ACTUAL',\n",
        "       'ACTDATS_ACT', 'ACTTIMS_ACT', 'ANNDATS_ACT', 'ANNTIMS_ACT', 'CURR_ACT',\n",
        "       'report_curr', 'Forecast_Error', 'Accuracy', 'Recommendation']])"
      ],
      "metadata": {
        "colab": {
          "base_uri": "https://localhost:8080/"
        },
        "id": "mZ1uiiGuYnE9",
        "outputId": "90f527c7-43ee-45c1-9202-1ff770f05e13"
      },
      "execution_count": 35,
      "outputs": [
        {
          "output_type": "stream",
          "name": "stdout",
          "text": [
            "     TICKER    CUSIP OFTIC             CNAME     ACTDATS  ESTIMATOR    ANALYS  \\\n",
            "0       APC  3251110   APC  ANADARKO PETE CO  20121016.0     1267.0  107698.0   \n",
            "1       APC  3251110   APC  ANADARKO PETE CO  20121030.0      118.0   78506.0   \n",
            "2       APC  3251110   APC  ANADARKO PETE CO  20121030.0      432.0  153543.0   \n",
            "3       APC  3251110   APC  ANADARKO PETE CO  20121030.0     2394.0   57530.0   \n",
            "4       APC  3251110   APC  ANADARKO PETE CO  20121030.0      260.0   78362.0   \n",
            "...     ...      ...   ...               ...         ...        ...       ...   \n",
            "5767    APC  3251110   APC  ANADARKO PETE CO  20050502.0      228.0    9119.0   \n",
            "5768    APC  3251110   APC  ANADARKO PETE CO  20050502.0      863.0   80185.0   \n",
            "5769    APC  3251110   APC  ANADARKO PETE CO  20050502.0     1273.0   79609.0   \n",
            "5770    APC  3251110   APC  ANADARKO PETE CO  20050502.0       28.0    9495.0   \n",
            "5771    APC  3251110   APC   ANADARKO PETROL  20190808.0      873.0  104605.0   \n",
            "\n",
            "      CURRFL PDF  FPI  ... ACTUAL  ACTDATS_ACT  ACTTIMS_ACT  ANNDATS_ACT  \\\n",
            "0        NaN   D  6.0  ...   0.84   20121029.0     12:43:05   20121029.0   \n",
            "1        NaN   D  6.0  ...   0.91   20130204.0     16:13:05   20130204.0   \n",
            "2        NaN   D  6.0  ...   0.91   20130204.0     16:13:05   20130204.0   \n",
            "3        NaN   D  6.0  ...   0.91   20130204.0     16:13:05   20130204.0   \n",
            "4        NaN   D  6.0  ...   0.91   20130204.0     16:13:05   20130204.0   \n",
            "...      ...  ..  ...  ...    ...          ...          ...          ...   \n",
            "5767     NaN   D  6.0  ...   1.06   20050801.0     14:14:00   20050729.0   \n",
            "5768     NaN   D  6.0  ...   1.06   20050801.0     14:14:00   20050729.0   \n",
            "5769     NaN   D  6.0  ...   1.06   20050801.0     14:14:00   20050729.0   \n",
            "5770     NaN   D  6.0  ...   1.06   20050801.0     14:14:00   20050729.0   \n",
            "5771     NaN   D  6.0  ...    NaN          NaN          NaN          NaN   \n",
            "\n",
            "      ANNTIMS_ACT CURR_ACT  report_curr Forecast_Error  Accuracy  \\\n",
            "0        12:30:00      USD          USD          0.090  0.120000   \n",
            "1        16:05:00      USD          USD          0.040  0.045977   \n",
            "2        16:05:00      USD          USD          0.310  0.516667   \n",
            "3        16:05:00      USD          USD          0.193  0.269177   \n",
            "4        16:05:00      USD          USD          0.440  0.936170   \n",
            "...           ...      ...          ...            ...       ...   \n",
            "5767     23:05:00      USD          USD          0.140  0.152174   \n",
            "5768     23:05:00      USD          USD          0.305  0.403974   \n",
            "5769     23:05:00      USD          USD         -0.220 -0.171875   \n",
            "5770     23:05:00      USD          USD         -0.005 -0.004695   \n",
            "5771          NaN      NaN          USD            NaN       NaN   \n",
            "\n",
            "     Recommendation  \n",
            "0               Buy  \n",
            "1           Neutral  \n",
            "2               Buy  \n",
            "3               Buy  \n",
            "4               Buy  \n",
            "...             ...  \n",
            "5767            Buy  \n",
            "5768            Buy  \n",
            "5769           Sell  \n",
            "5770        Neutral  \n",
            "5771        Neutral  \n",
            "\n",
            "[5772 rows x 30 columns]\n"
          ]
        }
      ]
    },
    {
      "cell_type": "code",
      "source": [
        "# Display the updated dataset with recommendations\n",
        "print(DataFrame[['ACTDATS', 'CNAME', 'VALUE', 'ACTUAL', 'Accuracy', 'Recommendation']])\n"
      ],
      "metadata": {
        "colab": {
          "base_uri": "https://localhost:8080/"
        },
        "id": "2_-OjsioYprd",
        "outputId": "8993b4ae-06b6-4f51-eeea-18dde0406d98"
      },
      "execution_count": 36,
      "outputs": [
        {
          "output_type": "stream",
          "name": "stdout",
          "text": [
            "         ACTDATS             CNAME  VALUE  ACTUAL  Accuracy Recommendation\n",
            "0     20121016.0  ANADARKO PETE CO  0.750    0.84  0.120000            Buy\n",
            "1     20121030.0  ANADARKO PETE CO  0.870    0.91  0.045977        Neutral\n",
            "2     20121030.0  ANADARKO PETE CO  0.600    0.91  0.516667            Buy\n",
            "3     20121030.0  ANADARKO PETE CO  0.717    0.91  0.269177            Buy\n",
            "4     20121030.0  ANADARKO PETE CO  0.470    0.91  0.936170            Buy\n",
            "...          ...               ...    ...     ...       ...            ...\n",
            "5767  20050502.0  ANADARKO PETE CO  0.920    1.06  0.152174            Buy\n",
            "5768  20050502.0  ANADARKO PETE CO  0.755    1.06  0.403974            Buy\n",
            "5769  20050502.0  ANADARKO PETE CO  1.280    1.06 -0.171875           Sell\n",
            "5770  20050502.0  ANADARKO PETE CO  1.065    1.06 -0.004695        Neutral\n",
            "5771  20190808.0   ANADARKO PETROL  0.380     NaN       NaN        Neutral\n",
            "\n",
            "[5772 rows x 6 columns]\n"
          ]
        }
      ]
    },
    {
      "cell_type": "markdown",
      "source": [
        "# Explanation:\n",
        "Strategic Plan for Financial Newsletter, AFNA:\n",
        "\n",
        "\n",
        "# Understanding the Business Problem:\n",
        "In order to distinguish content and bolster a premium subscription model, the objective is to offer precise stock recommendations based on EPS projections.\n",
        "\n",
        "\n",
        "# Data Requirements:\n",
        "Actual EPS numbers, forecasted EPS values, and other pertinent financial data are all included in the dataset. It is possible to forecast stock recommendations with this data alone.\n",
        "\n",
        "\n",
        "# Additional Data:\n",
        "The dataset has all the information required for analysis, hence no extra information is required.\n",
        "\n",
        "\n",
        "# Strategic Approach:\n",
        "The methodology will involve analyzing the historical accuracy of EPS forecasts, comparing them to actual values, and categorizing stock recommendations based on this analysis.\n",
        "\n",
        "\n",
        "# Strategic Plan for Brokerage Firm, SOS:\n",
        "\n",
        "\n",
        "# Business Problem Understanding:\n",
        "The objective is to predict future stock price levels using EPS data to enhance investment advisory services and credibility.\n",
        "\n",
        "\n",
        "# Data Requirements:\n",
        "The dataset provided contains EPS forecasts, actual EPS values, and other financial information required for price predictions.\n",
        "\n",
        "\n",
        "# Additional Data:\n",
        "No additional data is necessary as the dataset covers all the information needed for accurate predictions.\n",
        "\n",
        "\n",
        "#Strategic Approach:\n",
        "The approach involves using historical EPS data to forecast future price levels, considering other financial indicators to strengthen the prediction model.\n",
        "\n",
        "\n",
        "All things considered, the strategy plans for both clients center on utilizing EPS forecast data to offer insightful recommendations for stocks and price projections that are in line with each client's unique company objectives."
      ],
      "metadata": {
        "id": "i2cuCD1RZm05"
      }
    },
    {
      "cell_type": "code",
      "source": [],
      "metadata": {
        "id": "icq8ws_EZnx0"
      },
      "execution_count": null,
      "outputs": []
    }
  ]
}