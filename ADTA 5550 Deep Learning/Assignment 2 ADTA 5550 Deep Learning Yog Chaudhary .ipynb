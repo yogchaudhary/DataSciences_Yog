{
 "cells": [
  {
   "cell_type": "markdown",
   "id": "d9f54388",
   "metadata": {},
   "source": [
    "# Yog Chaudhary\n",
    "11727095\n",
    "\n",
    "ADTA 5550: Deep Learning with Big Data \n",
    "\n",
    "Professor: Dr. Hamidreza Moradi\n",
    "\n",
    "University of North Texas    \n",
    "\n",
    "Jan 29, 2024\n"
   ]
  },
  {
   "cell_type": "markdown",
   "id": "23bb4a6d",
   "metadata": {},
   "source": [
    "# 1. Declare two constant tensors that have the values of 15 and 45. Add these two tensors and print out the results.\n"
   ]
  },
  {
   "cell_type": "code",
   "execution_count": 1,
   "id": "c4b88b66",
   "metadata": {},
   "outputs": [],
   "source": [
    "import tensorflow as tf\n"
   ]
  },
  {
   "cell_type": "markdown",
   "id": "b94f38c3",
   "metadata": {},
   "source": [
    "# Declare two constant tensors"
   ]
  },
  {
   "cell_type": "code",
   "execution_count": 2,
   "id": "81c8bff6",
   "metadata": {},
   "outputs": [],
   "source": [
    "tensor1 = tf.constant(15)"
   ]
  },
  {
   "cell_type": "code",
   "execution_count": 3,
   "id": "224e471d",
   "metadata": {},
   "outputs": [],
   "source": [
    "tensor2 = tf.constant(45)"
   ]
  },
  {
   "cell_type": "markdown",
   "id": "6a0b5a86",
   "metadata": {},
   "source": [
    "# Add the two tensors"
   ]
  },
  {
   "cell_type": "code",
   "execution_count": 4,
   "id": "c137a252",
   "metadata": {},
   "outputs": [],
   "source": [
    "result_tensor = tf.add(tensor1, tensor2)"
   ]
  },
  {
   "cell_type": "code",
   "execution_count": 5,
   "id": "9c0e0d30",
   "metadata": {},
   "outputs": [
    {
     "name": "stderr",
     "output_type": "stream",
     "text": [
      "\n",
      "User settings:\n",
      "\n",
      "   KMP_AFFINITY=granularity=fine,verbose,compact,1,0\n",
      "   KMP_BLOCKTIME=0\n",
      "   KMP_SETTINGS=1\n",
      "   OMP_NUM_THREADS=8\n",
      "\n",
      "Effective settings:\n",
      "\n",
      "   KMP_ABORT_DELAY=0\n",
      "   KMP_ADAPTIVE_LOCK_PROPS='1,1024'\n",
      "   KMP_ALIGN_ALLOC=64\n",
      "   KMP_ALL_THREADPRIVATE=128\n",
      "   KMP_ATOMIC_MODE=2\n",
      "   KMP_BLOCKTIME=0\n",
      "   KMP_CPUINFO_FILE: value is not defined\n",
      "   KMP_DETERMINISTIC_REDUCTION=false\n",
      "   KMP_DEVICE_THREAD_LIMIT=2147483647\n",
      "   KMP_DISP_HAND_THREAD=false\n",
      "   KMP_DISP_NUM_BUFFERS=7\n",
      "   KMP_DUPLICATE_LIB_OK=false\n",
      "   KMP_FORCE_REDUCTION: value is not defined\n",
      "   KMP_FOREIGN_THREADS_THREADPRIVATE=true\n",
      "   KMP_FORKJOIN_BARRIER='2,2'\n",
      "   KMP_FORKJOIN_BARRIER_PATTERN='hyper,hyper'\n",
      "   KMP_FORKJOIN_FRAMES=true\n",
      "   KMP_FORKJOIN_FRAMES_MODE=3\n",
      "   KMP_GTID_MODE=3\n",
      "   KMP_HANDLE_SIGNALS=false\n",
      "   KMP_HOT_TEAMS_MAX_LEVEL=1\n",
      "   KMP_HOT_TEAMS_MODE=0\n",
      "   KMP_INIT_AT_FORK=true\n",
      "   KMP_ITT_PREPARE_DELAY=0\n",
      "   KMP_LIBRARY=throughput\n",
      "   KMP_LOCK_KIND=queuing\n",
      "   KMP_MALLOC_POOL_INCR=1M\n",
      "   KMP_MWAIT_HINTS=0\n",
      "   KMP_NUM_LOCKS_IN_BLOCK=1\n",
      "   KMP_PLAIN_BARRIER='2,2'\n",
      "   KMP_PLAIN_BARRIER_PATTERN='hyper,hyper'\n",
      "   KMP_REDUCTION_BARRIER='1,1'\n",
      "   KMP_REDUCTION_BARRIER_PATTERN='hyper,hyper'\n",
      "   KMP_SCHEDULE='static,balanced;guided,iterative'\n",
      "   KMP_SETTINGS=true\n",
      "   KMP_SPIN_BACKOFF_PARAMS='4096,100'\n",
      "   KMP_STACKOFFSET=64\n",
      "   KMP_STACKPAD=0\n",
      "   KMP_STACKSIZE=8M\n",
      "   KMP_STORAGE_MAP=false\n",
      "   KMP_TASKING=2\n",
      "   KMP_TASKLOOP_MIN_TASKS=0\n",
      "   KMP_TASK_STEALING_CONSTRAINT=1\n",
      "   KMP_TEAMS_THREAD_LIMIT=8\n",
      "   KMP_TOPOLOGY_METHOD=all\n",
      "   KMP_USER_LEVEL_MWAIT=false\n",
      "   KMP_USE_YIELD=1\n",
      "   KMP_VERSION=false\n",
      "   KMP_WARNINGS=true\n",
      "   OMP_AFFINITY_FORMAT='OMP: pid %P tid %i thread %n bound to OS proc set {%A}'\n",
      "   OMP_ALLOCATOR=omp_default_mem_alloc\n",
      "   OMP_CANCELLATION=false\n",
      "   OMP_DEBUG=disabled\n",
      "   OMP_DEFAULT_DEVICE=0\n",
      "   OMP_DISPLAY_AFFINITY=false\n",
      "   OMP_DISPLAY_ENV=false\n",
      "   OMP_DYNAMIC=false\n",
      "   OMP_MAX_ACTIVE_LEVELS=2147483647\n",
      "   OMP_MAX_TASK_PRIORITY=0\n",
      "   OMP_NESTED=false\n",
      "   OMP_NUM_THREADS='8'\n",
      "   OMP_PLACES: value is not defined\n",
      "   OMP_PROC_BIND='intel'\n",
      "   OMP_SCHEDULE='static'\n",
      "   OMP_STACKSIZE=8M\n",
      "   OMP_TARGET_OFFLOAD=DEFAULT\n",
      "   OMP_THREAD_LIMIT=2147483647\n",
      "   OMP_TOOL=enabled\n",
      "   OMP_TOOL_LIBRARIES: value is not defined\n",
      "   OMP_WAIT_POLICY=PASSIVE\n",
      "   KMP_AFFINITY='verbose,warnings,respect,granularity=fine,compact,1,0'\n",
      "\n",
      "2024-01-28 03:03:42.292449: I tensorflow/core/platform/profile_utils/cpu_utils.cc:94] CPU Frequency: 2200210000 Hz\n",
      "2024-01-28 03:03:42.293907: I tensorflow/compiler/xla/service/service.cc:168] XLA service 0x558080004730 initialized for platform Host (this does not guarantee that XLA will be used). Devices:\n",
      "2024-01-28 03:03:42.293944: I tensorflow/compiler/xla/service/service.cc:176]   StreamExecutor device (0): Host, Default Version\n",
      "2024-01-28 03:03:42.294560: I tensorflow/core/common_runtime/process_util.cc:136] Creating new thread pool with default inter op setting: 2. Tune using inter_op_parallelism_threads for best performance.\n"
     ]
    }
   ],
   "source": [
    "with tf.compat.v1.Session() as sess:\n",
    "    result = sess.run(result_tensor)"
   ]
  },
  {
   "cell_type": "code",
   "execution_count": 7,
   "id": "8ce5bb13",
   "metadata": {},
   "outputs": [
    {
     "name": "stdout",
     "output_type": "stream",
     "text": [
      "The result of adding the two tensors is: 60\n"
     ]
    }
   ],
   "source": [
    "print(\"The result of adding the two tensors is:\", result)"
   ]
  },
  {
   "cell_type": "markdown",
   "id": "d4606ac5",
   "metadata": {},
   "source": [
    "# 2.  Declare two variable tensors, a and b, that are initialized with scalar values of 2.75 and 8.5. Find their product and print out the result.\n"
   ]
  },
  {
   "cell_type": "code",
   "execution_count": 8,
   "id": "ebe360a0",
   "metadata": {},
   "outputs": [],
   "source": [
    "a = tf.constant(2.75)\n"
   ]
  },
  {
   "cell_type": "code",
   "execution_count": 9,
   "id": "011e978f",
   "metadata": {},
   "outputs": [],
   "source": [
    "b = tf.constant(8.5)"
   ]
  },
  {
   "cell_type": "code",
   "execution_count": 10,
   "id": "ea93f573",
   "metadata": {},
   "outputs": [],
   "source": [
    "product = tf.multiply(a, b)"
   ]
  },
  {
   "cell_type": "code",
   "execution_count": 11,
   "id": "0d0ae6a8",
   "metadata": {},
   "outputs": [],
   "source": [
    "with tf.compat.v1.Session() as sess:\n",
    "    result = sess.run(product)"
   ]
  },
  {
   "cell_type": "code",
   "execution_count": 12,
   "id": "375a7cbf",
   "metadata": {},
   "outputs": [
    {
     "name": "stdout",
     "output_type": "stream",
     "text": [
      "Tensor(\"Mul:0\", shape=(), dtype=float32)\n"
     ]
    }
   ],
   "source": [
    "print(product)"
   ]
  },
  {
   "cell_type": "code",
   "execution_count": 13,
   "id": "92355752",
   "metadata": {},
   "outputs": [],
   "source": [
    "a = tf.constant(2.75)\n"
   ]
  },
  {
   "cell_type": "code",
   "execution_count": 14,
   "id": "97c3d738",
   "metadata": {},
   "outputs": [],
   "source": [
    "b = tf.constant(8.5)"
   ]
  },
  {
   "cell_type": "code",
   "execution_count": 15,
   "id": "c4723e36",
   "metadata": {},
   "outputs": [],
   "source": [
    "product = tf.multiply(a, b)"
   ]
  },
  {
   "cell_type": "code",
   "execution_count": 16,
   "id": "15486abe",
   "metadata": {},
   "outputs": [],
   "source": [
    "with tf.compat.v1.Session() as sess:\n",
    "    result = sess.run(product)"
   ]
  },
  {
   "cell_type": "code",
   "execution_count": 17,
   "id": "32658a6f",
   "metadata": {},
   "outputs": [
    {
     "name": "stdout",
     "output_type": "stream",
     "text": [
      "The product of a and b is: 23.375\n"
     ]
    }
   ],
   "source": [
    "print(\"The product of a and b is:\", result)"
   ]
  },
  {
   "cell_type": "markdown",
   "id": "f60c3880",
   "metadata": {},
   "source": [
    "# 3.  Create two placeholders: x and y - that are both scalars of 32-bit floats. Assign 5.25 to x and 12.6 to y, multiply them together, and print out the results.\n"
   ]
  },
  {
   "cell_type": "code",
   "execution_count": 18,
   "id": "0c9c77a7",
   "metadata": {},
   "outputs": [],
   "source": [
    "import tensorflow as tf"
   ]
  },
  {
   "cell_type": "code",
   "execution_count": 19,
   "id": "b5e6d78d",
   "metadata": {},
   "outputs": [],
   "source": [
    "tf.compat.v1.disable_eager_execution()\n"
   ]
  },
  {
   "cell_type": "code",
   "execution_count": 20,
   "id": "8246cd51",
   "metadata": {
    "scrolled": false
   },
   "outputs": [
    {
     "name": "stdout",
     "output_type": "stream",
     "text": [
      "66.15\n"
     ]
    }
   ],
   "source": [
    "a = tf.constant(5.25, dtype = tf.float32)\n",
    "b = tf.constant(12.6, dtype = tf.float32)\n",
    "c = a * b\n",
    "hello = tf.constant('Hello, TensorFlow!')\n",
    "\n",
    "sess = tf.compat.v1.Session()\n",
    "\n",
    "print(sess.run(c))"
   ]
  },
  {
   "cell_type": "markdown",
   "id": "ed1a7b01",
   "metadata": {},
   "source": [
    "# 4.  Create one placeholder: z - that is an N-Dimensional array (N can be >= 1) that can have any shape (shape = None). Feed this vector [1, 3, 5, 7, 9] into z and multiply it by 3. Display the results.\n"
   ]
  },
  {
   "cell_type": "code",
   "execution_count": 21,
   "id": "e0549ddf",
   "metadata": {},
   "outputs": [],
   "source": [
    "import numpy as np"
   ]
  },
  {
   "cell_type": "code",
   "execution_count": 22,
   "id": "e4c9f71e",
   "metadata": {},
   "outputs": [
    {
     "name": "stderr",
     "output_type": "stream",
     "text": [
      "/opt/conda/lib/python3.7/site-packages/ipykernel_launcher.py:2: DeprecationWarning: Passing None into shape arguments as an alias for () is deprecated.\n",
      "  \n"
     ]
    }
   ],
   "source": [
    "# create a placeholder z with shape None\n",
    "z = np.ndarray(shape=None)\n"
   ]
  },
  {
   "cell_type": "code",
   "execution_count": 23,
   "id": "de6fb435",
   "metadata": {},
   "outputs": [],
   "source": [
    "# feed the vector [1, 3, 5, 7, 9] into z\n",
    "z = np.array([1, 3, 5, 7, 9])\n"
   ]
  },
  {
   "cell_type": "code",
   "execution_count": 24,
   "id": "66591fac",
   "metadata": {},
   "outputs": [],
   "source": [
    "# multiply z by 3\n",
    "z *= 3"
   ]
  },
  {
   "cell_type": "code",
   "execution_count": 25,
   "id": "5e2c0809",
   "metadata": {},
   "outputs": [
    {
     "name": "stdout",
     "output_type": "stream",
     "text": [
      "[ 3  9 15 21 27]\n"
     ]
    }
   ],
   "source": [
    "# display the result\n",
    "print(z)"
   ]
  },
  {
   "cell_type": "markdown",
   "id": "75a8f085",
   "metadata": {},
   "source": [
    "# 5.  Create a constant tensor that is a matrix of the shape (8, 8). The matrix is initialized with all  ones (1). Create a variable tensor that is also a matrix of the shape (8, 8) and initialized with random integer values between 0 and 99. Add these two tensors and display the results.\n"
   ]
  },
  {
   "cell_type": "code",
   "execution_count": 50,
   "id": "b10c30cd",
   "metadata": {},
   "outputs": [],
   "source": [
    "import numpy as np"
   ]
  },
  {
   "cell_type": "code",
   "execution_count": 51,
   "id": "fc04881a",
   "metadata": {},
   "outputs": [
    {
     "name": "stdout",
     "output_type": "stream",
     "text": [
      "Tensor(\"Const_12:0\", shape=(8, 8), dtype=float64)\n"
     ]
    }
   ],
   "source": [
    "x = np.ones([8, 8])\n",
    "x = tf.constant(x)\n",
    "print(x)\n",
    "y = np.zeros([8,8])\n"
   ]
  },
  {
   "cell_type": "code",
   "execution_count": 59,
   "id": "17c2936f",
   "metadata": {},
   "outputs": [
    {
     "name": "stdout",
     "output_type": "stream",
     "text": [
      "Addition =  Tensor(\"add_5:0\", shape=(8, 8), dtype=float64)\n"
     ]
    }
   ],
   "source": [
    "import tensorflow as tf\n",
    "import numpy as np\n",
    "\n",
    "# Create a constant tensor 'x' filled with ones\n",
    "x = tf.constant(np.ones([8, 8]))\n",
    "\n",
    "# Create a numpy array 'y' filled with zeros\n",
    "y = np.zeros([8, 8])\n",
    "\n",
    "# Fill 'y' with random integers between 1 and 97\n",
    "for i in range(8):\n",
    "    for j in range(8):\n",
    "        y[i][j] = np.random.randint(1, 98)\n",
    "\n",
    "# Convert 'y' to a TensorFlow variable\n",
    "y = tf.Variable(y)\n",
    "\n",
    "# Add 'x' and 'y' tensors\n",
    "addition = x + y\n",
    "\n",
    "# Print the result\n",
    "print('Addition = ', addition)\n"
   ]
  },
  {
   "cell_type": "code",
   "execution_count": null,
   "id": "974cee84",
   "metadata": {},
   "outputs": [],
   "source": [
    "# Assignment 2 Deep Learning ADTA 5550"
   ]
  }
 ],
 "metadata": {
  "kernelspec": {
   "display_name": "Python 3",
   "language": "python",
   "name": "python3"
  },
  "language_info": {
   "codemirror_mode": {
    "name": "ipython",
    "version": 3
   },
   "file_extension": ".py",
   "mimetype": "text/x-python",
   "name": "python",
   "nbconvert_exporter": "python",
   "pygments_lexer": "ipython3",
   "version": "3.7.12"
  }
 },
 "nbformat": 4,
 "nbformat_minor": 5
}
