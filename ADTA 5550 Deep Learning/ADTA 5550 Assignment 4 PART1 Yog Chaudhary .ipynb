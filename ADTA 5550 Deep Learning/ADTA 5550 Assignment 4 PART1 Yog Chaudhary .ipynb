{
 "cells": [
  {
   "cell_type": "markdown",
   "id": "772c1bce",
   "metadata": {},
   "source": [
    "# PART I: Build, Train, and Test CNN on MNIST Dataset\n",
    "\n",
    "Project Report – CNN on MNIST with TensorFlow.\n"
   ]
  },
  {
   "cell_type": "code",
   "execution_count": 1,
   "id": "b7400bd2",
   "metadata": {},
   "outputs": [],
   "source": [
    "import numpy as np\n",
    "import pandas as pd"
   ]
  },
  {
   "cell_type": "code",
   "execution_count": 2,
   "id": "eb0d3d8c",
   "metadata": {},
   "outputs": [],
   "source": [
    "import matplotlib.pyplot as plt\n",
    "%matplotlib inline"
   ]
  },
  {
   "cell_type": "code",
   "execution_count": 3,
   "id": "cd5cd34c",
   "metadata": {},
   "outputs": [],
   "source": [
    "import tensorflow as tf\n",
    "from tensorflow.examples.tutorials.mnist import input_data"
   ]
  },
  {
   "cell_type": "code",
   "execution_count": 4,
   "id": "0492f7d5",
   "metadata": {},
   "outputs": [
    {
     "name": "stdout",
     "output_type": "stream",
     "text": [
      "WARNING:tensorflow:From /tmp/ipykernel_3744/3864835019.py:1: read_data_sets (from tensorflow.contrib.learn.python.learn.datasets.mnist) is deprecated and will be removed in a future version.\n",
      "Instructions for updating:\n",
      "Please use alternatives such as official/mnist/dataset.py from tensorflow/models.\n",
      "WARNING:tensorflow:From /opt/conda/lib/python3.7/site-packages/tensorflow_core/contrib/learn/python/learn/datasets/mnist.py:260: maybe_download (from tensorflow.contrib.learn.python.learn.datasets.base) is deprecated and will be removed in a future version.\n",
      "Instructions for updating:\n",
      "Please write your own downloading logic.\n",
      "WARNING:tensorflow:From /opt/conda/lib/python3.7/site-packages/tensorflow_core/contrib/learn/python/learn/datasets/mnist.py:262: extract_images (from tensorflow.contrib.learn.python.learn.datasets.mnist) is deprecated and will be removed in a future version.\n",
      "Instructions for updating:\n",
      "Please use tf.data to implement this functionality.\n",
      "Extracting MNIST_data/train-images-idx3-ubyte.gz\n",
      "WARNING:tensorflow:From /opt/conda/lib/python3.7/site-packages/tensorflow_core/contrib/learn/python/learn/datasets/mnist.py:267: extract_labels (from tensorflow.contrib.learn.python.learn.datasets.mnist) is deprecated and will be removed in a future version.\n",
      "Instructions for updating:\n",
      "Please use tf.data to implement this functionality.\n",
      "Extracting MNIST_data/train-labels-idx1-ubyte.gz\n",
      "WARNING:tensorflow:From /opt/conda/lib/python3.7/site-packages/tensorflow_core/contrib/learn/python/learn/datasets/mnist.py:110: dense_to_one_hot (from tensorflow.contrib.learn.python.learn.datasets.mnist) is deprecated and will be removed in a future version.\n",
      "Instructions for updating:\n",
      "Please use tf.one_hot on tensors.\n",
      "Extracting MNIST_data/t10k-images-idx3-ubyte.gz\n",
      "Extracting MNIST_data/t10k-labels-idx1-ubyte.gz\n",
      "WARNING:tensorflow:From /opt/conda/lib/python3.7/site-packages/tensorflow_core/contrib/learn/python/learn/datasets/mnist.py:290: DataSet.__init__ (from tensorflow.contrib.learn.python.learn.datasets.mnist) is deprecated and will be removed in a future version.\n",
      "Instructions for updating:\n",
      "Please use alternatives such as official/mnist/dataset.py from tensorflow/models.\n"
     ]
    }
   ],
   "source": [
    "mnist=input_data.read_data_sets(\"MNIST_data/\", one_hot=True)\n"
   ]
  },
  {
   "cell_type": "code",
   "execution_count": 5,
   "id": "0fcab226",
   "metadata": {},
   "outputs": [
    {
     "data": {
      "text/plain": [
       "tensorflow.contrib.learn.python.learn.datasets.base.Datasets"
      ]
     },
     "execution_count": 5,
     "metadata": {},
     "output_type": "execute_result"
    }
   ],
   "source": [
    "type(mnist)"
   ]
  },
  {
   "cell_type": "code",
   "execution_count": 6,
   "id": "bcf5ffd2",
   "metadata": {},
   "outputs": [
    {
     "data": {
      "text/plain": [
       "55000"
      ]
     },
     "execution_count": 6,
     "metadata": {},
     "output_type": "execute_result"
    }
   ],
   "source": [
    "mnist.train.num_examples"
   ]
  },
  {
   "cell_type": "code",
   "execution_count": 7,
   "id": "fed33219",
   "metadata": {},
   "outputs": [
    {
     "data": {
      "text/plain": [
       "10000"
      ]
     },
     "execution_count": 7,
     "metadata": {},
     "output_type": "execute_result"
    }
   ],
   "source": [
    "mnist.test.num_examples"
   ]
  },
  {
   "cell_type": "markdown",
   "id": "31b7222f",
   "metadata": {},
   "source": [
    "# Initialize Bias"
   ]
  },
  {
   "cell_type": "code",
   "execution_count": 8,
   "id": "33d3e7e3",
   "metadata": {},
   "outputs": [],
   "source": [
    "def initialize_weights (filter_shape):\n",
    "    \n",
    "    init_random_dist=tf.truncated_normal(filter_shape, stddev=0.1)\n",
    "    \n",
    "    return(tf.Variable(init_random_dist))"
   ]
  },
  {
   "cell_type": "code",
   "execution_count": 9,
   "id": "60fed84d",
   "metadata": {},
   "outputs": [],
   "source": [
    "def initialize_bias(bias_shape):\n",
    "    \n",
    "    initial_bias_value=tf.constant(0.1, shape=bias_shape)\n",
    "    \n",
    "    return(tf.Variable(initial_bias_value))"
   ]
  },
  {
   "cell_type": "markdown",
   "id": "1db5c0e3",
   "metadata": {},
   "source": [
    "# Initialize Weights In Filter "
   ]
  },
  {
   "cell_type": "code",
   "execution_count": 10,
   "id": "306b3372",
   "metadata": {},
   "outputs": [],
   "source": [
    "def create_convolution_layer_and_compute_dot_product(inputs, filter_shape):\n",
    "    \n",
    "    filter_initialized_with_weights=initialize_weights(filter_shape)\n",
    "    \n",
    "    conv_layer_outputs=tf.nn.conv2d(inputs, \n",
    "                                    filter_initialized_with_weights,\n",
    "                                    strides=[1,1,1,1],\n",
    "                                   padding=\"SAME\")\n",
    "    return(conv_layer_outputs)"
   ]
  },
  {
   "cell_type": "code",
   "execution_count": 11,
   "id": "28a6850c",
   "metadata": {},
   "outputs": [],
   "source": [
    "def create_relu_layer_and_compute_dotproduct_plus_b(inputs, filter_shape):\n",
    "    b=initialize_bias([filter_shape[3]])\n",
    "    relu_layer_outputs=tf.nn.relu(inputs+b)\n",
    "    return(relu_layer_outputs)"
   ]
  },
  {
   "cell_type": "code",
   "execution_count": 12,
   "id": "6a1ad244",
   "metadata": {},
   "outputs": [],
   "source": [
    "def create_maxpool2by2_and_reduce_spatial_size(inputs):\n",
    "    pooling_layer_outputs=tf.nn.max_pool(inputs, ksize=[1,2,2,1], strides=[1,2,2,1], padding=\"SAME\")\n",
    "    return pooling_layer_outputs"
   ]
  },
  {
   "cell_type": "code",
   "execution_count": 13,
   "id": "efe3f4cf",
   "metadata": {},
   "outputs": [],
   "source": [
    "def create_fully_connected_layer_and_compute_dotproduct_plus_bias(inputs, output_size):\n",
    "    input_size=int(inputs.get_shape()[1])\n",
    "    w=initialize_weights([input_size, output_size])\n",
    "    b=initialize_bias([output_size])\n",
    "    fc_xW_plus_bias_outputs=tf.matmul(inputs, w)+b\n",
    "    return(fc_xW_plus_bias_outputs)"
   ]
  },
  {
   "cell_type": "markdown",
   "id": "3db07529",
   "metadata": {},
   "source": [
    "# Create Place holders for inputs and Labels: x and y_true "
   ]
  },
  {
   "cell_type": "code",
   "execution_count": 14,
   "id": "4a08f3ad",
   "metadata": {},
   "outputs": [],
   "source": [
    "x=tf.compat.v1.placeholder(tf.float32, shape=[None, 784])"
   ]
  },
  {
   "cell_type": "code",
   "execution_count": 15,
   "id": "4ac716fe",
   "metadata": {},
   "outputs": [],
   "source": [
    "y_true=tf.compat.v1.placeholder(tf.float32, [None, 10])"
   ]
  },
  {
   "cell_type": "code",
   "execution_count": 16,
   "id": "6d189000",
   "metadata": {},
   "outputs": [],
   "source": [
    "x_image=tf.reshape(x, [-1,28,28,1])"
   ]
  },
  {
   "cell_type": "code",
   "execution_count": 17,
   "id": "b3fa42b7",
   "metadata": {},
   "outputs": [
    {
     "name": "stdout",
     "output_type": "stream",
     "text": [
      "WARNING:tensorflow:From /tmp/ipykernel_3744/3226569172.py:3: The name tf.truncated_normal is deprecated. Please use tf.random.truncated_normal instead.\n",
      "\n"
     ]
    }
   ],
   "source": [
    "conv_layer1_outputs \\\n",
    "    =create_convolution_layer_and_compute_dot_product(x_image, filter_shape=[5,5,1,32])\n",
    "conv_relu_layer1_outputs \\\n",
    "    =create_relu_layer_and_compute_dotproduct_plus_b(conv_layer1_outputs, filter_shape=[5,5,1,32])"
   ]
  },
  {
   "cell_type": "markdown",
   "id": "fb21fc49",
   "metadata": {},
   "source": [
    "# Create 1st pooling layer and reduce spatial size "
   ]
  },
  {
   "cell_type": "code",
   "execution_count": 18,
   "id": "05bd739d",
   "metadata": {},
   "outputs": [
    {
     "name": "stdout",
     "output_type": "stream",
     "text": [
      "WARNING:tensorflow:From /tmp/ipykernel_3744/3577672229.py:2: The name tf.nn.max_pool is deprecated. Please use tf.nn.max_pool2d instead.\n",
      "\n"
     ]
    }
   ],
   "source": [
    "# create the 1st pooling layyes\n",
    "# then reduce the spatial size if the input data\n",
    "# retrun outputs of the layer\n",
    "\n",
    "pooling_layer_1_outputs=create_maxpool2by2_and_reduce_spatial_size(conv_relu_layer1_outputs)"
   ]
  },
  {
   "cell_type": "markdown",
   "id": "b05cbec2",
   "metadata": {},
   "source": [
    "# Make it ready to be into 1 st full connected layer"
   ]
  },
  {
   "cell_type": "code",
   "execution_count": 19,
   "id": "1cd6bbda",
   "metadata": {},
   "outputs": [],
   "source": [
    "# reshape and platten the output of the plling layer\n",
    "# prepare to feed the output data into the frist fully connected layer\n",
    "\n",
    "pooling_layer_1_outputs_flat=tf.reshape(pooling_layer_1_outputs, [-1,14*14*32])"
   ]
  },
  {
   "cell_type": "code",
   "execution_count": 20,
   "id": "9aafb5b8",
   "metadata": {},
   "outputs": [],
   "source": [
    "conv_layer_2_outputs \\\n",
    "    =create_convolution_layer_and_compute_dot_product(pooling_layer_1_outputs, filter_shape=[5,5,32,64])\n",
    "conv_relu_layer_2_outputs \\\n",
    "    =create_relu_layer_and_compute_dotproduct_plus_b(conv_layer_2_outputs, filter_shape=[5,5,32,64])"
   ]
  },
  {
   "cell_type": "code",
   "execution_count": 21,
   "id": "5c911a9e",
   "metadata": {},
   "outputs": [],
   "source": [
    "pooling_layer_2_outputs=create_maxpool2by2_and_reduce_spatial_size(conv_relu_layer_2_outputs)"
   ]
  },
  {
   "cell_type": "code",
   "execution_count": 22,
   "id": "ea59ccfa",
   "metadata": {},
   "outputs": [],
   "source": [
    "pooling_layer_2_outputs_flat=tf.reshape(pooling_layer_2_outputs, [-1,7*7*64])"
   ]
  },
  {
   "cell_type": "code",
   "execution_count": 23,
   "id": "8a812c49",
   "metadata": {},
   "outputs": [],
   "source": [
    "fc_layer1_outputs=create_fully_connected_layer_and_compute_dotproduct_plus_bias(pooling_layer_2_outputs_flat, output_size=1024)\n",
    "\n",
    "fc_relu_layer1_outputs=tf.nn.relu(fc_layer1_outputs)"
   ]
  },
  {
   "cell_type": "code",
   "execution_count": 24,
   "id": "3aa6e3f7",
   "metadata": {},
   "outputs": [
    {
     "name": "stdout",
     "output_type": "stream",
     "text": [
      "WARNING:tensorflow:From /tmp/ipykernel_3744/1489154089.py:1: The name tf.placeholder is deprecated. Please use tf.compat.v1.placeholder instead.\n",
      "\n",
      "WARNING:tensorflow:From /tmp/ipykernel_3744/1489154089.py:3: calling dropout (from tensorflow.python.ops.nn_ops) with keep_prob is deprecated and will be removed in a future version.\n",
      "Instructions for updating:\n",
      "Please use `rate` instead of `keep_prob`. Rate should be set to `rate = 1 - keep_prob`.\n"
     ]
    }
   ],
   "source": [
    "hold_prob=tf.placeholder(tf.float32)\n",
    "\n",
    "fc_dropout_outputs=tf.nn.dropout(fc_relu_layer1_outputs, keep_prob=hold_prob)"
   ]
  },
  {
   "cell_type": "code",
   "execution_count": 25,
   "id": "6f11dff8",
   "metadata": {},
   "outputs": [],
   "source": [
    "y_pred=create_fully_connected_layer_and_compute_dotproduct_plus_bias(fc_dropout_outputs, output_size=10)"
   ]
  },
  {
   "cell_type": "code",
   "execution_count": 26,
   "id": "48f3fa02",
   "metadata": {},
   "outputs": [
    {
     "name": "stdout",
     "output_type": "stream",
     "text": [
      "WARNING:tensorflow:From /tmp/ipykernel_3744/3474321909.py:1: softmax_cross_entropy_with_logits (from tensorflow.python.ops.nn_ops) is deprecated and will be removed in a future version.\n",
      "Instructions for updating:\n",
      "\n",
      "Future major versions of TensorFlow will allow gradients to flow\n",
      "into the labels input on backprop by default.\n",
      "\n",
      "See `tf.nn.softmax_cross_entropy_with_logits_v2`.\n",
      "\n"
     ]
    }
   ],
   "source": [
    "softmax_cross_entropy_loss=tf.nn.softmax_cross_entropy_with_logits(labels=y_true, logits=y_pred)\n",
    "cross_entropy_mean=tf.reduce_mean(softmax_cross_entropy_loss)"
   ]
  },
  {
   "cell_type": "code",
   "execution_count": 27,
   "id": "8f5fa248",
   "metadata": {},
   "outputs": [
    {
     "name": "stdout",
     "output_type": "stream",
     "text": [
      "WARNING:tensorflow:From /tmp/ipykernel_3744/184395198.py:1: The name tf.train.AdamOptimizer is deprecated. Please use tf.compat.v1.train.AdamOptimizer instead.\n",
      "\n"
     ]
    }
   ],
   "source": [
    "optimizer=tf.train.AdamOptimizer(learning_rate=0.001)"
   ]
  },
  {
   "cell_type": "code",
   "execution_count": 28,
   "id": "b0e4241b",
   "metadata": {},
   "outputs": [],
   "source": [
    "cnn_trainer=optimizer.minimize(cross_entropy_mean)"
   ]
  },
  {
   "cell_type": "code",
   "execution_count": 29,
   "id": "36046701",
   "metadata": {},
   "outputs": [
    {
     "name": "stdout",
     "output_type": "stream",
     "text": [
      "WARNING:tensorflow:From /tmp/ipykernel_3744/2865824514.py:1: The name tf.global_variables_initializer is deprecated. Please use tf.compat.v1.global_variables_initializer instead.\n",
      "\n"
     ]
    }
   ],
   "source": [
    "vars_initializer=tf.global_variables_initializer()\n",
    "steps=5000"
   ]
  },
  {
   "cell_type": "code",
   "execution_count": 30,
   "id": "e430ddf6",
   "metadata": {},
   "outputs": [
    {
     "name": "stdout",
     "output_type": "stream",
     "text": [
      "WARNING:tensorflow:From /tmp/ipykernel_3744/1131664400.py:1: The name tf.Session is deprecated. Please use tf.compat.v1.Session instead.\n",
      "\n"
     ]
    },
    {
     "name": "stderr",
     "output_type": "stream",
     "text": [
      "\n",
      "User settings:\n",
      "\n",
      "   KMP_AFFINITY=granularity=fine,verbose,compact,1,0\n",
      "   KMP_BLOCKTIME=0\n",
      "   KMP_DUPLICATE_LIB_OK=True\n",
      "   KMP_INIT_AT_FORK=FALSE\n",
      "   KMP_SETTINGS=1\n",
      "   OMP_NUM_THREADS=8\n",
      "\n",
      "Effective settings:\n",
      "\n",
      "   KMP_ABORT_DELAY=0\n",
      "   KMP_ADAPTIVE_LOCK_PROPS='1,1024'\n",
      "   KMP_ALIGN_ALLOC=64\n",
      "   KMP_ALL_THREADPRIVATE=128\n",
      "   KMP_ATOMIC_MODE=2\n",
      "   KMP_BLOCKTIME=0\n",
      "   KMP_CPUINFO_FILE: value is not defined\n",
      "   KMP_DETERMINISTIC_REDUCTION=false\n",
      "   KMP_DEVICE_THREAD_LIMIT=2147483647\n",
      "   KMP_DISP_HAND_THREAD=false\n",
      "   KMP_DISP_NUM_BUFFERS=7\n",
      "   KMP_DUPLICATE_LIB_OK=true\n",
      "   KMP_FORCE_REDUCTION: value is not defined\n",
      "   KMP_FOREIGN_THREADS_THREADPRIVATE=true\n",
      "   KMP_FORKJOIN_BARRIER='2,2'\n",
      "   KMP_FORKJOIN_BARRIER_PATTERN='hyper,hyper'\n",
      "   KMP_FORKJOIN_FRAMES=true\n",
      "   KMP_FORKJOIN_FRAMES_MODE=3\n",
      "   KMP_GTID_MODE=3\n",
      "   KMP_HANDLE_SIGNALS=false\n",
      "   KMP_HOT_TEAMS_MAX_LEVEL=1\n",
      "   KMP_HOT_TEAMS_MODE=0\n",
      "   KMP_INIT_AT_FORK=true\n",
      "   KMP_ITT_PREPARE_DELAY=0\n",
      "   KMP_LIBRARY=throughput\n",
      "   KMP_LOCK_KIND=queuing\n",
      "   KMP_MALLOC_POOL_INCR=1M\n",
      "   KMP_MWAIT_HINTS=0\n",
      "   KMP_NUM_LOCKS_IN_BLOCK=1\n",
      "   KMP_PLAIN_BARRIER='2,2'\n",
      "   KMP_PLAIN_BARRIER_PATTERN='hyper,hyper'\n",
      "   KMP_REDUCTION_BARRIER='1,1'\n",
      "   KMP_REDUCTION_BARRIER_PATTERN='hyper,hyper'\n",
      "   KMP_SCHEDULE='static,balanced;guided,iterative'\n",
      "   KMP_SETTINGS=true\n",
      "   KMP_SPIN_BACKOFF_PARAMS='4096,100'\n",
      "   KMP_STACKOFFSET=64\n",
      "   KMP_STACKPAD=0\n",
      "   KMP_STACKSIZE=8M\n",
      "   KMP_STORAGE_MAP=false\n",
      "   KMP_TASKING=2\n",
      "   KMP_TASKLOOP_MIN_TASKS=0\n",
      "   KMP_TASK_STEALING_CONSTRAINT=1\n",
      "   KMP_TEAMS_THREAD_LIMIT=8\n",
      "   KMP_TOPOLOGY_METHOD=all\n",
      "   KMP_USER_LEVEL_MWAIT=false\n",
      "   KMP_USE_YIELD=1\n",
      "   KMP_VERSION=false\n",
      "   KMP_WARNINGS=true\n",
      "   OMP_AFFINITY_FORMAT='OMP: pid %P tid %i thread %n bound to OS proc set {%A}'\n",
      "   OMP_ALLOCATOR=omp_default_mem_alloc\n",
      "   OMP_CANCELLATION=false\n",
      "   OMP_DEBUG=disabled\n",
      "   OMP_DEFAULT_DEVICE=0\n",
      "   OMP_DISPLAY_AFFINITY=false\n",
      "   OMP_DISPLAY_ENV=false\n",
      "   OMP_DYNAMIC=false\n",
      "   OMP_MAX_ACTIVE_LEVELS=2147483647\n",
      "   OMP_MAX_TASK_PRIORITY=0\n",
      "   OMP_NESTED=false\n",
      "   OMP_NUM_THREADS='8'\n",
      "   OMP_PLACES: value is not defined\n",
      "   OMP_PROC_BIND='intel'\n",
      "   OMP_SCHEDULE='static'\n",
      "   OMP_STACKSIZE=8M\n",
      "   OMP_TARGET_OFFLOAD=DEFAULT\n",
      "   OMP_THREAD_LIMIT=2147483647\n",
      "   OMP_TOOL=enabled\n",
      "   OMP_TOOL_LIBRARIES: value is not defined\n",
      "   OMP_WAIT_POLICY=PASSIVE\n",
      "   KMP_AFFINITY='verbose,warnings,respect,granularity=fine,compact,1,0'\n",
      "\n",
      "2024-02-23 01:41:25.076936: I tensorflow/core/platform/profile_utils/cpu_utils.cc:94] CPU Frequency: 2200210000 Hz\n",
      "2024-02-23 01:41:25.077705: I tensorflow/compiler/xla/service/service.cc:168] XLA service 0x559d7b20bf50 initialized for platform Host (this does not guarantee that XLA will be used). Devices:\n",
      "2024-02-23 01:41:25.077754: I tensorflow/compiler/xla/service/service.cc:176]   StreamExecutor device (0): Host, Default Version\n",
      "2024-02-23 01:41:25.079231: I tensorflow/core/common_runtime/process_util.cc:136] Creating new thread pool with default inter op setting: 2. Tune using inter_op_parallelism_threads for best performance.\n",
      "OMP: Info #212: KMP_AFFINITY: decoding x2APIC ids.\n",
      "OMP: Info #210: KMP_AFFINITY: Affinity capable, using global cpuid leaf 11 info\n",
      "OMP: Info #154: KMP_AFFINITY: Initial OS proc set respected: 0-7\n",
      "OMP: Info #156: KMP_AFFINITY: 8 available OS procs\n",
      "OMP: Info #157: KMP_AFFINITY: Uniform topology\n",
      "OMP: Info #179: KMP_AFFINITY: 1 packages x 4 cores/pkg x 2 threads/core (4 total cores)\n",
      "OMP: Info #214: KMP_AFFINITY: OS proc to physical thread map:\n",
      "OMP: Info #171: KMP_AFFINITY: OS proc 0 maps to package 0 core 0 thread 0 \n",
      "OMP: Info #171: KMP_AFFINITY: OS proc 4 maps to package 0 core 0 thread 1 \n",
      "OMP: Info #171: KMP_AFFINITY: OS proc 1 maps to package 0 core 1 thread 0 \n",
      "OMP: Info #171: KMP_AFFINITY: OS proc 5 maps to package 0 core 1 thread 1 \n",
      "OMP: Info #171: KMP_AFFINITY: OS proc 2 maps to package 0 core 2 thread 0 \n",
      "OMP: Info #171: KMP_AFFINITY: OS proc 6 maps to package 0 core 2 thread 1 \n",
      "OMP: Info #171: KMP_AFFINITY: OS proc 3 maps to package 0 core 3 thread 0 \n",
      "OMP: Info #171: KMP_AFFINITY: OS proc 7 maps to package 0 core 3 thread 1 \n",
      "OMP: Info #250: KMP_AFFINITY: pid 3744 tid 5189 thread 0 bound to OS proc set 0\n",
      "OMP: Info #250: KMP_AFFINITY: pid 3744 tid 5189 thread 1 bound to OS proc set 1\n",
      "OMP: Info #250: KMP_AFFINITY: pid 3744 tid 5191 thread 2 bound to OS proc set 2\n",
      "OMP: Info #250: KMP_AFFINITY: pid 3744 tid 5192 thread 3 bound to OS proc set 3\n",
      "OMP: Info #250: KMP_AFFINITY: pid 3744 tid 5195 thread 6 bound to OS proc set 6\n",
      "OMP: Info #250: KMP_AFFINITY: pid 3744 tid 5194 thread 5 bound to OS proc set 5\n",
      "OMP: Info #250: KMP_AFFINITY: pid 3744 tid 5196 thread 7 bound to OS proc set 7\n",
      "OMP: Info #250: KMP_AFFINITY: pid 3744 tid 5193 thread 4 bound to OS proc set 4\n",
      "OMP: Info #250: KMP_AFFINITY: pid 3744 tid 5197 thread 8 bound to OS proc set 0\n",
      "OMP: Info #250: KMP_AFFINITY: pid 3744 tid 5188 thread 9 bound to OS proc set 1\n",
      "OMP: Info #250: KMP_AFFINITY: pid 3744 tid 5200 thread 12 bound to OS proc set 4\n",
      "OMP: Info #250: KMP_AFFINITY: pid 3744 tid 5199 thread 11 bound to OS proc set 3\n",
      "OMP: Info #250: KMP_AFFINITY: pid 3744 tid 5198 thread 10 bound to OS proc set 2\n",
      "OMP: Info #250: KMP_AFFINITY: pid 3744 tid 5203 thread 15 bound to OS proc set 7\n",
      "OMP: Info #250: KMP_AFFINITY: pid 3744 tid 5201 thread 13 bound to OS proc set 5\n",
      "OMP: Info #250: KMP_AFFINITY: pid 3744 tid 5204 thread 16 bound to OS proc set 0\n",
      "OMP: Info #250: KMP_AFFINITY: pid 3744 tid 5202 thread 14 bound to OS proc set 6\n"
     ]
    },
    {
     "name": "stdout",
     "output_type": "stream",
     "text": [
      "On step: 0\n",
      "Accuracy: \n",
      "0.1968\n",
      "\n",
      "\n",
      "On step: 100\n",
      "Accuracy: \n",
      "0.9449\n",
      "\n",
      "\n",
      "On step: 200\n",
      "Accuracy: \n",
      "0.9583\n",
      "\n",
      "\n",
      "On step: 300\n",
      "Accuracy: \n",
      "0.9686\n",
      "\n",
      "\n",
      "On step: 400\n",
      "Accuracy: \n",
      "0.9758\n",
      "\n",
      "\n",
      "On step: 500\n",
      "Accuracy: \n",
      "0.9785\n",
      "\n",
      "\n",
      "On step: 600\n",
      "Accuracy: \n",
      "0.9786\n",
      "\n",
      "\n",
      "On step: 700\n",
      "Accuracy: \n",
      "0.9808\n",
      "\n",
      "\n",
      "On step: 800\n",
      "Accuracy: \n",
      "0.9817\n",
      "\n",
      "\n",
      "On step: 900\n",
      "Accuracy: \n",
      "0.982\n",
      "\n",
      "\n",
      "On step: 1000\n",
      "Accuracy: \n",
      "0.9828\n",
      "\n",
      "\n",
      "On step: 1100\n",
      "Accuracy: \n",
      "0.9866\n",
      "\n",
      "\n",
      "On step: 1200\n",
      "Accuracy: \n",
      "0.9856\n",
      "\n",
      "\n",
      "On step: 1300\n",
      "Accuracy: \n",
      "0.9847\n",
      "\n",
      "\n",
      "On step: 1400\n",
      "Accuracy: \n",
      "0.9864\n",
      "\n",
      "\n",
      "On step: 1500\n",
      "Accuracy: \n",
      "0.9875\n",
      "\n",
      "\n",
      "On step: 1600\n",
      "Accuracy: \n",
      "0.9849\n",
      "\n",
      "\n",
      "On step: 1700\n",
      "Accuracy: \n",
      "0.9864\n",
      "\n",
      "\n",
      "On step: 1800\n",
      "Accuracy: \n",
      "0.9884\n",
      "\n",
      "\n",
      "On step: 1900\n",
      "Accuracy: \n",
      "0.9878\n",
      "\n",
      "\n",
      "On step: 2000\n",
      "Accuracy: \n",
      "0.9855\n",
      "\n",
      "\n",
      "On step: 2100\n",
      "Accuracy: \n",
      "0.9884\n",
      "\n",
      "\n",
      "On step: 2200\n",
      "Accuracy: \n",
      "0.9886\n",
      "\n",
      "\n",
      "On step: 2300\n",
      "Accuracy: \n",
      "0.9889\n",
      "\n",
      "\n",
      "On step: 2400\n",
      "Accuracy: \n",
      "0.9867\n",
      "\n",
      "\n",
      "On step: 2500\n",
      "Accuracy: \n",
      "0.9889\n",
      "\n",
      "\n",
      "On step: 2600\n",
      "Accuracy: \n",
      "0.9897\n",
      "\n",
      "\n",
      "On step: 2700\n",
      "Accuracy: \n",
      "0.987\n",
      "\n",
      "\n",
      "On step: 2800\n",
      "Accuracy: \n",
      "0.9857\n",
      "\n",
      "\n",
      "On step: 2900\n",
      "Accuracy: \n",
      "0.9884\n",
      "\n",
      "\n",
      "On step: 3000\n",
      "Accuracy: \n",
      "0.9878\n",
      "\n",
      "\n",
      "On step: 3100\n",
      "Accuracy: \n",
      "0.9898\n",
      "\n",
      "\n",
      "On step: 3200\n",
      "Accuracy: \n",
      "0.9893\n",
      "\n",
      "\n",
      "On step: 3300\n",
      "Accuracy: \n",
      "0.9881\n",
      "\n",
      "\n",
      "On step: 3400\n",
      "Accuracy: \n",
      "0.988\n",
      "\n",
      "\n",
      "On step: 3500\n",
      "Accuracy: \n",
      "0.9892\n",
      "\n",
      "\n",
      "On step: 3600\n",
      "Accuracy: \n",
      "0.9874\n",
      "\n",
      "\n",
      "On step: 3700\n",
      "Accuracy: \n",
      "0.9892\n",
      "\n",
      "\n",
      "On step: 3800\n",
      "Accuracy: \n",
      "0.9889\n",
      "\n",
      "\n",
      "On step: 3900\n",
      "Accuracy: \n",
      "0.9891\n",
      "\n",
      "\n",
      "On step: 4000\n",
      "Accuracy: \n",
      "0.99\n",
      "\n",
      "\n",
      "On step: 4100\n",
      "Accuracy: \n",
      "0.9901\n",
      "\n",
      "\n",
      "On step: 4200\n",
      "Accuracy: \n",
      "0.9906\n",
      "\n",
      "\n",
      "On step: 4300\n",
      "Accuracy: \n",
      "0.9896\n",
      "\n",
      "\n",
      "On step: 4400\n",
      "Accuracy: \n",
      "0.9911\n",
      "\n",
      "\n",
      "On step: 4500\n",
      "Accuracy: \n",
      "0.9898\n",
      "\n",
      "\n",
      "On step: 4600\n",
      "Accuracy: \n",
      "0.9906\n",
      "\n",
      "\n",
      "On step: 4700\n",
      "Accuracy: \n",
      "0.9891\n",
      "\n",
      "\n",
      "On step: 4800\n",
      "Accuracy: \n",
      "0.9884\n",
      "\n",
      "\n",
      "On step: 4900\n",
      "Accuracy: \n",
      "0.9904\n",
      "\n",
      "\n"
     ]
    }
   ],
   "source": [
    "with tf.Session() as sess:    \n",
    "    \n",
    "    sess.run(vars_initializer)\n",
    "    for i in range(steps):\n",
    "        batch_x, batch_y=mnist.train.next_batch(50) \n",
    "        sess.run(cnn_trainer, feed_dict={x: batch_x, y_true: batch_y, hold_prob: 0.5}) \n",
    "        if i % 100 == 0:\n",
    "            print(\"On step: {}\".format(i))\n",
    "            print(\"Accuracy: \")\n",
    "            \n",
    "            matches=tf.equal(tf.argmax(y_pred, 1), tf.argmax(y_true, 1))\n",
    "            acc=tf.reduce_mean(tf.cast(matches, tf.float32))\n",
    "            test_accuracy=sess.run(acc, feed_dict={x: mnist.test.images,\n",
    "                                                   y_true: mnist.test.labels,\n",
    "                                                   hold_prob: 1.0})      \n",
    "            print(test_accuracy)\n",
    "            print('\\n')"
   ]
  },
  {
   "cell_type": "code",
   "execution_count": null,
   "id": "503211ef",
   "metadata": {},
   "outputs": [],
   "source": []
  }
 ],
 "metadata": {
  "kernelspec": {
   "display_name": "Python 3",
   "language": "python",
   "name": "python3"
  },
  "language_info": {
   "codemirror_mode": {
    "name": "ipython",
    "version": 3
   },
   "file_extension": ".py",
   "mimetype": "text/x-python",
   "name": "python",
   "nbconvert_exporter": "python",
   "pygments_lexer": "ipython3",
   "version": "3.7.12"
  }
 },
 "nbformat": 4,
 "nbformat_minor": 5
}
