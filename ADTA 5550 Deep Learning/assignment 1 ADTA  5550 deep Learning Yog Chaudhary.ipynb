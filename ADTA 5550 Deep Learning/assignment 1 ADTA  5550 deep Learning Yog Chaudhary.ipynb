{
 "cells": [
  {
   "cell_type": "markdown",
   "id": "70fcbc84",
   "metadata": {},
   "source": [
    "# Yog Chaudhary\n",
    "11727095\n",
    "\n",
    "ADTA 5550: Deep Learning with Big Data \n",
    "\n",
    "Professor: Dr. Hamidreza Moradi\n",
    "\n",
    "University of North Texas    \n",
    "\n",
    "Jan 29, 2024"
   ]
  },
  {
   "cell_type": "code",
   "execution_count": 1,
   "id": "92a0c66c",
   "metadata": {},
   "outputs": [
    {
     "name": "stdout",
     "output_type": "stream",
     "text": [
      "Welcome ADTA 5550 Deep Learning with big data\n"
     ]
    }
   ],
   "source": [
    "print(\"Welcome ADTA 5550 Deep Learning with big data\")"
   ]
  },
  {
   "cell_type": "markdown",
   "id": "3317ede6",
   "metadata": {},
   "source": [
    "# Q1. Create a vector (1D array) of size 20. All the elements are initialized with 0 (zero) except for the\n",
    "8th element that is set with the value 8.\n"
   ]
  },
  {
   "cell_type": "code",
   "execution_count": 2,
   "id": "a71c9de4",
   "metadata": {},
   "outputs": [
    {
     "name": "stdout",
     "output_type": "stream",
     "text": [
      "[0, 0, 0, 0, 0, 0, 0, 8, 0, 0, 0, 0, 0, 0, 0, 0, 0, 0, 0, 0]\n"
     ]
    }
   ],
   "source": [
    "vector = [0 if i != 7 else 8 for i in range(20)]\n",
    "print(vector)"
   ]
  },
  {
   "cell_type": "markdown",
   "id": "a0f2889c",
   "metadata": {},
   "source": [
    "# Q2. Create a vector of size 16 with random values ranging from 0 to 63, print the vector, then sort it\n",
    "and print the vector again"
   ]
  },
  {
   "cell_type": "code",
   "execution_count": 3,
   "id": "596da82f",
   "metadata": {},
   "outputs": [
    {
     "name": "stdout",
     "output_type": "stream",
     "text": [
      "Original Vector: [61, 37, 59, 20, 43, 47, 31, 8, 37, 44, 7, 10, 7, 19, 29, 31]\n",
      "Sorted Vector: [7, 7, 8, 10, 19, 20, 29, 31, 31, 37, 37, 43, 44, 47, 59, 61]\n"
     ]
    }
   ],
   "source": [
    "import random\n",
    "\n",
    "# Create a vector of size 16 with random values\n",
    "vector = [random.randint(0, 63) for _ in range(16)]\n",
    "\n",
    "# Print the original vector\n",
    "print(\"Original Vector:\", vector)\n",
    "\n",
    "# Sort the vector\n",
    "vector.sort()\n",
    "\n",
    "# Print the sorted vector\n",
    "print(\"Sorted Vector:\", vector)\n"
   ]
  },
  {
   "cell_type": "markdown",
   "id": "89eeb5f5",
   "metadata": {},
   "source": [
    "# Q3.  Create a 5x5 matrix with values ranging from 0 to 24."
   ]
  },
  {
   "cell_type": "code",
   "execution_count": 4,
   "id": "d72cb1c8",
   "metadata": {},
   "outputs": [
    {
     "name": "stdout",
     "output_type": "stream",
     "text": [
      "[[ 0  1  2  3  4]\n",
      " [ 5  6  7  8  9]\n",
      " [10 11 12 13 14]\n",
      " [15 16 17 18 19]\n",
      " [20 21 22 23 24]]\n"
     ]
    }
   ],
   "source": [
    "import numpy as np\n",
    "\n",
    "# Create a 5x5 matrix with values ranging from 0 to 24\n",
    "matrix = np.arange(25).reshape(5, 5)\n",
    "\n",
    "# Print the matrix\n",
    "print(matrix)\n"
   ]
  },
  {
   "cell_type": "markdown",
   "id": "2e4a1474",
   "metadata": {},
   "source": [
    "# Q4. Create an 8x8 array with random values, then find the min and max values stored in this matrix"
   ]
  },
  {
   "cell_type": "code",
   "execution_count": 5,
   "id": "c5fc1809",
   "metadata": {},
   "outputs": [],
   "source": [
    "import numpy as np\n"
   ]
  },
  {
   "cell_type": "code",
   "execution_count": 6,
   "id": "b6deb21b",
   "metadata": {},
   "outputs": [],
   "source": [
    "random_array=np.random.rand(8,8)"
   ]
  },
  {
   "cell_type": "code",
   "execution_count": 7,
   "id": "c84b2202",
   "metadata": {},
   "outputs": [],
   "source": [
    "min=np.min(random_array)"
   ]
  },
  {
   "cell_type": "code",
   "execution_count": 8,
   "id": "2401512c",
   "metadata": {},
   "outputs": [],
   "source": [
    "maxi=np.max(random_array)"
   ]
  },
  {
   "cell_type": "code",
   "execution_count": 9,
   "id": "dbb703cd",
   "metadata": {},
   "outputs": [
    {
     "name": "stdout",
     "output_type": "stream",
     "text": [
      "[[0.32430815 0.12924265 0.15902582 0.938683   0.61377919 0.26913415\n",
      "  0.47337032 0.78330483]\n",
      " [0.10751246 0.82912372 0.14906958 0.02043026 0.3947379  0.18346553\n",
      "  0.21672932 0.25627099]\n",
      " [0.61149468 0.20123634 0.2895593  0.7141168  0.64219482 0.59589227\n",
      "  0.91231885 0.69853699]\n",
      " [0.1664031  0.11754229 0.68081051 0.04271628 0.66173316 0.5801633\n",
      "  0.80056273 0.25591484]\n",
      " [0.82995601 0.04988948 0.87074648 0.71913119 0.00563231 0.9162301\n",
      "  0.1086788  0.24499845]\n",
      " [0.10241213 0.32672512 0.26171743 0.81910861 0.51827273 0.38829735\n",
      "  0.72801411 0.77348132]\n",
      " [0.16936178 0.24014503 0.4700479  0.6835266  0.79504418 0.05461901\n",
      "  0.05113817 0.37529729]\n",
      " [0.93141782 0.88641289 0.23941205 0.63213365 0.00559098 0.91968707\n",
      "  0.7851192  0.18853933]]\n"
     ]
    }
   ],
   "source": [
    "print(random_array)"
   ]
  },
  {
   "cell_type": "code",
   "execution_count": 10,
   "id": "433c60f6",
   "metadata": {},
   "outputs": [
    {
     "name": "stdout",
     "output_type": "stream",
     "text": [
      "0.0055909812464405295\n"
     ]
    }
   ],
   "source": [
    "print(min)"
   ]
  },
  {
   "cell_type": "code",
   "execution_count": 11,
   "id": "5cb4bd27",
   "metadata": {},
   "outputs": [
    {
     "name": "stdout",
     "output_type": "stream",
     "text": [
      "0.9386830014748025\n"
     ]
    }
   ],
   "source": [
    "print(maxi)"
   ]
  },
  {
   "cell_type": "markdown",
   "id": "fe462be1",
   "metadata": {},
   "source": [
    "# Q5, Create a vector of size 32 that is initialized with random values inside the range (0, 99) and then find the mean of all the initial values."
   ]
  },
  {
   "cell_type": "code",
   "execution_count": 12,
   "id": "80a48cd9",
   "metadata": {},
   "outputs": [],
   "source": [
    "import numpy as np"
   ]
  },
  {
   "cell_type": "code",
   "execution_count": 14,
   "id": "dc9049a1",
   "metadata": {},
   "outputs": [],
   "source": [
    "ran_vector=np.random.randint(0,100,size=32)"
   ]
  },
  {
   "cell_type": "code",
   "execution_count": 19,
   "id": "44c87b61",
   "metadata": {},
   "outputs": [],
   "source": [
    "mean_val=np.mean(ran_vector)"
   ]
  },
  {
   "cell_type": "code",
   "execution_count": 21,
   "id": "54d73a3f",
   "metadata": {},
   "outputs": [
    {
     "name": "stdout",
     "output_type": "stream",
     "text": [
      "Random Vector\n"
     ]
    }
   ],
   "source": [
    "print(\"Random Vector\")"
   ]
  },
  {
   "cell_type": "code",
   "execution_count": 22,
   "id": "ac60bcca",
   "metadata": {},
   "outputs": [
    {
     "name": "stdout",
     "output_type": "stream",
     "text": [
      "[ 8 75 24 60  3 54 55 35 10 77 74  7  0 85 35 25 21 40 68 26 24 32 48 51\n",
      " 65 35 17 83 79  4 50 32]\n"
     ]
    }
   ],
   "source": [
    "print(ran_vector)"
   ]
  },
  {
   "cell_type": "code",
   "execution_count": 23,
   "id": "dafae1e6",
   "metadata": {},
   "outputs": [
    {
     "name": "stdout",
     "output_type": "stream",
     "text": [
      "40.6875\n"
     ]
    }
   ],
   "source": [
    "print(mean_val)"
   ]
  }
 ],
 "metadata": {
  "kernelspec": {
   "display_name": "Python 3",
   "language": "python",
   "name": "python3"
  },
  "language_info": {
   "codemirror_mode": {
    "name": "ipython",
    "version": 3
   },
   "file_extension": ".py",
   "mimetype": "text/x-python",
   "name": "python",
   "nbconvert_exporter": "python",
   "pygments_lexer": "ipython3",
   "version": "3.7.12"
  }
 },
 "nbformat": 4,
 "nbformat_minor": 5
}
