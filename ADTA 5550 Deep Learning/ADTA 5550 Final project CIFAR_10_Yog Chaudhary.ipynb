{
 "cells": [
  {
   "cell_type": "markdown",
   "metadata": {
    "id": "K5zSAbawHAy_"
   },
   "source": [
    "# CNN on CIFAR-10: Final Project ADTA 5550  Deep Learning With Big Data \n",
    "\n",
    "#  Yog Chaudhary "
   ]
  },
  {
   "cell_type": "markdown",
   "metadata": {
    "id": "kJ99o1mcHAzE"
   },
   "source": [
    "## Set Path for Data Folder"
   ]
  },
  {
   "cell_type": "code",
   "execution_count": 69,
   "metadata": {
    "id": "I6sWLQ5SHAzE"
   },
   "outputs": [],
   "source": [
    " # Put file path as a string here\n",
    "\n",
    "CIFAR_DIR = 'CIFAR_10_DATA/'"
   ]
  },
  {
   "cell_type": "markdown",
   "metadata": {
    "id": "l2GDVu2xHAzF"
   },
   "source": [
    "## Load Data"
   ]
  },
  {
   "cell_type": "code",
   "execution_count": 70,
   "metadata": {},
   "outputs": [
    {
     "data": {
      "text/plain": [
       "'CIFAR_10_DATA/'"
      ]
     },
     "execution_count": 70,
     "metadata": {},
     "output_type": "execute_result"
    }
   ],
   "source": [
    "CIFAR_DIR"
   ]
  },
  {
   "cell_type": "code",
   "execution_count": 71,
   "metadata": {
    "id": "geEqxnP2HAzF"
   },
   "outputs": [],
   "source": [
    "def unpickle(file):\n",
    "    import pickle\n",
    "    with open(file, 'rb') as fo:\n",
    "        cifar_dict = pickle.load(fo, encoding='bytes')\n",
    "    return cifar_dict"
   ]
  },
  {
   "cell_type": "code",
   "execution_count": 72,
   "metadata": {
    "id": "o5e7mq2HHAzG"
   },
   "outputs": [],
   "source": [
    "dirs = ['batches.meta','data_batch_1','data_batch_2','data_batch_3','data_batch_4','data_batch_5','test_batch']\n",
    "\n",
    "all_data = [0,1,2,3,4,5,6]\n",
    "\n",
    "for i,direc in zip(all_data,dirs):\n",
    "    all_data[i] = unpickle(CIFAR_DIR+direc)"
   ]
  },
  {
   "cell_type": "code",
   "execution_count": 73,
   "metadata": {
    "id": "HW3BRhwHHAzG"
   },
   "outputs": [],
   "source": [
    "batch_meta = all_data[0]\n",
    "data_batch1 = all_data[1]\n",
    "data_batch2 = all_data[2]\n",
    "data_batch3 = all_data[3]\n",
    "data_batch4 = all_data[4]\n",
    "data_batch5 = all_data[5]\n",
    "test_batch = all_data[6]"
   ]
  },
  {
   "cell_type": "code",
   "execution_count": 74,
   "metadata": {
    "id": "IRApbqylHAzH",
    "outputId": "773736cd-cfe5-4501-b67b-d2d5ff0733c3"
   },
   "outputs": [
    {
     "data": {
      "text/plain": [
       "{b'num_cases_per_batch': 10000,\n",
       " b'label_names': [b'airplane',\n",
       "  b'automobile',\n",
       "  b'bird',\n",
       "  b'cat',\n",
       "  b'deer',\n",
       "  b'dog',\n",
       "  b'frog',\n",
       "  b'horse',\n",
       "  b'ship',\n",
       "  b'truck'],\n",
       " b'num_vis': 3072}"
      ]
     },
     "execution_count": 74,
     "metadata": {},
     "output_type": "execute_result"
    }
   ],
   "source": [
    "batch_meta"
   ]
  },
  {
   "cell_type": "code",
   "execution_count": 75,
   "metadata": {
    "id": "RYrHMDKKHAzI",
    "outputId": "9f6b250e-6e7c-4ccd-9aa2-867dfc8f3ada"
   },
   "outputs": [
    {
     "data": {
      "text/plain": [
       "dict_keys([b'batch_label', b'labels', b'data', b'filenames'])"
      ]
     },
     "execution_count": 75,
     "metadata": {},
     "output_type": "execute_result"
    }
   ],
   "source": [
    "data_batch1.keys()"
   ]
  },
  {
   "cell_type": "markdown",
   "metadata": {
    "id": "LYK3AsCrHAzI"
   },
   "source": [
    "## Display several examples of single images using matplotlib "
   ]
  },
  {
   "cell_type": "code",
   "execution_count": 76,
   "metadata": {
    "id": "gPJ1BOThHAzJ"
   },
   "outputs": [],
   "source": [
    "import matplotlib.pyplot as plt\n",
    "%matplotlib inline\n",
    "\n",
    "import numpy as np"
   ]
  },
  {
   "cell_type": "code",
   "execution_count": 77,
   "metadata": {
    "id": "SBfRw1KlHAzJ"
   },
   "outputs": [],
   "source": [
    "X = data_batch1[b\"data\"] "
   ]
  },
  {
   "cell_type": "code",
   "execution_count": 78,
   "metadata": {
    "id": "VPDWkYZfHAzJ"
   },
   "outputs": [],
   "source": [
    "X = X.reshape(10000, 3, 32, 32).transpose(0,2,3,1).astype(\"uint8\")"
   ]
  },
  {
   "cell_type": "code",
   "execution_count": 79,
   "metadata": {
    "id": "T1pvW3sFHAzJ",
    "outputId": "430754a5-7c85-4960-f3d4-febb77cb5742"
   },
   "outputs": [
    {
     "data": {
      "text/plain": [
       "255"
      ]
     },
     "execution_count": 79,
     "metadata": {},
     "output_type": "execute_result"
    }
   ],
   "source": [
    "X[0].max()"
   ]
  },
  {
   "cell_type": "code",
   "execution_count": 80,
   "metadata": {
    "id": "7DsAM_hxHAzK",
    "outputId": "8d3ca965-6bbd-4a00-9f28-7bfd74bd9537"
   },
   "outputs": [
    {
     "data": {
      "text/plain": [
       "1.0"
      ]
     },
     "execution_count": 80,
     "metadata": {},
     "output_type": "execute_result"
    }
   ],
   "source": [
    "(X[0]/255).max()"
   ]
  },
  {
   "cell_type": "code",
   "execution_count": 81,
   "metadata": {
    "id": "CyfdsyzyHAzK",
    "outputId": "5cb6b9c2-e4ca-410f-d871-0ced2a9bb390"
   },
   "outputs": [
    {
     "data": {
      "text/plain": [
       "<matplotlib.image.AxesImage at 0x7fdb08485f50>"
      ]
     },
     "execution_count": 81,
     "metadata": {},
     "output_type": "execute_result"
    },
    {
     "data": {
      "image/png": "[encoded data removed]",
      "text/plain": [
       "<Figure size 640x480 with 1 Axes>"
      ]
     },
     "metadata": {},
     "output_type": "display_data"
    }
   ],
   "source": [
    "plt.imshow(X[0])"
   ]
  },
  {
   "cell_type": "code",
   "execution_count": 82,
   "metadata": {
    "id": "Z9IN5OBoHAzK",
    "outputId": "04eca12e-a5f3-4889-fd06-ed0279c1119c"
   },
   "outputs": [
    {
     "data": {
      "text/plain": [
       "<matplotlib.image.AxesImage at 0x7fdb085d9b10>"
      ]
     },
     "execution_count": 82,
     "metadata": {},
     "output_type": "execute_result"
    },
    {
     "data": {
      "image/png": "[encoded data removed]",
      "text/plain": [
       "<Figure size 640x480 with 1 Axes>"
      ]
     },
     "metadata": {},
     "output_type": "display_data"
    }
   ],
   "source": [
    "plt.imshow(X[1])"
   ]
  },
  {
   "cell_type": "code",
   "execution_count": 83,
   "metadata": {
    "id": "NXwU9UqsHAzK",
    "outputId": "50176d07-7439-4ad0-96e3-3f8560299bb2"
   },
   "outputs": [
    {
     "data": {
      "text/plain": [
       "<matplotlib.image.AxesImage at 0x7fdb087a8750>"
      ]
     },
     "execution_count": 83,
     "metadata": {},
     "output_type": "execute_result"
    },
    {
     "data": {
      "image/png": "[encoded data removed]",
      "text/plain": [
       "<Figure size 640x480 with 1 Axes>"
      ]
     },
     "metadata": {},
     "output_type": "display_data"
    }
   ],
   "source": [
    "plt.imshow(X[4])"
   ]
  },
  {
   "cell_type": "markdown",
   "metadata": {
    "id": "adq3biG5HAzK"
   },
   "source": [
    "## Supporting Functions to Rearrange Data"
   ]
  },
  {
   "cell_type": "markdown",
   "metadata": {
    "id": "slaqQCDkHAzL"
   },
   "source": [
    "### Encode Labels into One-Hot Format"
   ]
  },
  {
   "cell_type": "code",
   "execution_count": 84,
   "metadata": {
    "id": "IwjXel8JHAzL"
   },
   "outputs": [],
   "source": [
    "def one_hot_encode(vec, vals=10):\n",
    "    '''\n",
    "    For use to one-hot encode the 10- possible labels\n",
    "    '''\n",
    "    n = len(vec)\n",
    "    out = np.zeros((n, vals))\n",
    "    out[range(n), vec] = 1\n",
    "    return out"
   ]
  },
  {
   "cell_type": "markdown",
   "metadata": {
    "id": "00tMHz_nHAzL"
   },
   "source": [
    "## Set Up Image Data: Make it Ready to be Fed into 1st Conv Layer"
   ]
  },
  {
   "cell_type": "code",
   "execution_count": 85,
   "metadata": {
    "id": "yMXT2Up0HAzL"
   },
   "outputs": [],
   "source": [
    "class CifarHelper():\n",
    "    \n",
    "    def __init__(self):\n",
    "        self.i = 0\n",
    "        \n",
    "        self.all_train_batches = [data_batch1,data_batch2,data_batch3,data_batch4,data_batch5]\n",
    "        self.test_batch = [test_batch]\n",
    "        \n",
    "        self.training_images = None\n",
    "        self.training_labels = None\n",
    "        \n",
    "        self.test_images = None\n",
    "        self.test_labels = None\n",
    "    \n",
    "    def set_up_images(self):\n",
    "        \n",
    "        print(\"Setting Up Training Images and Labels\")\n",
    "        \n",
    "        self.training_images = np.vstack([d[b\"data\"] for d in self.all_train_batches])\n",
    "        train_len = len(self.training_images)\n",
    "        \n",
    "        self.training_images = self.training_images.reshape(train_len,3,32,32).transpose(0,2,3,1)/255\n",
    "        self.training_labels = one_hot_encode(np.hstack([d[b\"labels\"] for d in self.all_train_batches]), 10)\n",
    "        \n",
    "        print(\"Setting Up Test Images and Labels\")\n",
    "        \n",
    "        self.test_images = np.vstack([d[b\"data\"] for d in self.test_batch])\n",
    "        test_len = len(self.test_images)\n",
    "        \n",
    "        self.test_images = self.test_images.reshape(test_len,3,32,32).transpose(0,2,3,1)/255\n",
    "        self.test_labels = one_hot_encode(np.hstack([d[b\"labels\"] for d in self.test_batch]), 10)\n",
    "\n",
    "        \n",
    "    def next_batch(self, batch_size):\n",
    "        x = self.training_images[self.i:self.i+batch_size].reshape(100,32,32,3)\n",
    "        y = self.training_labels[self.i:self.i+batch_size]\n",
    "        self.i = (self.i + batch_size) % len(self.training_images)\n",
    "        return x, y"
   ]
  },
  {
   "cell_type": "markdown",
   "metadata": {
    "id": "6VGrquL4HAzM"
   },
   "source": [
    "## Set up image data: Calling CifarHelper.set_up_images()"
   ]
  },
  {
   "cell_type": "code",
   "execution_count": 86,
   "metadata": {
    "id": "S8EwpGcwHAzM",
    "outputId": "684a7391-e25e-4e1b-810b-a27bcae8e93c"
   },
   "outputs": [
    {
     "name": "stdout",
     "output_type": "stream",
     "text": [
      "Setting Up Training Images and Labels\n",
      "Setting Up Test Images and Labels\n"
     ]
    }
   ],
   "source": [
    "# Before Your tf.Session run these two lines\n",
    "ch = CifarHelper()\n",
    "ch.set_up_images()\n",
    "\n",
    "# During your session to grab the next batch use this line\n",
    "# (Just like we did for mnist.train.next_batch)\n",
    "# batch = ch.next_batch(100)"
   ]
  },
  {
   "cell_type": "markdown",
   "metadata": {
    "id": "zauXCcjuHAzM"
   },
   "source": [
    "## Define Supporting Functions to Build, Train, and Test CNN Model"
   ]
  },
  {
   "cell_type": "code",
   "execution_count": 87,
   "metadata": {
    "id": "-I-ugfBdHAzM"
   },
   "outputs": [],
   "source": [
    "# initialize weights is filter\n",
    "def initialize_weights (filter_shape):\n",
    "    init_random_dist = tf.truncated_normal(filter_shape, stddev=0.1)\n",
    "    return(tf.Variable(init_random_dist))"
   ]
  },
  {
   "cell_type": "code",
   "execution_count": 88,
   "metadata": {
    "id": "7YyCd8xvHAzN"
   },
   "outputs": [],
   "source": [
    "# initialize bias\n",
    "def initialize_bias(bias_shape):\n",
    "    initial_bias_vals = tf.constant(0.1, shape=bias_shape)\n",
    "    return(tf.Variable(initial_bias_vals))"
   ]
  },
  {
   "cell_type": "code",
   "execution_count": 89,
   "metadata": {
    "id": "pZU2RXQsHAzN"
   },
   "outputs": [],
   "source": [
    "# Setting up convolutional layer\n",
    "def create_convolution_layer_and_compute_dot_product(inputs, filter_shape):\n",
    "    filter_initialized_with_weights = initialize_weights(filter_shape)\n",
    "    conv_layer_outputs = tf.nn.conv2d(inputs, filter_initialized_with_weights, strides=[1, 1, 1, 1], padding='SAME')\n",
    "    return(conv_layer_outputs)"
   ]
  },
  {
   "cell_type": "markdown",
   "metadata": {
    "id": "t81-nJX4HAzN"
   },
   "source": [
    "# PHASE I: Build Convolutional Neural Network"
   ]
  },
  {
   "cell_type": "code",
   "execution_count": 90,
   "metadata": {
    "id": "VEfnZ5t_HAzN"
   },
   "outputs": [],
   "source": [
    "import tensorflow as tf"
   ]
  },
  {
   "cell_type": "code",
   "execution_count": 91,
   "metadata": {
    "id": "7Ud3e9rMHAzN"
   },
   "outputs": [],
   "source": [
    "# Define a function\n",
    "# First, to set up a ReLU layer: an activation function layer\n",
    "# then, perform the computation: dot product + bias: (x*W)+b\n",
    "\n",
    "# ReLU: Rectified Linear Unit - a popular activation function used in CNN\n",
    "# In this layer, the bias has been initialized\n",
    "# Paramters: \n",
    "# inputs - outputs from the preceding convolution layer: Dot product inputs * weights\n",
    "# filter_shape:\n",
    "# [filter H, filter W, in_channels(in_depth = in_num_filters), out_channels(out_depth = out_num_filters)]\n",
    "# for example; [5, 5, 1, 32]\n",
    "\n",
    "# Return: Outputs of the layer: dot product + b: (x * W) + b\n",
    "\n",
    "def create_relu_layer_and_compute_dotproduct_plus_b(inputs, filter_shape):\n",
    "    # Initialize bias for each input channel\n",
    "    b = initialize_bias([filter_shape[3]])\n",
    "    \n",
    "    # Perform the computation first by adding: inputs (x*W)+b\n",
    "    # Create a ReLU layer associated with the preceding convolution layer\n",
    "    relu_layer_outputs = tf.nn.relu(inputs + b)\n",
    "    \n",
    "    # Return the putputs of the ReLU layer\n",
    "    return(relu_layer_outputs)"
   ]
  },
  {
   "cell_type": "code",
   "execution_count": 92,
   "metadata": {
    "id": "H-7M4o3IHAzN"
   },
   "outputs": [],
   "source": [
    "# Set up a pooling layer and reduce spatial size\n",
    "def create_maxpool2by2_and_reduce_spatial_size(inputs):\n",
    "    pooling_layer_outputs = tf.nn.max_pool(inputs, ksize=[1, 2, 2, 1], strides=[1, 2, 2, 1], padding='SAME')\n",
    "    return(pooling_layer_outputs)"
   ]
  },
  {
   "cell_type": "code",
   "execution_count": 93,
   "metadata": {
    "id": "o4WVBvMrHAzO"
   },
   "outputs": [],
   "source": [
    "def create_fully_connected_layer_and_compute_dotproductt_plus_bias(inputs, output_size):\n",
    "    input_size = int(inputs.get_shape()[1])\n",
    "    w = initialize_weights([input_size, output_size])\n",
    "    b = initialize_bias([output_size])\n",
    "    fc_xW_plus_bias_outputs = tf.matmul(inputs, w) + b\n",
    "    return(fc_xW_plus_bias_outputs)"
   ]
  },
  {
   "cell_type": "markdown",
   "metadata": {
    "id": "QORROHuZHAzO"
   },
   "source": [
    "## Create Placeholders for Inputs and Labels: x and y_true"
   ]
  },
  {
   "cell_type": "code",
   "execution_count": 94,
   "metadata": {
    "id": "JlSzCO5KHAzO"
   },
   "outputs": [],
   "source": [
    "# PLACEHOLDER\n",
    "\n",
    "# Create a placeholder for the inputs data: x\n",
    "# x: a 2D array\n",
    "# x: a placeholder that can hold any number of rows/record\n",
    "\n",
    "x = tf.placeholder(tf.float32, shape=[None, 32, 32, 3])"
   ]
  },
  {
   "cell_type": "code",
   "execution_count": 95,
   "metadata": {
    "id": "ultr9OvIHAzO"
   },
   "outputs": [],
   "source": [
    "# PLACEHOLDER\n",
    "\n",
    "# Create a placeholder for the labels of the inputs data: y_true\n",
    "# y_true: a 2D array\n",
    "# y_true: Can hold any number of rows/records\n",
    "\n",
    "y_true = tf.placeholder(tf.float32, [None, 10])"
   ]
  },
  {
   "cell_type": "code",
   "execution_count": 96,
   "metadata": {
    "id": "VS1nvWQMHAzO"
   },
   "outputs": [],
   "source": [
    "# Prepare feeding inputs into the 1st conv layer\n",
    "# Reshape the pnput x: A placeholder\n",
    "# From 1D array (vector) -> Original input shape: 4D-input: [batch, H, W, depth channels]\n",
    "# Depth = color channels: grey scale = 1\n",
    "# Reshaped inputs: x_image: [ 1, 28, 28, 1]\n",
    "\n",
    "#x_image = tf.reshape(x, [-1, 28, 28, 1])"
   ]
  },
  {
   "cell_type": "markdown",
   "metadata": {
    "id": "Q8XxgaZnHAzO"
   },
   "source": [
    "## Reshape the Input Placeholder x: NOT NEED TO RESHAPE DATA HERE"
   ]
  },
  {
   "cell_type": "code",
   "execution_count": 97,
   "metadata": {
    "id": "bsswSH20HAzO"
   },
   "outputs": [],
   "source": [
    "# DO NOTHING -- DON'T NEED TO RESHAPE - DATA IS ALREADY IN GOOD SHAPE TO BE FED INTO 1ST CONVOLUTION LAYER"
   ]
  },
  {
   "cell_type": "code",
   "execution_count": 98,
   "metadata": {
    "id": "6xXlOCGVHAzO"
   },
   "outputs": [],
   "source": [
    "# Create 1st convolutional layer, ReLU layer, and perform computation\n",
    "conv_layer_1_outputs = create_convolution_layer_and_compute_dot_product(x, filter_shape=[5, 5, 3, 32])\n",
    "conv_relu_layer_1_outputs = create_relu_layer_and_compute_dotproduct_plus_b(conv_layer_1_outputs, filter_shape=[5, 5, 3, 32])"
   ]
  },
  {
   "cell_type": "code",
   "execution_count": 99,
   "metadata": {
    "id": "kSH5Qv3VHAzO"
   },
   "outputs": [],
   "source": [
    "# Pooling 1st layer and reduce spatial layer\n",
    "pooling_layer_1_outputs = create_maxpool2by2_and_reduce_spatial_size(conv_relu_layer_1_outputs)"
   ]
  },
  {
   "cell_type": "code",
   "execution_count": 100,
   "metadata": {
    "id": "iFexfOl9HAzP"
   },
   "outputs": [],
   "source": [
    "# Create the 2nd convolutional layer\n",
    "# Input: x_image:Reshaped inputs with shape [1, 28, 28, 1]\n",
    "# filter_shape: [5, 5, 32, 64]\n",
    "# filter: 5x5\n",
    "# Input channels: 32\n",
    "# Output channels: 64\n",
    "\n",
    "# Create the 1st convolution layer\n",
    "# then learn / extract the features, get the results(output): Dot product of inputs * weights\n",
    "# return the outputs of the layer\n",
    "\n",
    "conv_layer_2_outputs = create_convolution_layer_and_compute_dot_product(pooling_layer_1_outputs, filter_shape=[5, 5, 32, 64])\n",
    "\n",
    "# Create the ReLU layer for the 1st convolution layer\n",
    "# Accept the outputs from 1st conv layer as the inputs\n",
    "# Returns the outputs of the layer\n",
    "\n",
    "conv_relu_layer_2_outputs = create_relu_layer_and_compute_dotproduct_plus_b(conv_layer_2_outputs, filter_shape=[5, 5, 32, 64])"
   ]
  },
  {
   "cell_type": "code",
   "execution_count": 101,
   "metadata": {
    "id": "-6bfIFwWHAzP"
   },
   "outputs": [],
   "source": [
    "# 2nd pooling layer and reduce spatial size\n",
    "pooling_layer_2_outputs = create_maxpool2by2_and_reduce_spatial_size(conv_relu_layer_2_outputs)"
   ]
  },
  {
   "cell_type": "code",
   "execution_count": 102,
   "metadata": {
    "id": "i8okPMzbHAzP"
   },
   "outputs": [],
   "source": [
    "conv_layer_3_outputs = create_convolution_layer_and_compute_dot_product(pooling_layer_1_outputs, filter_shape=[5, 5, 32, 64])\n",
    "\n",
    "conv_relu_layer_3_outputs = create_relu_layer_and_compute_dotproduct_plus_b(conv_layer_2_outputs, filter_shape=[5, 5, 32, 64])"
   ]
  },
  {
   "cell_type": "code",
   "execution_count": 103,
   "metadata": {
    "id": "HJ-gLENzHAzP"
   },
   "outputs": [],
   "source": [
    "pooling_layer_3_outputs = create_maxpool2by2_and_reduce_spatial_size(conv_relu_layer_3_outputs)"
   ]
  },
  {
   "cell_type": "markdown",
   "metadata": {
    "id": "tU4I4mrnHAzP"
   },
   "source": [
    "## Create 1st Convolution Layer and so on ............."
   ]
  },
  {
   "cell_type": "code",
   "execution_count": 104,
   "metadata": {
    "id": "w6qKvUKjHAzP"
   },
   "outputs": [],
   "source": [
    "# Reshaping / flattening data\n",
    "pooling_layer_3_outputs_flat = tf.reshape(pooling_layer_3_outputs, shape=[-1, 8 * 8 * 64])"
   ]
  },
  {
   "cell_type": "code",
   "execution_count": 105,
   "metadata": {
    "id": "WSIrJADIHAzP"
   },
   "outputs": [],
   "source": [
    "# 1st FC layer \n",
    "fc_layer_1_outputs = create_fully_connected_layer_and_compute_dotproductt_plus_bias(pooling_layer_3_outputs_flat, output_size=1024)\n",
    "fc_relu_layer_1_outputs = tf.nn.relu(fc_layer_1_outputs)"
   ]
  },
  {
   "cell_type": "code",
   "execution_count": 106,
   "metadata": {
    "id": "bzWYRFrEHAzP",
    "outputId": "860a2bfc-0eff-4c30-bcb0-bad5e9022995"
   },
   "outputs": [],
   "source": [
    "# Dropout layer and dropout a fraction of outputs randomly\n",
    "hold_prob = tf.placeholder(tf.float32)\n",
    "fc_dropout_outputs = tf.nn.dropout(fc_relu_layer_1_outputs, keep_prob=hold_prob)"
   ]
  },
  {
   "cell_type": "code",
   "execution_count": 107,
   "metadata": {
    "id": "WH0YJX49HAzP"
   },
   "outputs": [],
   "source": [
    "# Create the final FC layer\n",
    "# then compute: x*W + b\n",
    "# Parameters:\n",
    "# fc_dropout_outputs: Outputs from the dropout layer\n",
    "\n",
    "# Return y_pred: final predicted outputs, i.e., final classification outputs\n",
    "y_pred = create_fully_connected_layer_and_compute_dotproductt_plus_bias(fc_dropout_outputs, output_size=10)"
   ]
  },
  {
   "cell_type": "code",
   "execution_count": 108,
   "metadata": {
    "id": "VGwn90plHAzQ",
    "outputId": "a4063c7b-b0ca-4f15-deb8-70470f8f5051"
   },
   "outputs": [],
   "source": [
    "# Define loss function: cross-entropy with logits, i.e., with the final outputs\n",
    "# Calculate the softmax cross-entropy loss\n",
    "\n",
    "softmax_cross_entropy_loss = tf.nn.softmax_cross_entropy_with_logits(labels=y_true, logits=y_pred)\n",
    "\n",
    "# Compute the mean of losses\n",
    "cross_entropy_mean = tf.reduce_mean(softmax_cross_entropy_loss)"
   ]
  },
  {
   "cell_type": "code",
   "execution_count": 109,
   "metadata": {
    "id": "IVejYhqyHAzQ"
   },
   "outputs": [],
   "source": [
    "# Get an ADAM optimizer\n",
    "optimizer = tf.train.AdamOptimizer(learning_rate=0.001)"
   ]
  },
  {
   "cell_type": "code",
   "execution_count": 110,
   "metadata": {
    "id": "OfrPL-29HAzQ"
   },
   "outputs": [],
   "source": [
    "# Create a CNN model trainer that can train the model\n",
    "# And optimize the model by minimizing the softmax cross_entropy loss\n",
    "\n",
    "cnn_trainer = optimizer.minimize(cross_entropy_mean)"
   ]
  },
  {
   "cell_type": "code",
   "execution_count": 111,
   "metadata": {
    "id": "NU0s7ov7HAzQ"
   },
   "outputs": [],
   "source": [
    "# Get a variable initializer\n",
    "\n",
    "vars_initializer = tf.global_variables_initializer()"
   ]
  },
  {
   "cell_type": "markdown",
   "metadata": {
    "id": "YbJf0WDFHAzQ"
   },
   "source": [
    "# PHASE II: Train and Test CNN Model on CIFAR-10 Dataset"
   ]
  },
  {
   "cell_type": "code",
   "execution_count": 112,
   "metadata": {
    "id": "Vd7klGEkHAzQ"
   },
   "outputs": [],
   "source": [
    "# x: CIFAR-10.train: 50000 images\n",
    "# Each time of training (run the whole process) = 1 step\n",
    "# Each time of training: use one batch of inputs\n",
    "\n",
    "# Steps = 5000: Fininsh the training after running 5000 times\n",
    "\n",
    "steps = 5000"
   ]
  },
  {
   "cell_type": "code",
   "execution_count": 113,
   "metadata": {
    "id": "IYtKriAEHAzQ",
    "outputId": "6a921997-c153-4528-f8c9-0b714d0a619a"
   },
   "outputs": [
    {
     "name": "stdout",
     "output_type": "stream",
     "text": [
      "ON STEP: 0\n",
      "ACCURACY: \n",
      "0.1003\n",
      "\n",
      "\n",
      "ON STEP: 100\n",
      "ACCURACY: \n",
      "0.3978\n",
      "\n",
      "\n",
      "ON STEP: 200\n",
      "ACCURACY: \n",
      "0.4549\n",
      "\n",
      "\n",
      "ON STEP: 300\n",
      "ACCURACY: \n",
      "0.4896\n",
      "\n",
      "\n",
      "ON STEP: 400\n",
      "ACCURACY: \n",
      "0.4925\n",
      "\n",
      "\n",
      "ON STEP: 500\n",
      "ACCURACY: \n",
      "0.5377\n",
      "\n",
      "\n",
      "ON STEP: 600\n",
      "ACCURACY: \n",
      "0.5504\n",
      "\n",
      "\n",
      "ON STEP: 700\n",
      "ACCURACY: \n",
      "0.5688\n",
      "\n",
      "\n",
      "ON STEP: 800\n",
      "ACCURACY: \n",
      "0.578\n",
      "\n",
      "\n",
      "ON STEP: 900\n",
      "ACCURACY: \n",
      "0.5741\n",
      "\n",
      "\n",
      "ON STEP: 1000\n",
      "ACCURACY: \n",
      "0.6066\n",
      "\n",
      "\n",
      "ON STEP: 1100\n",
      "ACCURACY: \n",
      "0.5883\n",
      "\n",
      "\n",
      "ON STEP: 1200\n",
      "ACCURACY: \n",
      "0.5966\n",
      "\n",
      "\n",
      "ON STEP: 1300\n",
      "ACCURACY: \n",
      "0.5996\n",
      "\n",
      "\n",
      "ON STEP: 1400\n",
      "ACCURACY: \n",
      "0.6194\n",
      "\n",
      "\n",
      "ON STEP: 1500\n",
      "ACCURACY: \n",
      "0.6357\n",
      "\n",
      "\n",
      "ON STEP: 1600\n",
      "ACCURACY: \n",
      "0.6319\n",
      "\n",
      "\n",
      "ON STEP: 1700\n",
      "ACCURACY: \n",
      "0.6124\n",
      "\n",
      "\n",
      "ON STEP: 1800\n",
      "ACCURACY: \n",
      "0.6333\n",
      "\n",
      "\n",
      "ON STEP: 1900\n",
      "ACCURACY: \n",
      "0.6339\n",
      "\n",
      "\n",
      "ON STEP: 2000\n",
      "ACCURACY: \n",
      "0.6463\n",
      "\n",
      "\n",
      "ON STEP: 2100\n",
      "ACCURACY: \n",
      "0.6415\n",
      "\n",
      "\n",
      "ON STEP: 2200\n",
      "ACCURACY: \n",
      "0.649\n",
      "\n",
      "\n",
      "ON STEP: 2300\n",
      "ACCURACY: \n",
      "0.654\n",
      "\n",
      "\n",
      "ON STEP: 2400\n",
      "ACCURACY: \n",
      "0.648\n",
      "\n",
      "\n",
      "ON STEP: 2500\n",
      "ACCURACY: \n",
      "0.6589\n",
      "\n",
      "\n",
      "ON STEP: 2600\n",
      "ACCURACY: \n",
      "0.6485\n",
      "\n",
      "\n",
      "ON STEP: 2700\n",
      "ACCURACY: \n",
      "0.6681\n",
      "\n",
      "\n",
      "ON STEP: 2800\n",
      "ACCURACY: \n",
      "0.6572\n",
      "\n",
      "\n",
      "ON STEP: 2900\n",
      "ACCURACY: \n",
      "0.658\n",
      "\n",
      "\n",
      "ON STEP: 3000\n",
      "ACCURACY: \n",
      "0.6551\n",
      "\n",
      "\n",
      "ON STEP: 3100\n",
      "ACCURACY: \n",
      "0.6635\n",
      "\n",
      "\n",
      "ON STEP: 3200\n",
      "ACCURACY: \n",
      "0.671\n",
      "\n",
      "\n",
      "ON STEP: 3300\n",
      "ACCURACY: \n",
      "0.6736\n",
      "\n",
      "\n",
      "ON STEP: 3400\n",
      "ACCURACY: \n",
      "0.6509\n",
      "\n",
      "\n",
      "ON STEP: 3500\n",
      "ACCURACY: \n",
      "0.6661\n",
      "\n",
      "\n",
      "ON STEP: 3600\n",
      "ACCURACY: \n",
      "0.6733\n",
      "\n",
      "\n",
      "ON STEP: 3700\n",
      "ACCURACY: \n",
      "0.6716\n",
      "\n",
      "\n",
      "ON STEP: 3800\n",
      "ACCURACY: \n",
      "0.671\n",
      "\n",
      "\n",
      "ON STEP: 3900\n",
      "ACCURACY: \n",
      "0.6762\n",
      "\n",
      "\n",
      "ON STEP: 4000\n",
      "ACCURACY: \n",
      "0.6866\n",
      "\n",
      "\n",
      "ON STEP: 4100\n",
      "ACCURACY: \n",
      "0.6731\n",
      "\n",
      "\n",
      "ON STEP: 4200\n",
      "ACCURACY: \n",
      "0.6773\n",
      "\n",
      "\n",
      "ON STEP: 4300\n",
      "ACCURACY: \n",
      "0.6701\n",
      "\n",
      "\n",
      "ON STEP: 4400\n",
      "ACCURACY: \n",
      "0.678\n",
      "\n",
      "\n",
      "ON STEP: 4500\n",
      "ACCURACY: \n",
      "0.6843\n",
      "\n",
      "\n",
      "ON STEP: 4600\n",
      "ACCURACY: \n",
      "0.6719\n",
      "\n",
      "\n",
      "ON STEP: 4700\n",
      "ACCURACY: \n",
      "0.6734\n",
      "\n",
      "\n",
      "ON STEP: 4800\n",
      "ACCURACY: \n",
      "0.6683\n",
      "\n",
      "\n",
      "ON STEP: 4900\n",
      "ACCURACY: \n",
      "0.6781\n",
      "\n",
      "\n"
     ]
    }
   ],
   "source": [
    "with tf.Session() as sess:\n",
    "    # First, run vars_initializer to initialize\n",
    "    sess.run(vars_initializer)\n",
    "    \n",
    "    for i in range(steps):\n",
    "        # Each batch: 100 images\n",
    "        batch = ch.next_batch(100)\n",
    "        \n",
    "        # Train the model\n",
    "        # Dropout keep_prob (% to keep): 0.5 --> 50% will be dropped out\n",
    "        sess.run(cnn_trainer, feed_dict={x: batch[0], y_true: batch[1], hold_prob: 0.5})\n",
    "        \n",
    "        # Test the model: at each 100th step\n",
    "        # Run this block of code for each 100 times of training, each time run a batch \n",
    "        if i % 100 == 0:\n",
    "            print('ON STEP: {}'.format(i))\n",
    "            print('ACCURACY: ')\n",
    "            \n",
    "            # Compare to find matches of y_pred and y_true\n",
    "            matches = tf.equal(tf.argmax(y_pred, 1), tf.argmax(y_true, 1))\n",
    "            \n",
    "            # Cast the matches from integers to tf.float32\n",
    "            # Calculate the accuracy using the mean of matches\n",
    "            acc = tf.reduce_mean(tf.cast(matches, tf.float32))\n",
    "            \n",
    "            # Test the model at each 100th step\n",
    "            # Using test dataset\n",
    "            # Dropout: NONE because of test, not training\n",
    "            test_accuracy = sess.run (acc, feed_dict = {x:ch.test_images, y_true: ch.test_labels, hold_prob: 1.0})\n",
    "            print(test_accuracy)\n",
    "            print('\\n')"
   ]
  },
  {
   "cell_type": "code",
   "execution_count": null,
   "metadata": {
    "id": "I0qQbzi3HAzR"
   },
   "outputs": [],
   "source": []
  }
 ],
 "metadata": {
  "colab": {
   "name": "Part V DL_TF_cnn_cifar_10_final_project.ipynb",
   "provenance": []
  },
  "kernelspec": {
   "display_name": "Python 3",
   "language": "python",
   "name": "python3"
  },
  "language_info": {
   "codemirror_mode": {
    "name": "ipython",
    "version": 3
   },
   "file_extension": ".py",
   "mimetype": "text/x-python",
   "name": "python",
   "nbconvert_exporter": "python",
   "pygments_lexer": "ipython3",
   "version": "3.7.12"
  }
 },
 "nbformat": 4,
 "nbformat_minor": 1
}
