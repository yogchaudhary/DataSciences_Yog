{
  "cells": [
    {
      "cell_type": "code",
      "source": [
        "#YC95"
      ],
      "metadata": {
        "id": "GZz3N7XII4KQ"
      },
      "execution_count": 14,
      "outputs": []
    },
    {
      "cell_type": "markdown",
      "metadata": {
        "id": "bBYpgUojIflw"
      },
      "source": [
        "# Chapter 8: The Naïve Bayes Classifier\n",
        "\n",
        "## Instructions for Assignment 5\n",
        "\n",
        "Run each of the code blocks below and before running the block put your initials followed by last two digits of your ID as a comment first.\n",
        "\n",
        "Change all variables used with the extension of your initials and last two digits of your ID, i.e. delays_df will be named delays_dfJD48 if student's name is Jane Doe with last two digits of ID 48. All variables in all code blocks will be changed similarly.\n",
        "\n",
        "And then write a comment to explain the code block shortly. You can make use of the comments from the textbook. Your comments can be very short for obvious and short blocks.\n",
        "\n",
        "But be careful that no student's initials and ID digits should appear in another student's submission. Otherwise, I will file your case to the Academic Integrity Office and warn you while decreasing your letter grade below one level.\n",
        "\n",
        "Save this file like \"ADTA 5230.100 Module 5 Chapter 8 Hands On, LAST NAME First Name Last Two Digits of Your ID\", like \"ADTA 5230.100 Module 5 Chapter 8 Hands On DOE Jane 48\".\n",
        "\n",
        "You will submit the ipynb file with Python code blocks run, as well as a PDF file that you will save after putting all your comments and running code blocks.\n",
        "\n",
        "Notes:\n",
        "1. Code blocks below are originated from the textbook.\n",
        "\n",
        "2. Refer to notes of the textbook for further explanations of these codes."
      ]
    },
    {
      "cell_type": "markdown",
      "metadata": {
        "id": "EkbyypmcIfl3"
      },
      "source": [
        "Make sure dmba package is installed"
      ]
    },
    {
      "cell_type": "code",
      "execution_count": 15,
      "metadata": {
        "colab": {
          "base_uri": "https://localhost:8080/"
        },
        "id": "qXUal6FbIfl4",
        "outputId": "9de1b778-6ff7-45fe-f9c2-8ea4655ba316"
      },
      "outputs": [
        {
          "output_type": "stream",
          "name": "stdout",
          "text": [
            "Requirement already satisfied: dmba in /usr/local/lib/python3.10/dist-packages (0.2.4)\n",
            "Requirement already satisfied: graphviz in /usr/local/lib/python3.10/dist-packages (from dmba) (0.20.1)\n",
            "Requirement already satisfied: matplotlib in /usr/local/lib/python3.10/dist-packages (from dmba) (3.7.1)\n",
            "Requirement already satisfied: numpy in /usr/local/lib/python3.10/dist-packages (from dmba) (1.23.5)\n",
            "Requirement already satisfied: pandas in /usr/local/lib/python3.10/dist-packages (from dmba) (1.5.3)\n",
            "Requirement already satisfied: scikit-learn in /usr/local/lib/python3.10/dist-packages (from dmba) (1.2.2)\n",
            "Requirement already satisfied: scipy in /usr/local/lib/python3.10/dist-packages (from dmba) (1.11.3)\n",
            "Requirement already satisfied: contourpy>=1.0.1 in /usr/local/lib/python3.10/dist-packages (from matplotlib->dmba) (1.1.1)\n",
            "Requirement already satisfied: cycler>=0.10 in /usr/local/lib/python3.10/dist-packages (from matplotlib->dmba) (0.12.1)\n",
            "Requirement already satisfied: fonttools>=4.22.0 in /usr/local/lib/python3.10/dist-packages (from matplotlib->dmba) (4.43.1)\n",
            "Requirement already satisfied: kiwisolver>=1.0.1 in /usr/local/lib/python3.10/dist-packages (from matplotlib->dmba) (1.4.5)\n",
            "Requirement already satisfied: packaging>=20.0 in /usr/local/lib/python3.10/dist-packages (from matplotlib->dmba) (23.2)\n",
            "Requirement already satisfied: pillow>=6.2.0 in /usr/local/lib/python3.10/dist-packages (from matplotlib->dmba) (9.4.0)\n",
            "Requirement already satisfied: pyparsing>=2.3.1 in /usr/local/lib/python3.10/dist-packages (from matplotlib->dmba) (3.1.1)\n",
            "Requirement already satisfied: python-dateutil>=2.7 in /usr/local/lib/python3.10/dist-packages (from matplotlib->dmba) (2.8.2)\n",
            "Requirement already satisfied: pytz>=2020.1 in /usr/local/lib/python3.10/dist-packages (from pandas->dmba) (2023.3.post1)\n",
            "Requirement already satisfied: joblib>=1.1.1 in /usr/local/lib/python3.10/dist-packages (from scikit-learn->dmba) (1.3.2)\n",
            "Requirement already satisfied: threadpoolctl>=2.0.0 in /usr/local/lib/python3.10/dist-packages (from scikit-learn->dmba) (3.2.0)\n",
            "Requirement already satisfied: six>=1.5 in /usr/local/lib/python3.10/dist-packages (from python-dateutil>=2.7->matplotlib->dmba) (1.16.0)\n"
          ]
        }
      ],
      "source": [
        "pip install dmba"
      ]
    },
    {
      "cell_type": "code",
      "execution_count": 16,
      "metadata": {
        "id": "MxXnT0KlIfl5"
      },
      "outputs": [],
      "source": [
        "from pathlib import Path\n",
        "\n",
        "import pandas as pd\n",
        "from sklearn.model_selection import train_test_split\n",
        "from sklearn.naive_bayes import MultinomialNB\n",
        "import matplotlib.pylab as plt\n",
        "\n",
        "import dmba\n",
        "from dmba import classificationSummary, gainsChart\n",
        "\n",
        "%matplotlib inline"
      ]
    },
    {
      "cell_type": "markdown",
      "metadata": {
        "id": "Vr6wrrZvIfl6"
      },
      "source": [
        "## Table 8.4"
      ]
    },
    {
      "cell_type": "code",
      "execution_count": 17,
      "metadata": {
        "colab": {
          "base_uri": "https://localhost:8080/",
          "height": 223
        },
        "id": "zilUd2PkIfl6",
        "outputId": "5a791f6f-0efe-439c-b9ae-d10f9d0dc83b"
      },
      "outputs": [
        {
          "output_type": "execute_result",
          "data": {
            "text/plain": [
              "   CRS_DEP_TIME CARRIER  DEP_TIME DEST  DISTANCE     FL_DATE  FL_NUM ORIGIN  \\\n",
              "0          1455      OH      1455  JFK       184  01/01/2004    5935    BWI   \n",
              "1          1640      DH      1640  JFK       213  01/01/2004    6155    DCA   \n",
              "2          1245      DH      1245  LGA       229  01/01/2004    7208    IAD   \n",
              "3          1715      DH      1709  LGA       229  01/01/2004    7215    IAD   \n",
              "4          1039      DH      1035  LGA       229  01/01/2004    7792    IAD   \n",
              "\n",
              "   Weather  DAY_WEEK  DAY_OF_MONTH TAIL_NUM Flight Status  \n",
              "0        0         4             1   N940CA        ontime  \n",
              "1        0         4             1   N405FJ        ontime  \n",
              "2        0         4             1   N695BR        ontime  \n",
              "3        0         4             1   N662BR        ontime  \n",
              "4        0         4             1   N698BR        ontime  "
            ],
            "text/html": [
              "\n",
              "  <div id=\"df-dfc7ce61-12b4-4b8a-95a6-9cfcae4ca10d\" class=\"colab-df-container\">\n",
              "    <div>\n",
              "<style scoped>\n",
              "    .dataframe tbody tr th:only-of-type {\n",
              "        vertical-align: middle;\n",
              "    }\n",
              "\n",
              "    .dataframe tbody tr th {\n",
              "        vertical-align: top;\n",
              "    }\n",
              "\n",
              "    .dataframe thead th {\n",
              "        text-align: right;\n",
              "    }\n",
              "</style>\n",
              "<table border=\"1\" class=\"dataframe\">\n",
              "  <thead>\n",
              "    <tr style=\"text-align: right;\">\n",
              "      <th></th>\n",
              "      <th>CRS_DEP_TIME</th>\n",
              "      <th>CARRIER</th>\n",
              "      <th>DEP_TIME</th>\n",
              "      <th>DEST</th>\n",
              "      <th>DISTANCE</th>\n",
              "      <th>FL_DATE</th>\n",
              "      <th>FL_NUM</th>\n",
              "      <th>ORIGIN</th>\n",
              "      <th>Weather</th>\n",
              "      <th>DAY_WEEK</th>\n",
              "      <th>DAY_OF_MONTH</th>\n",
              "      <th>TAIL_NUM</th>\n",
              "      <th>Flight Status</th>\n",
              "    </tr>\n",
              "  </thead>\n",
              "  <tbody>\n",
              "    <tr>\n",
              "      <th>0</th>\n",
              "      <td>1455</td>\n",
              "      <td>OH</td>\n",
              "      <td>1455</td>\n",
              "      <td>JFK</td>\n",
              "      <td>184</td>\n",
              "      <td>01/01/2004</td>\n",
              "      <td>5935</td>\n",
              "      <td>BWI</td>\n",
              "      <td>0</td>\n",
              "      <td>4</td>\n",
              "      <td>1</td>\n",
              "      <td>N940CA</td>\n",
              "      <td>ontime</td>\n",
              "    </tr>\n",
              "    <tr>\n",
              "      <th>1</th>\n",
              "      <td>1640</td>\n",
              "      <td>DH</td>\n",
              "      <td>1640</td>\n",
              "      <td>JFK</td>\n",
              "      <td>213</td>\n",
              "      <td>01/01/2004</td>\n",
              "      <td>6155</td>\n",
              "      <td>DCA</td>\n",
              "      <td>0</td>\n",
              "      <td>4</td>\n",
              "      <td>1</td>\n",
              "      <td>N405FJ</td>\n",
              "      <td>ontime</td>\n",
              "    </tr>\n",
              "    <tr>\n",
              "      <th>2</th>\n",
              "      <td>1245</td>\n",
              "      <td>DH</td>\n",
              "      <td>1245</td>\n",
              "      <td>LGA</td>\n",
              "      <td>229</td>\n",
              "      <td>01/01/2004</td>\n",
              "      <td>7208</td>\n",
              "      <td>IAD</td>\n",
              "      <td>0</td>\n",
              "      <td>4</td>\n",
              "      <td>1</td>\n",
              "      <td>N695BR</td>\n",
              "      <td>ontime</td>\n",
              "    </tr>\n",
              "    <tr>\n",
              "      <th>3</th>\n",
              "      <td>1715</td>\n",
              "      <td>DH</td>\n",
              "      <td>1709</td>\n",
              "      <td>LGA</td>\n",
              "      <td>229</td>\n",
              "      <td>01/01/2004</td>\n",
              "      <td>7215</td>\n",
              "      <td>IAD</td>\n",
              "      <td>0</td>\n",
              "      <td>4</td>\n",
              "      <td>1</td>\n",
              "      <td>N662BR</td>\n",
              "      <td>ontime</td>\n",
              "    </tr>\n",
              "    <tr>\n",
              "      <th>4</th>\n",
              "      <td>1039</td>\n",
              "      <td>DH</td>\n",
              "      <td>1035</td>\n",
              "      <td>LGA</td>\n",
              "      <td>229</td>\n",
              "      <td>01/01/2004</td>\n",
              "      <td>7792</td>\n",
              "      <td>IAD</td>\n",
              "      <td>0</td>\n",
              "      <td>4</td>\n",
              "      <td>1</td>\n",
              "      <td>N698BR</td>\n",
              "      <td>ontime</td>\n",
              "    </tr>\n",
              "  </tbody>\n",
              "</table>\n",
              "</div>\n",
              "    <div class=\"colab-df-buttons\">\n",
              "\n",
              "  <div class=\"colab-df-container\">\n",
              "    <button class=\"colab-df-convert\" onclick=\"convertToInteractive('df-dfc7ce61-12b4-4b8a-95a6-9cfcae4ca10d')\"\n",
              "            title=\"Convert this dataframe to an interactive table.\"\n",
              "            style=\"display:none;\">\n",
              "\n",
              "  <svg xmlns=\"http://www.w3.org/2000/svg\" height=\"24px\" viewBox=\"0 -960 960 960\">\n",
              "    <path d=\"M120-120v-720h720v720H120Zm60-500h600v-160H180v160Zm220 220h160v-160H400v160Zm0 220h160v-160H400v160ZM180-400h160v-160H180v160Zm440 0h160v-160H620v160ZM180-180h160v-160H180v160Zm440 0h160v-160H620v160Z\"/>\n",
              "  </svg>\n",
              "    </button>\n",
              "\n",
              "  <style>\n",
              "    .colab-df-container {\n",
              "      display:flex;\n",
              "      gap: 12px;\n",
              "    }\n",
              "\n",
              "    .colab-df-convert {\n",
              "      background-color: #E8F0FE;\n",
              "      border: none;\n",
              "      border-radius: 50%;\n",
              "      cursor: pointer;\n",
              "      display: none;\n",
              "      fill: #1967D2;\n",
              "      height: 32px;\n",
              "      padding: 0 0 0 0;\n",
              "      width: 32px;\n",
              "    }\n",
              "\n",
              "    .colab-df-convert:hover {\n",
              "      background-color: #E2EBFA;\n",
              "      box-shadow: 0px 1px 2px rgba(60, 64, 67, 0.3), 0px 1px 3px 1px rgba(60, 64, 67, 0.15);\n",
              "      fill: #174EA6;\n",
              "    }\n",
              "\n",
              "    .colab-df-buttons div {\n",
              "      margin-bottom: 4px;\n",
              "    }\n",
              "\n",
              "    [theme=dark] .colab-df-convert {\n",
              "      background-color: #3B4455;\n",
              "      fill: #D2E3FC;\n",
              "    }\n",
              "\n",
              "    [theme=dark] .colab-df-convert:hover {\n",
              "      background-color: #434B5C;\n",
              "      box-shadow: 0px 1px 3px 1px rgba(0, 0, 0, 0.15);\n",
              "      filter: drop-shadow(0px 1px 2px rgba(0, 0, 0, 0.3));\n",
              "      fill: #FFFFFF;\n",
              "    }\n",
              "  </style>\n",
              "\n",
              "    <script>\n",
              "      const buttonEl =\n",
              "        document.querySelector('#df-dfc7ce61-12b4-4b8a-95a6-9cfcae4ca10d button.colab-df-convert');\n",
              "      buttonEl.style.display =\n",
              "        google.colab.kernel.accessAllowed ? 'block' : 'none';\n",
              "\n",
              "      async function convertToInteractive(key) {\n",
              "        const element = document.querySelector('#df-dfc7ce61-12b4-4b8a-95a6-9cfcae4ca10d');\n",
              "        const dataTable =\n",
              "          await google.colab.kernel.invokeFunction('convertToInteractive',\n",
              "                                                    [key], {});\n",
              "        if (!dataTable) return;\n",
              "\n",
              "        const docLinkHtml = 'Like what you see? Visit the ' +\n",
              "          '<a target=\"_blank\" href=https://colab.research.google.com/notebooks/data_table.ipynb>data table notebook</a>'\n",
              "          + ' to learn more about interactive tables.';\n",
              "        element.innerHTML = '';\n",
              "        dataTable['output_type'] = 'display_data';\n",
              "        await google.colab.output.renderOutput(dataTable, element);\n",
              "        const docLink = document.createElement('div');\n",
              "        docLink.innerHTML = docLinkHtml;\n",
              "        element.appendChild(docLink);\n",
              "      }\n",
              "    </script>\n",
              "  </div>\n",
              "\n",
              "\n",
              "<div id=\"df-d8589762-ac32-41d4-9e97-7f22c292689c\">\n",
              "  <button class=\"colab-df-quickchart\" onclick=\"quickchart('df-d8589762-ac32-41d4-9e97-7f22c292689c')\"\n",
              "            title=\"Suggest charts.\"\n",
              "            style=\"display:none;\">\n",
              "\n",
              "<svg xmlns=\"http://www.w3.org/2000/svg\" height=\"24px\"viewBox=\"0 0 24 24\"\n",
              "     width=\"24px\">\n",
              "    <g>\n",
              "        <path d=\"M19 3H5c-1.1 0-2 .9-2 2v14c0 1.1.9 2 2 2h14c1.1 0 2-.9 2-2V5c0-1.1-.9-2-2-2zM9 17H7v-7h2v7zm4 0h-2V7h2v10zm4 0h-2v-4h2v4z\"/>\n",
              "    </g>\n",
              "</svg>\n",
              "  </button>\n",
              "\n",
              "<style>\n",
              "  .colab-df-quickchart {\n",
              "      --bg-color: #E8F0FE;\n",
              "      --fill-color: #1967D2;\n",
              "      --hover-bg-color: #E2EBFA;\n",
              "      --hover-fill-color: #174EA6;\n",
              "      --disabled-fill-color: #AAA;\n",
              "      --disabled-bg-color: #DDD;\n",
              "  }\n",
              "\n",
              "  [theme=dark] .colab-df-quickchart {\n",
              "      --bg-color: #3B4455;\n",
              "      --fill-color: #D2E3FC;\n",
              "      --hover-bg-color: #434B5C;\n",
              "      --hover-fill-color: #FFFFFF;\n",
              "      --disabled-bg-color: #3B4455;\n",
              "      --disabled-fill-color: #666;\n",
              "  }\n",
              "\n",
              "  .colab-df-quickchart {\n",
              "    background-color: var(--bg-color);\n",
              "    border: none;\n",
              "    border-radius: 50%;\n",
              "    cursor: pointer;\n",
              "    display: none;\n",
              "    fill: var(--fill-color);\n",
              "    height: 32px;\n",
              "    padding: 0;\n",
              "    width: 32px;\n",
              "  }\n",
              "\n",
              "  .colab-df-quickchart:hover {\n",
              "    background-color: var(--hover-bg-color);\n",
              "    box-shadow: 0 1px 2px rgba(60, 64, 67, 0.3), 0 1px 3px 1px rgba(60, 64, 67, 0.15);\n",
              "    fill: var(--button-hover-fill-color);\n",
              "  }\n",
              "\n",
              "  .colab-df-quickchart-complete:disabled,\n",
              "  .colab-df-quickchart-complete:disabled:hover {\n",
              "    background-color: var(--disabled-bg-color);\n",
              "    fill: var(--disabled-fill-color);\n",
              "    box-shadow: none;\n",
              "  }\n",
              "\n",
              "  .colab-df-spinner {\n",
              "    border: 2px solid var(--fill-color);\n",
              "    border-color: transparent;\n",
              "    border-bottom-color: var(--fill-color);\n",
              "    animation:\n",
              "      spin 1s steps(1) infinite;\n",
              "  }\n",
              "\n",
              "  @keyframes spin {\n",
              "    0% {\n",
              "      border-color: transparent;\n",
              "      border-bottom-color: var(--fill-color);\n",
              "      border-left-color: var(--fill-color);\n",
              "    }\n",
              "    20% {\n",
              "      border-color: transparent;\n",
              "      border-left-color: var(--fill-color);\n",
              "      border-top-color: var(--fill-color);\n",
              "    }\n",
              "    30% {\n",
              "      border-color: transparent;\n",
              "      border-left-color: var(--fill-color);\n",
              "      border-top-color: var(--fill-color);\n",
              "      border-right-color: var(--fill-color);\n",
              "    }\n",
              "    40% {\n",
              "      border-color: transparent;\n",
              "      border-right-color: var(--fill-color);\n",
              "      border-top-color: var(--fill-color);\n",
              "    }\n",
              "    60% {\n",
              "      border-color: transparent;\n",
              "      border-right-color: var(--fill-color);\n",
              "    }\n",
              "    80% {\n",
              "      border-color: transparent;\n",
              "      border-right-color: var(--fill-color);\n",
              "      border-bottom-color: var(--fill-color);\n",
              "    }\n",
              "    90% {\n",
              "      border-color: transparent;\n",
              "      border-bottom-color: var(--fill-color);\n",
              "    }\n",
              "  }\n",
              "</style>\n",
              "\n",
              "  <script>\n",
              "    async function quickchart(key) {\n",
              "      const quickchartButtonEl =\n",
              "        document.querySelector('#' + key + ' button');\n",
              "      quickchartButtonEl.disabled = true;  // To prevent multiple clicks.\n",
              "      quickchartButtonEl.classList.add('colab-df-spinner');\n",
              "      try {\n",
              "        const charts = await google.colab.kernel.invokeFunction(\n",
              "            'suggestCharts', [key], {});\n",
              "      } catch (error) {\n",
              "        console.error('Error during call to suggestCharts:', error);\n",
              "      }\n",
              "      quickchartButtonEl.classList.remove('colab-df-spinner');\n",
              "      quickchartButtonEl.classList.add('colab-df-quickchart-complete');\n",
              "    }\n",
              "    (() => {\n",
              "      let quickchartButtonEl =\n",
              "        document.querySelector('#df-d8589762-ac32-41d4-9e97-7f22c292689c button');\n",
              "      quickchartButtonEl.style.display =\n",
              "        google.colab.kernel.accessAllowed ? 'block' : 'none';\n",
              "    })();\n",
              "  </script>\n",
              "</div>\n",
              "    </div>\n",
              "  </div>\n"
            ]
          },
          "metadata": {},
          "execution_count": 17
        }
      ],
      "source": [
        "delays_df = dmba.load_data('FlightDelays.csv')\n",
        "delays_df.head()"
      ]
    },
    {
      "cell_type": "code",
      "execution_count": 18,
      "metadata": {
        "id": "tp2Id4yBIfl7"
      },
      "outputs": [],
      "source": [
        "delays_df = dmba.load_data('FlightDelays.csv')\n",
        "\n",
        "# convert to categorical\n",
        "delays_df.DAY_WEEK = delays_df.DAY_WEEK.astype('category')\n",
        "delays_df['Flight Status'] = delays_df['Flight Status'].astype('category')\n",
        "\n",
        "# create hourly bins departure time\n",
        "delays_df.CRS_DEP_TIME = [round(t / 100) for t in delays_df.CRS_DEP_TIME]\n",
        "delays_df.CRS_DEP_TIME = delays_df.CRS_DEP_TIME.astype('category')\n",
        "\n",
        "predictors = ['DAY_WEEK', 'CRS_DEP_TIME', 'ORIGIN', 'DEST', 'CARRIER']\n",
        "outcome = 'Flight Status'\n",
        "\n",
        "X = pd.get_dummies(delays_df[predictors])\n",
        "y = delays_df['Flight Status']\n",
        "classes = list(y.cat.categories)\n",
        "\n",
        "# split into training and validation\n",
        "X_train, X_valid, y_train, y_valid = train_test_split(X, y, test_size=0.40, random_state=1)\n",
        "\n",
        "# run naive Bayes\n",
        "delays_nb = MultinomialNB(alpha=0.01)\n",
        "delays_nb.fit(X_train, y_train)\n",
        "\n",
        "# predict probabilities\n",
        "predProb_train = delays_nb.predict_proba(X_train)\n",
        "predProb_valid = delays_nb.predict_proba(X_valid)\n",
        "\n",
        "# predict class membership\n",
        "y_valid_pred = delays_nb.predict(X_valid)\n",
        "y_train_pred = delays_nb.predict(X_train)"
      ]
    },
    {
      "cell_type": "markdown",
      "metadata": {
        "id": "-_QuWc9-Ifl8"
      },
      "source": [
        "## Table 8.5\n",
        "First construct a frequency table and then convert it to the propability table"
      ]
    },
    {
      "cell_type": "code",
      "execution_count": 19,
      "metadata": {
        "colab": {
          "base_uri": "https://localhost:8080/"
        },
        "id": "XXekrRe6Ifl8",
        "outputId": "6c94e752-f4e5-497e-995e-7aa6b3c6189a"
      },
      "outputs": [
        {
          "output_type": "stream",
          "name": "stdout",
          "text": [
            "ontime     0.8023\n",
            "delayed    0.1977\n",
            "Name: Flight Status, dtype: float64\n",
            "\n",
            "DAY_WEEK            1       2       3       4       5      6       7\n",
            "Flight Status                                                       \n",
            "delayed        0.1916  0.1494  0.1149  0.1264  0.1877  0.069  0.1609\n",
            "ontime         0.1246  0.1416  0.1445  0.1794  0.1690  0.136  0.1048\n",
            "\n",
            "CRS_DEP_TIME        6       7       8       9      10      11      12      13  \\\n",
            "Flight Status                                                                   \n",
            "delayed        0.0345  0.0536  0.0651  0.0192  0.0307  0.0115  0.0498  0.0460   \n",
            "ontime         0.0623  0.0633  0.0850  0.0567  0.0519  0.0340  0.0661  0.0746   \n",
            "\n",
            "CRS_DEP_TIME       14      15      16      17      18      19      20      21  \n",
            "Flight Status                                                                  \n",
            "delayed        0.0383  0.2031  0.0728  0.1533  0.0192  0.0996  0.0153  0.0881  \n",
            "ontime         0.0576  0.1171  0.0774  0.1001  0.0349  0.0397  0.0264  0.0529  \n",
            "\n",
            "ORIGIN            BWI     DCA     IAD\n",
            "Flight Status                        \n",
            "delayed        0.0805  0.5211  0.3985\n",
            "ontime         0.0604  0.6478  0.2918\n",
            "\n",
            "DEST              EWR     JFK     LGA\n",
            "Flight Status                        \n",
            "delayed        0.3793  0.1992  0.4215\n",
            "ontime         0.2663  0.1558  0.5779\n",
            "\n",
            "CARRIER            CO      DH      DL      MQ      OH      RU      UA      US\n",
            "Flight Status                                                                \n",
            "delayed        0.0575  0.3142  0.0958  0.2222  0.0077  0.2184  0.0153  0.0690\n",
            "ontime         0.0349  0.2295  0.2040  0.1171  0.0104  0.1690  0.0170  0.2181\n",
            "\n"
          ]
        }
      ],
      "source": [
        "# split the original data frame into a train and test using the same random_state\n",
        "train_df, valid_df = train_test_split(delays_df, test_size=0.4, random_state=1)\n",
        "\n",
        "pd.set_option('display.precision', 4)\n",
        "# probability of flight status\n",
        "print(train_df['Flight Status'].value_counts() / len(train_df))\n",
        "print()\n",
        "\n",
        "for predictor in predictors:\n",
        "    # construct the frequency table\n",
        "    df = train_df[['Flight Status', predictor]]\n",
        "    freqTable = df.pivot_table(index='Flight Status', columns=predictor, aggfunc=len)\n",
        "\n",
        "    # divide each row by the sum of the row to get conditional probabilities\n",
        "    propTable = freqTable.apply(lambda x: x / sum(x), axis=1)\n",
        "    print(propTable)\n",
        "    print()\n",
        "pd.reset_option('display.precision')"
      ]
    },
    {
      "cell_type": "code",
      "execution_count": 21,
      "metadata": {
        "colab": {
          "base_uri": "https://localhost:8080/"
        },
        "id": "CAJe4CeFIfl9",
        "outputId": "7caf6fc4-e32d-4c74-b4bb-a95c9152b123"
      },
      "outputs": [
        {
          "output_type": "stream",
          "name": "stdout",
          "text": [
            "P_hat_delayed ~  2.0548742506526157e-05\n",
            "P_hat_ontime ~  0.00033326464123921066\n",
            "P(delayed|...) =  0.05807791183301656\n",
            "P(ontime|...) =  0.9419220881669834\n"
          ]
        }
      ],
      "source": [
        "# P(delayed | Carrier = DL, Day_Week = 7, Dep_Time = 10, Dest = LGA, Origin = DCA)\n",
        "P_hat_delayed = 0.0958 * 0.1609 * 0.0307 * 0.4215 * 0.5211 * 0.1977\n",
        "# P(ontime | Carrier = DL, Day_Week = 7, Dep_Time = 10, Dest = LGA, Origin = DCA)\n",
        "P_hat_ontime = 0.2040 * 0.1048 * 0.0519 * 0.5779 * 0.6478 * 0.8023\n",
        "print('P_hat_delayed ~ ', P_hat_delayed)\n",
        "print('P_hat_ontime ~ ', P_hat_ontime)\n",
        "\n",
        "print('P(delayed|...) = ', P_hat_delayed / (P_hat_delayed + P_hat_ontime))\n",
        "print('P(ontime|...) = ', P_hat_ontime / (P_hat_delayed + P_hat_ontime))"
      ]
    },
    {
      "cell_type": "markdown",
      "metadata": {
        "id": "mJyqFHsbIfl-"
      },
      "source": [
        "## Table 8.6"
      ]
    },
    {
      "cell_type": "code",
      "execution_count": 22,
      "metadata": {
        "colab": {
          "base_uri": "https://localhost:8080/"
        },
        "id": "VzsEkfPQIfl-",
        "outputId": "31a117b0-9ac0-4d70-839c-12a2141d64d2"
      },
      "outputs": [
        {
          "output_type": "stream",
          "name": "stdout",
          "text": [
            "      actual predicted         0         1\n",
            "1225  ontime    ontime  0.057989  0.942011\n"
          ]
        }
      ],
      "source": [
        "# Subset a specific set\n",
        "df = pd.concat([pd.DataFrame({'actual': y_valid, 'predicted': y_valid_pred}),\n",
        "                pd.DataFrame(predProb_valid, index=y_valid.index)], axis=1)\n",
        "mask = ((X_valid.CARRIER_DL == 1) & (X_valid.DAY_WEEK_7 == 1) & (X_valid.CRS_DEP_TIME_10 == 1) &\n",
        "        (X_valid.DEST_LGA == 1) & (X_valid.ORIGIN_DCA == 1))\n",
        "\n",
        "print(df[mask])"
      ]
    },
    {
      "cell_type": "markdown",
      "metadata": {
        "id": "cvs2Z1TfIfl-"
      },
      "source": [
        "## Table 8.7"
      ]
    },
    {
      "cell_type": "code",
      "execution_count": 23,
      "metadata": {
        "colab": {
          "base_uri": "https://localhost:8080/"
        },
        "id": "xhukxqqNIfl-",
        "outputId": "a00de333-f15d-4b71-b735-97a771c7ae8c"
      },
      "outputs": [
        {
          "output_type": "stream",
          "name": "stdout",
          "text": [
            "Confusion Matrix (Accuracy 0.7955)\n",
            "\n",
            "        Prediction\n",
            " Actual delayed  ontime\n",
            "delayed      52     209\n",
            " ontime      61     998\n",
            "\n",
            "Confusion Matrix (Accuracy 0.7821)\n",
            "\n",
            "        Prediction\n",
            " Actual delayed  ontime\n",
            "delayed      26     141\n",
            " ontime      51     663\n"
          ]
        }
      ],
      "source": [
        "classificationSummary(y_train, y_train_pred, class_names=classes)\n",
        "\n",
        "print()\n",
        "\n",
        "classificationSummary(y_valid, y_valid_pred, class_names=classes)"
      ]
    },
    {
      "cell_type": "markdown",
      "metadata": {
        "id": "aCzZqsMhIfl-"
      },
      "source": [
        "## Figure 8.1"
      ]
    },
    {
      "cell_type": "code",
      "execution_count": 24,
      "metadata": {
        "colab": {
          "base_uri": "https://localhost:8080/",
          "height": 406
        },
        "id": "uu6LBcRNIfl_",
        "outputId": "6b90c910-6436-4ecd-a962-c37726edb3f7"
      },
      "outputs": [
        {
          "output_type": "display_data",
          "data": {
            "text/plain": [
              "<Figure size 400x400 with 1 Axes>"
            ],
            "image/png": "[encoded data removed]"
          },
          "metadata": {}
        }
      ],
      "source": [
        "df = pd.DataFrame({'actual': 1 - y_valid.cat.codes, 'prob': predProb_valid[:, 0]})\n",
        "df = df.sort_values(by=['prob'], ascending=False).reset_index(drop=True)\n",
        "\n",
        "fig, ax = plt.subplots()\n",
        "fig.set_size_inches(4, 4)\n",
        "gainsChart(df.actual, ax=ax)\n",
        "\n",
        "plt.tight_layout()\n",
        "plt.show()"
      ]
    },
    {
      "cell_type": "code",
      "execution_count": 25,
      "metadata": {
        "colab": {
          "base_uri": "https://localhost:8080/"
        },
        "id": "N2-tBbrUIfl_",
        "outputId": "9a3d4cab-4603-42ab-88cd-74d74d4529b3"
      },
      "outputs": [
        {
          "output_type": "execute_result",
          "data": {
            "text/plain": [
              "array([[0.03831098, 0.02988425, 0.02298965, 0.02528785, 0.03754491,\n",
              "        0.01379685, 0.03218245, 0.00690226, 0.01073259, 0.01303079,\n",
              "        0.00383799, 0.00613619, 0.00230586, 0.00996652, 0.00920046,\n",
              "        0.00766832, 0.04060918, 0.01456292, 0.03065031, 0.00383799,\n",
              "        0.01992539, 0.00307193, 0.01762719, 0.01609505, 0.10419268,\n",
              "        0.07967856, 0.07584823, 0.03984311, 0.08427496, 0.01149866,\n",
              "        0.0628251 , 0.01915932, 0.04443951, 0.00153979, 0.04367344,\n",
              "        0.00307193, 0.01379685],\n",
              "       [0.02492933, 0.02832852, 0.02889505, 0.03588229, 0.033805  ,\n",
              "        0.02719546, 0.0209636 , 0.01246561, 0.01265445, 0.01699787,\n",
              "        0.01133254, 0.01038832, 0.00680028, 0.01322098, 0.01492058,\n",
              "        0.01152139, 0.02341857, 0.01548711, 0.02001938, 0.00698912,\n",
              "        0.00793335, 0.00528953, 0.01057716, 0.01208792, 0.12954902,\n",
              "        0.05835475, 0.05325596, 0.03116118, 0.11557455, 0.00698912,\n",
              "        0.04589103, 0.04079224, 0.02341857, 0.00207917, 0.033805  ,\n",
              "        0.00340108, 0.0436249 ]])"
            ]
          },
          "metadata": {},
          "execution_count": 25
        }
      ],
      "source": [
        "import numpy as np\n",
        "np.exp(delays_nb.feature_log_prob_)"
      ]
    },
    {
      "cell_type": "code",
      "source": [
        "# ADTA 5230 Module 5, Chapter 8 Class Exercises"
      ],
      "metadata": {
        "id": "imfv6EVDIqme"
      },
      "execution_count": 26,
      "outputs": []
    }
  ],
  "metadata": {
    "kernelspec": {
      "display_name": "Python 3 (ipykernel)",
      "language": "python",
      "name": "python3"
    },
    "language_info": {
      "codemirror_mode": {
        "name": "ipython",
        "version": 3
      },
      "file_extension": ".py",
      "mimetype": "text/x-python",
      "name": "python",
      "nbconvert_exporter": "python",
      "pygments_lexer": "ipython3",
      "version": "3.9.13"
    },
    "colab": {
      "provenance": []
    }
  },
  "nbformat": 4,
  "nbformat_minor": 0
}