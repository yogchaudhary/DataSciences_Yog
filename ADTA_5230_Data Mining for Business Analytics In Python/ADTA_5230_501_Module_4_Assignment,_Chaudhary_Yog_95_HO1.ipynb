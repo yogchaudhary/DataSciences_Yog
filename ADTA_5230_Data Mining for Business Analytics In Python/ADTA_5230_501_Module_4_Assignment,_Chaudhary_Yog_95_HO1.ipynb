{
  "cells": [
    {
      "cell_type": "code",
      "source": [
        "# YC95\n",
        "# HO1"
      ],
      "metadata": {
        "id": "ahUA2_hsD7BU"
      },
      "execution_count": 1,
      "outputs": []
    },
    {
      "cell_type": "markdown",
      "metadata": {
        "id": "3e8CJFrUYdvW"
      },
      "source": [
        "## Instructions for Assignment 4\n",
        "\n",
        "Run each of the code blocks below and before running the block put your initials followed by last two digits of your ID as a comment first.\n",
        "\n",
        "And then write a comment to explain the code block shortly. You can make use of the comments from the textbook. Your comments can be very short for obvious and short blocks.\n",
        "\n",
        "But be careful that your initials and ID digits should not appear in any other students submission and other students' initials and ID digits should not appear in your submission. Otherwise, I will file your case to the Academic Integrity Office and warn you while decreasing your letter grade below one level.\n",
        "\n",
        "Save this file like \"ADTA 5230.501 Module 4 Chapter 7 Hands On, LAST NAME First Name Last Two Digits of Your ID\", like \"ADTA 5230.501 Module 4 Chapter 7 Hands On DOE Jane 48\".\n",
        "\n",
        "You will submit the ipynb file with Python code blocks run, as well as a PDF file that you will save after putting all your comments and running code blocks.\n",
        "\n",
        "Notes:\n",
        "1. Code blocks below are originated from the textbook.\n",
        "\n",
        "2. Refer to notes of the textbook for further explanations of these codes.\n"
      ]
    },
    {
      "cell_type": "markdown",
      "metadata": {
        "id": "1uegwDSZYdvZ"
      },
      "source": [
        "## Import required packages"
      ]
    },
    {
      "cell_type": "markdown",
      "metadata": {
        "id": "CATGTEbYYdva"
      },
      "source": [
        "Make sure DMBA package is available"
      ]
    },
    {
      "cell_type": "code",
      "execution_count": 3,
      "metadata": {
        "id": "z7i6uMrpYdvb",
        "colab": {
          "base_uri": "https://localhost:8080/"
        },
        "outputId": "c58cf473-259d-46e4-fd35-3e713dd29662"
      },
      "outputs": [
        {
          "output_type": "stream",
          "name": "stdout",
          "text": [
            "Requirement already satisfied: dmba in /usr/local/lib/python3.10/dist-packages (0.2.4)\n",
            "Requirement already satisfied: graphviz in /usr/local/lib/python3.10/dist-packages (from dmba) (0.20.1)\n",
            "Requirement already satisfied: matplotlib in /usr/local/lib/python3.10/dist-packages (from dmba) (3.7.1)\n",
            "Requirement already satisfied: numpy in /usr/local/lib/python3.10/dist-packages (from dmba) (1.23.5)\n",
            "Requirement already satisfied: pandas in /usr/local/lib/python3.10/dist-packages (from dmba) (1.5.3)\n",
            "Requirement already satisfied: scikit-learn in /usr/local/lib/python3.10/dist-packages (from dmba) (1.2.2)\n",
            "Requirement already satisfied: scipy in /usr/local/lib/python3.10/dist-packages (from dmba) (1.11.3)\n",
            "Requirement already satisfied: contourpy>=1.0.1 in /usr/local/lib/python3.10/dist-packages (from matplotlib->dmba) (1.1.1)\n",
            "Requirement already satisfied: cycler>=0.10 in /usr/local/lib/python3.10/dist-packages (from matplotlib->dmba) (0.12.1)\n",
            "Requirement already satisfied: fonttools>=4.22.0 in /usr/local/lib/python3.10/dist-packages (from matplotlib->dmba) (4.43.1)\n",
            "Requirement already satisfied: kiwisolver>=1.0.1 in /usr/local/lib/python3.10/dist-packages (from matplotlib->dmba) (1.4.5)\n",
            "Requirement already satisfied: packaging>=20.0 in /usr/local/lib/python3.10/dist-packages (from matplotlib->dmba) (23.2)\n",
            "Requirement already satisfied: pillow>=6.2.0 in /usr/local/lib/python3.10/dist-packages (from matplotlib->dmba) (9.4.0)\n",
            "Requirement already satisfied: pyparsing>=2.3.1 in /usr/local/lib/python3.10/dist-packages (from matplotlib->dmba) (3.1.1)\n",
            "Requirement already satisfied: python-dateutil>=2.7 in /usr/local/lib/python3.10/dist-packages (from matplotlib->dmba) (2.8.2)\n",
            "Requirement already satisfied: pytz>=2020.1 in /usr/local/lib/python3.10/dist-packages (from pandas->dmba) (2023.3.post1)\n",
            "Requirement already satisfied: joblib>=1.1.1 in /usr/local/lib/python3.10/dist-packages (from scikit-learn->dmba) (1.3.2)\n",
            "Requirement already satisfied: threadpoolctl>=2.0.0 in /usr/local/lib/python3.10/dist-packages (from scikit-learn->dmba) (3.2.0)\n",
            "Requirement already satisfied: six>=1.5 in /usr/local/lib/python3.10/dist-packages (from python-dateutil>=2.7->matplotlib->dmba) (1.16.0)\n"
          ]
        }
      ],
      "source": [
        "pip install dmba"
      ]
    },
    {
      "cell_type": "code",
      "execution_count": 4,
      "metadata": {
        "id": "maf_tA-HYdvc",
        "outputId": "39187d82-ec30-4a0d-de19-35d9433ff33c",
        "colab": {
          "base_uri": "https://localhost:8080/"
        }
      },
      "outputs": [
        {
          "output_type": "stream",
          "name": "stdout",
          "text": [
            "Colab environment detected.\n"
          ]
        }
      ],
      "source": [
        "from pathlib import Path\n",
        "\n",
        "import pandas as pd\n",
        "from sklearn import preprocessing\n",
        "from sklearn.model_selection import train_test_split\n",
        "from sklearn.metrics import accuracy_score\n",
        "from sklearn.neighbors import NearestNeighbors, KNeighborsClassifier\n",
        "import matplotlib.pylab as plt\n",
        "\n",
        "import dmba\n",
        "\n",
        "%matplotlib inline"
      ]
    },
    {
      "cell_type": "markdown",
      "metadata": {
        "id": "UOQk3CAGYdvd"
      },
      "source": [
        "## Table 7.1"
      ]
    },
    {
      "cell_type": "code",
      "execution_count": 5,
      "metadata": {
        "id": "Ch7qNtiwYdvd",
        "colab": {
          "base_uri": "https://localhost:8080/",
          "height": 362
        },
        "outputId": "8ecf8502-8ad3-4274-f5d4-07936745ab64"
      },
      "outputs": [
        {
          "output_type": "execute_result",
          "data": {
            "text/plain": [
              "   Income  Lot_Size Ownership  Number\n",
              "0    60.0      18.4     Owner       1\n",
              "1    85.5      16.8     Owner       2\n",
              "2    64.8      21.6     Owner       3\n",
              "3    61.5      20.8     Owner       4\n",
              "4    87.0      23.6     Owner       5\n",
              "5   110.1      19.2     Owner       6\n",
              "6   108.0      17.6     Owner       7\n",
              "7    82.8      22.4     Owner       8\n",
              "8    69.0      20.0     Owner       9\n",
              "9    93.0      20.8     Owner      10"
            ],
            "text/html": [
              "\n",
              "  <div id=\"df-b5e158ca-5366-4205-be03-7c82e11b3c04\" class=\"colab-df-container\">\n",
              "    <div>\n",
              "<style scoped>\n",
              "    .dataframe tbody tr th:only-of-type {\n",
              "        vertical-align: middle;\n",
              "    }\n",
              "\n",
              "    .dataframe tbody tr th {\n",
              "        vertical-align: top;\n",
              "    }\n",
              "\n",
              "    .dataframe thead th {\n",
              "        text-align: right;\n",
              "    }\n",
              "</style>\n",
              "<table border=\"1\" class=\"dataframe\">\n",
              "  <thead>\n",
              "    <tr style=\"text-align: right;\">\n",
              "      <th></th>\n",
              "      <th>Income</th>\n",
              "      <th>Lot_Size</th>\n",
              "      <th>Ownership</th>\n",
              "      <th>Number</th>\n",
              "    </tr>\n",
              "  </thead>\n",
              "  <tbody>\n",
              "    <tr>\n",
              "      <th>0</th>\n",
              "      <td>60.0</td>\n",
              "      <td>18.4</td>\n",
              "      <td>Owner</td>\n",
              "      <td>1</td>\n",
              "    </tr>\n",
              "    <tr>\n",
              "      <th>1</th>\n",
              "      <td>85.5</td>\n",
              "      <td>16.8</td>\n",
              "      <td>Owner</td>\n",
              "      <td>2</td>\n",
              "    </tr>\n",
              "    <tr>\n",
              "      <th>2</th>\n",
              "      <td>64.8</td>\n",
              "      <td>21.6</td>\n",
              "      <td>Owner</td>\n",
              "      <td>3</td>\n",
              "    </tr>\n",
              "    <tr>\n",
              "      <th>3</th>\n",
              "      <td>61.5</td>\n",
              "      <td>20.8</td>\n",
              "      <td>Owner</td>\n",
              "      <td>4</td>\n",
              "    </tr>\n",
              "    <tr>\n",
              "      <th>4</th>\n",
              "      <td>87.0</td>\n",
              "      <td>23.6</td>\n",
              "      <td>Owner</td>\n",
              "      <td>5</td>\n",
              "    </tr>\n",
              "    <tr>\n",
              "      <th>5</th>\n",
              "      <td>110.1</td>\n",
              "      <td>19.2</td>\n",
              "      <td>Owner</td>\n",
              "      <td>6</td>\n",
              "    </tr>\n",
              "    <tr>\n",
              "      <th>6</th>\n",
              "      <td>108.0</td>\n",
              "      <td>17.6</td>\n",
              "      <td>Owner</td>\n",
              "      <td>7</td>\n",
              "    </tr>\n",
              "    <tr>\n",
              "      <th>7</th>\n",
              "      <td>82.8</td>\n",
              "      <td>22.4</td>\n",
              "      <td>Owner</td>\n",
              "      <td>8</td>\n",
              "    </tr>\n",
              "    <tr>\n",
              "      <th>8</th>\n",
              "      <td>69.0</td>\n",
              "      <td>20.0</td>\n",
              "      <td>Owner</td>\n",
              "      <td>9</td>\n",
              "    </tr>\n",
              "    <tr>\n",
              "      <th>9</th>\n",
              "      <td>93.0</td>\n",
              "      <td>20.8</td>\n",
              "      <td>Owner</td>\n",
              "      <td>10</td>\n",
              "    </tr>\n",
              "  </tbody>\n",
              "</table>\n",
              "</div>\n",
              "    <div class=\"colab-df-buttons\">\n",
              "\n",
              "  <div class=\"colab-df-container\">\n",
              "    <button class=\"colab-df-convert\" onclick=\"convertToInteractive('df-b5e158ca-5366-4205-be03-7c82e11b3c04')\"\n",
              "            title=\"Convert this dataframe to an interactive table.\"\n",
              "            style=\"display:none;\">\n",
              "\n",
              "  <svg xmlns=\"http://www.w3.org/2000/svg\" height=\"24px\" viewBox=\"0 -960 960 960\">\n",
              "    <path d=\"M120-120v-720h720v720H120Zm60-500h600v-160H180v160Zm220 220h160v-160H400v160Zm0 220h160v-160H400v160ZM180-400h160v-160H180v160Zm440 0h160v-160H620v160ZM180-180h160v-160H180v160Zm440 0h160v-160H620v160Z\"/>\n",
              "  </svg>\n",
              "    </button>\n",
              "\n",
              "  <style>\n",
              "    .colab-df-container {\n",
              "      display:flex;\n",
              "      gap: 12px;\n",
              "    }\n",
              "\n",
              "    .colab-df-convert {\n",
              "      background-color: #E8F0FE;\n",
              "      border: none;\n",
              "      border-radius: 50%;\n",
              "      cursor: pointer;\n",
              "      display: none;\n",
              "      fill: #1967D2;\n",
              "      height: 32px;\n",
              "      padding: 0 0 0 0;\n",
              "      width: 32px;\n",
              "    }\n",
              "\n",
              "    .colab-df-convert:hover {\n",
              "      background-color: #E2EBFA;\n",
              "      box-shadow: 0px 1px 2px rgba(60, 64, 67, 0.3), 0px 1px 3px 1px rgba(60, 64, 67, 0.15);\n",
              "      fill: #174EA6;\n",
              "    }\n",
              "\n",
              "    .colab-df-buttons div {\n",
              "      margin-bottom: 4px;\n",
              "    }\n",
              "\n",
              "    [theme=dark] .colab-df-convert {\n",
              "      background-color: #3B4455;\n",
              "      fill: #D2E3FC;\n",
              "    }\n",
              "\n",
              "    [theme=dark] .colab-df-convert:hover {\n",
              "      background-color: #434B5C;\n",
              "      box-shadow: 0px 1px 3px 1px rgba(0, 0, 0, 0.15);\n",
              "      filter: drop-shadow(0px 1px 2px rgba(0, 0, 0, 0.3));\n",
              "      fill: #FFFFFF;\n",
              "    }\n",
              "  </style>\n",
              "\n",
              "    <script>\n",
              "      const buttonEl =\n",
              "        document.querySelector('#df-b5e158ca-5366-4205-be03-7c82e11b3c04 button.colab-df-convert');\n",
              "      buttonEl.style.display =\n",
              "        google.colab.kernel.accessAllowed ? 'block' : 'none';\n",
              "\n",
              "      async function convertToInteractive(key) {\n",
              "        const element = document.querySelector('#df-b5e158ca-5366-4205-be03-7c82e11b3c04');\n",
              "        const dataTable =\n",
              "          await google.colab.kernel.invokeFunction('convertToInteractive',\n",
              "                                                    [key], {});\n",
              "        if (!dataTable) return;\n",
              "\n",
              "        const docLinkHtml = 'Like what you see? Visit the ' +\n",
              "          '<a target=\"_blank\" href=https://colab.research.google.com/notebooks/data_table.ipynb>data table notebook</a>'\n",
              "          + ' to learn more about interactive tables.';\n",
              "        element.innerHTML = '';\n",
              "        dataTable['output_type'] = 'display_data';\n",
              "        await google.colab.output.renderOutput(dataTable, element);\n",
              "        const docLink = document.createElement('div');\n",
              "        docLink.innerHTML = docLinkHtml;\n",
              "        element.appendChild(docLink);\n",
              "      }\n",
              "    </script>\n",
              "  </div>\n",
              "\n",
              "\n",
              "<div id=\"df-4f8bec49-e7b4-434b-8506-1072293a583c\">\n",
              "  <button class=\"colab-df-quickchart\" onclick=\"quickchart('df-4f8bec49-e7b4-434b-8506-1072293a583c')\"\n",
              "            title=\"Suggest charts.\"\n",
              "            style=\"display:none;\">\n",
              "\n",
              "<svg xmlns=\"http://www.w3.org/2000/svg\" height=\"24px\"viewBox=\"0 0 24 24\"\n",
              "     width=\"24px\">\n",
              "    <g>\n",
              "        <path d=\"M19 3H5c-1.1 0-2 .9-2 2v14c0 1.1.9 2 2 2h14c1.1 0 2-.9 2-2V5c0-1.1-.9-2-2-2zM9 17H7v-7h2v7zm4 0h-2V7h2v10zm4 0h-2v-4h2v4z\"/>\n",
              "    </g>\n",
              "</svg>\n",
              "  </button>\n",
              "\n",
              "<style>\n",
              "  .colab-df-quickchart {\n",
              "      --bg-color: #E8F0FE;\n",
              "      --fill-color: #1967D2;\n",
              "      --hover-bg-color: #E2EBFA;\n",
              "      --hover-fill-color: #174EA6;\n",
              "      --disabled-fill-color: #AAA;\n",
              "      --disabled-bg-color: #DDD;\n",
              "  }\n",
              "\n",
              "  [theme=dark] .colab-df-quickchart {\n",
              "      --bg-color: #3B4455;\n",
              "      --fill-color: #D2E3FC;\n",
              "      --hover-bg-color: #434B5C;\n",
              "      --hover-fill-color: #FFFFFF;\n",
              "      --disabled-bg-color: #3B4455;\n",
              "      --disabled-fill-color: #666;\n",
              "  }\n",
              "\n",
              "  .colab-df-quickchart {\n",
              "    background-color: var(--bg-color);\n",
              "    border: none;\n",
              "    border-radius: 50%;\n",
              "    cursor: pointer;\n",
              "    display: none;\n",
              "    fill: var(--fill-color);\n",
              "    height: 32px;\n",
              "    padding: 0;\n",
              "    width: 32px;\n",
              "  }\n",
              "\n",
              "  .colab-df-quickchart:hover {\n",
              "    background-color: var(--hover-bg-color);\n",
              "    box-shadow: 0 1px 2px rgba(60, 64, 67, 0.3), 0 1px 3px 1px rgba(60, 64, 67, 0.15);\n",
              "    fill: var(--button-hover-fill-color);\n",
              "  }\n",
              "\n",
              "  .colab-df-quickchart-complete:disabled,\n",
              "  .colab-df-quickchart-complete:disabled:hover {\n",
              "    background-color: var(--disabled-bg-color);\n",
              "    fill: var(--disabled-fill-color);\n",
              "    box-shadow: none;\n",
              "  }\n",
              "\n",
              "  .colab-df-spinner {\n",
              "    border: 2px solid var(--fill-color);\n",
              "    border-color: transparent;\n",
              "    border-bottom-color: var(--fill-color);\n",
              "    animation:\n",
              "      spin 1s steps(1) infinite;\n",
              "  }\n",
              "\n",
              "  @keyframes spin {\n",
              "    0% {\n",
              "      border-color: transparent;\n",
              "      border-bottom-color: var(--fill-color);\n",
              "      border-left-color: var(--fill-color);\n",
              "    }\n",
              "    20% {\n",
              "      border-color: transparent;\n",
              "      border-left-color: var(--fill-color);\n",
              "      border-top-color: var(--fill-color);\n",
              "    }\n",
              "    30% {\n",
              "      border-color: transparent;\n",
              "      border-left-color: var(--fill-color);\n",
              "      border-top-color: var(--fill-color);\n",
              "      border-right-color: var(--fill-color);\n",
              "    }\n",
              "    40% {\n",
              "      border-color: transparent;\n",
              "      border-right-color: var(--fill-color);\n",
              "      border-top-color: var(--fill-color);\n",
              "    }\n",
              "    60% {\n",
              "      border-color: transparent;\n",
              "      border-right-color: var(--fill-color);\n",
              "    }\n",
              "    80% {\n",
              "      border-color: transparent;\n",
              "      border-right-color: var(--fill-color);\n",
              "      border-bottom-color: var(--fill-color);\n",
              "    }\n",
              "    90% {\n",
              "      border-color: transparent;\n",
              "      border-bottom-color: var(--fill-color);\n",
              "    }\n",
              "  }\n",
              "</style>\n",
              "\n",
              "  <script>\n",
              "    async function quickchart(key) {\n",
              "      const quickchartButtonEl =\n",
              "        document.querySelector('#' + key + ' button');\n",
              "      quickchartButtonEl.disabled = true;  // To prevent multiple clicks.\n",
              "      quickchartButtonEl.classList.add('colab-df-spinner');\n",
              "      try {\n",
              "        const charts = await google.colab.kernel.invokeFunction(\n",
              "            'suggestCharts', [key], {});\n",
              "      } catch (error) {\n",
              "        console.error('Error during call to suggestCharts:', error);\n",
              "      }\n",
              "      quickchartButtonEl.classList.remove('colab-df-spinner');\n",
              "      quickchartButtonEl.classList.add('colab-df-quickchart-complete');\n",
              "    }\n",
              "    (() => {\n",
              "      let quickchartButtonEl =\n",
              "        document.querySelector('#df-4f8bec49-e7b4-434b-8506-1072293a583c button');\n",
              "      quickchartButtonEl.style.display =\n",
              "        google.colab.kernel.accessAllowed ? 'block' : 'none';\n",
              "    })();\n",
              "  </script>\n",
              "</div>\n",
              "    </div>\n",
              "  </div>\n"
            ]
          },
          "metadata": {},
          "execution_count": 5
        }
      ],
      "source": [
        "mower_df = dmba.load_data('RidingMowers.csv')\n",
        "mower_df['Number'] = mower_df.index + 1\n",
        "mower_df.head(10)"
      ]
    },
    {
      "cell_type": "code",
      "execution_count": 6,
      "metadata": {
        "id": "zGd9WowwYdve",
        "colab": {
          "base_uri": "https://localhost:8080/",
          "height": 98
        },
        "outputId": "8512bf02-dd4c-4261-c5b9-0fc08d52ba9c"
      },
      "outputs": [
        {
          "output_type": "stream",
          "name": "stdout",
          "text": [
            "(14, 4) (10, 4)\n"
          ]
        },
        {
          "output_type": "execute_result",
          "data": {
            "text/plain": [
              "   Income  Lot_Size\n",
              "0      60        20"
            ],
            "text/html": [
              "\n",
              "  <div id=\"df-b76342de-54c6-42fe-bcf7-bbe9e97af2ca\" class=\"colab-df-container\">\n",
              "    <div>\n",
              "<style scoped>\n",
              "    .dataframe tbody tr th:only-of-type {\n",
              "        vertical-align: middle;\n",
              "    }\n",
              "\n",
              "    .dataframe tbody tr th {\n",
              "        vertical-align: top;\n",
              "    }\n",
              "\n",
              "    .dataframe thead th {\n",
              "        text-align: right;\n",
              "    }\n",
              "</style>\n",
              "<table border=\"1\" class=\"dataframe\">\n",
              "  <thead>\n",
              "    <tr style=\"text-align: right;\">\n",
              "      <th></th>\n",
              "      <th>Income</th>\n",
              "      <th>Lot_Size</th>\n",
              "    </tr>\n",
              "  </thead>\n",
              "  <tbody>\n",
              "    <tr>\n",
              "      <th>0</th>\n",
              "      <td>60</td>\n",
              "      <td>20</td>\n",
              "    </tr>\n",
              "  </tbody>\n",
              "</table>\n",
              "</div>\n",
              "    <div class=\"colab-df-buttons\">\n",
              "\n",
              "  <div class=\"colab-df-container\">\n",
              "    <button class=\"colab-df-convert\" onclick=\"convertToInteractive('df-b76342de-54c6-42fe-bcf7-bbe9e97af2ca')\"\n",
              "            title=\"Convert this dataframe to an interactive table.\"\n",
              "            style=\"display:none;\">\n",
              "\n",
              "  <svg xmlns=\"http://www.w3.org/2000/svg\" height=\"24px\" viewBox=\"0 -960 960 960\">\n",
              "    <path d=\"M120-120v-720h720v720H120Zm60-500h600v-160H180v160Zm220 220h160v-160H400v160Zm0 220h160v-160H400v160ZM180-400h160v-160H180v160Zm440 0h160v-160H620v160ZM180-180h160v-160H180v160Zm440 0h160v-160H620v160Z\"/>\n",
              "  </svg>\n",
              "    </button>\n",
              "\n",
              "  <style>\n",
              "    .colab-df-container {\n",
              "      display:flex;\n",
              "      gap: 12px;\n",
              "    }\n",
              "\n",
              "    .colab-df-convert {\n",
              "      background-color: #E8F0FE;\n",
              "      border: none;\n",
              "      border-radius: 50%;\n",
              "      cursor: pointer;\n",
              "      display: none;\n",
              "      fill: #1967D2;\n",
              "      height: 32px;\n",
              "      padding: 0 0 0 0;\n",
              "      width: 32px;\n",
              "    }\n",
              "\n",
              "    .colab-df-convert:hover {\n",
              "      background-color: #E2EBFA;\n",
              "      box-shadow: 0px 1px 2px rgba(60, 64, 67, 0.3), 0px 1px 3px 1px rgba(60, 64, 67, 0.15);\n",
              "      fill: #174EA6;\n",
              "    }\n",
              "\n",
              "    .colab-df-buttons div {\n",
              "      margin-bottom: 4px;\n",
              "    }\n",
              "\n",
              "    [theme=dark] .colab-df-convert {\n",
              "      background-color: #3B4455;\n",
              "      fill: #D2E3FC;\n",
              "    }\n",
              "\n",
              "    [theme=dark] .colab-df-convert:hover {\n",
              "      background-color: #434B5C;\n",
              "      box-shadow: 0px 1px 3px 1px rgba(0, 0, 0, 0.15);\n",
              "      filter: drop-shadow(0px 1px 2px rgba(0, 0, 0, 0.3));\n",
              "      fill: #FFFFFF;\n",
              "    }\n",
              "  </style>\n",
              "\n",
              "    <script>\n",
              "      const buttonEl =\n",
              "        document.querySelector('#df-b76342de-54c6-42fe-bcf7-bbe9e97af2ca button.colab-df-convert');\n",
              "      buttonEl.style.display =\n",
              "        google.colab.kernel.accessAllowed ? 'block' : 'none';\n",
              "\n",
              "      async function convertToInteractive(key) {\n",
              "        const element = document.querySelector('#df-b76342de-54c6-42fe-bcf7-bbe9e97af2ca');\n",
              "        const dataTable =\n",
              "          await google.colab.kernel.invokeFunction('convertToInteractive',\n",
              "                                                    [key], {});\n",
              "        if (!dataTable) return;\n",
              "\n",
              "        const docLinkHtml = 'Like what you see? Visit the ' +\n",
              "          '<a target=\"_blank\" href=https://colab.research.google.com/notebooks/data_table.ipynb>data table notebook</a>'\n",
              "          + ' to learn more about interactive tables.';\n",
              "        element.innerHTML = '';\n",
              "        dataTable['output_type'] = 'display_data';\n",
              "        await google.colab.output.renderOutput(dataTable, element);\n",
              "        const docLink = document.createElement('div');\n",
              "        docLink.innerHTML = docLinkHtml;\n",
              "        element.appendChild(docLink);\n",
              "      }\n",
              "    </script>\n",
              "  </div>\n",
              "\n",
              "    </div>\n",
              "  </div>\n"
            ]
          },
          "metadata": {},
          "execution_count": 6
        }
      ],
      "source": [
        "trainData, validData = train_test_split(mower_df, test_size=0.4, random_state=26)\n",
        "print(trainData.shape, validData.shape)\n",
        "newHousehold = pd.DataFrame([{'Income': 60, 'Lot_Size': 20}])\n",
        "newHousehold"
      ]
    },
    {
      "cell_type": "markdown",
      "metadata": {
        "id": "JXSN737FYdve"
      },
      "source": [
        "Scatter plot"
      ]
    },
    {
      "cell_type": "code",
      "execution_count": 7,
      "metadata": {
        "id": "QhDbWzbCYdvf",
        "colab": {
          "base_uri": "https://localhost:8080/",
          "height": 452
        },
        "outputId": "335c2e19-73d9-4ebe-81de-fd2a4f2becfb"
      },
      "outputs": [
        {
          "output_type": "display_data",
          "data": {
            "text/plain": [
              "<Figure size 640x480 with 1 Axes>"
            ],
            "image/png": "[encoded data removed]"
          },
          "metadata": {}
        }
      ],
      "source": [
        "fig, ax = plt.subplots()\n",
        "\n",
        "subset = trainData.loc[trainData['Ownership']=='Owner']\n",
        "ax.scatter(subset.Income, subset.Lot_Size, marker='o', label='Owner', color='C1')\n",
        "\n",
        "subset = trainData.loc[trainData['Ownership']=='Nonowner']\n",
        "ax.scatter(subset.Income, subset.Lot_Size, marker='D', label='Nonowner', color='C0')\n",
        "\n",
        "ax.scatter(newHousehold.Income, newHousehold.Lot_Size, marker='*', label='New household', color='black', s=150)\n",
        "\n",
        "plt.xlabel('Income')  # set x-axis label\n",
        "plt.ylabel('Lot_Size')  # set y-axis label\n",
        "for _, row in trainData.iterrows():\n",
        "    ax.annotate(row.Number, (row.Income + 2, row.Lot_Size))\n",
        "\n",
        "handles, labels = ax.get_legend_handles_labels()\n",
        "ax.set_xlim(40, 115)\n",
        "ax.legend(handles, labels, loc=4)\n",
        "\n",
        "plt.show()"
      ]
    },
    {
      "cell_type": "code",
      "execution_count": 8,
      "metadata": {
        "id": "ss7uvPoRYdvf",
        "colab": {
          "base_uri": "https://localhost:8080/",
          "height": 452
        },
        "outputId": "ae8ce72b-0f53-4d83-d028-aa2a902786b9"
      },
      "outputs": [
        {
          "output_type": "display_data",
          "data": {
            "text/plain": [
              "<Figure size 640x480 with 1 Axes>"
            ],
            "image/png": "[encoded data removed]"
          },
          "metadata": {}
        }
      ],
      "source": [
        "def plotDataset(ax, data, showLabel=True, **kwargs):\n",
        "    subset = data.loc[data['Ownership']=='Owner']\n",
        "    ax.scatter(subset.Income, subset.Lot_Size, marker='o', label='Owner' if showLabel else None, color='C1', **kwargs)\n",
        "\n",
        "    subset = data.loc[data['Ownership']=='Nonowner']\n",
        "    ax.scatter(subset.Income, subset.Lot_Size, marker='D', label='Nonowner' if showLabel else None, color='C0', **kwargs)\n",
        "\n",
        "    plt.xlabel('Income')  # set x-axis label\n",
        "    plt.ylabel('Lot_Size')  # set y-axis label\n",
        "    for _, row in data.iterrows():\n",
        "        ax.annotate(row.Number, (row.Income + 2, row.Lot_Size))\n",
        "\n",
        "fig, ax = plt.subplots()\n",
        "\n",
        "plotDataset(ax, trainData)\n",
        "plotDataset(ax, validData, showLabel=False, facecolors='none')\n",
        "\n",
        "ax.scatter(newHousehold.Income, newHousehold.Lot_Size, marker='*', label='New household', color='black', s=150)\n",
        "\n",
        "plt.xlabel('Income')  # set x-axis label\n",
        "plt.ylabel('Lot_Size')  # set y-axis label\n",
        "\n",
        "handles, labels = ax.get_legend_handles_labels()\n",
        "ax.set_xlim(40, 115)\n",
        "ax.legend(handles, labels, loc=4)\n",
        "\n",
        "plt.show()"
      ]
    },
    {
      "cell_type": "markdown",
      "metadata": {
        "id": "yNoHK3QRYdvg"
      },
      "source": [
        "## Table 7.2\n",
        "Initialize normalized training, validation, and complete data frames. Use the training data to learn the transformation."
      ]
    },
    {
      "cell_type": "code",
      "execution_count": 9,
      "metadata": {
        "id": "njBoD6zbYdvg"
      },
      "outputs": [],
      "source": [
        "scaler = preprocessing.StandardScaler()\n",
        "scaler.fit(trainData[['Income', 'Lot_Size']])  # Note the use of an array of column names\n",
        "\n",
        "# Transform the full dataset\n",
        "mowerNorm = pd.concat([pd.DataFrame(scaler.transform(mower_df[['Income', 'Lot_Size']]),\n",
        "                                    columns=['zIncome', 'zLot_Size']),\n",
        "                       mower_df[['Ownership', 'Number']]], axis=1)\n",
        "trainNorm = mowerNorm.iloc[trainData.index]\n",
        "validNorm = mowerNorm.iloc[validData.index]\n",
        "newHouseholdNorm = pd.DataFrame(scaler.transform(newHousehold), columns=['zIncome', 'zLot_Size'])"
      ]
    },
    {
      "cell_type": "markdown",
      "metadata": {
        "id": "Aka5wmQ4Ydvg"
      },
      "source": [
        "Use k-nearest neighbour"
      ]
    },
    {
      "cell_type": "code",
      "execution_count": 10,
      "metadata": {
        "id": "8Q3lOVeuYdvh",
        "colab": {
          "base_uri": "https://localhost:8080/"
        },
        "outputId": "5ba96a41-6c18-4b4e-d1bb-b7db2e253027"
      },
      "outputs": [
        {
          "output_type": "stream",
          "name": "stdout",
          "text": [
            "     zIncome  zLot_Size Ownership  Number\n",
            "3  -0.409776   0.743358     Owner       4\n",
            "13 -0.804953   0.743358  Nonowner      14\n",
            "0  -0.477910  -0.174908     Owner       1\n"
          ]
        }
      ],
      "source": [
        "knn = NearestNeighbors(n_neighbors=3)\n",
        "knn.fit(trainNorm[['zIncome', 'zLot_Size']])\n",
        "distances, indices = knn.kneighbors(newHouseholdNorm)\n",
        "print(trainNorm.iloc[indices[0], :])  # indices is a list of lists, we are only interested in the first element"
      ]
    },
    {
      "cell_type": "markdown",
      "metadata": {
        "id": "iEw0aWcaYdvh"
      },
      "source": [
        "## Table 7.3\n",
        "Initialize a data frame with two columns: `k` and `accuracy`"
      ]
    },
    {
      "cell_type": "code",
      "execution_count": 11,
      "metadata": {
        "id": "3hvKAexfYdvh",
        "colab": {
          "base_uri": "https://localhost:8080/"
        },
        "outputId": "cef7e87d-a30c-4f86-818d-ecc8f56e7a59"
      },
      "outputs": [
        {
          "output_type": "stream",
          "name": "stdout",
          "text": [
            "     k  accuracy\n",
            "0    1       0.6\n",
            "1    2       0.7\n",
            "2    3       0.8\n",
            "3    4       0.9\n",
            "4    5       0.7\n",
            "5    6       0.9\n",
            "6    7       0.9\n",
            "7    8       0.9\n",
            "8    9       0.9\n",
            "9   10       0.8\n",
            "10  11       0.8\n",
            "11  12       0.9\n",
            "12  13       0.4\n",
            "13  14       0.4\n"
          ]
        }
      ],
      "source": [
        "train_X = trainNorm[['zIncome', 'zLot_Size']]\n",
        "train_y = trainNorm['Ownership']\n",
        "valid_X = validNorm[['zIncome', 'zLot_Size']]\n",
        "valid_y = validNorm['Ownership']\n",
        "\n",
        "# Train a classifier for different values of k\n",
        "results = []\n",
        "for k in range(1, 15):\n",
        "    knn = KNeighborsClassifier(n_neighbors=k).fit(train_X, train_y)\n",
        "    results.append({\n",
        "        'k': k,\n",
        "        'accuracy': accuracy_score(valid_y, knn.predict(valid_X))\n",
        "    })\n",
        "\n",
        "# Convert results to a pandas data frame\n",
        "results = pd.DataFrame(results)\n",
        "print(results)"
      ]
    },
    {
      "cell_type": "markdown",
      "metadata": {
        "id": "mW2C2KAdYdvi"
      },
      "source": [
        "## Table 7.4"
      ]
    },
    {
      "cell_type": "code",
      "execution_count": 12,
      "metadata": {
        "id": "IZbn_C6YYdvi",
        "colab": {
          "base_uri": "https://localhost:8080/"
        },
        "outputId": "d9bd55cc-b141-49ef-917b-4145a371ed50"
      },
      "outputs": [
        {
          "output_type": "stream",
          "name": "stdout",
          "text": [
            "['Owner']\n",
            "Distances [[0.31358009 0.40880312 0.44793643 0.61217726]]\n",
            "Indices [[ 3  8 13  0]]\n",
            "     zIncome  zLot_Size Ownership  Number\n",
            "3  -0.409776   0.743358     Owner       4\n",
            "8  -0.069107   0.437269     Owner       9\n",
            "13 -0.804953   0.743358  Nonowner      14\n",
            "0  -0.477910  -0.174908     Owner       1\n"
          ]
        }
      ],
      "source": [
        "# Retrain with full dataset\n",
        "mower_X = mowerNorm[['zIncome', 'zLot_Size']]\n",
        "mower_y = mowerNorm['Ownership']\n",
        "knn = KNeighborsClassifier(n_neighbors=4).fit(mower_X, mower_y)\n",
        "distances, indices = knn.kneighbors(newHouseholdNorm)\n",
        "print(knn.predict(newHouseholdNorm))\n",
        "print('Distances',distances)\n",
        "print('Indices', indices)\n",
        "print(mowerNorm.iloc[indices[0], :])"
      ]
    },
    {
      "cell_type": "code",
      "execution_count": 13,
      "metadata": {
        "id": "XhO31zkDYdvi"
      },
      "outputs": [],
      "source": [
        "# ADTA 5230 Module 4, Chapter 7 Class Exercises"
      ]
    }
  ],
  "metadata": {
    "kernelspec": {
      "display_name": "Python 3 (ipykernel)",
      "language": "python",
      "name": "python3"
    },
    "language_info": {
      "codemirror_mode": {
        "name": "ipython",
        "version": 3
      },
      "file_extension": ".py",
      "mimetype": "text/x-python",
      "name": "python",
      "nbconvert_exporter": "python",
      "pygments_lexer": "ipython3",
      "version": "3.9.13"
    },
    "colab": {
      "provenance": []
    }
  },
  "nbformat": 4,
  "nbformat_minor": 0
}