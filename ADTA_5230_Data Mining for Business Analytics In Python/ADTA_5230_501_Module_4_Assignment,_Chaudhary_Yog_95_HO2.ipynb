{
  "nbformat": 4,
  "nbformat_minor": 0,
  "metadata": {
    "colab": {
      "provenance": []
    },
    "kernelspec": {
      "name": "python3",
      "display_name": "Python 3"
    },
    "language_info": {
      "name": "python"
    }
  },
  "cells": [
    {
      "cell_type": "code",
      "source": [
        "#YC95\n",
        "# HO2"
      ],
      "metadata": {
        "id": "4pyPU-MyVq1V"
      },
      "execution_count": 1,
      "outputs": []
    },
    {
      "cell_type": "markdown",
      "source": [
        "QN 7.1\n",
        "\n",
        "Calculating Distance with Categorical Predictors. This exercise with a tiny\n",
        "dataset illustrates the calculation of Euclidean distance, and the creation of binary\n",
        "dummies. The online education company Statistics.com segments its customers and\n",
        "prospects into three main categories: IT professionals (IT), statisticians (Stat), and other\n",
        "(Other). It also tracks, for each customer, the number of years since first contact\n",
        "(years). Consider the following customers; information about whether they have taken\n",
        "\n",
        "a course or not (the outcome to be predicted) is included:\n",
        "\n",
        "Customer 1: Stat, 1 year, did not take course\n",
        "\n",
        "Customer 2: Other, 1.1 year, took course\n",
        "\n",
        "\n",
        "a. Consider now the following new prospect:\n",
        "\n",
        "Prospect 1: IT, 1 year\n",
        "\n",
        "Using the above information on the two customers and one prospect, create one\n",
        "\n",
        "dataset for all three with the categorical predictor variable transformed into 2 binaries,\n",
        "\n",
        "and a similar dataset with the categorical predictor variable transformed into 3\n",
        "binaries."
      ],
      "metadata": {
        "id": "UXlsx51a2lID"
      }
    },
    {
      "cell_type": "code",
      "source": [
        "import pandas as pd\n",
        "import numpy as np\n",
        "from sklearn.neighbors import KNeighborsClassifier"
      ],
      "metadata": {
        "id": "xg-QUEyB62jk"
      },
      "execution_count": 2,
      "outputs": []
    },
    {
      "cell_type": "code",
      "source": [
        "# a. Creating the datasets\n",
        "# Dataset with customers and prospect\n",
        "data = {\n",
        "    'Profession': ['Stat', 'Other', 'IT'],\n",
        "    'Years': [1, 1.1, 1],\n",
        "    'TookCourse': [0, 1, None]  # None for the prospect as we don't know if they took the course\n",
        "}"
      ],
      "metadata": {
        "id": "Gh95RuVHClM6"
      },
      "execution_count": 3,
      "outputs": []
    },
    {
      "cell_type": "code",
      "source": [
        "df = pd.DataFrame(data)"
      ],
      "metadata": {
        "id": "HwGWdIeMCnaT"
      },
      "execution_count": 4,
      "outputs": []
    },
    {
      "cell_type": "code",
      "source": [
        "df"
      ],
      "metadata": {
        "colab": {
          "base_uri": "https://localhost:8080/",
          "height": 143
        },
        "id": "1YEEENgMCqDr",
        "outputId": "78c955b6-4531-4408-ea32-d7fa0b1c203a"
      },
      "execution_count": 5,
      "outputs": [
        {
          "output_type": "execute_result",
          "data": {
            "text/plain": [
              "  Profession  Years  TookCourse\n",
              "0       Stat    1.0         0.0\n",
              "1      Other    1.1         1.0\n",
              "2         IT    1.0         NaN"
            ],
            "text/html": [
              "\n",
              "  <div id=\"df-54e79859-7c79-4a86-ab43-82420e617c32\" class=\"colab-df-container\">\n",
              "    <div>\n",
              "<style scoped>\n",
              "    .dataframe tbody tr th:only-of-type {\n",
              "        vertical-align: middle;\n",
              "    }\n",
              "\n",
              "    .dataframe tbody tr th {\n",
              "        vertical-align: top;\n",
              "    }\n",
              "\n",
              "    .dataframe thead th {\n",
              "        text-align: right;\n",
              "    }\n",
              "</style>\n",
              "<table border=\"1\" class=\"dataframe\">\n",
              "  <thead>\n",
              "    <tr style=\"text-align: right;\">\n",
              "      <th></th>\n",
              "      <th>Profession</th>\n",
              "      <th>Years</th>\n",
              "      <th>TookCourse</th>\n",
              "    </tr>\n",
              "  </thead>\n",
              "  <tbody>\n",
              "    <tr>\n",
              "      <th>0</th>\n",
              "      <td>Stat</td>\n",
              "      <td>1.0</td>\n",
              "      <td>0.0</td>\n",
              "    </tr>\n",
              "    <tr>\n",
              "      <th>1</th>\n",
              "      <td>Other</td>\n",
              "      <td>1.1</td>\n",
              "      <td>1.0</td>\n",
              "    </tr>\n",
              "    <tr>\n",
              "      <th>2</th>\n",
              "      <td>IT</td>\n",
              "      <td>1.0</td>\n",
              "      <td>NaN</td>\n",
              "    </tr>\n",
              "  </tbody>\n",
              "</table>\n",
              "</div>\n",
              "    <div class=\"colab-df-buttons\">\n",
              "\n",
              "  <div class=\"colab-df-container\">\n",
              "    <button class=\"colab-df-convert\" onclick=\"convertToInteractive('df-54e79859-7c79-4a86-ab43-82420e617c32')\"\n",
              "            title=\"Convert this dataframe to an interactive table.\"\n",
              "            style=\"display:none;\">\n",
              "\n",
              "  <svg xmlns=\"http://www.w3.org/2000/svg\" height=\"24px\" viewBox=\"0 -960 960 960\">\n",
              "    <path d=\"M120-120v-720h720v720H120Zm60-500h600v-160H180v160Zm220 220h160v-160H400v160Zm0 220h160v-160H400v160ZM180-400h160v-160H180v160Zm440 0h160v-160H620v160ZM180-180h160v-160H180v160Zm440 0h160v-160H620v160Z\"/>\n",
              "  </svg>\n",
              "    </button>\n",
              "\n",
              "  <style>\n",
              "    .colab-df-container {\n",
              "      display:flex;\n",
              "      gap: 12px;\n",
              "    }\n",
              "\n",
              "    .colab-df-convert {\n",
              "      background-color: #E8F0FE;\n",
              "      border: none;\n",
              "      border-radius: 50%;\n",
              "      cursor: pointer;\n",
              "      display: none;\n",
              "      fill: #1967D2;\n",
              "      height: 32px;\n",
              "      padding: 0 0 0 0;\n",
              "      width: 32px;\n",
              "    }\n",
              "\n",
              "    .colab-df-convert:hover {\n",
              "      background-color: #E2EBFA;\n",
              "      box-shadow: 0px 1px 2px rgba(60, 64, 67, 0.3), 0px 1px 3px 1px rgba(60, 64, 67, 0.15);\n",
              "      fill: #174EA6;\n",
              "    }\n",
              "\n",
              "    .colab-df-buttons div {\n",
              "      margin-bottom: 4px;\n",
              "    }\n",
              "\n",
              "    [theme=dark] .colab-df-convert {\n",
              "      background-color: #3B4455;\n",
              "      fill: #D2E3FC;\n",
              "    }\n",
              "\n",
              "    [theme=dark] .colab-df-convert:hover {\n",
              "      background-color: #434B5C;\n",
              "      box-shadow: 0px 1px 3px 1px rgba(0, 0, 0, 0.15);\n",
              "      filter: drop-shadow(0px 1px 2px rgba(0, 0, 0, 0.3));\n",
              "      fill: #FFFFFF;\n",
              "    }\n",
              "  </style>\n",
              "\n",
              "    <script>\n",
              "      const buttonEl =\n",
              "        document.querySelector('#df-54e79859-7c79-4a86-ab43-82420e617c32 button.colab-df-convert');\n",
              "      buttonEl.style.display =\n",
              "        google.colab.kernel.accessAllowed ? 'block' : 'none';\n",
              "\n",
              "      async function convertToInteractive(key) {\n",
              "        const element = document.querySelector('#df-54e79859-7c79-4a86-ab43-82420e617c32');\n",
              "        const dataTable =\n",
              "          await google.colab.kernel.invokeFunction('convertToInteractive',\n",
              "                                                    [key], {});\n",
              "        if (!dataTable) return;\n",
              "\n",
              "        const docLinkHtml = 'Like what you see? Visit the ' +\n",
              "          '<a target=\"_blank\" href=https://colab.research.google.com/notebooks/data_table.ipynb>data table notebook</a>'\n",
              "          + ' to learn more about interactive tables.';\n",
              "        element.innerHTML = '';\n",
              "        dataTable['output_type'] = 'display_data';\n",
              "        await google.colab.output.renderOutput(dataTable, element);\n",
              "        const docLink = document.createElement('div');\n",
              "        docLink.innerHTML = docLinkHtml;\n",
              "        element.appendChild(docLink);\n",
              "      }\n",
              "    </script>\n",
              "  </div>\n",
              "\n",
              "\n",
              "<div id=\"df-26180ffc-28b4-482d-9d90-f6f6acc8be27\">\n",
              "  <button class=\"colab-df-quickchart\" onclick=\"quickchart('df-26180ffc-28b4-482d-9d90-f6f6acc8be27')\"\n",
              "            title=\"Suggest charts.\"\n",
              "            style=\"display:none;\">\n",
              "\n",
              "<svg xmlns=\"http://www.w3.org/2000/svg\" height=\"24px\"viewBox=\"0 0 24 24\"\n",
              "     width=\"24px\">\n",
              "    <g>\n",
              "        <path d=\"M19 3H5c-1.1 0-2 .9-2 2v14c0 1.1.9 2 2 2h14c1.1 0 2-.9 2-2V5c0-1.1-.9-2-2-2zM9 17H7v-7h2v7zm4 0h-2V7h2v10zm4 0h-2v-4h2v4z\"/>\n",
              "    </g>\n",
              "</svg>\n",
              "  </button>\n",
              "\n",
              "<style>\n",
              "  .colab-df-quickchart {\n",
              "      --bg-color: #E8F0FE;\n",
              "      --fill-color: #1967D2;\n",
              "      --hover-bg-color: #E2EBFA;\n",
              "      --hover-fill-color: #174EA6;\n",
              "      --disabled-fill-color: #AAA;\n",
              "      --disabled-bg-color: #DDD;\n",
              "  }\n",
              "\n",
              "  [theme=dark] .colab-df-quickchart {\n",
              "      --bg-color: #3B4455;\n",
              "      --fill-color: #D2E3FC;\n",
              "      --hover-bg-color: #434B5C;\n",
              "      --hover-fill-color: #FFFFFF;\n",
              "      --disabled-bg-color: #3B4455;\n",
              "      --disabled-fill-color: #666;\n",
              "  }\n",
              "\n",
              "  .colab-df-quickchart {\n",
              "    background-color: var(--bg-color);\n",
              "    border: none;\n",
              "    border-radius: 50%;\n",
              "    cursor: pointer;\n",
              "    display: none;\n",
              "    fill: var(--fill-color);\n",
              "    height: 32px;\n",
              "    padding: 0;\n",
              "    width: 32px;\n",
              "  }\n",
              "\n",
              "  .colab-df-quickchart:hover {\n",
              "    background-color: var(--hover-bg-color);\n",
              "    box-shadow: 0 1px 2px rgba(60, 64, 67, 0.3), 0 1px 3px 1px rgba(60, 64, 67, 0.15);\n",
              "    fill: var(--button-hover-fill-color);\n",
              "  }\n",
              "\n",
              "  .colab-df-quickchart-complete:disabled,\n",
              "  .colab-df-quickchart-complete:disabled:hover {\n",
              "    background-color: var(--disabled-bg-color);\n",
              "    fill: var(--disabled-fill-color);\n",
              "    box-shadow: none;\n",
              "  }\n",
              "\n",
              "  .colab-df-spinner {\n",
              "    border: 2px solid var(--fill-color);\n",
              "    border-color: transparent;\n",
              "    border-bottom-color: var(--fill-color);\n",
              "    animation:\n",
              "      spin 1s steps(1) infinite;\n",
              "  }\n",
              "\n",
              "  @keyframes spin {\n",
              "    0% {\n",
              "      border-color: transparent;\n",
              "      border-bottom-color: var(--fill-color);\n",
              "      border-left-color: var(--fill-color);\n",
              "    }\n",
              "    20% {\n",
              "      border-color: transparent;\n",
              "      border-left-color: var(--fill-color);\n",
              "      border-top-color: var(--fill-color);\n",
              "    }\n",
              "    30% {\n",
              "      border-color: transparent;\n",
              "      border-left-color: var(--fill-color);\n",
              "      border-top-color: var(--fill-color);\n",
              "      border-right-color: var(--fill-color);\n",
              "    }\n",
              "    40% {\n",
              "      border-color: transparent;\n",
              "      border-right-color: var(--fill-color);\n",
              "      border-top-color: var(--fill-color);\n",
              "    }\n",
              "    60% {\n",
              "      border-color: transparent;\n",
              "      border-right-color: var(--fill-color);\n",
              "    }\n",
              "    80% {\n",
              "      border-color: transparent;\n",
              "      border-right-color: var(--fill-color);\n",
              "      border-bottom-color: var(--fill-color);\n",
              "    }\n",
              "    90% {\n",
              "      border-color: transparent;\n",
              "      border-bottom-color: var(--fill-color);\n",
              "    }\n",
              "  }\n",
              "</style>\n",
              "\n",
              "  <script>\n",
              "    async function quickchart(key) {\n",
              "      const quickchartButtonEl =\n",
              "        document.querySelector('#' + key + ' button');\n",
              "      quickchartButtonEl.disabled = true;  // To prevent multiple clicks.\n",
              "      quickchartButtonEl.classList.add('colab-df-spinner');\n",
              "      try {\n",
              "        const charts = await google.colab.kernel.invokeFunction(\n",
              "            'suggestCharts', [key], {});\n",
              "      } catch (error) {\n",
              "        console.error('Error during call to suggestCharts:', error);\n",
              "      }\n",
              "      quickchartButtonEl.classList.remove('colab-df-spinner');\n",
              "      quickchartButtonEl.classList.add('colab-df-quickchart-complete');\n",
              "    }\n",
              "    (() => {\n",
              "      let quickchartButtonEl =\n",
              "        document.querySelector('#df-26180ffc-28b4-482d-9d90-f6f6acc8be27 button');\n",
              "      quickchartButtonEl.style.display =\n",
              "        google.colab.kernel.accessAllowed ? 'block' : 'none';\n",
              "    })();\n",
              "  </script>\n",
              "</div>\n",
              "    </div>\n",
              "  </div>\n"
            ]
          },
          "metadata": {},
          "execution_count": 5
        }
      ]
    },
    {
      "cell_type": "code",
      "source": [
        "# Two binaries\n",
        "df['Is_Stat'] = (df['Profession'] == 'Stat').astype(int)\n",
        "df['Is_Other'] = (df['Profession'] == 'Other').astype(int)\n"
      ],
      "metadata": {
        "id": "-NWe15uSMm5Q"
      },
      "execution_count": 6,
      "outputs": []
    },
    {
      "cell_type": "code",
      "source": [
        "# Three binaries\n",
        "df['Is_IT'] = (df['Profession'] == 'IT').astype(int)\n"
      ],
      "metadata": {
        "id": "3zlU4yleMxb6"
      },
      "execution_count": 7,
      "outputs": []
    },
    {
      "cell_type": "code",
      "source": [
        "print(\"Dataset with 2 binaries:\\n\", df[['Is_Stat', 'Is_Other', 'Years']])\n",
        "print(\"\\nDataset with 3 binaries:\\n\", df[['Is_IT', 'Is_Stat', 'Is_Other', 'Years']])"
      ],
      "metadata": {
        "colab": {
          "base_uri": "https://localhost:8080/"
        },
        "id": "q90ryJAiMz0Q",
        "outputId": "c1dbcc1b-1385-4fae-df65-b95bc942dc8a"
      },
      "execution_count": 8,
      "outputs": [
        {
          "output_type": "stream",
          "name": "stdout",
          "text": [
            "Dataset with 2 binaries:\n",
            "    Is_Stat  Is_Other  Years\n",
            "0        1         0    1.0\n",
            "1        0         1    1.1\n",
            "2        0         0    1.0\n",
            "\n",
            "Dataset with 3 binaries:\n",
            "    Is_IT  Is_Stat  Is_Other  Years\n",
            "0      0        1         0    1.0\n",
            "1      0        0         1    1.1\n",
            "2      1        0         0    1.0\n"
          ]
        }
      ]
    },
    {
      "cell_type": "code",
      "source": [
        "# Transforming the 'Profession' categorical variable into binaries\n",
        "df_with_2_binaries = pd.get_dummies(df, columns=['Profession'], drop_first=True)  # Two binaries\n",
        "df_with_3_binaries = pd.get_dummies(df, columns=['Profession'])  # Three binaries"
      ],
      "metadata": {
        "id": "dWxhyt9sCqnZ"
      },
      "execution_count": 11,
      "outputs": []
    },
    {
      "cell_type": "code",
      "source": [
        "print(f\"Distances with 2 binaries: {distances_2_binaries}\")\n",
        "print(f\"Distances with 3 binaries: {distances_3_binaries}\")"
      ],
      "metadata": {
        "colab": {
          "base_uri": "https://localhost:8080/"
        },
        "id": "t1TXHSm9Gukq",
        "outputId": "95fc083d-c30d-464a-ffe2-9f14da6a634d"
      },
      "execution_count": 13,
      "outputs": [
        {
          "output_type": "stream",
          "name": "stdout",
          "text": [
            "Distances with 2 binaries: [(0, nan), (1, nan)]\n",
            "Distances with 3 binaries: [(0, nan), (1, nan)]\n"
          ]
        }
      ]
    },
    {
      "cell_type": "markdown",
      "source": [
        "b.\n",
        "\n",
        "For each derived dataset, calculate the Euclidean distance between the prospect and\n",
        "each of the other two customers.\n",
        "\n",
        "(Note: While it is typical to normalize data for k-\n",
        "NN, this is not an iron-clad rule and you may proceed here without normalization.)"
      ],
      "metadata": {
        "id": "9qRWYzzTEHXP"
      }
    },
    {
      "cell_type": "code",
      "source": [
        "# b. Calculating Euclidean distances\n",
        "def calculate_euclidean_distances(dataset, prospect_index):\n",
        "    prospect = dataset.iloc[prospect_index, :-1].to_numpy()  # excluding the 'TookCourse' column\n",
        "    distances = []\n",
        "    for i, row in dataset.iterrows():\n",
        "        if i != prospect_index:\n",
        "            customer = row[:-1].to_numpy()  # excluding the 'TookCourse' column\n",
        "            distance = np.linalg.norm(customer - prospect)\n",
        "            distances.append((i, distance))\n",
        "    return distances"
      ],
      "metadata": {
        "id": "TJ4exBMdEMMz"
      },
      "execution_count": 9,
      "outputs": []
    },
    {
      "cell_type": "code",
      "source": [
        "distances_2_binaries = calculate_euclidean_distances(df_with_2_binaries, 2)\n",
        "distances_3_binaries = calculate_euclidean_distances(df_with_3_binaries, 2)\n"
      ],
      "metadata": {
        "id": "oZdlSS0xERQK"
      },
      "execution_count": 12,
      "outputs": []
    },
    {
      "cell_type": "code",
      "source": [
        "print(\"Distances with 2 binaries:\", distances_2_binaries)\n",
        "print(\"Distances with 3 binaries:\", distances_3_binaries)"
      ],
      "metadata": {
        "colab": {
          "base_uri": "https://localhost:8080/"
        },
        "id": "JOXrtUISEViy",
        "outputId": "bf1cf428-2e6f-4071-8757-236935f02069"
      },
      "execution_count": 14,
      "outputs": [
        {
          "output_type": "stream",
          "name": "stdout",
          "text": [
            "Distances with 2 binaries: [(0, nan), (1, nan)]\n",
            "Distances with 3 binaries: [(0, nan), (1, nan)]\n"
          ]
        }
      ]
    },
    {
      "cell_type": "markdown",
      "source": [
        "c.\n",
        "\n",
        "Using k-NN with k = 1, classify the prospect as taking or not taking a course\n",
        "\n",
        "using each of the two derived datasets. Does it make a difference whether you use\n",
        "two or three dummies?"
      ],
      "metadata": {
        "id": "bY7perDoEeD_"
      }
    },
    {
      "cell_type": "code",
      "source": [
        "# c. Classifying the prospect\n",
        "def classify_with_knn(dataset, distances):\n",
        "    # The prospect will be classified based on the nearest neighbor\n",
        "    nearest_neighbor_index = min(distances, key=lambda x: x[1])[0]\n",
        "    return dataset.iloc[nearest_neighbor_index, -1]  # TookCourse of the nearest neighbor"
      ],
      "metadata": {
        "id": "beT_6a5LEhrY"
      },
      "execution_count": 15,
      "outputs": []
    },
    {
      "cell_type": "code",
      "source": [
        "classification_2_binaries = classify_with_knn(df_with_2_binaries, distances_2_binaries)\n",
        "classification_3_binaries = classify_with_knn(df_with_3_binaries, distances_3_binaries)"
      ],
      "metadata": {
        "id": "Xlrm0MzjElxa"
      },
      "execution_count": 16,
      "outputs": []
    },
    {
      "cell_type": "code",
      "source": [
        "print(\"Classification with 2 binaries:\", \"Took course\" if classification_2_binaries else \"Did not take course\")\n",
        "print(\"Classification with 3 binaries:\", \"Took course\" if classification_3_binaries else \"Did not take course\")"
      ],
      "metadata": {
        "colab": {
          "base_uri": "https://localhost:8080/"
        },
        "id": "pDe1XXO5Eobq",
        "outputId": "a071c29c-9c73-4c73-8821-52d812de2acb"
      },
      "execution_count": 17,
      "outputs": [
        {
          "output_type": "stream",
          "name": "stdout",
          "text": [
            "Classification with 2 binaries: Took course\n",
            "Classification with 3 binaries: Took course\n"
          ]
        }
      ]
    },
    {
      "cell_type": "code",
      "source": [
        "# HO1"
      ],
      "metadata": {
        "id": "-V1vRVJ8ErmK"
      },
      "execution_count": 18,
      "outputs": []
    }
  ]
}