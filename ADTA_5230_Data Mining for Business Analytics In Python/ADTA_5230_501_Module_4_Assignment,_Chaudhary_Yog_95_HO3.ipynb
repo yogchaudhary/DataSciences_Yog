{
  "nbformat": 4,
  "nbformat_minor": 0,
  "metadata": {
    "colab": {
      "provenance": []
    },
    "kernelspec": {
      "name": "python3",
      "display_name": "Python 3"
    },
    "language_info": {
      "name": "python"
    }
  },
  "cells": [
    {
      "cell_type": "code",
      "execution_count": 15,
      "metadata": {
        "id": "SorFCpXjpY3u"
      },
      "outputs": [],
      "source": [
        "#YC95\n",
        "# HO3"
      ]
    },
    {
      "cell_type": "markdown",
      "source": [
        "7.3\n",
        "\n",
        "Predicting Housing Median Prices. The file BostonHousing.csv contains information\n",
        "on over 500 census tracts in Boston, where for each tract multiple variables\n",
        "are recorded. The last column (CAT.MEDV) was derived from MEDV, such that it\n",
        "obtains the value 1 if MEDV > 30 and 0 otherwise. Consider the goal of predicting\n",
        "the median value (MEDV) of a tract, given the information in the first 12 columns.\n",
        "Partition the data into training (60%) and validation (40%) sets.\n",
        "\n",
        "a. Perform a k-NN prediction with all 12 predictors (ignore the CAT.MEDV column),\n",
        "trying values of k from 1 to 5. Make sure to normalize the data. What is\n",
        "the best k? What does it mean?\n",
        "\n"
      ],
      "metadata": {
        "id": "SfrZSpSfpo6q"
      }
    },
    {
      "cell_type": "code",
      "source": [
        "# a Perform k-NN predication with normalization and determine the best K:\n",
        "# used python libraries\n",
        "import pandas as pd\n",
        "from sklearn.model_selection import train_test_split\n",
        "from sklearn.preprocessing import StandardScaler\n",
        "from sklearn.neighbors import KNeighborsRegressor\n",
        "from sklearn.metrics import mean_squared_error\n"
      ],
      "metadata": {
        "id": "h71fd7_Op3Cq"
      },
      "execution_count": 16,
      "outputs": []
    },
    {
      "cell_type": "code",
      "source": [
        "# Load the data\n",
        "data = pd.read_csv(\"/content/BostonHousing.csv\")"
      ],
      "metadata": {
        "id": "8Eh8YMQgq-Ly"
      },
      "execution_count": 17,
      "outputs": []
    },
    {
      "cell_type": "code",
      "source": [
        "data.head()"
      ],
      "metadata": {
        "colab": {
          "base_uri": "https://localhost:8080/",
          "height": 206
        },
        "id": "HtLB9Ez7rNxT",
        "outputId": "6a38c8e3-cfe3-4321-84b6-8340f0b4298b"
      },
      "execution_count": 18,
      "outputs": [
        {
          "output_type": "execute_result",
          "data": {
            "text/plain": [
              "      CRIM    ZN  INDUS  CHAS    NOX     RM   AGE     DIS  RAD  TAX  PTRATIO  \\\n",
              "0  0.00632  18.0   2.31     0  0.538  6.575  65.2  4.0900    1  296     15.3   \n",
              "1  0.02731   0.0   7.07     0  0.469  6.421  78.9  4.9671    2  242     17.8   \n",
              "2  0.02729   0.0   7.07     0  0.469  7.185  61.1  4.9671    2  242     17.8   \n",
              "3  0.03237   0.0   2.18     0  0.458  6.998  45.8  6.0622    3  222     18.7   \n",
              "4  0.06905   0.0   2.18     0  0.458  7.147  54.2  6.0622    3  222     18.7   \n",
              "\n",
              "   LSTAT  MEDV  CAT. MEDV  \n",
              "0   4.98  24.0          0  \n",
              "1   9.14  21.6          0  \n",
              "2   4.03  34.7          1  \n",
              "3   2.94  33.4          1  \n",
              "4   5.33  36.2          1  "
            ],
            "text/html": [
              "\n",
              "  <div id=\"df-3b604cd6-c19d-4623-aadb-c8eeb6b288bc\" class=\"colab-df-container\">\n",
              "    <div>\n",
              "<style scoped>\n",
              "    .dataframe tbody tr th:only-of-type {\n",
              "        vertical-align: middle;\n",
              "    }\n",
              "\n",
              "    .dataframe tbody tr th {\n",
              "        vertical-align: top;\n",
              "    }\n",
              "\n",
              "    .dataframe thead th {\n",
              "        text-align: right;\n",
              "    }\n",
              "</style>\n",
              "<table border=\"1\" class=\"dataframe\">\n",
              "  <thead>\n",
              "    <tr style=\"text-align: right;\">\n",
              "      <th></th>\n",
              "      <th>CRIM</th>\n",
              "      <th>ZN</th>\n",
              "      <th>INDUS</th>\n",
              "      <th>CHAS</th>\n",
              "      <th>NOX</th>\n",
              "      <th>RM</th>\n",
              "      <th>AGE</th>\n",
              "      <th>DIS</th>\n",
              "      <th>RAD</th>\n",
              "      <th>TAX</th>\n",
              "      <th>PTRATIO</th>\n",
              "      <th>LSTAT</th>\n",
              "      <th>MEDV</th>\n",
              "      <th>CAT. MEDV</th>\n",
              "    </tr>\n",
              "  </thead>\n",
              "  <tbody>\n",
              "    <tr>\n",
              "      <th>0</th>\n",
              "      <td>0.00632</td>\n",
              "      <td>18.0</td>\n",
              "      <td>2.31</td>\n",
              "      <td>0</td>\n",
              "      <td>0.538</td>\n",
              "      <td>6.575</td>\n",
              "      <td>65.2</td>\n",
              "      <td>4.0900</td>\n",
              "      <td>1</td>\n",
              "      <td>296</td>\n",
              "      <td>15.3</td>\n",
              "      <td>4.98</td>\n",
              "      <td>24.0</td>\n",
              "      <td>0</td>\n",
              "    </tr>\n",
              "    <tr>\n",
              "      <th>1</th>\n",
              "      <td>0.02731</td>\n",
              "      <td>0.0</td>\n",
              "      <td>7.07</td>\n",
              "      <td>0</td>\n",
              "      <td>0.469</td>\n",
              "      <td>6.421</td>\n",
              "      <td>78.9</td>\n",
              "      <td>4.9671</td>\n",
              "      <td>2</td>\n",
              "      <td>242</td>\n",
              "      <td>17.8</td>\n",
              "      <td>9.14</td>\n",
              "      <td>21.6</td>\n",
              "      <td>0</td>\n",
              "    </tr>\n",
              "    <tr>\n",
              "      <th>2</th>\n",
              "      <td>0.02729</td>\n",
              "      <td>0.0</td>\n",
              "      <td>7.07</td>\n",
              "      <td>0</td>\n",
              "      <td>0.469</td>\n",
              "      <td>7.185</td>\n",
              "      <td>61.1</td>\n",
              "      <td>4.9671</td>\n",
              "      <td>2</td>\n",
              "      <td>242</td>\n",
              "      <td>17.8</td>\n",
              "      <td>4.03</td>\n",
              "      <td>34.7</td>\n",
              "      <td>1</td>\n",
              "    </tr>\n",
              "    <tr>\n",
              "      <th>3</th>\n",
              "      <td>0.03237</td>\n",
              "      <td>0.0</td>\n",
              "      <td>2.18</td>\n",
              "      <td>0</td>\n",
              "      <td>0.458</td>\n",
              "      <td>6.998</td>\n",
              "      <td>45.8</td>\n",
              "      <td>6.0622</td>\n",
              "      <td>3</td>\n",
              "      <td>222</td>\n",
              "      <td>18.7</td>\n",
              "      <td>2.94</td>\n",
              "      <td>33.4</td>\n",
              "      <td>1</td>\n",
              "    </tr>\n",
              "    <tr>\n",
              "      <th>4</th>\n",
              "      <td>0.06905</td>\n",
              "      <td>0.0</td>\n",
              "      <td>2.18</td>\n",
              "      <td>0</td>\n",
              "      <td>0.458</td>\n",
              "      <td>7.147</td>\n",
              "      <td>54.2</td>\n",
              "      <td>6.0622</td>\n",
              "      <td>3</td>\n",
              "      <td>222</td>\n",
              "      <td>18.7</td>\n",
              "      <td>5.33</td>\n",
              "      <td>36.2</td>\n",
              "      <td>1</td>\n",
              "    </tr>\n",
              "  </tbody>\n",
              "</table>\n",
              "</div>\n",
              "    <div class=\"colab-df-buttons\">\n",
              "\n",
              "  <div class=\"colab-df-container\">\n",
              "    <button class=\"colab-df-convert\" onclick=\"convertToInteractive('df-3b604cd6-c19d-4623-aadb-c8eeb6b288bc')\"\n",
              "            title=\"Convert this dataframe to an interactive table.\"\n",
              "            style=\"display:none;\">\n",
              "\n",
              "  <svg xmlns=\"http://www.w3.org/2000/svg\" height=\"24px\" viewBox=\"0 -960 960 960\">\n",
              "    <path d=\"M120-120v-720h720v720H120Zm60-500h600v-160H180v160Zm220 220h160v-160H400v160Zm0 220h160v-160H400v160ZM180-400h160v-160H180v160Zm440 0h160v-160H620v160ZM180-180h160v-160H180v160Zm440 0h160v-160H620v160Z\"/>\n",
              "  </svg>\n",
              "    </button>\n",
              "\n",
              "  <style>\n",
              "    .colab-df-container {\n",
              "      display:flex;\n",
              "      gap: 12px;\n",
              "    }\n",
              "\n",
              "    .colab-df-convert {\n",
              "      background-color: #E8F0FE;\n",
              "      border: none;\n",
              "      border-radius: 50%;\n",
              "      cursor: pointer;\n",
              "      display: none;\n",
              "      fill: #1967D2;\n",
              "      height: 32px;\n",
              "      padding: 0 0 0 0;\n",
              "      width: 32px;\n",
              "    }\n",
              "\n",
              "    .colab-df-convert:hover {\n",
              "      background-color: #E2EBFA;\n",
              "      box-shadow: 0px 1px 2px rgba(60, 64, 67, 0.3), 0px 1px 3px 1px rgba(60, 64, 67, 0.15);\n",
              "      fill: #174EA6;\n",
              "    }\n",
              "\n",
              "    .colab-df-buttons div {\n",
              "      margin-bottom: 4px;\n",
              "    }\n",
              "\n",
              "    [theme=dark] .colab-df-convert {\n",
              "      background-color: #3B4455;\n",
              "      fill: #D2E3FC;\n",
              "    }\n",
              "\n",
              "    [theme=dark] .colab-df-convert:hover {\n",
              "      background-color: #434B5C;\n",
              "      box-shadow: 0px 1px 3px 1px rgba(0, 0, 0, 0.15);\n",
              "      filter: drop-shadow(0px 1px 2px rgba(0, 0, 0, 0.3));\n",
              "      fill: #FFFFFF;\n",
              "    }\n",
              "  </style>\n",
              "\n",
              "    <script>\n",
              "      const buttonEl =\n",
              "        document.querySelector('#df-3b604cd6-c19d-4623-aadb-c8eeb6b288bc button.colab-df-convert');\n",
              "      buttonEl.style.display =\n",
              "        google.colab.kernel.accessAllowed ? 'block' : 'none';\n",
              "\n",
              "      async function convertToInteractive(key) {\n",
              "        const element = document.querySelector('#df-3b604cd6-c19d-4623-aadb-c8eeb6b288bc');\n",
              "        const dataTable =\n",
              "          await google.colab.kernel.invokeFunction('convertToInteractive',\n",
              "                                                    [key], {});\n",
              "        if (!dataTable) return;\n",
              "\n",
              "        const docLinkHtml = 'Like what you see? Visit the ' +\n",
              "          '<a target=\"_blank\" href=https://colab.research.google.com/notebooks/data_table.ipynb>data table notebook</a>'\n",
              "          + ' to learn more about interactive tables.';\n",
              "        element.innerHTML = '';\n",
              "        dataTable['output_type'] = 'display_data';\n",
              "        await google.colab.output.renderOutput(dataTable, element);\n",
              "        const docLink = document.createElement('div');\n",
              "        docLink.innerHTML = docLinkHtml;\n",
              "        element.appendChild(docLink);\n",
              "      }\n",
              "    </script>\n",
              "  </div>\n",
              "\n",
              "\n",
              "<div id=\"df-2a6a9426-650b-40f4-b262-738e1b9446cd\">\n",
              "  <button class=\"colab-df-quickchart\" onclick=\"quickchart('df-2a6a9426-650b-40f4-b262-738e1b9446cd')\"\n",
              "            title=\"Suggest charts.\"\n",
              "            style=\"display:none;\">\n",
              "\n",
              "<svg xmlns=\"http://www.w3.org/2000/svg\" height=\"24px\"viewBox=\"0 0 24 24\"\n",
              "     width=\"24px\">\n",
              "    <g>\n",
              "        <path d=\"M19 3H5c-1.1 0-2 .9-2 2v14c0 1.1.9 2 2 2h14c1.1 0 2-.9 2-2V5c0-1.1-.9-2-2-2zM9 17H7v-7h2v7zm4 0h-2V7h2v10zm4 0h-2v-4h2v4z\"/>\n",
              "    </g>\n",
              "</svg>\n",
              "  </button>\n",
              "\n",
              "<style>\n",
              "  .colab-df-quickchart {\n",
              "      --bg-color: #E8F0FE;\n",
              "      --fill-color: #1967D2;\n",
              "      --hover-bg-color: #E2EBFA;\n",
              "      --hover-fill-color: #174EA6;\n",
              "      --disabled-fill-color: #AAA;\n",
              "      --disabled-bg-color: #DDD;\n",
              "  }\n",
              "\n",
              "  [theme=dark] .colab-df-quickchart {\n",
              "      --bg-color: #3B4455;\n",
              "      --fill-color: #D2E3FC;\n",
              "      --hover-bg-color: #434B5C;\n",
              "      --hover-fill-color: #FFFFFF;\n",
              "      --disabled-bg-color: #3B4455;\n",
              "      --disabled-fill-color: #666;\n",
              "  }\n",
              "\n",
              "  .colab-df-quickchart {\n",
              "    background-color: var(--bg-color);\n",
              "    border: none;\n",
              "    border-radius: 50%;\n",
              "    cursor: pointer;\n",
              "    display: none;\n",
              "    fill: var(--fill-color);\n",
              "    height: 32px;\n",
              "    padding: 0;\n",
              "    width: 32px;\n",
              "  }\n",
              "\n",
              "  .colab-df-quickchart:hover {\n",
              "    background-color: var(--hover-bg-color);\n",
              "    box-shadow: 0 1px 2px rgba(60, 64, 67, 0.3), 0 1px 3px 1px rgba(60, 64, 67, 0.15);\n",
              "    fill: var(--button-hover-fill-color);\n",
              "  }\n",
              "\n",
              "  .colab-df-quickchart-complete:disabled,\n",
              "  .colab-df-quickchart-complete:disabled:hover {\n",
              "    background-color: var(--disabled-bg-color);\n",
              "    fill: var(--disabled-fill-color);\n",
              "    box-shadow: none;\n",
              "  }\n",
              "\n",
              "  .colab-df-spinner {\n",
              "    border: 2px solid var(--fill-color);\n",
              "    border-color: transparent;\n",
              "    border-bottom-color: var(--fill-color);\n",
              "    animation:\n",
              "      spin 1s steps(1) infinite;\n",
              "  }\n",
              "\n",
              "  @keyframes spin {\n",
              "    0% {\n",
              "      border-color: transparent;\n",
              "      border-bottom-color: var(--fill-color);\n",
              "      border-left-color: var(--fill-color);\n",
              "    }\n",
              "    20% {\n",
              "      border-color: transparent;\n",
              "      border-left-color: var(--fill-color);\n",
              "      border-top-color: var(--fill-color);\n",
              "    }\n",
              "    30% {\n",
              "      border-color: transparent;\n",
              "      border-left-color: var(--fill-color);\n",
              "      border-top-color: var(--fill-color);\n",
              "      border-right-color: var(--fill-color);\n",
              "    }\n",
              "    40% {\n",
              "      border-color: transparent;\n",
              "      border-right-color: var(--fill-color);\n",
              "      border-top-color: var(--fill-color);\n",
              "    }\n",
              "    60% {\n",
              "      border-color: transparent;\n",
              "      border-right-color: var(--fill-color);\n",
              "    }\n",
              "    80% {\n",
              "      border-color: transparent;\n",
              "      border-right-color: var(--fill-color);\n",
              "      border-bottom-color: var(--fill-color);\n",
              "    }\n",
              "    90% {\n",
              "      border-color: transparent;\n",
              "      border-bottom-color: var(--fill-color);\n",
              "    }\n",
              "  }\n",
              "</style>\n",
              "\n",
              "  <script>\n",
              "    async function quickchart(key) {\n",
              "      const quickchartButtonEl =\n",
              "        document.querySelector('#' + key + ' button');\n",
              "      quickchartButtonEl.disabled = true;  // To prevent multiple clicks.\n",
              "      quickchartButtonEl.classList.add('colab-df-spinner');\n",
              "      try {\n",
              "        const charts = await google.colab.kernel.invokeFunction(\n",
              "            'suggestCharts', [key], {});\n",
              "      } catch (error) {\n",
              "        console.error('Error during call to suggestCharts:', error);\n",
              "      }\n",
              "      quickchartButtonEl.classList.remove('colab-df-spinner');\n",
              "      quickchartButtonEl.classList.add('colab-df-quickchart-complete');\n",
              "    }\n",
              "    (() => {\n",
              "      let quickchartButtonEl =\n",
              "        document.querySelector('#df-2a6a9426-650b-40f4-b262-738e1b9446cd button');\n",
              "      quickchartButtonEl.style.display =\n",
              "        google.colab.kernel.accessAllowed ? 'block' : 'none';\n",
              "    })();\n",
              "  </script>\n",
              "</div>\n",
              "    </div>\n",
              "  </div>\n"
            ]
          },
          "metadata": {},
          "execution_count": 18
        }
      ]
    },
    {
      "cell_type": "code",
      "source": [
        "# Splitting the dataset into the Trainingset and Test Set.\n",
        "X = data.iloc[:, :-2]  # All Rows, ignore last 2 columns (MEDV abd CAT.MEDV)\n",
        "y = data['MEDV']  # MEDV\n",
        "X_train, X_test, y_train, y_test = train_test_split(X, y, test_size = 0.4, random_state = 0)\n"
      ],
      "metadata": {
        "id": "iuZLizzKrPgz"
      },
      "execution_count": 19,
      "outputs": []
    },
    {
      "cell_type": "code",
      "source": [
        "# Feature Scaling\n",
        "sc = StandardScaler()\n",
        "X_train = sc.fit_transform(X_train)\n",
        "X_test = sc.transform(X_test)"
      ],
      "metadata": {
        "id": "qMaZq7A1sHti"
      },
      "execution_count": 20,
      "outputs": []
    },
    {
      "cell_type": "code",
      "source": [
        "# Finding the best k\n",
        "errors = []\n",
        "for i in range(1, 6):\n",
        "    knn = KNeighborsRegressor(n_neighbors = i)\n",
        "    knn.fit(X_train, y_train)\n",
        "    pred_i = knn.predict(X_test)\n",
        "    errors.append(mean_squared_error(y_test, pred_i))\n",
        "\n",
        "best_k = errors.index(min(errors)) + 1  # because index is zero-based\n",
        "print(f\"The best k is : {best_k}\")"
      ],
      "metadata": {
        "colab": {
          "base_uri": "https://localhost:8080/"
        },
        "id": "uBIv-c4MsLbz",
        "outputId": "3c82c921-d09c-40b6-aa0d-17e1de8be610"
      },
      "execution_count": 21,
      "outputs": [
        {
          "output_type": "stream",
          "name": "stdout",
          "text": [
            "The best k is : 2\n"
          ]
        }
      ]
    },
    {
      "cell_type": "markdown",
      "source": [
        "\n",
        "\n",
        "b. Predict the MEDV for a tract with the following information,\n",
        "using the best k:\n",
        "\n",
        "CRIM ZN INDUS CHAS NOX RM AGE DIS RAD TAX PTRATIO LSTAT\n",
        "\n",
        "0.2 0 7 0 0.538 6 62 4.7 4 307 21 10\n",
        "\n"
      ],
      "metadata": {
        "id": "mFFnb733sgFy"
      }
    },
    {
      "cell_type": "code",
      "source": [
        "# Given New dataset instance by questation model\n",
        "# Data set manually\n",
        "new_data = pd.DataFrame([{\n",
        "    'CRIM': 0.2, 'ZN': 0, 'INDUS': 7, 'CHAS': 0, 'NOX': 0.538, 'RM': 6,\n",
        "    'AGE': 62, 'DIS': 4.7, 'RAD': 4, 'TAX': 307, 'PTRATIO': 21, 'LSTAT': 10\n",
        "}])\n"
      ],
      "metadata": {
        "id": "bhT4sr04sp6a"
      },
      "execution_count": 22,
      "outputs": []
    },
    {
      "cell_type": "code",
      "source": [
        "# Feature scaling\n",
        "new_data_scaled = sc.transform(new_data)\n"
      ],
      "metadata": {
        "id": "_5jweXwatC6j"
      },
      "execution_count": 23,
      "outputs": []
    },
    {
      "cell_type": "code",
      "source": [
        "# Predict using the best k\n",
        "knn_best = KNeighborsRegressor(n_neighbors = best_k)\n",
        "knn_best.fit(X_train, y_train)\n",
        "new_pred = knn_best.predict(new_data_scaled)"
      ],
      "metadata": {
        "id": "uGT7wytntFip"
      },
      "execution_count": 24,
      "outputs": []
    },
    {
      "cell_type": "code",
      "source": [
        "# Predict the MEDV for a specific tract using the best k:\n",
        "print(f\"Predicted MEDV : {new_pred[0]}\")"
      ],
      "metadata": {
        "colab": {
          "base_uri": "https://localhost:8080/"
        },
        "id": "v7GZ4bqDtIMC",
        "outputId": "ebcc0e39-d00d-48d7-8546-8c26a5405807"
      },
      "execution_count": 25,
      "outputs": [
        {
          "output_type": "stream",
          "name": "stdout",
          "text": [
            "Predicted MEDV : 19.299999999999997\n"
          ]
        }
      ]
    },
    {
      "cell_type": "markdown",
      "source": [
        "Once you have decided the excellent okay in element (a), you could expect the MEDV for a tract with the provided records (values for the 12 predictor variables) the usage of this surest ok-NN version."
      ],
      "metadata": {
        "id": "ehW5lpd_eK0Q"
      }
    },
    {
      "cell_type": "markdown",
      "source": [
        "c. If we used the above k-NN algorithm to score the training data, what would be\n",
        "the error of the training set?"
      ],
      "metadata": {
        "id": "FLyEj05TueoQ"
      }
    },
    {
      "cell_type": "code",
      "source": [
        "# Erroe of the training set:\n",
        "# Predict on the training data\n",
        "train_pred = knn_best.predict(X_train)\n",
        "\n",
        "# Calculate the error\n",
        "train_error = mean_squared_error(y_train, train_pred)\n",
        "print(f\"Training set error: {train_error}\")\n"
      ],
      "metadata": {
        "colab": {
          "base_uri": "https://localhost:8080/"
        },
        "id": "SNZlAw5Ouf0x",
        "outputId": "a84d6f1a-62ac-480c-e6ec-d6443eaf5f90"
      },
      "execution_count": 26,
      "outputs": [
        {
          "output_type": "stream",
          "name": "stdout",
          "text": [
            "Training set error: 5.502409240924093\n"
          ]
        }
      ]
    },
    {
      "cell_type": "markdown",
      "source": [
        "The validation information mistakes can be overly constructive as compared to the mistake rate while applying the okay-NN predictor to new records because the model has already seen the validation information for the duration of the version choice method. This can cause an excessively constructive estimate of its overall performance. When the version is implemented to completely new, unseen records, it may now not generalize as well and, therefore, may not carry out in addition to recommended by way of the validation records"
      ],
      "metadata": {
        "id": "-vb6g9n1e-Qj"
      }
    },
    {
      "cell_type": "markdown",
      "source": [
        "d. Why is the validation data error overly optimistic compared to the error rate when\n",
        "applying this k-NN predictor to new data?"
      ],
      "metadata": {
        "id": "udfQCNdou1zD"
      }
    },
    {
      "cell_type": "markdown",
      "source": [
        "Answer:\n",
        "\n",
        "The validation data error might be overly optimistic because of potential overfitting. If the model is tailored too closely to the training data, it may not generalize well to unseen data. This means it can perform better on the validation set than it would on completely new data."
      ],
      "metadata": {
        "id": "3CdV3DvOu5yf"
      }
    },
    {
      "cell_type": "markdown",
      "source": [
        "e. If the purpose is to predict MEDV for several thousands of new tracts, what would\n",
        "be the disadvantage of using k-NN prediction? List the operations that the algorithm\n",
        "goes through in order to produce each prediction."
      ],
      "metadata": {
        "id": "hU6oHQnevIms"
      }
    },
    {
      "cell_type": "markdown",
      "source": [
        "Answer:\n",
        "\n",
        "Using okay-NN prediction for thousands of latest tracts could have numerous risks:\n",
        "\n",
        "# Computational Complexity:\n",
        "As the quantity of records factors inside the schooling set increases, the time required to discover the k-nearest friends for each new statistics factor additionally will increase. This can be computationally expensive for huge datasets.\n",
        "\n",
        "\n",
        "# Storage Requirements:\n",
        "ok-NN calls for storing the complete schooling dataset in reminiscence to find nearest neighbors. With a big dataset, this will be reminiscence-in depth.\n",
        "\n",
        "\n",
        "# Sensitivity to Outliers:\n",
        "k-NN can be touchy to outliers in the records, which can also lead to suboptimal predictions.\n",
        "Lack of Interpretability: okay-NN is a \"black-box\" model, that means it doesn't provide insights into the relationships between predictors and the goal variable.\n",
        "\n",
        "\n",
        "\n",
        "The operations concerned in producing each prediction in ok-NN include calculating distances between records points, sorting facts factors by distance, and finding the okay-nearest friends based totally on these distances. These operations may be time-ingesting when implemented to a massive dataset, contributing to the computational complexity referred to earlier."
      ],
      "metadata": {
        "id": "qvF-dTlcxIFq"
      }
    },
    {
      "cell_type": "code",
      "source": [
        "# HO3"
      ],
      "metadata": {
        "id": "qp_VFHjxyc--"
      },
      "execution_count": 28,
      "outputs": []
    }
  ]
}