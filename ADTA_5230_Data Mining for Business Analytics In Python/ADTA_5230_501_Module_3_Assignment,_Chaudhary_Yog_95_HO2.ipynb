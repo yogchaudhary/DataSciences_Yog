{
  "cells": [
    {
      "cell_type": "code",
      "source": [
        "#YC95"
      ],
      "metadata": {
        "id": "NwWt3aoIpLRC"
      },
      "execution_count": 1,
      "outputs": []
    },
    {
      "cell_type": "markdown",
      "metadata": {
        "id": "80rXOVTfpKW3"
      },
      "source": [
        "# Python Class Exercises on Chapter 6: Multiple Linear Regression\n",
        "\n",
        "# Instructions for Assignment 3\n",
        "Run each of the code blocks below and before running the block put your initials followed by last two digits of your ID as a comment first.\n",
        "\n",
        "Change all variables used with the extension of your initials and last two digits of your ID, i.e. XX will be named XXJD48 if student's name is Jane Doe with last two digits of ID 48. All variables in all code blocks will be changed similarly.\n",
        "\n",
        "And then write a comment to explain the code block shortly. You can make use of the comments from the textbook. Your comments can be very short for obvious and short blocks.\n",
        "\n",
        "But be careful that no student's initials and ID digits should appear in another student's submission. Otherwise, I will file your case to the Academic Integrity Office and warn you while decreasing your letter grade below one level.\n",
        "\n",
        "Save this file like \"ADTA 5230.501 Module 3 Chapter 6 Hands On, LAST NAME First Name Last Two Digits of Your ID\", like \"ADTA 5230.501 Module 3 Chapter 6 Hands On DOE Jane 48\".\n",
        "\n",
        "You will submit the ipynb file with Python code blocks run, as well as a PDF file that you will save after putting all your comments and running code blocks.\n",
        "\n",
        "Notes:\n",
        "\n",
        "Code blocks below are originated from the textbook.\n",
        "\n",
        "Refer to notes of the textbook for further explanations of these codes.\n",
        "## Import required packages"
      ]
    },
    {
      "cell_type": "markdown",
      "metadata": {
        "id": "aIuBwbWUpKW-"
      },
      "source": [
        "Make sure DMBA package is available"
      ]
    },
    {
      "cell_type": "code",
      "execution_count": 22,
      "metadata": {
        "colab": {
          "base_uri": "https://localhost:8080/"
        },
        "id": "dYPkVjW3pKW_",
        "outputId": "f22a5a62-a6b4-4262-cbca-b8bb2cc4b2a7"
      },
      "outputs": [
        {
          "output_type": "stream",
          "name": "stdout",
          "text": [
            "Requirement already satisfied: dmba in /usr/local/lib/python3.10/dist-packages (0.2.4)\n",
            "Requirement already satisfied: graphviz in /usr/local/lib/python3.10/dist-packages (from dmba) (0.20.1)\n",
            "Requirement already satisfied: matplotlib in /usr/local/lib/python3.10/dist-packages (from dmba) (3.7.1)\n",
            "Requirement already satisfied: numpy in /usr/local/lib/python3.10/dist-packages (from dmba) (1.23.5)\n",
            "Requirement already satisfied: pandas in /usr/local/lib/python3.10/dist-packages (from dmba) (1.5.3)\n",
            "Requirement already satisfied: scikit-learn in /usr/local/lib/python3.10/dist-packages (from dmba) (1.2.2)\n",
            "Requirement already satisfied: scipy in /usr/local/lib/python3.10/dist-packages (from dmba) (1.11.2)\n",
            "Requirement already satisfied: contourpy>=1.0.1 in /usr/local/lib/python3.10/dist-packages (from matplotlib->dmba) (1.1.0)\n",
            "Requirement already satisfied: cycler>=0.10 in /usr/local/lib/python3.10/dist-packages (from matplotlib->dmba) (0.11.0)\n",
            "Requirement already satisfied: fonttools>=4.22.0 in /usr/local/lib/python3.10/dist-packages (from matplotlib->dmba) (4.42.1)\n",
            "Requirement already satisfied: kiwisolver>=1.0.1 in /usr/local/lib/python3.10/dist-packages (from matplotlib->dmba) (1.4.5)\n",
            "Requirement already satisfied: packaging>=20.0 in /usr/local/lib/python3.10/dist-packages (from matplotlib->dmba) (23.1)\n",
            "Requirement already satisfied: pillow>=6.2.0 in /usr/local/lib/python3.10/dist-packages (from matplotlib->dmba) (9.4.0)\n",
            "Requirement already satisfied: pyparsing>=2.3.1 in /usr/local/lib/python3.10/dist-packages (from matplotlib->dmba) (3.1.1)\n",
            "Requirement already satisfied: python-dateutil>=2.7 in /usr/local/lib/python3.10/dist-packages (from matplotlib->dmba) (2.8.2)\n",
            "Requirement already satisfied: pytz>=2020.1 in /usr/local/lib/python3.10/dist-packages (from pandas->dmba) (2023.3.post1)\n",
            "Requirement already satisfied: joblib>=1.1.1 in /usr/local/lib/python3.10/dist-packages (from scikit-learn->dmba) (1.3.2)\n",
            "Requirement already satisfied: threadpoolctl>=2.0.0 in /usr/local/lib/python3.10/dist-packages (from scikit-learn->dmba) (3.2.0)\n",
            "Requirement already satisfied: six>=1.5 in /usr/local/lib/python3.10/dist-packages (from python-dateutil>=2.7->matplotlib->dmba) (1.16.0)\n"
          ]
        }
      ],
      "source": [
        "pip install dmba"
      ]
    },
    {
      "cell_type": "code",
      "execution_count": 24,
      "metadata": {
        "id": "qFBJSmzmpKXA"
      },
      "outputs": [],
      "source": [
        "from pathlib import Path\n",
        "\n",
        "import pandas as pd\n",
        "from sklearn.model_selection import train_test_split\n",
        "from sklearn.linear_model import LinearRegression, Lasso, Ridge, LassoCV, BayesianRidge\n",
        "import statsmodels.formula.api as sm\n",
        "import matplotlib.pylab as plt\n",
        "\n",
        "import dmba\n",
        "from dmba import regressionSummary, exhaustive_search\n",
        "from dmba import backward_elimination, forward_selection, stepwise_selection\n",
        "from dmba import adjusted_r2_score, AIC_score, BIC_score\n",
        "\n",
        "%matplotlib inline"
      ]
    },
    {
      "cell_type": "markdown",
      "metadata": {
        "id": "vNu87wbOpKXB"
      },
      "source": [
        "## Regression Fit Output"
      ]
    },
    {
      "cell_type": "code",
      "execution_count": 25,
      "metadata": {
        "colab": {
          "base_uri": "https://localhost:8080/"
        },
        "id": "nk4_j0vXpKXB",
        "outputId": "787fd0de-1de0-4a4b-e12d-f5c45f09da18"
      },
      "outputs": [
        {
          "output_type": "stream",
          "name": "stdout",
          "text": [
            "intercept  -1319.3543800411571\n",
            "           Predictor  coefficient\n",
            "0          Age_08_04  -140.748761\n",
            "1                 KM    -0.017840\n",
            "2                 HP    36.103419\n",
            "3          Met_Color    84.281830\n",
            "4          Automatic   416.781954\n",
            "5                 CC     0.017737\n",
            "6              Doors   -50.657863\n",
            "7      Quarterly_Tax    13.625325\n",
            "8             Weight    13.038711\n",
            "9   Fuel_Type_Diesel  1066.464681\n",
            "10  Fuel_Type_Petrol  2310.249543\n",
            "\n",
            "Regression statistics\n",
            "\n",
            "                      Mean Error (ME) : 0.0000\n",
            "       Root Mean Squared Error (RMSE) : 1400.5823\n",
            "            Mean Absolute Error (MAE) : 1046.9072\n",
            "          Mean Percentage Error (MPE) : -1.0223\n",
            "Mean Absolute Percentage Error (MAPE) : 9.2994\n"
          ]
        }
      ],
      "source": [
        "# Reduce data frame to the top 1000 rows and select columns for regression analysis\n",
        "car_df = dmba.load_data('ToyotaCorolla.csv')\n",
        "car_df = car_df.iloc[0:1000]\n",
        "\n",
        "predictors = ['Age_08_04', 'KM', 'Fuel_Type', 'HP', 'Met_Color', 'Automatic', 'CC',\n",
        "              'Doors', 'Quarterly_Tax', 'Weight']\n",
        "outcome = 'Price'\n",
        "\n",
        "# partition data\n",
        "X = pd.get_dummies(car_df[predictors], drop_first=True)\n",
        "y = car_df[outcome]\n",
        "train_X, valid_X, train_y, valid_y = train_test_split(X, y, test_size=0.4, random_state=1)\n",
        "\n",
        "car_lm = LinearRegression()\n",
        "car_lm.fit(train_X, train_y)\n",
        "\n",
        "# print coefficients\n",
        "print('intercept ', car_lm.intercept_)\n",
        "print(pd.DataFrame({'Predictor': X.columns, 'coefficient': car_lm.coef_}))\n",
        "\n",
        "# print performance measures\n",
        "regressionSummary(train_y, car_lm.predict(train_X))"
      ]
    },
    {
      "cell_type": "code",
      "execution_count": 26,
      "metadata": {
        "colab": {
          "base_uri": "https://localhost:8080/"
        },
        "id": "IbX9fY5bpKXC",
        "outputId": "fbd2fa8d-fc7f-4a54-e8c3-13f4823e2752"
      },
      "outputs": [
        {
          "output_type": "stream",
          "name": "stdout",
          "text": [
            "adjusted r2 :  0.8537958550253093\n",
            "AIC :  10422.298278332171\n",
            "BIC :  10479.45836384998\n"
          ]
        }
      ],
      "source": [
        "pred_y = car_lm.predict(train_X)\n",
        "\n",
        "print('adjusted r2 : ', adjusted_r2_score(train_y, pred_y, car_lm))\n",
        "print('AIC : ', AIC_score(train_y, pred_y, car_lm))\n",
        "print('BIC : ', BIC_score(train_y, pred_y, car_lm))"
      ]
    },
    {
      "cell_type": "markdown",
      "metadata": {
        "id": "XwOktgoLpKXC"
      },
      "source": [
        "## Predicted, Actual and Residuals"
      ]
    },
    {
      "cell_type": "code",
      "execution_count": 27,
      "metadata": {
        "colab": {
          "base_uri": "https://localhost:8080/"
        },
        "id": "9XpDbXtYpKXD",
        "outputId": "2babf1cc-b8e2-4f91-9b28-257eba9d5fb4"
      },
      "outputs": [
        {
          "output_type": "stream",
          "name": "stdout",
          "text": [
            "        Predicted  Actual     Residual\n",
            "507  10607.333940   11500   892.666060\n",
            "818   9272.705792    8950  -322.705792\n",
            "452  10617.947808   11450   832.052192\n",
            "368  13600.396275   11450 -2150.396275\n",
            "242  12396.694660   11950  -446.694660\n",
            "929   9496.498212    9995   498.501788\n",
            "262  12480.063217   13500  1019.936783\n",
            "810   8834.146068    7950  -884.146068\n",
            "318  12183.361282    9900 -2283.361282\n",
            "49   19206.965683   21950  2743.034317\n",
            "446  10987.498309   11950   962.501691\n",
            "142  18501.527375   19950  1448.472625\n",
            "968   9914.690947    9950    35.309053\n",
            "345  13827.299932   14950  1122.700068\n",
            "971   7966.732543   10495  2528.267457\n",
            "133  17185.242041   15950 -1235.242041\n",
            "104  19952.658062   19450  -502.658062\n",
            "6    16570.609280   16900   329.390720\n",
            "600  13739.409113   11250 -2489.409113\n",
            "496  11267.513740   11750   482.486260\n",
            "\n",
            "Regression statistics\n",
            "\n",
            "                      Mean Error (ME) : 103.6803\n",
            "       Root Mean Squared Error (RMSE) : 1312.8523\n",
            "            Mean Absolute Error (MAE) : 1017.5972\n",
            "          Mean Percentage Error (MPE) : -0.2633\n",
            "Mean Absolute Percentage Error (MAPE) : 9.0111\n"
          ]
        }
      ],
      "source": [
        "# Use predict() to make predictions on a new set\n",
        "car_lm_pred = car_lm.predict(valid_X)\n",
        "\n",
        "result = pd.DataFrame({'Predicted': car_lm_pred, 'Actual': valid_y,\n",
        "                       'Residual': valid_y - car_lm_pred})\n",
        "print(result.head(20))\n",
        "\n",
        "# Compute common accuracy measures\n",
        "regressionSummary(valid_y, car_lm_pred)"
      ]
    },
    {
      "cell_type": "markdown",
      "metadata": {
        "id": "vykidEScpKXD"
      },
      "source": [
        "## Residuals' histogram"
      ]
    },
    {
      "cell_type": "code",
      "execution_count": 28,
      "metadata": {
        "colab": {
          "base_uri": "https://localhost:8080/",
          "height": 505
        },
        "id": "-X5v1dsKpKXE",
        "outputId": "691f87d7-a4bb-463d-f657-522e6d6a0301"
      },
      "outputs": [
        {
          "output_type": "stream",
          "name": "stdout",
          "text": [
            "0.7425\n"
          ]
        },
        {
          "output_type": "display_data",
          "data": {
            "text/plain": [
              "<Figure size 640x480 with 1 Axes>"
            ],
            "image/png": "[encoded data removed]"
          },
          "metadata": {}
        }
      ],
      "source": [
        "car_lm_pred = car_lm.predict(valid_X)\n",
        "all_residuals = valid_y - car_lm_pred\n",
        "\n",
        "# Determine the percentage of datapoints with a residual in [-1406, 1406] = approx. 75\\%\n",
        "print(len(all_residuals[(all_residuals > -1406) & (all_residuals < 1406)]) / len(all_residuals))\n",
        "\n",
        "ax = pd.DataFrame({'Residuals': all_residuals}).hist(bins=25)\n",
        "\n",
        "plt.tight_layout()\n",
        "plt.show()"
      ]
    },
    {
      "cell_type": "markdown",
      "metadata": {
        "id": "A4CfrYdIpKXE"
      },
      "source": [
        "## Run an exhaustive search. The Fuel type column is categorical and needs to be converted into dummy variables."
      ]
    },
    {
      "cell_type": "code",
      "execution_count": 29,
      "metadata": {
        "colab": {
          "base_uri": "https://localhost:8080/"
        },
        "id": "KKixBFIBpKXE",
        "outputId": "262497d4-8c23-49da-8c00-51568fb3290e"
      },
      "outputs": [
        {
          "output_type": "stream",
          "name": "stdout",
          "text": [
            "     n     r2adj           AIC  Age_08_04  Automatic     CC  Doors  Fuel_Type_Diesel  \\\n",
            "0    1  0.767901  10689.712094       True      False  False  False             False   \n",
            "1    2  0.801160  10597.910645       True      False  False  False             False   \n",
            "2    3  0.829659  10506.084235       True      False  False  False             False   \n",
            "3    4  0.846357  10445.174820       True      False  False  False             False   \n",
            "4    5  0.849044  10435.578836       True      False  False  False             False   \n",
            "5    6  0.853172  10419.932278       True      False  False  False             False   \n",
            "6    7  0.853860  10418.104025       True      False  False  False              True   \n",
            "7    8  0.854297  10417.290103       True       True  False  False              True   \n",
            "8    9  0.854172  10418.789079       True       True  False   True              True   \n",
            "9   10  0.854036  10420.330800       True       True  False   True              True   \n",
            "10  11  0.853796  10422.298278       True       True   True   True              True   \n",
            "\n",
            "    Fuel_Type_Petrol     HP     KM  Met_Color  Quarterly_Tax  Weight  \n",
            "0              False  False  False      False          False   False  \n",
            "1              False   True  False      False          False   False  \n",
            "2              False   True  False      False          False    True  \n",
            "3              False   True   True      False          False    True  \n",
            "4              False   True   True      False           True    True  \n",
            "5               True   True   True      False           True    True  \n",
            "6               True   True   True      False           True    True  \n",
            "7               True   True   True      False           True    True  \n",
            "8               True   True   True      False           True    True  \n",
            "9               True   True   True       True           True    True  \n",
            "10              True   True   True       True           True    True  \n"
          ]
        }
      ],
      "source": [
        "def train_model(variables):\n",
        "    model = LinearRegression()\n",
        "    model.fit(train_X[variables], train_y)\n",
        "    return model\n",
        "\n",
        "def score_model(model, variables):\n",
        "    pred_y = model.predict(train_X[variables])\n",
        "    # we negate as score is optimized to be as low as possible\n",
        "    return -adjusted_r2_score(train_y, pred_y, model)\n",
        "\n",
        "allVariables = train_X.columns\n",
        "results = exhaustive_search(allVariables, train_model, score_model)\n",
        "\n",
        "data = []\n",
        "for result in results:\n",
        "    model = result['model']\n",
        "    variables = result['variables']\n",
        "    AIC = AIC_score(train_y, model.predict(train_X[variables]), model)\n",
        "\n",
        "    d = {'n': result['n'], 'r2adj': -result['score'], 'AIC': AIC}\n",
        "    d.update({var: var in result['variables'] for var in allVariables})\n",
        "    data.append(d)\n",
        "pd.set_option('display.width', 100)\n",
        "print(pd.DataFrame(data, columns=('n', 'r2adj', 'AIC') + tuple(sorted(allVariables))))\n",
        "pd.reset_option('display.width')"
      ]
    },
    {
      "cell_type": "code",
      "execution_count": 40,
      "metadata": {
        "colab": {
          "base_uri": "https://localhost:8080/"
        },
        "id": "R2Br9G5ypKXF",
        "outputId": "36e8b905-4107-4697-9d04-d8d3a828462b"
      },
      "outputs": [
        {
          "output_type": "stream",
          "name": "stdout",
          "text": [
            "\n",
            "Regression statistics\n",
            "\n",
            "                      Mean Error (ME) : 103.3045\n",
            "       Root Mean Squared Error (RMSE) : 1314.4844\n",
            "            Mean Absolute Error (MAE) : 1016.8875\n",
            "          Mean Percentage Error (MPE) : -0.2700\n",
            "Mean Absolute Percentage Error (MAPE) : 8.9984\n"
          ]
        }
      ],
      "source": [
        "regressionSummary(valid_y, best_model.predict(valid_X[best_variables]))"
      ]
    },
    {
      "cell_type": "markdown",
      "metadata": {
        "id": "L35Ok-S_pKXF"
      },
      "source": [
        "## Backward elimination"
      ]
    },
    {
      "cell_type": "markdown",
      "metadata": {
        "id": "iMKpMWEbpKXF"
      },
      "source": [
        "## Forward selection"
      ]
    },
    {
      "cell_type": "code",
      "execution_count": 32,
      "metadata": {
        "colab": {
          "base_uri": "https://localhost:8080/"
        },
        "id": "ka0Wm9P2pKXF",
        "outputId": "32ace5e6-9a37-4c72-afea-7d24465d07ef"
      },
      "outputs": [
        {
          "output_type": "stream",
          "name": "stdout",
          "text": [
            "Variables: Age_08_04, KM, HP, Met_Color, Automatic, CC, Doors, Quarterly_Tax, Weight, Fuel_Type_Diesel, Fuel_Type_Petrol\n",
            "Start: score=11565.07, constant\n",
            "Step: score=10689.71, add Age_08_04\n",
            "Step: score=10597.91, add HP\n",
            "Step: score=10506.08, add Weight\n",
            "Step: score=10445.17, add KM\n",
            "Step: score=10435.58, add Quarterly_Tax\n",
            "Step: score=10419.93, add Fuel_Type_Petrol\n",
            "Step: score=10418.10, add Fuel_Type_Diesel\n",
            "Step: score=10417.29, add Automatic\n",
            "Step: score=10417.29, add None\n",
            "['Age_08_04', 'HP', 'Weight', 'KM', 'Quarterly_Tax', 'Fuel_Type_Petrol', 'Fuel_Type_Diesel', 'Automatic']\n"
          ]
        }
      ],
      "source": [
        "# The initial model is the constant model - this requires special handling\n",
        "# in train_model and score_model\n",
        "def train_model(variables):\n",
        "    if len(variables) == 0:\n",
        "        return None\n",
        "    model = LinearRegression()\n",
        "    model.fit(train_X[variables], train_y)\n",
        "    return model\n",
        "\n",
        "def score_model(model, variables):\n",
        "    if len(variables) == 0:\n",
        "        return AIC_score(train_y, [train_y.mean()] * len(train_y), model, df=1)\n",
        "    return AIC_score(train_y, model.predict(train_X[variables]), model)\n",
        "\n",
        "best_model, best_variables = forward_selection(train_X.columns, train_model, score_model, verbose=True)\n",
        "\n",
        "print(best_variables)"
      ]
    },
    {
      "cell_type": "code",
      "execution_count": 33,
      "metadata": {
        "colab": {
          "base_uri": "https://localhost:8080/"
        },
        "id": "dnOv7eOIpKXF",
        "outputId": "9789db4b-8f10-4504-caa4-00d7213a9933"
      },
      "outputs": [
        {
          "output_type": "stream",
          "name": "stdout",
          "text": [
            "Variables: Age_08_04, KM, HP, Met_Color, Automatic, CC, Doors, Quarterly_Tax, Weight, Fuel_Type_Diesel, Fuel_Type_Petrol\n",
            "Start: score=11565.07, constant\n",
            "Step: score=10689.71, add Age_08_04\n",
            "Step: score=10597.91, add HP\n",
            "Step: score=10506.08, add Weight\n",
            "Step: score=10445.17, add KM\n",
            "Step: score=10435.58, add Quarterly_Tax\n",
            "Step: score=10419.93, add Fuel_Type_Petrol\n",
            "Step: score=10418.10, add Fuel_Type_Diesel\n",
            "Step: score=10417.29, add Automatic\n",
            "Step: score=10417.29, unchanged None\n",
            "['Age_08_04', 'HP', 'Weight', 'KM', 'Quarterly_Tax', 'Fuel_Type_Petrol', 'Fuel_Type_Diesel', 'Automatic']\n"
          ]
        }
      ],
      "source": [
        "best_model, best_variables = stepwise_selection(train_X.columns, train_model, score_model, verbose=True)\n",
        "\n",
        "print(best_variables)"
      ]
    },
    {
      "cell_type": "markdown",
      "metadata": {
        "id": "Bap8ucovpKXG"
      },
      "source": [
        "## Regularized methods"
      ]
    },
    {
      "cell_type": "code",
      "execution_count": 34,
      "metadata": {
        "colab": {
          "base_uri": "https://localhost:8080/"
        },
        "id": "uC5XpmsSpKXG",
        "outputId": "1a76ca0b-1aa6-475b-d8a9-5a740e5437b4"
      },
      "outputs": [
        {
          "output_type": "stream",
          "name": "stdout",
          "text": [
            "\n",
            "Regression statistics\n",
            "\n",
            "                      Mean Error (ME) : 104.4168\n",
            "       Root Mean Squared Error (RMSE) : 1313.2944\n",
            "            Mean Absolute Error (MAE) : 1017.6609\n",
            "          Mean Percentage Error (MPE) : -0.2619\n",
            "Mean Absolute Percentage Error (MAPE) : 9.0100\n",
            "\n",
            "Regression statistics\n",
            "\n",
            "                      Mean Error (ME) : 132.4317\n",
            "       Root Mean Squared Error (RMSE) : 1360.7243\n",
            "            Mean Absolute Error (MAE) : 1034.4871\n",
            "          Mean Percentage Error (MPE) : -0.2610\n",
            "Mean Absolute Percentage Error (MAPE) : 9.1337\n",
            "Lasso-CV chosen regularization:  52.81252993972756\n",
            "[-2344.72733104  -638.64821716   509.86847033     0.\n",
            "    44.37403325     0.            -0.           299.72739261\n",
            "   757.83746697    -0.           188.03203033]\n",
            "\n",
            "Regression statistics\n",
            "\n",
            "                      Mean Error (ME) : 104.3792\n",
            "       Root Mean Squared Error (RMSE) : 1312.8865\n",
            "            Mean Absolute Error (MAE) : 1017.4566\n",
            "          Mean Percentage Error (MPE) : -0.2657\n",
            "Mean Absolute Percentage Error (MAPE) : 9.0074\n",
            "\n",
            "Regression statistics\n",
            "\n",
            "                      Mean Error (ME) : 105.5382\n",
            "       Root Mean Squared Error (RMSE) : 1313.0217\n",
            "            Mean Absolute Error (MAE) : 1017.2356\n",
            "          Mean Percentage Error (MPE) : -0.2703\n",
            "Mean Absolute Percentage Error (MAPE) : 9.0012\n",
            "Bayesian ridge chosen regularization:  2.7737000643213925\n"
          ]
        }
      ],
      "source": [
        "from sklearn.pipeline import Pipeline\n",
        "from sklearn.preprocessing import StandardScaler\n",
        "\n",
        "lasso = Pipeline([\n",
        "    ['normalize', StandardScaler()],\n",
        "    ['model', Lasso(alpha=1)],\n",
        "])\n",
        "lasso.fit(train_X, train_y)\n",
        "regressionSummary(valid_y, lasso.predict(valid_X))\n",
        "\n",
        "lasso_cv = Pipeline([\n",
        "    ['normalize', StandardScaler()],\n",
        "    ['model', LassoCV(cv=5)],\n",
        "])\n",
        "lasso_cv.fit(train_X, train_y)\n",
        "regressionSummary(valid_y, lasso_cv.predict(valid_X))\n",
        "print('Lasso-CV chosen regularization: ', lasso_cv['model'].alpha_)\n",
        "print(lasso_cv['model'].coef_)\n",
        "\n",
        "ridge = Pipeline([\n",
        "    ['normalize', StandardScaler()],\n",
        "    ['model', Ridge(alpha=1)],\n",
        "])\n",
        "ridge.fit(train_X, train_y)\n",
        "regressionSummary(valid_y, ridge.predict(valid_X))\n",
        "\n",
        "bayesianRidge = Pipeline([\n",
        "    ['normalize', StandardScaler()],\n",
        "    ['model', BayesianRidge()],\n",
        "])\n",
        "bayesianRidge.fit(train_X, train_y)\n",
        "regressionSummary(valid_y, bayesianRidge.predict(valid_X))\n",
        "print('Bayesian ridge chosen regularization: ',\n",
        "      bayesianRidge['model'].lambda_ / bayesianRidge['model'].alpha_)"
      ]
    },
    {
      "cell_type": "code",
      "execution_count": 35,
      "metadata": {
        "colab": {
          "base_uri": "https://localhost:8080/"
        },
        "id": "CQ1-hLPtpKXG",
        "outputId": "d2f37452-c3ea-4bbe-a681-f32e9fc56096"
      },
      "outputs": [
        {
          "output_type": "stream",
          "name": "stdout",
          "text": [
            "\n",
            "Regression statistics\n",
            "\n",
            "                      Mean Error (ME) : 103.6803\n",
            "       Root Mean Squared Error (RMSE) : 1312.8523\n",
            "            Mean Absolute Error (MAE) : 1017.5972\n",
            "          Mean Percentage Error (MPE) : -0.2633\n",
            "Mean Absolute Percentage Error (MAPE) : 9.0111\n"
          ]
        }
      ],
      "source": [
        "linearRegression = Pipeline([\n",
        "    ['normalize', StandardScaler()],\n",
        "    ['model', LinearRegression()],\n",
        "])\n",
        "linearRegression.fit(train_X, train_y)\n",
        "regressionSummary(valid_y, linearRegression.predict(valid_X))"
      ]
    },
    {
      "cell_type": "code",
      "execution_count": 36,
      "metadata": {
        "colab": {
          "base_uri": "https://localhost:8080/",
          "height": 394
        },
        "id": "RinAnuS-pKXG",
        "outputId": "11ae3701-5fb9-4e1c-fdfe-e3a00924e07b"
      },
      "outputs": [
        {
          "output_type": "execute_result",
          "data": {
            "text/plain": [
              "            features  linear regression      lassoCV  bayesianRidge\n",
              "0          Age_08_04       -2346.564908 -2344.727331   -2329.981222\n",
              "1                 KM        -640.646815  -638.648217    -651.107146\n",
              "2                 HP         550.253745   509.868470     546.483948\n",
              "3          Met_Color          39.094012     0.000000      39.468401\n",
              "4          Automatic          96.361895    44.374033      94.470139\n",
              "5                 CC          10.966581     0.000000      12.616316\n",
              "6              Doors         -47.961759    -0.000000     -45.367365\n",
              "7      Quarterly_Tax         610.016332   299.727393     594.107204\n",
              "8             Weight         770.715576   757.837467     775.190239\n",
              "9   Fuel_Type_Diesel         358.655735    -0.000000     321.365335\n",
              "10  Fuel_Type_Petrol         817.304630   188.032030     764.898852"
            ],
            "text/html": [
              "\n",
              "  <div id=\"df-d251064d-a68f-42ed-bf78-18019a153a3f\" class=\"colab-df-container\">\n",
              "    <div>\n",
              "<style scoped>\n",
              "    .dataframe tbody tr th:only-of-type {\n",
              "        vertical-align: middle;\n",
              "    }\n",
              "\n",
              "    .dataframe tbody tr th {\n",
              "        vertical-align: top;\n",
              "    }\n",
              "\n",
              "    .dataframe thead th {\n",
              "        text-align: right;\n",
              "    }\n",
              "</style>\n",
              "<table border=\"1\" class=\"dataframe\">\n",
              "  <thead>\n",
              "    <tr style=\"text-align: right;\">\n",
              "      <th></th>\n",
              "      <th>features</th>\n",
              "      <th>linear regression</th>\n",
              "      <th>lassoCV</th>\n",
              "      <th>bayesianRidge</th>\n",
              "    </tr>\n",
              "  </thead>\n",
              "  <tbody>\n",
              "    <tr>\n",
              "      <th>0</th>\n",
              "      <td>Age_08_04</td>\n",
              "      <td>-2346.564908</td>\n",
              "      <td>-2344.727331</td>\n",
              "      <td>-2329.981222</td>\n",
              "    </tr>\n",
              "    <tr>\n",
              "      <th>1</th>\n",
              "      <td>KM</td>\n",
              "      <td>-640.646815</td>\n",
              "      <td>-638.648217</td>\n",
              "      <td>-651.107146</td>\n",
              "    </tr>\n",
              "    <tr>\n",
              "      <th>2</th>\n",
              "      <td>HP</td>\n",
              "      <td>550.253745</td>\n",
              "      <td>509.868470</td>\n",
              "      <td>546.483948</td>\n",
              "    </tr>\n",
              "    <tr>\n",
              "      <th>3</th>\n",
              "      <td>Met_Color</td>\n",
              "      <td>39.094012</td>\n",
              "      <td>0.000000</td>\n",
              "      <td>39.468401</td>\n",
              "    </tr>\n",
              "    <tr>\n",
              "      <th>4</th>\n",
              "      <td>Automatic</td>\n",
              "      <td>96.361895</td>\n",
              "      <td>44.374033</td>\n",
              "      <td>94.470139</td>\n",
              "    </tr>\n",
              "    <tr>\n",
              "      <th>5</th>\n",
              "      <td>CC</td>\n",
              "      <td>10.966581</td>\n",
              "      <td>0.000000</td>\n",
              "      <td>12.616316</td>\n",
              "    </tr>\n",
              "    <tr>\n",
              "      <th>6</th>\n",
              "      <td>Doors</td>\n",
              "      <td>-47.961759</td>\n",
              "      <td>-0.000000</td>\n",
              "      <td>-45.367365</td>\n",
              "    </tr>\n",
              "    <tr>\n",
              "      <th>7</th>\n",
              "      <td>Quarterly_Tax</td>\n",
              "      <td>610.016332</td>\n",
              "      <td>299.727393</td>\n",
              "      <td>594.107204</td>\n",
              "    </tr>\n",
              "    <tr>\n",
              "      <th>8</th>\n",
              "      <td>Weight</td>\n",
              "      <td>770.715576</td>\n",
              "      <td>757.837467</td>\n",
              "      <td>775.190239</td>\n",
              "    </tr>\n",
              "    <tr>\n",
              "      <th>9</th>\n",
              "      <td>Fuel_Type_Diesel</td>\n",
              "      <td>358.655735</td>\n",
              "      <td>-0.000000</td>\n",
              "      <td>321.365335</td>\n",
              "    </tr>\n",
              "    <tr>\n",
              "      <th>10</th>\n",
              "      <td>Fuel_Type_Petrol</td>\n",
              "      <td>817.304630</td>\n",
              "      <td>188.032030</td>\n",
              "      <td>764.898852</td>\n",
              "    </tr>\n",
              "  </tbody>\n",
              "</table>\n",
              "</div>\n",
              "    <div class=\"colab-df-buttons\">\n",
              "\n",
              "  <div class=\"colab-df-container\">\n",
              "    <button class=\"colab-df-convert\" onclick=\"convertToInteractive('df-d251064d-a68f-42ed-bf78-18019a153a3f')\"\n",
              "            title=\"Convert this dataframe to an interactive table.\"\n",
              "            style=\"display:none;\">\n",
              "\n",
              "  <svg xmlns=\"http://www.w3.org/2000/svg\" height=\"24px\" viewBox=\"0 -960 960 960\">\n",
              "    <path d=\"M120-120v-720h720v720H120Zm60-500h600v-160H180v160Zm220 220h160v-160H400v160Zm0 220h160v-160H400v160ZM180-400h160v-160H180v160Zm440 0h160v-160H620v160ZM180-180h160v-160H180v160Zm440 0h160v-160H620v160Z\"/>\n",
              "  </svg>\n",
              "    </button>\n",
              "\n",
              "  <style>\n",
              "    .colab-df-container {\n",
              "      display:flex;\n",
              "      gap: 12px;\n",
              "    }\n",
              "\n",
              "    .colab-df-convert {\n",
              "      background-color: #E8F0FE;\n",
              "      border: none;\n",
              "      border-radius: 50%;\n",
              "      cursor: pointer;\n",
              "      display: none;\n",
              "      fill: #1967D2;\n",
              "      height: 32px;\n",
              "      padding: 0 0 0 0;\n",
              "      width: 32px;\n",
              "    }\n",
              "\n",
              "    .colab-df-convert:hover {\n",
              "      background-color: #E2EBFA;\n",
              "      box-shadow: 0px 1px 2px rgba(60, 64, 67, 0.3), 0px 1px 3px 1px rgba(60, 64, 67, 0.15);\n",
              "      fill: #174EA6;\n",
              "    }\n",
              "\n",
              "    .colab-df-buttons div {\n",
              "      margin-bottom: 4px;\n",
              "    }\n",
              "\n",
              "    [theme=dark] .colab-df-convert {\n",
              "      background-color: #3B4455;\n",
              "      fill: #D2E3FC;\n",
              "    }\n",
              "\n",
              "    [theme=dark] .colab-df-convert:hover {\n",
              "      background-color: #434B5C;\n",
              "      box-shadow: 0px 1px 3px 1px rgba(0, 0, 0, 0.15);\n",
              "      filter: drop-shadow(0px 1px 2px rgba(0, 0, 0, 0.3));\n",
              "      fill: #FFFFFF;\n",
              "    }\n",
              "  </style>\n",
              "\n",
              "    <script>\n",
              "      const buttonEl =\n",
              "        document.querySelector('#df-d251064d-a68f-42ed-bf78-18019a153a3f button.colab-df-convert');\n",
              "      buttonEl.style.display =\n",
              "        google.colab.kernel.accessAllowed ? 'block' : 'none';\n",
              "\n",
              "      async function convertToInteractive(key) {\n",
              "        const element = document.querySelector('#df-d251064d-a68f-42ed-bf78-18019a153a3f');\n",
              "        const dataTable =\n",
              "          await google.colab.kernel.invokeFunction('convertToInteractive',\n",
              "                                                    [key], {});\n",
              "        if (!dataTable) return;\n",
              "\n",
              "        const docLinkHtml = 'Like what you see? Visit the ' +\n",
              "          '<a target=\"_blank\" href=https://colab.research.google.com/notebooks/data_table.ipynb>data table notebook</a>'\n",
              "          + ' to learn more about interactive tables.';\n",
              "        element.innerHTML = '';\n",
              "        dataTable['output_type'] = 'display_data';\n",
              "        await google.colab.output.renderOutput(dataTable, element);\n",
              "        const docLink = document.createElement('div');\n",
              "        docLink.innerHTML = docLinkHtml;\n",
              "        element.appendChild(docLink);\n",
              "      }\n",
              "    </script>\n",
              "  </div>\n",
              "\n",
              "\n",
              "<div id=\"df-020e27ee-8dec-4245-9b79-68a78ac8a3db\">\n",
              "  <button class=\"colab-df-quickchart\" onclick=\"quickchart('df-020e27ee-8dec-4245-9b79-68a78ac8a3db')\"\n",
              "            title=\"Suggest charts.\"\n",
              "            style=\"display:none;\">\n",
              "\n",
              "<svg xmlns=\"http://www.w3.org/2000/svg\" height=\"24px\"viewBox=\"0 0 24 24\"\n",
              "     width=\"24px\">\n",
              "    <g>\n",
              "        <path d=\"M19 3H5c-1.1 0-2 .9-2 2v14c0 1.1.9 2 2 2h14c1.1 0 2-.9 2-2V5c0-1.1-.9-2-2-2zM9 17H7v-7h2v7zm4 0h-2V7h2v10zm4 0h-2v-4h2v4z\"/>\n",
              "    </g>\n",
              "</svg>\n",
              "  </button>\n",
              "\n",
              "<style>\n",
              "  .colab-df-quickchart {\n",
              "      --bg-color: #E8F0FE;\n",
              "      --fill-color: #1967D2;\n",
              "      --hover-bg-color: #E2EBFA;\n",
              "      --hover-fill-color: #174EA6;\n",
              "      --disabled-fill-color: #AAA;\n",
              "      --disabled-bg-color: #DDD;\n",
              "  }\n",
              "\n",
              "  [theme=dark] .colab-df-quickchart {\n",
              "      --bg-color: #3B4455;\n",
              "      --fill-color: #D2E3FC;\n",
              "      --hover-bg-color: #434B5C;\n",
              "      --hover-fill-color: #FFFFFF;\n",
              "      --disabled-bg-color: #3B4455;\n",
              "      --disabled-fill-color: #666;\n",
              "  }\n",
              "\n",
              "  .colab-df-quickchart {\n",
              "    background-color: var(--bg-color);\n",
              "    border: none;\n",
              "    border-radius: 50%;\n",
              "    cursor: pointer;\n",
              "    display: none;\n",
              "    fill: var(--fill-color);\n",
              "    height: 32px;\n",
              "    padding: 0;\n",
              "    width: 32px;\n",
              "  }\n",
              "\n",
              "  .colab-df-quickchart:hover {\n",
              "    background-color: var(--hover-bg-color);\n",
              "    box-shadow: 0 1px 2px rgba(60, 64, 67, 0.3), 0 1px 3px 1px rgba(60, 64, 67, 0.15);\n",
              "    fill: var(--button-hover-fill-color);\n",
              "  }\n",
              "\n",
              "  .colab-df-quickchart-complete:disabled,\n",
              "  .colab-df-quickchart-complete:disabled:hover {\n",
              "    background-color: var(--disabled-bg-color);\n",
              "    fill: var(--disabled-fill-color);\n",
              "    box-shadow: none;\n",
              "  }\n",
              "\n",
              "  .colab-df-spinner {\n",
              "    border: 2px solid var(--fill-color);\n",
              "    border-color: transparent;\n",
              "    border-bottom-color: var(--fill-color);\n",
              "    animation:\n",
              "      spin 1s steps(1) infinite;\n",
              "  }\n",
              "\n",
              "  @keyframes spin {\n",
              "    0% {\n",
              "      border-color: transparent;\n",
              "      border-bottom-color: var(--fill-color);\n",
              "      border-left-color: var(--fill-color);\n",
              "    }\n",
              "    20% {\n",
              "      border-color: transparent;\n",
              "      border-left-color: var(--fill-color);\n",
              "      border-top-color: var(--fill-color);\n",
              "    }\n",
              "    30% {\n",
              "      border-color: transparent;\n",
              "      border-left-color: var(--fill-color);\n",
              "      border-top-color: var(--fill-color);\n",
              "      border-right-color: var(--fill-color);\n",
              "    }\n",
              "    40% {\n",
              "      border-color: transparent;\n",
              "      border-right-color: var(--fill-color);\n",
              "      border-top-color: var(--fill-color);\n",
              "    }\n",
              "    60% {\n",
              "      border-color: transparent;\n",
              "      border-right-color: var(--fill-color);\n",
              "    }\n",
              "    80% {\n",
              "      border-color: transparent;\n",
              "      border-right-color: var(--fill-color);\n",
              "      border-bottom-color: var(--fill-color);\n",
              "    }\n",
              "    90% {\n",
              "      border-color: transparent;\n",
              "      border-bottom-color: var(--fill-color);\n",
              "    }\n",
              "  }\n",
              "</style>\n",
              "\n",
              "  <script>\n",
              "    async function quickchart(key) {\n",
              "      const quickchartButtonEl =\n",
              "        document.querySelector('#' + key + ' button');\n",
              "      quickchartButtonEl.disabled = true;  // To prevent multiple clicks.\n",
              "      quickchartButtonEl.classList.add('colab-df-spinner');\n",
              "      try {\n",
              "        const charts = await google.colab.kernel.invokeFunction(\n",
              "            'suggestCharts', [key], {});\n",
              "      } catch (error) {\n",
              "        console.error('Error during call to suggestCharts:', error);\n",
              "      }\n",
              "      quickchartButtonEl.classList.remove('colab-df-spinner');\n",
              "      quickchartButtonEl.classList.add('colab-df-quickchart-complete');\n",
              "    }\n",
              "    (() => {\n",
              "      let quickchartButtonEl =\n",
              "        document.querySelector('#df-020e27ee-8dec-4245-9b79-68a78ac8a3db button');\n",
              "      quickchartButtonEl.style.display =\n",
              "        google.colab.kernel.accessAllowed ? 'block' : 'none';\n",
              "    })();\n",
              "  </script>\n",
              "</div>\n",
              "    </div>\n",
              "  </div>\n"
            ]
          },
          "metadata": {},
          "execution_count": 36
        }
      ],
      "source": [
        "pd.DataFrame({\n",
        "    'features': train_X.columns,\n",
        "    'linear regression': linearRegression['model'].coef_,\n",
        "    'lassoCV': lasso_cv['model'].coef_,\n",
        "    'bayesianRidge': bayesianRidge['model'].coef_,\n",
        "})"
      ]
    },
    {
      "cell_type": "markdown",
      "metadata": {
        "id": "VOpg9nd7pKXG"
      },
      "source": [
        "## OLS results"
      ]
    },
    {
      "cell_type": "code",
      "execution_count": 37,
      "metadata": {
        "colab": {
          "base_uri": "https://localhost:8080/"
        },
        "id": "Nk4I2JYZpKXG",
        "outputId": "7415697d-f3a7-449c-b17a-4f206a0bc473"
      },
      "outputs": [
        {
          "output_type": "stream",
          "name": "stdout",
          "text": [
            "                            OLS Regression Results                            \n",
            "==============================================================================\n",
            "Dep. Variable:                  Price   R-squared:                       0.856\n",
            "Model:                            OLS   Adj. R-squared:                  0.854\n",
            "Method:                 Least Squares   F-statistic:                     319.0\n",
            "Date:                Mon, 02 Oct 2023   Prob (F-statistic):          1.73e-239\n",
            "Time:                        13:53:58   Log-Likelihood:                -5198.1\n",
            "No. Observations:                 600   AIC:                         1.042e+04\n",
            "Df Residuals:                     588   BIC:                         1.047e+04\n",
            "Df Model:                          11                                         \n",
            "Covariance Type:            nonrobust                                         \n",
            "====================================================================================\n",
            "                       coef    std err          t      P>|t|      [0.025      0.975]\n",
            "------------------------------------------------------------------------------------\n",
            "Intercept        -1319.3544   1728.427     -0.763      0.446   -4713.997    2075.288\n",
            "Age_08_04         -140.7488      5.142    -27.374      0.000    -150.847    -130.650\n",
            "KM                  -0.0178      0.002     -7.286      0.000      -0.023      -0.013\n",
            "HP                  36.1034      5.321      6.785      0.000      25.653      46.554\n",
            "Met_Color           84.2818    127.005      0.664      0.507    -165.158     333.721\n",
            "Automatic          416.7820    259.794      1.604      0.109     -93.454     927.018\n",
            "CC                   0.0177      0.099      0.179      0.858      -0.177       0.213\n",
            "Doors              -50.6579     65.187     -0.777      0.437    -178.686      77.371\n",
            "Quarterly_Tax       13.6253      2.518      5.411      0.000       8.680      18.571\n",
            "Weight              13.0387      1.602      8.140      0.000       9.893      16.185\n",
            "Fuel_Type_Diesel  1066.4647    527.285      2.023      0.044      30.872    2102.057\n",
            "Fuel_Type_Petrol  2310.2495    521.045      4.434      0.000    1286.914    3333.585\n",
            "==============================================================================\n",
            "Omnibus:                       62.422   Durbin-Watson:                   1.899\n",
            "Prob(Omnibus):                  0.000   Jarque-Bera (JB):              366.046\n",
            "Skew:                           0.186   Prob(JB):                     3.27e-80\n",
            "Kurtosis:                       6.808   Cond. No.                     2.20e+06\n",
            "==============================================================================\n",
            "\n",
            "Notes:\n",
            "[1] Standard Errors assume that the covariance matrix of the errors is correctly specified.\n",
            "[2] The condition number is large, 2.2e+06. This might indicate that there are\n",
            "strong multicollinearity or other numerical problems.\n"
          ]
        }
      ],
      "source": [
        "# run a linear regression of Price on the remaining 11 predictors in the training set\n",
        "train_df = train_X.join(train_y)\n",
        "\n",
        "predictors = train_X.columns\n",
        "formula = 'Price ~ ' + ' + '.join(predictors)\n",
        "\n",
        "car_lm = sm.ols(formula=formula, data=train_df).fit()\n",
        "print(car_lm.summary())"
      ]
    },
    {
      "cell_type": "code",
      "execution_count": 39,
      "metadata": {
        "id": "p-Z9nhpBpKXG"
      },
      "outputs": [],
      "source": [
        "# HO2: Run all code blocks of Chapter 6 class exercises. Done"
      ]
    }
  ],
  "metadata": {
    "kernelspec": {
      "display_name": "Python 3 (ipykernel)",
      "language": "python",
      "name": "python3"
    },
    "language_info": {
      "codemirror_mode": {
        "name": "ipython",
        "version": 3
      },
      "file_extension": ".py",
      "mimetype": "text/x-python",
      "name": "python",
      "nbconvert_exporter": "python",
      "pygments_lexer": "ipython3",
      "version": "3.9.13"
    },
    "colab": {
      "provenance": []
    }
  },
  "nbformat": 4,
  "nbformat_minor": 0
}