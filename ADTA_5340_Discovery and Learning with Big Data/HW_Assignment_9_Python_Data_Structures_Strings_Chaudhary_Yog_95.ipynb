{
  "nbformat": 4,
  "nbformat_minor": 0,
  "metadata": {
    "colab": {
      "provenance": []
    },
    "kernelspec": {
      "name": "python3",
      "display_name": "Python 3"
    },
    "language_info": {
      "name": "python"
    }
  },
  "cells": [
    {
      "cell_type": "markdown",
      "source": [
        "# Homework Assignment 9: Python Data Structures Strings"
      ],
      "metadata": {
        "id": "Vfg8Vzt_YCHO"
      }
    },
    {
      "cell_type": "code",
      "source": [
        "# The code block executed a string variable named aStr2 with the value ‘Hello’.\n",
        "aStr2='Hello'\n",
        "print(aStr2)"
      ],
      "metadata": {
        "colab": {
          "base_uri": "https://localhost:8080/"
        },
        "id": "5I9XhYC6YEmf",
        "outputId": "cf4d8c56-f0dc-47e9-cda9-6b13305b4168"
      },
      "execution_count": 2,
      "outputs": [
        {
          "output_type": "stream",
          "name": "stdout",
          "text": [
            "Hello\n"
          ]
        }
      ]
    },
    {
      "cell_type": "code",
      "source": [
        "# The code block executed a string variable named aStr2 with the value “This is a string.\".\n",
        "# Then calculate the length of the string, len()\n",
        "aStr=\"This is a String.\"\n",
        "print(\"The length of this string -or the number of characters: \", len(aStr))"
      ],
      "metadata": {
        "colab": {
          "base_uri": "https://localhost:8080/"
        },
        "id": "vVX-qJqXYRoK",
        "outputId": "6212a826-5bc4-4f51-c8ef-7b4dd3db3a54"
      },
      "execution_count": 3,
      "outputs": [
        {
          "output_type": "stream",
          "name": "stdout",
          "text": [
            "The length of this string -or the number of characters:  17\n"
          ]
        }
      ]
    },
    {
      "cell_type": "code",
      "source": [
        "# it prints the characters at the 17 positions using 0-based indexing of the string aStra by accessing it with the index 16.\n",
        "\n",
        "aStr=\"This is a String.\"\n",
        "\n",
        "print(aStr[16])"
      ],
      "metadata": {
        "colab": {
          "base_uri": "https://localhost:8080/"
        },
        "id": "Esuuc6y5Z6By",
        "outputId": "100f6c07-22cb-4873-e181-8aa1cfc57993"
      },
      "execution_count": 4,
      "outputs": [
        {
          "output_type": "stream",
          "name": "stdout",
          "text": [
            ".\n"
          ]
        }
      ]
    },
    {
      "cell_type": "code",
      "source": [
        "#\n",
        "\n",
        "my_string= \"\"\"Hello.Welcome to\n",
        "             Python World!\"\"\"\n",
        "print(my_string)"
      ],
      "metadata": {
        "colab": {
          "base_uri": "https://localhost:8080/"
        },
        "id": "xh1Q3OMjbFoZ",
        "outputId": "4e9c51c8-3bd8-49dd-ea82-e6d6552e7407"
      },
      "execution_count": 5,
      "outputs": [
        {
          "output_type": "stream",
          "name": "stdout",
          "text": [
            "Hello.Welcome to \n",
            "             Python World!\n"
          ]
        }
      ]
    },
    {
      "cell_type": "code",
      "source": [
        "# a list named aList containing four string elements: \"This\", \"is\", \"a\", and \"string\". It then prints\n",
        "\n",
        "aList=[\"This\",\"is\",\"a\",\"string\"]\n",
        "\n",
        "print(\"This is a list: \", aList)"
      ],
      "metadata": {
        "colab": {
          "base_uri": "https://localhost:8080/"
        },
        "id": "EcFBR2_McZ6n",
        "outputId": "13439461-5bf3-4e0c-e64d-44b27eb1f88a"
      },
      "execution_count": 6,
      "outputs": [
        {
          "output_type": "stream",
          "name": "stdout",
          "text": [
            "This is a list:  ['This', 'is', 'a', 'string']\n"
          ]
        }
      ]
    },
    {
      "cell_type": "code",
      "source": [
        "# The list of strings aStrList is then combined into a single string named aString by using the join () method. The individual string elements of aStrList are joined together using a space character (\" \") as the separator.\n",
        "\n",
        "aList = [20,30,40,50,60]\n",
        "\n",
        "# Convert aList into a list of strings-Using the constructor str()\n",
        "aStrList = [str(element) for element in aList]\n",
        "\n",
        "# Using join() to create a new string\n",
        "aString=\" \".join(aStrList)\n",
        "\n",
        "print(\"This is a string: \",aString)"
      ],
      "metadata": {
        "colab": {
          "base_uri": "https://localhost:8080/"
        },
        "id": "KofeCNdMdm9o",
        "outputId": "bf89f32b-90f5-45b7-fe8a-34aa73b5b679"
      },
      "execution_count": 7,
      "outputs": [
        {
          "output_type": "stream",
          "name": "stdout",
          "text": [
            "This is a string:  20 30 40 50 60\n"
          ]
        }
      ]
    },
    {
      "cell_type": "code",
      "source": [
        "# The first value is the string “str[-1]” and the Second value is the string str with index -1 which indicates that the character of the string 'programiz' is 'z'.\n",
        "str='programiz'\n",
        "\n",
        "print('str[-1]',str[-1])\n"
      ],
      "metadata": {
        "colab": {
          "base_uri": "https://localhost:8080/"
        },
        "id": "OVOk-NO3e1yQ",
        "outputId": "24ff355e-f8ad-43c2-9d30-0c34541d44f0"
      },
      "execution_count": 8,
      "outputs": [
        {
          "output_type": "stream",
          "name": "stdout",
          "text": [
            "str[-1] z\n"
          ]
        }
      ]
    },
    {
      "cell_type": "code",
      "source": [
        "# The print functions are used to display a substring of sample_str that’s 4’th characters (Index 3) and goes up the 6‘th characters (Index 5).\n",
        "\n",
        "sample_str='Python String'\n",
        "print(sample_str[3:5])"
      ],
      "metadata": {
        "colab": {
          "base_uri": "https://localhost:8080/"
        },
        "id": "eUOwpAfZgp7e",
        "outputId": "85ebad01-1e30-42cb-f1b4-4fca699fbcc4"
      },
      "execution_count": 9,
      "outputs": [
        {
          "output_type": "stream",
          "name": "stdout",
          "text": [
            "ho\n"
          ]
        }
      ]
    },
    {
      "cell_type": "code",
      "source": [
        "#\n",
        "sample_str='Python String'\n",
        "\n",
        "print(sample_str[7:-4])\n"
      ],
      "metadata": {
        "colab": {
          "base_uri": "https://localhost:8080/"
        },
        "id": "vB5gQ-uFiCE0",
        "outputId": "5386e311-ceb2-468c-f74b-dc8408496e25"
      },
      "execution_count": 10,
      "outputs": [
        {
          "output_type": "stream",
          "name": "stdout",
          "text": [
            "St\n"
          ]
        }
      ]
    },
    {
      "cell_type": "code",
      "source": [
        "sample_str='Python String'\n",
        "sample_str[2]='a'"
      ],
      "metadata": {
        "colab": {
          "base_uri": "https://localhost:8080/",
          "height": 197
        },
        "id": "qonmqZZkjXu6",
        "outputId": "8d6b59da-7cf9-4d1d-842b-58ccb38a722e"
      },
      "execution_count": 11,
      "outputs": [
        {
          "output_type": "error",
          "ename": "TypeError",
          "evalue": "ignored",
          "traceback": [
            "\u001b[0;31m---------------------------------------------------------------------------\u001b[0m",
            "\u001b[0;31mTypeError\u001b[0m                                 Traceback (most recent call last)",
            "\u001b[0;32m<ipython-input-11-9bc90f6c2034>\u001b[0m in \u001b[0;36m<cell line: 2>\u001b[0;34m()\u001b[0m\n\u001b[1;32m      1\u001b[0m \u001b[0msample_str\u001b[0m\u001b[0;34m=\u001b[0m\u001b[0;34m'Python String'\u001b[0m\u001b[0;34m\u001b[0m\u001b[0;34m\u001b[0m\u001b[0m\n\u001b[0;32m----> 2\u001b[0;31m \u001b[0msample_str\u001b[0m\u001b[0;34m[\u001b[0m\u001b[0;36m2\u001b[0m\u001b[0;34m]\u001b[0m\u001b[0;34m=\u001b[0m\u001b[0;34m'a'\u001b[0m\u001b[0;34m\u001b[0m\u001b[0;34m\u001b[0m\u001b[0m\n\u001b[0m",
            "\u001b[0;31mTypeError\u001b[0m: 'str' object does not support item assignment"
          ]
        }
      ]
    },
    {
      "cell_type": "code",
      "source": [
        "str1 =\"This is a string.\"\n",
        "\n",
        "str1= \"This is a new string.\"\n",
        "print(\"str1 after being reassigned: \",str1 )\n"
      ],
      "metadata": {
        "colab": {
          "base_uri": "https://localhost:8080/"
        },
        "id": "CCa9ccVckhnT",
        "outputId": "2fd1b2dc-7fee-438a-8d51-d542c0cc6a81"
      },
      "execution_count": 12,
      "outputs": [
        {
          "output_type": "stream",
          "name": "stdout",
          "text": [
            "str1 after being reassigned:  This is a new string.\n"
          ]
        }
      ]
    },
    {
      "cell_type": "code",
      "source": [
        "sample_str= \"Python is the best scripting language\"\n",
        "del(sample_str )\n",
        "print(sample_str)"
      ],
      "metadata": {
        "colab": {
          "base_uri": "https://localhost:8080/",
          "height": 215
        },
        "id": "jorvXozmldUz",
        "outputId": "070ec9cb-1263-4d60-910a-d1e935bd63c3"
      },
      "execution_count": 13,
      "outputs": [
        {
          "output_type": "error",
          "ename": "NameError",
          "evalue": "ignored",
          "traceback": [
            "\u001b[0;31m---------------------------------------------------------------------------\u001b[0m",
            "\u001b[0;31mNameError\u001b[0m                                 Traceback (most recent call last)",
            "\u001b[0;32m<ipython-input-13-b944ee7afaba>\u001b[0m in \u001b[0;36m<cell line: 3>\u001b[0;34m()\u001b[0m\n\u001b[1;32m      1\u001b[0m \u001b[0msample_str\u001b[0m\u001b[0;34m=\u001b[0m \u001b[0;34m\"Python is the best scripting language\"\u001b[0m\u001b[0;34m\u001b[0m\u001b[0;34m\u001b[0m\u001b[0m\n\u001b[1;32m      2\u001b[0m \u001b[0;32mdel\u001b[0m\u001b[0;34m(\u001b[0m\u001b[0msample_str\u001b[0m \u001b[0;34m)\u001b[0m\u001b[0;34m\u001b[0m\u001b[0;34m\u001b[0m\u001b[0m\n\u001b[0;32m----> 3\u001b[0;31m \u001b[0mprint\u001b[0m\u001b[0;34m(\u001b[0m\u001b[0msample_str\u001b[0m\u001b[0;34m)\u001b[0m\u001b[0;34m\u001b[0m\u001b[0;34m\u001b[0m\u001b[0m\n\u001b[0m",
            "\u001b[0;31mNameError\u001b[0m: name 'sample_str' is not defined"
          ]
        }
      ]
    },
    {
      "cell_type": "code",
      "source": [
        "\n",
        "str1='Hello'\n",
        "str2=' '\n",
        "str3='World!'\n",
        "# using+\n",
        "print('str1+str2+str3= ',str1+str2+str3)"
      ],
      "metadata": {
        "colab": {
          "base_uri": "https://localhost:8080/"
        },
        "id": "I-jezCsUmf5j",
        "outputId": "0679c2a9-cf4a-4cb0-eb72-837a4203473c"
      },
      "execution_count": 14,
      "outputs": [
        {
          "output_type": "stream",
          "name": "stdout",
          "text": [
            "str1+str2+str3=  Hello World!\n"
          ]
        }
      ]
    },
    {
      "cell_type": "code",
      "source": [
        "str=\"Hello\"\n",
        "replicatedStr=str*3\n",
        "print(\"the string has been replicated three times: \", replicatedStr)"
      ],
      "metadata": {
        "colab": {
          "base_uri": "https://localhost:8080/"
        },
        "id": "1GAVCAcOnQQB",
        "outputId": "de949f78-67ee-439f-824b-590f62db3701"
      },
      "execution_count": 15,
      "outputs": [
        {
          "output_type": "stream",
          "name": "stdout",
          "text": [
            "the string has been replicated three times:  HelloHelloHello\n"
          ]
        }
      ]
    },
    {
      "cell_type": "code",
      "source": [
        "str1=\"Welcome\"\n",
        "print(\"come\" in str1)"
      ],
      "metadata": {
        "colab": {
          "base_uri": "https://localhost:8080/"
        },
        "id": "n5eJGaBxooth",
        "outputId": "f381cc87-1eb3-4c1b-958a-487d369737da"
      },
      "execution_count": 16,
      "outputs": [
        {
          "output_type": "stream",
          "name": "stdout",
          "text": [
            "True\n"
          ]
        }
      ]
    },
    {
      "cell_type": "code",
      "source": [
        "str1=\"Welcome\"\n",
        "print(\"come\" not in str1)"
      ],
      "metadata": {
        "colab": {
          "base_uri": "https://localhost:8080/"
        },
        "id": "ibONuFI3p0T6",
        "outputId": "cc43aa8e-99d9-403a-f9ef-2add645bb9c8"
      },
      "execution_count": 17,
      "outputs": [
        {
          "output_type": "stream",
          "name": "stdout",
          "text": [
            "False\n"
          ]
        }
      ]
    },
    {
      "cell_type": "code",
      "source": [
        "print(\"apple\" < \"banana\")"
      ],
      "metadata": {
        "colab": {
          "base_uri": "https://localhost:8080/"
        },
        "id": "tRjdzrA5qaqg",
        "outputId": "27395442-330e-4064-b9ce-535a74674728"
      },
      "execution_count": 18,
      "outputs": [
        {
          "output_type": "stream",
          "name": "stdout",
          "text": [
            "True\n"
          ]
        }
      ]
    },
    {
      "cell_type": "code",
      "source": [
        "aStr=\"Hello\"\n",
        "\n",
        "for i in aStr:\n",
        "    print(i,end=\"\")"
      ],
      "metadata": {
        "colab": {
          "base_uri": "https://localhost:8080/"
        },
        "id": "abtoCix1qg6y",
        "outputId": "c8bdc7bd-b5cd-4ef3-b09b-c0be5121c0aa"
      },
      "execution_count": 19,
      "outputs": [
        {
          "output_type": "stream",
          "name": "stdout",
          "text": [
            "Hello"
          ]
        }
      ]
    },
    {
      "cell_type": "code",
      "source": [
        "s = \"welcome to Python\"\n",
        "s.isalnum()"
      ],
      "metadata": {
        "colab": {
          "base_uri": "https://localhost:8080/"
        },
        "id": "GF5KM5kvrUmp",
        "outputId": "eafd8cb9-7842-483c-cf14-9627777f1807"
      },
      "execution_count": 20,
      "outputs": [
        {
          "output_type": "execute_result",
          "data": {
            "text/plain": [
              "False"
            ]
          },
          "metadata": {},
          "execution_count": 20
        }
      ]
    },
    {
      "cell_type": "code",
      "source": [
        "\"Welcome\".islower()"
      ],
      "metadata": {
        "colab": {
          "base_uri": "https://localhost:8080/"
        },
        "id": "ilH-sC3zsu_B",
        "outputId": "40068e87-0d13-4ebb-bd4e-3ec177bf8c02"
      },
      "execution_count": 21,
      "outputs": [
        {
          "output_type": "execute_result",
          "data": {
            "text/plain": [
              "False"
            ]
          },
          "metadata": {},
          "execution_count": 21
        }
      ]
    },
    {
      "cell_type": "code",
      "source": [
        "str1= \"This is a string: Hello....Hello Python World!\"\n",
        "print(str1.count(\"Hello\"))"
      ],
      "metadata": {
        "colab": {
          "base_uri": "https://localhost:8080/"
        },
        "id": "jAz2kBDRti4Q",
        "outputId": "e96698cd-9bf3-438e-e1b0-eca32b997622"
      },
      "execution_count": 22,
      "outputs": [
        {
          "output_type": "stream",
          "name": "stdout",
          "text": [
            "2\n"
          ]
        }
      ]
    },
    {
      "cell_type": "code",
      "source": [
        "# HW Assignment 9"
      ],
      "metadata": {
        "id": "ihleJuuEuBiO"
      },
      "execution_count": 23,
      "outputs": []
    },
    {
      "cell_type": "code",
      "source": [],
      "metadata": {
        "id": "MT5xgjN6vPh4"
      },
      "execution_count": null,
      "outputs": []
    }
  ]
}