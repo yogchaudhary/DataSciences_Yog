{
  "nbformat": 4,
  "nbformat_minor": 0,
  "metadata": {
    "colab": {
      "provenance": []
    },
    "kernelspec": {
      "name": "python3",
      "display_name": "Python 3"
    },
    "language_info": {
      "name": "python"
    }
  },
  "cells": [
    {
      "cell_type": "markdown",
      "source": [],
      "metadata": {
        "id": "RMd9zICyY4TJ"
      }
    },
    {
      "cell_type": "markdown",
      "source": [
        "# Homework Assignment 3: Basic Techniques of Programming Part I"
      ],
      "metadata": {
        "id": "46bLVNydDKJj"
      }
    },
    {
      "cell_type": "code",
      "execution_count": null,
      "metadata": {
        "colab": {
          "base_uri": "https://localhost:8080/"
        },
        "id": "6dhowi1S-7in",
        "outputId": "38a7f5c2-c109-4cc5-a98e-a2ba3e20d2a5"
      },
      "outputs": [
        {
          "output_type": "stream",
          "name": "stdout",
          "text": [
            "Enter an integer value:100\n",
            "The user has entered this value: 100\n"
          ]
        }
      ],
      "source": [
        "# The code block prompts the user to enter an integer value. After the user provides an input, the code is then printed, which indicates the values the user has entered.\n",
        "#\n",
        "\n",
        "\n",
        "anIntValue=input(\"Enter an integer value:\")\n",
        "print (\"The user has entered this value:\", anIntValue)"
      ]
    },
    {
      "cell_type": "code",
      "source": [
        "# The code block is using the print() function to display the text. The print() function is called with two arguments in the string using\n",
        "# the string \"\\n\".\n",
        "# It represents a new line of characters, but it does not have any effect in the context because there is no subsequent string.\n",
        "\n",
        "print(\"Examples of using print()function\", \"\\n\")"
      ],
      "metadata": {
        "colab": {
          "base_uri": "https://localhost:8080/"
        },
        "id": "bL6xsW2dDJLf",
        "outputId": "d0d79d8d-bc09-4cdd-b4e8-1bbc5bb13f65"
      },
      "execution_count": null,
      "outputs": [
        {
          "output_type": "stream",
          "name": "stdout",
          "text": [
            "Examples of using print()function \n",
            "\n"
          ]
        }
      ]
    },
    {
      "cell_type": "code",
      "source": [
        "# The code block assigns the value 15 to the variable x and then uses the print() function to display a message indicating the value of x. printed.\n",
        "\n",
        "\n",
        "x = 15\n",
        "print(\"This is the value of x:\",x, \"\\n\")"
      ],
      "metadata": {
        "colab": {
          "base_uri": "https://localhost:8080/"
        },
        "id": "dcBnEUc-H3A0",
        "outputId": "04a4d79d-1063-491e-abe8-f35492a64694"
      },
      "execution_count": null,
      "outputs": [
        {
          "output_type": "stream",
          "name": "stdout",
          "text": [
            "This is the value of x: 15 \n",
            "\n"
          ]
        }
      ]
    },
    {
      "cell_type": "code",
      "source": [
        "# The code block assigns values to two variables, x, and y, and then uses the print() function to display messages indicating the values of both x and y. printed\n",
        "\n",
        "x = 15\n",
        "y = 25\n",
        "print(\"This is the value of x:\",x, \"; This is the value of y:\",y, \".\\n\")\n",
        "\n",
        "\n"
      ],
      "metadata": {
        "colab": {
          "base_uri": "https://localhost:8080/"
        },
        "id": "tVe8FhJMJ2ei",
        "outputId": "3c55fa84-c576-4c2e-8c63-12ef67f410f7"
      },
      "execution_count": null,
      "outputs": [
        {
          "output_type": "stream",
          "name": "stdout",
          "text": [
            "This is the value of x: 15 ; This is the value of y: 25 .\n",
            "\n"
          ]
        }
      ]
    },
    {
      "cell_type": "code",
      "source": [
        "# The code blocks the user from inputting the number of credits. The readiness to graduate is determined by whether the number of credits is greater than or equal to 120\n",
        "\n",
        "numCredits = int(input(\"Enter # of credits then press Enter:\"))\n",
        "\n",
        "if(numCredits >= 120):\n",
        "    readyToGraduate = True;\n",
        "else:\n",
        "    readyToGraduate = False;\n",
        "\n",
        "print(readyToGraduate)"
      ],
      "metadata": {
        "colab": {
          "base_uri": "https://localhost:8080/"
        },
        "id": "X204BfRaL9nf",
        "outputId": "2bb5ed84-76d5-4b2f-bf36-e591b6fa5df5"
      },
      "execution_count": null,
      "outputs": [
        {
          "output_type": "stream",
          "name": "stdout",
          "text": [
            "Enter # of credits then press Enter:120\n",
            "True\n"
          ]
        }
      ]
    },
    {
      "cell_type": "code",
      "source": [
        "# The code block determines and prints the registration priority based on the student's level, as follows: A student's level is assigned to the variable, studentLevel. In this instance, the student is a \"Senior\".\n",
        "\n",
        "\n",
        "studentLevel= \"Senior\" # level: freshman, sophomore, junior, senior\n",
        "if(studentLevel ==\"Senior\"):\n",
        "    prioritytoRegister = 1\n",
        "elif(studentLevel ==\"Junior\"):\n",
        "    prioritytoRegister = 2\n",
        "elif(studentLevel ==\"Sophomore\"):\n",
        "    prioritytoRegister = 3\n",
        "elif(studentLevel ==\"Freshman\"):\n",
        "    prioritytoRegister = 4\n",
        "else:\n",
        "    print(\"Invalid studentLevel!!!\")\n",
        "\n",
        "print(\"studentLevel:\", studentLevel, \"; Priority to register\",prioritytoRegister, \"\\n\")"
      ],
      "metadata": {
        "colab": {
          "base_uri": "https://localhost:8080/"
        },
        "id": "z9vF73o6Nh2R",
        "outputId": "3a79f45b-a2af-4a1f-c269-42b6240da6f9"
      },
      "execution_count": null,
      "outputs": [
        {
          "output_type": "stream",
          "name": "stdout",
          "text": [
            "studentLevel: Senior ; Priority to register 1 \n",
            "\n"
          ]
        }
      ]
    },
    {
      "cell_type": "code",
      "source": [
        "# Homework Assignment 3"
      ],
      "metadata": {
        "id": "cQow-pfUQRxd"
      },
      "execution_count": null,
      "outputs": []
    }
  ]
}