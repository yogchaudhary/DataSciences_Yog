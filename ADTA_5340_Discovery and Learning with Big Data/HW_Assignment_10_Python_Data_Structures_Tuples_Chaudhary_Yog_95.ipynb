{
  "nbformat": 4,
  "nbformat_minor": 0,
  "metadata": {
    "colab": {
      "provenance": []
    },
    "kernelspec": {
      "name": "python3",
      "display_name": "Python 3"
    },
    "language_info": {
      "name": "python"
    }
  },
  "cells": [
    {
      "cell_type": "markdown",
      "source": [
        "# Homework Assignment 10: Python Data Structures Tuples"
      ],
      "metadata": {
        "id": "E9fZuhq22H7V"
      }
    },
    {
      "cell_type": "code",
      "source": [
        "# Tuples in Python are zero-indexed, meaning the first element has an index of 0, and the second has an index of 1.\n",
        "t= (\"tuples\",\"are\",\"immutable\")\n",
        "t[0]"
      ],
      "metadata": {
        "colab": {
          "base_uri": "https://localhost:8080/",
          "height": 36
        },
        "id": "QEbB9xoj2JEz",
        "outputId": "22b46662-bf64-43d2-ea6d-a0e4329f8d14"
      },
      "execution_count": 1,
      "outputs": [
        {
          "output_type": "execute_result",
          "data": {
            "text/plain": [
              "'tuples'"
            ],
            "application/vnd.google.colaboratory.intrinsic+json": {
              "type": "string"
            }
          },
          "metadata": {},
          "execution_count": 1
        }
      ]
    },
    {
      "cell_type": "code",
      "source": [
        "# Tuples in Python are zero-indexed, meaning the first element has an index of -1 and the third has an index of 3.\n",
        "t=(\"tuples\",\"are\",\"immutable\")\n",
        "\n",
        "print(t[-1])\n"
      ],
      "metadata": {
        "colab": {
          "base_uri": "https://localhost:8080/"
        },
        "id": "h8Z4VsZD2doU",
        "outputId": "1a5d94e0-28fc-4319-ea45-f609c5d9d5ab"
      },
      "execution_count": 2,
      "outputs": [
        {
          "output_type": "stream",
          "name": "stdout",
          "text": [
            "immutable\n"
          ]
        }
      ]
    },
    {
      "cell_type": "code",
      "source": [
        "# The len () function is used to determine the length of the tuple, which is the number of elements 3.\n",
        "t=(\"tuples\",\"are\",\"immutable\")\n",
        "\n",
        "print(len(t))\n"
      ],
      "metadata": {
        "colab": {
          "base_uri": "https://localhost:8080/"
        },
        "id": "bqJzJR-G4EON",
        "outputId": "674d1805-b078-44aa-e065-654a5c195714"
      },
      "execution_count": 3,
      "outputs": [
        {
          "output_type": "stream",
          "name": "stdout",
          "text": [
            "3\n"
          ]
        }
      ]
    },
    {
      "cell_type": "code",
      "source": [
        "# tuple my_tuple containing three elements: an integer 1, a string \"Hello\", and a float 3.4.\n",
        "\n",
        "my_tuple= (1,\"Hello\", 3.4)\n",
        "print(my_tuple)\n"
      ],
      "metadata": {
        "colab": {
          "base_uri": "https://localhost:8080/"
        },
        "id": "maifkU095lL7",
        "outputId": "711c6675-9757-4351-d7c8-cf454f1e732c"
      },
      "execution_count": 4,
      "outputs": [
        {
          "output_type": "stream",
          "name": "stdout",
          "text": [
            "(1, 'Hello', 3.4)\n"
          ]
        }
      ]
    },
    {
      "cell_type": "code",
      "source": [
        "# The print() function is used for the tuple n_tuple. There are 4 elements of the tuple. So, n_tuple [0} refers to the first element of n_tuple which is the string “mouse”. Its reference [3] refers to the 4\n",
        "\n",
        "n_tuple=(\"mouse\",[8,4,6],(1,2,3))\n",
        "\n",
        "print(n_tuple[0][3])"
      ],
      "metadata": {
        "colab": {
          "base_uri": "https://localhost:8080/"
        },
        "id": "7hsSMiyx6feg",
        "outputId": "39e7af9d-4298-48ce-9fc0-65281c37cca0"
      },
      "execution_count": 6,
      "outputs": [
        {
          "output_type": "stream",
          "name": "stdout",
          "text": [
            "s\n"
          ]
        }
      ]
    },
    {
      "cell_type": "code",
      "source": [
        "# The code defines tuple ‘my_tuple’ with 6 characters. They used functional characters at index -6 of the tuple. So Negative indexing counts from the end of sequences. The index -6 refers characteristics of the tuple ‘my_tuple.’\n",
        "\n",
        "\n",
        "my_tuple=('p','e','r','m','i','t')\n",
        "\n",
        "print(my_tuple[-6])"
      ],
      "metadata": {
        "colab": {
          "base_uri": "https://localhost:8080/"
        },
        "id": "I1_FNc-W7wns",
        "outputId": "20812b6f-9f4e-4eef-ecf4-ebaa8e834197"
      },
      "execution_count": 7,
      "outputs": [
        {
          "output_type": "stream",
          "name": "stdout",
          "text": [
            "p\n"
          ]
        }
      ]
    },
    {
      "cell_type": "code",
      "source": [
        "#\n",
        "\n",
        "my_tuple=('p','e','r','m','i','t')\n",
        "\n",
        "print(my_tuple[6])"
      ],
      "metadata": {
        "colab": {
          "base_uri": "https://localhost:8080/",
          "height": 215
        },
        "id": "wjtOlntm9YnE",
        "outputId": "ebade8a2-fa72-4297-b31d-85e0ac0d1fd1"
      },
      "execution_count": 8,
      "outputs": [
        {
          "output_type": "error",
          "ename": "IndexError",
          "evalue": "ignored",
          "traceback": [
            "\u001b[0;31m---------------------------------------------------------------------------\u001b[0m",
            "\u001b[0;31mIndexError\u001b[0m                                Traceback (most recent call last)",
            "\u001b[0;32m<ipython-input-8-0e4f06976bd0>\u001b[0m in \u001b[0;36m<cell line: 5>\u001b[0;34m()\u001b[0m\n\u001b[1;32m      3\u001b[0m \u001b[0mmy_tuple\u001b[0m\u001b[0;34m=\u001b[0m\u001b[0;34m(\u001b[0m\u001b[0;34m'p'\u001b[0m\u001b[0;34m,\u001b[0m\u001b[0;34m'e'\u001b[0m\u001b[0;34m,\u001b[0m\u001b[0;34m'r'\u001b[0m\u001b[0;34m,\u001b[0m\u001b[0;34m'm'\u001b[0m\u001b[0;34m,\u001b[0m\u001b[0;34m'i'\u001b[0m\u001b[0;34m,\u001b[0m\u001b[0;34m't'\u001b[0m\u001b[0;34m)\u001b[0m\u001b[0;34m\u001b[0m\u001b[0;34m\u001b[0m\u001b[0m\n\u001b[1;32m      4\u001b[0m \u001b[0;34m\u001b[0m\u001b[0m\n\u001b[0;32m----> 5\u001b[0;31m \u001b[0mprint\u001b[0m\u001b[0;34m(\u001b[0m\u001b[0mmy_tuple\u001b[0m\u001b[0;34m[\u001b[0m\u001b[0;36m6\u001b[0m\u001b[0;34m]\u001b[0m\u001b[0;34m)\u001b[0m\u001b[0;34m\u001b[0m\u001b[0;34m\u001b[0m\u001b[0m\n\u001b[0m",
            "\u001b[0;31mIndexError\u001b[0m: tuple index out of range"
          ]
        }
      ]
    },
    {
      "cell_type": "code",
      "source": [
        "# Using the slicing index, the code extracts and prints the characters from index 1 to index 4 of the my_tuple. Which are the characters indicated as 1, 2, or 3 in the tuple\n",
        "\n",
        "my_tuple =('p','r','o','g','r','a','m','i','z')\n",
        "\n",
        "print(my_tuple[1:4])\n"
      ],
      "metadata": {
        "colab": {
          "base_uri": "https://localhost:8080/"
        },
        "id": "18kdacGf_dbX",
        "outputId": "a870d677-bb98-40f9-9135-d9cba4c6a27b"
      },
      "execution_count": 9,
      "outputs": [
        {
          "output_type": "stream",
          "name": "stdout",
          "text": [
            "('r', 'o', 'g')\n"
          ]
        }
      ]
    },
    {
      "cell_type": "code",
      "source": [
        "#\n",
        "my_tuple =('p','r','o','g','r','a','m','i','z')\n",
        "\n",
        "print(my_tuple[:])"
      ],
      "metadata": {
        "colab": {
          "base_uri": "https://localhost:8080/"
        },
        "id": "s4_mt-gZBBdw",
        "outputId": "6e0090a7-5bf6-4857-8917-be6cd5337733"
      },
      "execution_count": 10,
      "outputs": [
        {
          "output_type": "stream",
          "name": "stdout",
          "text": [
            "('p', 'r', 'o', 'g', 'r', 'a', 'm', 'i', 'z')\n"
          ]
        }
      ]
    },
    {
      "cell_type": "code",
      "source": [
        "#\n",
        "\n",
        "aTuple =('Python','C','C++','Java','Scala')\n",
        "aTuple[2]='Ruby'"
      ],
      "metadata": {
        "colab": {
          "base_uri": "https://localhost:8080/",
          "height": 215
        },
        "id": "ILscV8meCWdQ",
        "outputId": "460b948c-5001-4673-8b52-d7c8cf9b0a3c"
      },
      "execution_count": 11,
      "outputs": [
        {
          "output_type": "error",
          "ename": "TypeError",
          "evalue": "ignored",
          "traceback": [
            "\u001b[0;31m---------------------------------------------------------------------------\u001b[0m",
            "\u001b[0;31mTypeError\u001b[0m                                 Traceback (most recent call last)",
            "\u001b[0;32m<ipython-input-11-1120b718c277>\u001b[0m in \u001b[0;36m<cell line: 4>\u001b[0;34m()\u001b[0m\n\u001b[1;32m      2\u001b[0m \u001b[0;34m\u001b[0m\u001b[0m\n\u001b[1;32m      3\u001b[0m \u001b[0maTuple\u001b[0m \u001b[0;34m=\u001b[0m\u001b[0;34m(\u001b[0m\u001b[0;34m'Python'\u001b[0m\u001b[0;34m,\u001b[0m\u001b[0;34m'C'\u001b[0m\u001b[0;34m,\u001b[0m\u001b[0;34m'C++'\u001b[0m\u001b[0;34m,\u001b[0m\u001b[0;34m'Java'\u001b[0m\u001b[0;34m,\u001b[0m\u001b[0;34m'Scala'\u001b[0m\u001b[0;34m)\u001b[0m\u001b[0;34m\u001b[0m\u001b[0;34m\u001b[0m\u001b[0m\n\u001b[0;32m----> 4\u001b[0;31m \u001b[0maTuple\u001b[0m\u001b[0;34m[\u001b[0m\u001b[0;36m2\u001b[0m\u001b[0;34m]\u001b[0m\u001b[0;34m=\u001b[0m\u001b[0;34m'Ruby'\u001b[0m\u001b[0;34m\u001b[0m\u001b[0;34m\u001b[0m\u001b[0m\n\u001b[0m",
            "\u001b[0;31mTypeError\u001b[0m: 'tuple' object does not support item assignment"
          ]
        }
      ]
    },
    {
      "cell_type": "code",
      "source": [
        "tuple1=(4,2,3,[6,5])\n",
        "\n",
        "print(\"tuple1: \", tuple1)"
      ],
      "metadata": {
        "colab": {
          "base_uri": "https://localhost:8080/"
        },
        "id": "VX55Ab_EDB-u",
        "outputId": "a048369b-fc7a-4aad-b646-30d92a6dbbc3"
      },
      "execution_count": 12,
      "outputs": [
        {
          "output_type": "stream",
          "name": "stdout",
          "text": [
            "tuple1:  (4, 2, 3, [6, 5])\n"
          ]
        }
      ]
    },
    {
      "cell_type": "code",
      "source": [
        "my_tuple =('p','r','o','g','r','a','m','i','z')\n",
        "\n",
        "tuple1=my_tuple\n",
        "\n",
        "print(\"tuple1 after being reassigned: \", tuple1)"
      ],
      "metadata": {
        "colab": {
          "base_uri": "https://localhost:8080/"
        },
        "id": "vw24QkBdElin",
        "outputId": "7c211eb7-2209-49bb-d38f-a3ba8e78f994"
      },
      "execution_count": 14,
      "outputs": [
        {
          "output_type": "stream",
          "name": "stdout",
          "text": [
            "tuple1 after being reassigned:  ('p', 'r', 'o', 'g', 'r', 'a', 'm', 'i', 'z')\n"
          ]
        }
      ]
    },
    {
      "cell_type": "code",
      "source": [
        "aTuple=\"Python is the best scripting language\"\n",
        "\n",
        "del(aTuple)\n",
        "print(aTuple)"
      ],
      "metadata": {
        "colab": {
          "base_uri": "https://localhost:8080/",
          "height": 215
        },
        "id": "9EmQFVUTErYv",
        "outputId": "87154ea1-a805-4051-8ce1-f170b6387c15"
      },
      "execution_count": 16,
      "outputs": [
        {
          "output_type": "error",
          "ename": "NameError",
          "evalue": "ignored",
          "traceback": [
            "\u001b[0;31m---------------------------------------------------------------------------\u001b[0m",
            "\u001b[0;31mNameError\u001b[0m                                 Traceback (most recent call last)",
            "\u001b[0;32m<ipython-input-16-a9c63b943f89>\u001b[0m in \u001b[0;36m<cell line: 4>\u001b[0;34m()\u001b[0m\n\u001b[1;32m      2\u001b[0m \u001b[0;34m\u001b[0m\u001b[0m\n\u001b[1;32m      3\u001b[0m \u001b[0;32mdel\u001b[0m\u001b[0;34m(\u001b[0m\u001b[0maTuple\u001b[0m\u001b[0;34m)\u001b[0m\u001b[0;34m\u001b[0m\u001b[0;34m\u001b[0m\u001b[0m\n\u001b[0;32m----> 4\u001b[0;31m \u001b[0mprint\u001b[0m\u001b[0;34m(\u001b[0m\u001b[0maTuple\u001b[0m\u001b[0;34m)\u001b[0m\u001b[0;34m\u001b[0m\u001b[0;34m\u001b[0m\u001b[0m\n\u001b[0m",
            "\u001b[0;31mNameError\u001b[0m: name 'aTuple' is not defined"
          ]
        }
      ]
    },
    {
      "cell_type": "code",
      "source": [
        "tuple1=\"Hello\",\n",
        "replicatedTuple=tuple1*3\n",
        "print(replicatedTuple)"
      ],
      "metadata": {
        "colab": {
          "base_uri": "https://localhost:8080/"
        },
        "id": "BMM3t_1QHsVt",
        "outputId": "1f3c3a5c-9a71-4dd7-cfbe-67c2229dd2f3"
      },
      "execution_count": 17,
      "outputs": [
        {
          "output_type": "stream",
          "name": "stdout",
          "text": [
            "('Hello', 'Hello', 'Hello')\n"
          ]
        }
      ]
    },
    {
      "cell_type": "code",
      "source": [
        "aTuple=(2,4,6,\"This\",\"is\",\"a\",\"tuple\")\n",
        "print(2 in aTuple)\n",
        "print('a' in aTuple)\n",
        "print(\"This is\" in aTuple)"
      ],
      "metadata": {
        "colab": {
          "base_uri": "https://localhost:8080/"
        },
        "id": "Bp4OPqORJFrH",
        "outputId": "9b84aef9-5037-46d5-a2a7-062be57d782e"
      },
      "execution_count": 18,
      "outputs": [
        {
          "output_type": "stream",
          "name": "stdout",
          "text": [
            "True\n",
            "True\n",
            "False\n"
          ]
        }
      ]
    },
    {
      "cell_type": "code",
      "source": [
        "tuple1=\"Hello World!\"\n",
        "tuple2=\"hello world!\"\n",
        "print(tuple1==tuple2)"
      ],
      "metadata": {
        "colab": {
          "base_uri": "https://localhost:8080/"
        },
        "id": "75_Ifu62J0w2",
        "outputId": "abb4653f-f3cc-4731-d481-1f20b6cf82bc"
      },
      "execution_count": 19,
      "outputs": [
        {
          "output_type": "stream",
          "name": "stdout",
          "text": [
            "False\n"
          ]
        }
      ]
    },
    {
      "cell_type": "code",
      "source": [
        "tuple1=(\"This\",\"is\",1,\"book\")\n",
        "\n",
        "for i in tuple1:\n",
        "    print(i,end=\"\\n\")"
      ],
      "metadata": {
        "colab": {
          "base_uri": "https://localhost:8080/"
        },
        "id": "nzvoBPOtSk8W",
        "outputId": "d5ddc979-af59-4d1e-df7c-fb9ea49f1267"
      },
      "execution_count": 20,
      "outputs": [
        {
          "output_type": "stream",
          "name": "stdout",
          "text": [
            "This\n",
            "is\n",
            "1\n",
            "book\n"
          ]
        }
      ]
    },
    {
      "cell_type": "code",
      "source": [
        "my_tuple=('a','p','p','l','e',)\n",
        "\n",
        "print(my_tuple.count('p'))"
      ],
      "metadata": {
        "colab": {
          "base_uri": "https://localhost:8080/"
        },
        "id": "ajOKp9_OTUXK",
        "outputId": "911b3fe8-e5f0-4692-c1ef-1d2cc9dd8fc0"
      },
      "execution_count": 21,
      "outputs": [
        {
          "output_type": "stream",
          "name": "stdout",
          "text": [
            "2\n"
          ]
        }
      ]
    },
    {
      "cell_type": "code",
      "source": [
        "# HW Assignment 10"
      ],
      "metadata": {
        "id": "-YYMXhwnT3hx"
      },
      "execution_count": 22,
      "outputs": []
    },
    {
      "cell_type": "code",
      "source": [],
      "metadata": {
        "id": "yE7xkjptVXLf"
      },
      "execution_count": null,
      "outputs": []
    }
  ]
}