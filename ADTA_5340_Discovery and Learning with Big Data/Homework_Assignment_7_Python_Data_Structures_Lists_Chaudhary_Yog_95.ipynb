{
  "nbformat": 4,
  "nbformat_minor": 0,
  "metadata": {
    "colab": {
      "provenance": []
    },
    "kernelspec": {
      "name": "python3",
      "display_name": "Python 3"
    },
    "language_info": {
      "name": "python"
    }
  },
  "cells": [
    {
      "cell_type": "markdown",
      "source": [
        "# Homework Assignment 7: Python Data Structures Lists"
      ],
      "metadata": {
        "id": "HESr4-rSD_PW"
      }
    },
    {
      "cell_type": "code",
      "source": [
        "# The code block converts the string “ABC” into a list of individual characters. So, lists are the objectives of the class list that has the function list (), When given a string as arguments, return a list where each element is a character from the string.\n",
        "# The string list “ABC” is contracting the characters.\n",
        "\n",
        "\n",
        "list (\"abc\")"
      ],
      "metadata": {
        "colab": {
          "base_uri": "https://localhost:8080/"
        },
        "id": "a_OlM548EB2e",
        "outputId": "2de20aa5-3537-43b4-8c32-7ca9bf1e070a"
      },
      "execution_count": 1,
      "outputs": [
        {
          "output_type": "execute_result",
          "data": {
            "text/plain": [
              "['a', 'b', 'c']"
            ]
          },
          "metadata": {},
          "execution_count": 1
        }
      ]
    },
    {
      "cell_type": "code",
      "source": [
        "# The code block is a constructor and named list  “empty_list”. Then print the length of the empty list using the len() function.\n",
        "\n",
        "empty_list = []\n",
        "print(len(empty_list))"
      ],
      "metadata": {
        "colab": {
          "base_uri": "https://localhost:8080/"
        },
        "id": "GO4vpGA8EMij",
        "outputId": "7abe8826-8156-491a-fa20-7bce1cd32b91"
      },
      "execution_count": 3,
      "outputs": [
        {
          "output_type": "stream",
          "name": "stdout",
          "text": [
            "0\n"
          ]
        }
      ]
    },
    {
      "cell_type": "code",
      "source": [
        "# A string named aStringOfWords is initialized with the value \"This is a string of words\".\n",
        "# The split (' ') method is used on the aStringOfWords string to split it into a list of operations creates a list where each word from the string becomes an individual element in the list.\n",
        "\n",
        "\n",
        "aStringOfWords= \"This is a string of words\"\n",
        "aList=aStringOfWords.split(' ')\n",
        "print(aList)"
      ],
      "metadata": {
        "colab": {
          "base_uri": "https://localhost:8080/"
        },
        "id": "xW-nAmM7HA3y",
        "outputId": "6816de96-187a-4bfe-ffbd-3b43310a75db"
      },
      "execution_count": 4,
      "outputs": [
        {
          "output_type": "stream",
          "name": "stdout",
          "text": [
            "['This', 'is', 'a', 'string', 'of', 'words']\n"
          ]
        }
      ]
    },
    {
      "cell_type": "code",
      "source": [
        "# A string named aDayString is initialized with the value \"5/1/2017\". The split ('/') method is used on the aDayString string to split it into a list of parts based on the forward slash (/) delimiter.\n",
        "# Operation creates a list where each of the dates\n",
        "\n",
        "\n",
        "aDayString=\"5/1/2017\"\n",
        "aList=aDayString.split('/')\n",
        "print(aList)"
      ],
      "metadata": {
        "colab": {
          "base_uri": "https://localhost:8080/"
        },
        "id": "dL1SjYr3Ihqu",
        "outputId": "a1508379-98df-4a86-a907-2c64eaf0bd6c"
      },
      "execution_count": 5,
      "outputs": [
        {
          "output_type": "stream",
          "name": "stdout",
          "text": [
            "['5', '1', '2017']\n"
          ]
        }
      ]
    },
    {
      "cell_type": "code",
      "source": [
        "# The name “new_llist” is a list from the l_lists string from the second element.\n",
        "# For each sub-list of extracts.\n",
        "# A variable i is initialized to 0. This will serve as a counter.\n",
        "# A for loop iterates over the elements (sub-lists) of new_llists. For each iteration: It prints the sub-list (element).\n",
        "# The counter i is incremented by 1.\n",
        "# If I become equal to 3, the loop is exited prematurely using the break statement.\n",
        "\n",
        "\n",
        "l_lists=[[1,2,3],[2,3,4],[3,4,5]]\n",
        "new_llists=[element[1:] for element in l_lists]\n",
        "i=0\n",
        "for element in new_llists:\n",
        "    print(element)\n",
        "    i=i+1\n",
        "    if i==3:\n",
        "        break\n"
      ],
      "metadata": {
        "colab": {
          "base_uri": "https://localhost:8080/"
        },
        "id": "ZjS_tAe1J_sH",
        "outputId": "1eab0d4f-2951-4049-ea51-8069399ba80d"
      },
      "execution_count": 6,
      "outputs": [
        {
          "output_type": "stream",
          "name": "stdout",
          "text": [
            "[2, 3]\n",
            "[3, 4]\n",
            "[4, 5]\n"
          ]
        }
      ]
    },
    {
      "cell_type": "code",
      "source": [
        "#  The print function is used to display a specific character from the string \"Happy\". Specifically, it accesses the first element of n_list with n_list[0], which is the string \"Happy\".\n",
        "\n",
        "# Then, it accesses the second character of this string with [1].\n",
        "\n",
        "n_list=[\"Happy\",[2,0,1,5]]\n",
        "print(n_list[0][1])\n"
      ],
      "metadata": {
        "colab": {
          "base_uri": "https://localhost:8080/"
        },
        "id": "vo4eK-ZgMKu_",
        "outputId": "2f0b7c48-0f1d-4bd9-e838-bc78cc919220"
      },
      "execution_count": 8,
      "outputs": [
        {
          "output_type": "stream",
          "name": "stdout",
          "text": [
            "a\n"
          ]
        }
      ]
    },
    {
      "cell_type": "code",
      "source": [
        "# The tuple “aTuple” is converted into a list named “alist” using the list() function.\n",
        "\n",
        "# The print function is used to display the length of the list “alist “by utilizing the len() function.\n",
        "\n",
        "aTuple=('ready','fire','aim')\n",
        "aList=list(aTuple)\n",
        "print(\"Length of the list:\",len(aList))"
      ],
      "metadata": {
        "colab": {
          "base_uri": "https://localhost:8080/"
        },
        "id": "BFzZsKcQQbQ6",
        "outputId": "21ae386f-2934-41e4-b9a3-4f1cbb231c59"
      },
      "execution_count": 9,
      "outputs": [
        {
          "output_type": "stream",
          "name": "stdout",
          "text": [
            "Length of the list: 3\n"
          ]
        }
      ]
    },
    {
      "cell_type": "code",
      "source": [
        "# A tuple named “aTuple” is initialized with three strings: 'ready', 'fire', and 'aim'.\n",
        "# The tuple “aTuple” is converted into a list named “alist” using the list () function.\n",
        "# The third element (index 2) of the list alist is accessed and stored in the variable list_element3.\n",
        "\n",
        "\n",
        "aTuple=('ready','fire','aim')\n",
        "aList=list(aTuple)\n",
        "list_element3=aList[2]\n",
        "print(list_element3)"
      ],
      "metadata": {
        "colab": {
          "base_uri": "https://localhost:8080/"
        },
        "id": "zXE7jqbpRbde",
        "outputId": "b886716e-c5e6-4a27-b908-1c9f084ced67"
      },
      "execution_count": 10,
      "outputs": [
        {
          "output_type": "stream",
          "name": "stdout",
          "text": [
            "aim\n"
          ]
        }
      ]
    },
    {
      "cell_type": "code",
      "source": [
        "# The first (index 0) and second (index 1) elements of the languages list, which are 'Python' and 'C' respectively, are accessed.\n",
        "# A string is constructed by concatenating these two elements “and” or “are”\n",
        "\n",
        "\n",
        "languages=[\"Python\",\"C\",\"C++\",\"Java\",\"Perl\"]\n",
        "print(languages[0]+\" and \"+languages[1]+\" are quite different !\")"
      ],
      "metadata": {
        "colab": {
          "base_uri": "https://localhost:8080/"
        },
        "id": "xqc7p5OQSXeh",
        "outputId": "054f493b-3615-4f89-c52a-311887462db0"
      },
      "execution_count": 12,
      "outputs": [
        {
          "output_type": "stream",
          "name": "stdout",
          "text": [
            "Python and C are quite different !\n"
          ]
        }
      ]
    },
    {
      "cell_type": "code",
      "source": [
        "# Using list slicing, the code accesses elements of the my_list starting from the beginning of the list up to, but not including the fifth last element. This slice includes the elements at indices 0 to 3.\n",
        "\n",
        "\n",
        "my_list=['p','r','o','g','r','a','m','i','z']\n",
        "\n",
        "print(my_list[:-5])\n"
      ],
      "metadata": {
        "colab": {
          "base_uri": "https://localhost:8080/"
        },
        "id": "R2akXoatTVHj",
        "outputId": "10087306-bb11-4a51-ab7e-02184961436c"
      },
      "execution_count": 13,
      "outputs": [
        {
          "output_type": "stream",
          "name": "stdout",
          "text": [
            "['p', 'r', 'o', 'g']\n"
          ]
        }
      ]
    },
    {
      "cell_type": "code",
      "source": [
        "# The element at index 0 of the odd list (which is 2) is replaced with the number 1.\n",
        "# Using list slicing, the code replaces the elements of the odd list starting from index 1 up to, but not including index 4 with the numbers: 3, 5, and 7. This essentially replaces the entire rest of the list after the first element.\n",
        "\n",
        "odd= [2,4,6,8]\n",
        "odd[0]=1\n",
        "odd[1:4]=[3,5,7]\n",
        "print(odd)\n"
      ],
      "metadata": {
        "colab": {
          "base_uri": "https://localhost:8080/"
        },
        "id": "W69LE02GUqTi",
        "outputId": "d93c6f6f-7771-406c-bf2c-99cb7af8ae45"
      },
      "execution_count": 14,
      "outputs": [
        {
          "output_type": "stream",
          "name": "stdout",
          "text": [
            "[1, 3, 5, 7]\n"
          ]
        }
      ]
    },
    {
      "cell_type": "code",
      "source": [
        "# The number 7 is appended to the end of the odd list using the append method.\n",
        "# The extend method is used to add multiple numbers (9, 11, 13) to the end of the odd list.\n",
        "odd= [1,3,5]\n",
        "odd.append(7)\n",
        "odd.extend([9,11,13])\n",
        "print(odd)\n"
      ],
      "metadata": {
        "colab": {
          "base_uri": "https://localhost:8080/"
        },
        "id": "hU7yyc3rXE0V",
        "outputId": "e54f04e0-7fae-45ef-c8c5-a8eeae5be30f"
      },
      "execution_count": 15,
      "outputs": [
        {
          "output_type": "stream",
          "name": "stdout",
          "text": [
            "[1, 3, 5, 7, 9, 11, 13]\n"
          ]
        }
      ]
    },
    {
      "cell_type": "code",
      "source": [
        "# A range of items starting from index 1 (inclusive) up to index 5 (exclusive) are deleted from the my_list using the del statement. This removes the characters 'r', 'b', 'l', and 'e' from the list.\n",
        "# The modified my_list indicates that elements from index 1 until 4 have been removed.\n",
        "\n",
        "\n",
        "my_list=['p','r','o','b','l','e','m']\n",
        "\n",
        "# delete one item\n",
        "del my_list[2]\n",
        "\n",
        "# delete multiple items\n",
        "del my_list[1:5]\n",
        "\n",
        "print(\"Elements from index 1 until 4 have been removed: \",my_list)"
      ],
      "metadata": {
        "colab": {
          "base_uri": "https://localhost:8080/"
        },
        "id": "ZlnCfYm8YKSU",
        "outputId": "f362f1f1-7c27-41af-e53a-480c9c1bf32b"
      },
      "execution_count": 16,
      "outputs": [
        {
          "output_type": "stream",
          "name": "stdout",
          "text": [
            "Elements from index 1 until 4 have been removed:  ['p', 'm']\n"
          ]
        }
      ]
    },
    {
      "cell_type": "code",
      "source": [
        "# The character 'p' is removed from the my_list using the remove () method.\n",
        "# The item at index 1 ('r' after removing 'p') is removed from the my_list using the pop() method.\n",
        "# The last item in the my_list ('m') is removed using the pop() method without any arguments.\n",
        "\n",
        "\n",
        "my_list=['p','r','o','b','l','e','m']\n",
        "my_list.remove('p')\n",
        "my_list.pop(1)\n",
        "my_list.pop()\n",
        "\n",
        "print(my_list)"
      ],
      "metadata": {
        "colab": {
          "base_uri": "https://localhost:8080/"
        },
        "id": "o3KoAMBOZIoa",
        "outputId": "b8cde6c5-b89c-483a-8b22-01a1c2392905"
      },
      "execution_count": 17,
      "outputs": [
        {
          "output_type": "stream",
          "name": "stdout",
          "text": [
            "['r', 'b', 'l', 'e']\n"
          ]
        }
      ]
    },
    {
      "cell_type": "code",
      "source": [
        "#  The variable list2 is assigned the value of list1. This means that list2 is now referencing the same memory location as list1.\n",
        "# Intializing list 1\n",
        "list1=[1,2,[3,5],4]\n",
        "\n",
        "# using copy\n",
        "list2 = list1\n",
        "\n",
        "id(list1), id(list2)\n"
      ],
      "metadata": {
        "colab": {
          "base_uri": "https://localhost:8080/"
        },
        "id": "DDydVbTYajrs",
        "outputId": "daab6d71-3e42-4fcf-e990-9775df88f679"
      },
      "execution_count": 18,
      "outputs": [
        {
          "output_type": "execute_result",
          "data": {
            "text/plain": [
              "(135983177686976, 135983177686976)"
            ]
          },
          "metadata": {},
          "execution_count": 18
        }
      ]
    },
    {
      "cell_type": "code",
      "source": [
        "# The copy module provided a function. A list named “list1 is initialized with the elements: 1, 2, a sub-list [3, 5], and 4.]\n",
        "# The deepcopy () function from the copy module is used to create a deep copy of list1 and assign it to list2.\n",
        "# A deep copy means that a new object created in changes to list2 will not affect list1 and vice versa, even for nested elements.\n",
        "# The id () function is used in list1 and list2.\n",
        "\n",
        "\n",
        "\n",
        "# importing \"copy\" for copy operations\n",
        "import copy\n",
        "\n",
        "# initializing list 1\n",
        "list1=[1,2,[3,5],4]\n",
        "\n",
        "# using deepcopy to deepcopy\n",
        "list2=copy.deepcopy(list1)\n",
        "\n",
        "id(list1), id(list2)"
      ],
      "metadata": {
        "colab": {
          "base_uri": "https://localhost:8080/"
        },
        "id": "DF09Xj2Fbc_5",
        "outputId": "389c8ba3-03d8-4c72-f6f4-48ea7936bb55"
      },
      "execution_count": 19,
      "outputs": [
        {
          "output_type": "execute_result",
          "data": {
            "text/plain": [
              "(135983192410304, 135983192688384)"
            ]
          },
          "metadata": {},
          "execution_count": 19
        }
      ]
    },
    {
      "cell_type": "code",
      "source": [
        "# del call is remove\n",
        "list1=[1,2,[3,5],4]\n",
        "del(list1)\n",
        "print(list1)"
      ],
      "metadata": {
        "colab": {
          "base_uri": "https://localhost:8080/",
          "height": 215
        },
        "id": "0pWMfZdDdLOZ",
        "outputId": "1f809689-bdad-4d80-df20-1c35f6c41590"
      },
      "execution_count": 20,
      "outputs": [
        {
          "output_type": "error",
          "ename": "NameError",
          "evalue": "ignored",
          "traceback": [
            "\u001b[0;31m---------------------------------------------------------------------------\u001b[0m",
            "\u001b[0;31mNameError\u001b[0m                                 Traceback (most recent call last)",
            "\u001b[0;32m<ipython-input-20-035cf33a71ea>\u001b[0m in \u001b[0;36m<cell line: 4>\u001b[0;34m()\u001b[0m\n\u001b[1;32m      2\u001b[0m \u001b[0mlist1\u001b[0m\u001b[0;34m=\u001b[0m\u001b[0;34m[\u001b[0m\u001b[0;36m1\u001b[0m\u001b[0;34m,\u001b[0m\u001b[0;36m2\u001b[0m\u001b[0;34m,\u001b[0m\u001b[0;34m[\u001b[0m\u001b[0;36m3\u001b[0m\u001b[0;34m,\u001b[0m\u001b[0;36m5\u001b[0m\u001b[0;34m]\u001b[0m\u001b[0;34m,\u001b[0m\u001b[0;36m4\u001b[0m\u001b[0;34m]\u001b[0m\u001b[0;34m\u001b[0m\u001b[0;34m\u001b[0m\u001b[0m\n\u001b[1;32m      3\u001b[0m \u001b[0;32mdel\u001b[0m\u001b[0;34m(\u001b[0m\u001b[0mlist1\u001b[0m\u001b[0;34m)\u001b[0m\u001b[0;34m\u001b[0m\u001b[0;34m\u001b[0m\u001b[0m\n\u001b[0;32m----> 4\u001b[0;31m \u001b[0mprint\u001b[0m\u001b[0;34m(\u001b[0m\u001b[0mlist1\u001b[0m\u001b[0;34m)\u001b[0m\u001b[0;34m\u001b[0m\u001b[0;34m\u001b[0m\u001b[0m\n\u001b[0m",
            "\u001b[0;31mNameError\u001b[0m: name 'list1' is not defined"
          ]
        }
      ]
    },
    {
      "cell_type": "code",
      "source": [
        "# The print function is used to display the result of concatenating list1 and list2 using the + operator.\n",
        "\n",
        "list1=[1,2,[3,5],4]\n",
        "list2=[\"Hello\",\"World\"]\n",
        "print(list1 + list2)\n"
      ],
      "metadata": {
        "colab": {
          "base_uri": "https://localhost:8080/"
        },
        "id": "3KmCFPamfUDy",
        "outputId": "319460ab-0033-4c4e-a3e4-c9f8831727d9"
      },
      "execution_count": 21,
      "outputs": [
        {
          "output_type": "stream",
          "name": "stdout",
          "text": [
            "[1, 2, [3, 5], 4, 'Hello', 'World']\n"
          ]
        }
      ]
    },
    {
      "cell_type": "code",
      "source": [
        "# The code uses the print() function to multiply a list by contracting a single string “re” by 3 and repeating the list contentment three times.\n",
        "\n",
        "print([\"re\"]*3)"
      ],
      "metadata": {
        "colab": {
          "base_uri": "https://localhost:8080/"
        },
        "id": "6EzyZdLdgWwH",
        "outputId": "295c56d0-d960-43f2-c467-2ba4e263ecc4"
      },
      "execution_count": 23,
      "outputs": [
        {
          "output_type": "stream",
          "name": "stdout",
          "text": [
            "['re', 're', 're']\n"
          ]
        }
      ]
    },
    {
      "cell_type": "code",
      "source": [
        "# The code uses a list1 with elements [1, 2, [3, 5], and a print() function.\n",
        "# If sub-list 3 is an element with “list1” using the “in” operator,\n",
        "\n",
        "list1=[1,2,[3,5],4]\n",
        "print([3] in list1)"
      ],
      "metadata": {
        "colab": {
          "base_uri": "https://localhost:8080/"
        },
        "id": "_P-lvAl1hOTA",
        "outputId": "2cf0af1c-0dec-46f8-c7a6-a0be7d0b5889"
      },
      "execution_count": 24,
      "outputs": [
        {
          "output_type": "stream",
          "name": "stdout",
          "text": [
            "False\n"
          ]
        }
      ]
    },
    {
      "cell_type": "code",
      "source": [
        "# For loop over each element in list1 using a function ()\n",
        "\n",
        "list1=[1,2,[3,5],4]\n",
        "\n",
        "for i in list1:\n",
        "    print(i)"
      ],
      "metadata": {
        "colab": {
          "base_uri": "https://localhost:8080/"
        },
        "id": "hAoynYexiXjm",
        "outputId": "42650ef7-cc7f-4c65-cf15-1468aacc1637"
      },
      "execution_count": 25,
      "outputs": [
        {
          "output_type": "stream",
          "name": "stdout",
          "text": [
            "1\n",
            "2\n",
            "[3, 5]\n",
            "4\n"
          ]
        }
      ]
    },
    {
      "cell_type": "code",
      "source": [
        "# using the print() function. However, the end = \" \" arguments in the print function change the statement space.\n",
        "\n",
        "list1=[1,2,[3,5],4]\n",
        "\n",
        "for i in list1:\n",
        "    print(i,end=\"\")\n"
      ],
      "metadata": {
        "colab": {
          "base_uri": "https://localhost:8080/"
        },
        "id": "VUg7HOKsjwcW",
        "outputId": "55a3da6f-1811-47ee-f8ff-121f06408ddd"
      },
      "execution_count": 26,
      "outputs": [
        {
          "output_type": "stream",
          "name": "stdout",
          "text": [
            "12[3, 5]4"
          ]
        }
      ]
    },
    {
      "cell_type": "code",
      "source": [
        "# uses a for loop to iterate over a list of fruits: 'apple’, banana', and 'mango'. During each iteration statement in the formatted print (\"I like”, fruit),\n",
        "\n",
        "for fruit in['apple','banana','mango']:\n",
        "    print(\"I like\",fruit)"
      ],
      "metadata": {
        "colab": {
          "base_uri": "https://localhost:8080/"
        },
        "id": "IxB5yTdTk4i4",
        "outputId": "2863738b-60f0-41b1-e891-e571b22b29bf"
      },
      "execution_count": 27,
      "outputs": [
        {
          "output_type": "stream",
          "name": "stdout",
          "text": [
            "I like apple\n",
            "I like banana\n",
            "I like mango\n"
          ]
        }
      ]
    },
    {
      "cell_type": "code",
      "source": [
        "# vowels list\n",
        "vowels=['e','a','u','o','i']\n",
        "\n",
        "# sort the vowels\n",
        "vowels.sort()\n",
        "\n",
        "# Print vowels\n",
        "print('sorted list:',vowels)"
      ],
      "metadata": {
        "colab": {
          "base_uri": "https://localhost:8080/"
        },
        "id": "Qty1VfPMmx4q",
        "outputId": "c653ed3f-e414-473c-be64-2c6809aae9d5"
      },
      "execution_count": 28,
      "outputs": [
        {
          "output_type": "stream",
          "name": "stdout",
          "text": [
            "sorted list: ['a', 'e', 'i', 'o', 'u']\n"
          ]
        }
      ]
    },
    {
      "cell_type": "code",
      "source": [
        "list1=['a','p','p','l','e']\n",
        "\n",
        "print(list1.count('p'))"
      ],
      "metadata": {
        "colab": {
          "base_uri": "https://localhost:8080/"
        },
        "id": "y77osJY-oVJf",
        "outputId": "194c0b53-ac42-4a88-8e5d-5602cec04d50"
      },
      "execution_count": 29,
      "outputs": [
        {
          "output_type": "stream",
          "name": "stdout",
          "text": [
            "2\n"
          ]
        }
      ]
    },
    {
      "cell_type": "code",
      "source": [
        "list1=['a','p','p','l','e']\n",
        "\n",
        "print(list1.index('p'))"
      ],
      "metadata": {
        "colab": {
          "base_uri": "https://localhost:8080/"
        },
        "id": "mEpOfvUuqP0u",
        "outputId": "112ab9e1-df0b-4429-f232-7aab3e13fa5f"
      },
      "execution_count": 30,
      "outputs": [
        {
          "output_type": "stream",
          "name": "stdout",
          "text": [
            "1\n"
          ]
        }
      ]
    },
    {
      "cell_type": "code",
      "source": [
        "# Homework Assignment 7"
      ],
      "metadata": {
        "id": "bfyd4U7Jq1-u"
      },
      "execution_count": 31,
      "outputs": []
    },
    {
      "cell_type": "code",
      "source": [],
      "metadata": {
        "id": "tFL70rfqrXh0"
      },
      "execution_count": null,
      "outputs": []
    }
  ]
}