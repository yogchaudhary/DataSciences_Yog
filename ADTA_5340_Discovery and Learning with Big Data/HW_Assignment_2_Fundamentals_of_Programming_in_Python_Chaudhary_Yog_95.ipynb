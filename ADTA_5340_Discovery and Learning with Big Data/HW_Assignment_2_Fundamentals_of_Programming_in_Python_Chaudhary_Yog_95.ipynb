{
  "nbformat": 4,
  "nbformat_minor": 0,
  "metadata": {
    "colab": {
      "provenance": []
    },
    "kernelspec": {
      "name": "python3",
      "display_name": "Python 3"
    },
    "language_info": {
      "name": "python"
    }
  },
  "cells": [
    {
      "cell_type": "code",
      "execution_count": null,
      "metadata": {
        "colab": {
          "base_uri": "https://localhost:8080/"
        },
        "id": "r2K3nwidUdu_",
        "outputId": "0addb8ad-24e3-487f-b66b-c605cda893aa"
      },
      "outputs": [
        {
          "output_type": "stream",
          "name": "stdout",
          "text": [
            "x is a variable . It is an odentifer. Its values is :  3 \n",
            "\n",
            "Data types of x:  <class 'int'> \n",
            "\n",
            "stdName is a varibale. It is an identifer. Its values is :  Yog Chaudhary \n",
            "\n",
            "Data type of stdName:  <class 'str'> \n",
            "\n"
          ]
        }
      ],
      "source": [
        "# x is a name of a variable .x is an identifier\n",
        "\n",
        "x = 3\n",
        "print(\"x is a variable . It is an odentifer. Its values is : \", x, \"\\n\")\n",
        "\n",
        "print (\"Data types of x: \", type(x), '\\n')\n",
        "# stdName is name of a variable thet represents the name of a student.\n",
        "# stdName is an identifier\n",
        "stdName = \"Yog Chaudhary\"\n",
        "\n",
        "print(\"stdName is a varibale. It is an identifer. Its values is : \", stdName, \"\\n\")\n",
        "print(\"Data type of stdName: \", type(stdName), '\\n')\n"
      ]
    },
    {
      "cell_type": "code",
      "source": [
        "# x is a name of a variable .x is an identifier\n",
        "x = 3\n",
        "print (\"x is a variable. It is an identifier. Its value is: \",x,\"\\n\")"
      ],
      "metadata": {
        "colab": {
          "base_uri": "https://localhost:8080/"
        },
        "id": "NT9Jq4JmVGWe",
        "outputId": "f5d1d834-1e65-41aa-925c-d749be51e9a8"
      },
      "execution_count": null,
      "outputs": [
        {
          "output_type": "stream",
          "name": "stdout",
          "text": [
            "x is a variable. It is an identifier. Its value is:  3 \n",
            "\n"
          ]
        }
      ]
    },
    {
      "cell_type": "code",
      "source": [],
      "metadata": {
        "id": "-tHfsVajby6_"
      },
      "execution_count": null,
      "outputs": []
    }
  ]
}