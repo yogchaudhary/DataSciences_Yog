{
  "nbformat": 4,
  "nbformat_minor": 0,
  "metadata": {
    "colab": {
      "provenance": []
    },
    "kernelspec": {
      "name": "python3",
      "display_name": "Python 3"
    },
    "language_info": {
      "name": "python"
    }
  },
  "cells": [
    {
      "cell_type": "markdown",
      "source": [
        "# Homework Assignment 5: Built-In Basic Data Types"
      ],
      "metadata": {
        "id": "0I54Jq1CuCQw"
      }
    },
    {
      "cell_type": "code",
      "source": [
        "# The Code displays the data types of two variables, x, and y.\n",
        "\n",
        "# A variable x is an identifier with value 3\n",
        "\n",
        "# A variable y is assigned the value of x, so y also holds the value 3.\n",
        "\n",
        "# The print function is used to display the data type of the variable x using the built-in type() function.\n",
        "\n",
        "# print function is used to display the data type of the variable y on the basis:\n",
        "\n",
        "# The data type of x is determined to be an integer (int), and this is displayed as <class 'int'>\n",
        "\n",
        "# The data type of y is also an integer (int), and this is displayed similarly as <class 'int'>.\n",
        "\n",
        "x=3\n",
        "y=x\n",
        "\n",
        "print(\"Data type of x: \",type(x),'\\n')\n",
        "print(\"Data type of y: \",type(y),'\\n')"
      ],
      "metadata": {
        "colab": {
          "base_uri": "https://localhost:8080/"
        },
        "id": "-FpvmJ9NuEte",
        "outputId": "38a4fc33-2ec1-4c00-8806-6adaedd1e80f"
      },
      "execution_count": 1,
      "outputs": [
        {
          "output_type": "stream",
          "name": "stdout",
          "text": [
            "Data type of x:  <class 'int'> \n",
            "\n",
            "Data type of y:  <class 'int'> \n",
            "\n"
          ]
        }
      ]
    },
    {
      "cell_type": "code",
      "source": [
        "#  The Code displays the data types of two variables, x, and y.\n",
        "\n",
        "# A variable x is an identifier with a value of 3.5\n",
        "\n",
        "# A variable y is assigned the value of x, so y also holds the value of 3.5\n",
        "\n",
        "# the print function is used to display the data type of the variable x using the built-in type() function.\n",
        "\n",
        "# print function is used to display the data type of the variable y on the basis:\n",
        "\n",
        "# The data type of x is determined to be a floating-point number (float), and this is displayed as <class 'float'>.\n",
        "\n",
        "\n",
        "# The data type of y is also a floating-point number (float), and this is displayed similarly as <class 'float'>.\n",
        "\n",
        "\n",
        "\n",
        "x=3.5\n",
        "y=x\n",
        "print(\"Data type of x: \",type(x),'\\n')\n",
        "print(\"Data type of y: \",type(y),'\\n')\n",
        "\n"
      ],
      "metadata": {
        "colab": {
          "base_uri": "https://localhost:8080/"
        },
        "id": "vGrVcMQjuNtw",
        "outputId": "156ea3ac-31bc-41cc-e8f7-8c06794a8b56"
      },
      "execution_count": 2,
      "outputs": [
        {
          "output_type": "stream",
          "name": "stdout",
          "text": [
            "Data type of x:  <class 'float'> \n",
            "\n",
            "Data type of y:  <class 'float'> \n",
            "\n"
          ]
        }
      ]
    },
    {
      "cell_type": "code",
      "source": [
        "# The code block creates a complex number using two integer values. its data types.\n",
        "\n",
        "# Two variables, x, and y, are initialized with the integer values 5 and 3\n",
        "\n",
        "# A variable named complex is created by using the complex() function, which takes two arguments: the real part (5 from x) and the imaginary part (3 from y). This results in the number 5 + 3j.\n",
        "\n",
        "# The print function is used to display the value of aComplex as a complex number, showing it as (5+3j)\n",
        "\n",
        "# The print function is again used to display the data type of the variable aComplex using the built-in type() function. Based on the provided result:\n",
        "\n",
        "# The value of aComplex is displayed as a complex number (5+3j).\n",
        "\n",
        "# The data type of aComplex is determined to be a complex number (complex), and this is displayed as <class 'complex'>.\n",
        "\n",
        "\n",
        "x=5\n",
        "y=3\n",
        "\n",
        "aComplex= complex(5,3)\n",
        "print (\"aComplex is a complex number: \", aComplex, \"\\n\")\n",
        "print(\"Data type of aComplex: \",type(aComplex),'\\n')"
      ],
      "metadata": {
        "colab": {
          "base_uri": "https://localhost:8080/"
        },
        "id": "8_0TNvX4w-hX",
        "outputId": "498ef2e1-d0f4-4c5d-c456-de1aeac47e84"
      },
      "execution_count": 3,
      "outputs": [
        {
          "output_type": "stream",
          "name": "stdout",
          "text": [
            "aComplex is a complex number:  (5+3j) \n",
            "\n",
            "Data type of aComplex:  <class 'complex'> \n",
            "\n"
          ]
        }
      ]
    },
    {
      "cell_type": "code",
      "source": [
        "# The code block is a variable named boolVar is initialized with the boolean value True.\n",
        "\n",
        "# The print function is used to display the statement that boolVar is a boolean variable, showing its value as True.\n",
        "\n",
        "# The print function is again used to display the data type of the variable boolVar using the built-in type() function.\n",
        "\n",
        "# The value of boolVar is displayed as True.\n",
        "\n",
        "# The data type of boolVar is determined to be boolean (bool), and this is displayed as <class 'bool'>\n",
        "\n",
        "\n",
        "\n",
        "\n",
        "\n",
        "boolVar = True\n",
        "print(\"boolVar is a boolean variable: \",boolVar,\"\\n\")\n",
        "print(\"Data type of boolVar: \",type(boolVar),'\\n')"
      ],
      "metadata": {
        "colab": {
          "base_uri": "https://localhost:8080/"
        },
        "id": "lYp3nb_6x_6V",
        "outputId": "09bbc6f6-2ca9-47df-a50a-0ae935b473f6"
      },
      "execution_count": 4,
      "outputs": [
        {
          "output_type": "stream",
          "name": "stdout",
          "text": [
            "boolVar is a boolean variable:  True \n",
            "\n",
            "Data type of boolVar:  <class 'bool'> \n",
            "\n"
          ]
        }
      ]
    },
    {
      "cell_type": "code",
      "source": [
        "# The code block A variable namedboolVar is initialized with an integer value 5.\n",
        "\n",
        "# An if condition checks the truthiness of boolVar. In Python, any non-zero number is considered True in a boolean context, so the condition will evaluate to True for the integer 5.\n",
        "\n",
        "# If the condition is True, inside the if block will be executed.\n",
        "\n",
        "# The print function is then used to display the data type of the boolVar using the built-in type() function. Based on the provided result.\n",
        "\n",
        "# The value of boolVar is displayed as 5.\n",
        "\n",
        "# The data type of boolVar is determined to be an integer (int), and this is displayed as <class 'int'>.\n",
        "\n",
        "\n",
        "boolVar = 5\n",
        "\n",
        "if(boolVar):\n",
        "    print(\"boolVar is a boolean variable: \",boolVar,\"\\n\")\n",
        "    print(\"Data type of boolVar: \", type(boolVar), '\\n')"
      ],
      "metadata": {
        "colab": {
          "base_uri": "https://localhost:8080/"
        },
        "id": "Y2W-iNEa0IEH",
        "outputId": "24562e82-04c9-479d-dba2-49c63dbd6315"
      },
      "execution_count": 5,
      "outputs": [
        {
          "output_type": "stream",
          "name": "stdout",
          "text": [
            "boolVar is a boolean variable:  5 \n",
            "\n",
            "Data type of boolVar:  <class 'int'> \n",
            "\n"
          ]
        }
      ]
    },
    {
      "cell_type": "code",
      "source": [
        "# In the code blocks, a variable named boolVar is initialized with the boolean value False.\n",
        "\n",
        "# The print function is used to display the statement that boolVar is a boolean variable and shows its value as False.\n",
        "\n",
        "# The print function is then used to display the data type of the boolVar using the built-in type() function.\n",
        "\n",
        "# The value of boolVar is displayed as False.\n",
        "\n",
        "# The data type of boolVar is determined to be boolean (bool), and this is displayed as <class 'bool'>.\n",
        "\n",
        "\n",
        "boolVar = False\n",
        "\n",
        "print(\"boolVar is a boolean variable: \",boolVar,\"\\n\")\n",
        "print(\"Data type of boolVar: \",type(boolVar),'\\n')\n",
        "\n",
        "\n",
        "\n"
      ],
      "metadata": {
        "colab": {
          "base_uri": "https://localhost:8080/"
        },
        "id": "bT6rFTZs1rlH",
        "outputId": "dcdb15bf-7b5a-43b4-f1f4-732fdc14fc43"
      },
      "execution_count": 6,
      "outputs": [
        {
          "output_type": "stream",
          "name": "stdout",
          "text": [
            "boolVar is a boolean variable:  False \n",
            "\n",
            "Data type of boolVar:  <class 'bool'> \n",
            "\n"
          ]
        }
      ]
    },
    {
      "cell_type": "code",
      "source": [
        "# In the code blocks, a variable named boolVar is initialized with the boolean value zero.\n",
        "\n",
        "# It should display values whose data types are 0\n",
        "\n",
        "\n",
        "boolVar = 0\n",
        "\n",
        "if(boolVar):\n",
        "    print(\"boolVar is a boolean variable: \",boolVar,\"\\n\")\n",
        "    print(\"Data type of boolVar: \", type(boolVar), '\\n')"
      ],
      "metadata": {
        "id": "e5sfLA173vsh"
      },
      "execution_count": 8,
      "outputs": []
    },
    {
      "cell_type": "code",
      "source": [
        "# In the code block, a variable named aChar is initialized with the string value 'a'.\n",
        "\n",
        "# The code then prints a statement indicating that aChar is a string variable and not a character variable, displaying the value of aChar.\n",
        "\n",
        "# prints the data type of the variable, aChar which is<class 'str'>, confirming that it's a string in Python.\n",
        "\n",
        "aChar = 'a'\n",
        "print(\"aChar is a String Variable, NOT a Character variable: \", aChar, \"\\n\")\n",
        "print(\"Data type of aChar: \", type(aChar),'\\n')"
      ],
      "metadata": {
        "colab": {
          "base_uri": "https://localhost:8080/"
        },
        "id": "wmKL31jq5IdU",
        "outputId": "118323ab-fede-47ac-9416-14dc2bffd2fa"
      },
      "execution_count": 9,
      "outputs": [
        {
          "output_type": "stream",
          "name": "stdout",
          "text": [
            "aChar is a String Variable, NOT a Character variable:  a \n",
            "\n",
            "Data type of aChar:  <class 'str'> \n",
            "\n"
          ]
        }
      ]
    },
    {
      "cell_type": "code",
      "source": [
        "# Homework Assignment 5"
      ],
      "metadata": {
        "id": "zM8HZnux5y_r"
      },
      "execution_count": 10,
      "outputs": []
    }
  ]
}