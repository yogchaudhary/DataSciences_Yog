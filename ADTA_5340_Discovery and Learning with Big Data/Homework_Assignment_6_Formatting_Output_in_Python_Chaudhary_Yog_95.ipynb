{
  "nbformat": 4,
  "nbformat_minor": 0,
  "metadata": {
    "colab": {
      "provenance": []
    },
    "kernelspec": {
      "name": "python3",
      "display_name": "Python 3"
    },
    "language_info": {
      "name": "python"
    }
  },
  "cells": [
    {
      "cell_type": "markdown",
      "source": [
        "# Homework Assignment 6: Formatting Output in Python"
      ],
      "metadata": {
        "id": "fvDsI_DUgPXn"
      }
    },
    {
      "cell_type": "code",
      "execution_count": 5,
      "metadata": {
        "colab": {
          "base_uri": "https://localhost:8080/"
        },
        "id": "8VxR5hTAehRq",
        "outputId": "a4de05f5-e8e9-4c67-ab3a-2ef672a7d272"
      },
      "outputs": [
        {
          "output_type": "stream",
          "name": "stdout",
          "text": [
            " 3.561e+02\n"
          ]
        }
      ],
      "source": [
        "# This code uses Python string formatting to print a floating-point number ( 3.561e+02). In science with decimal numbers.\n",
        "\n",
        "print(\"%10.3e\"%(356.08977))"
      ]
    },
    {
      "cell_type": "code",
      "source": [
        "# The code block uses Python string formatting to print an integer number (25) with actual formatting \"%10o.\"\n",
        "print(\"%10o\"%(25))"
      ],
      "metadata": {
        "colab": {
          "base_uri": "https://localhost:8080/"
        },
        "id": "cZ5fDpT-eiO1",
        "outputId": "b405a11a-7bb3-4247-f76a-21aaa5e12670"
      },
      "execution_count": 6,
      "outputs": [
        {
          "output_type": "stream",
          "name": "stdout",
          "text": [
            "        31\n"
          ]
        }
      ]
    },
    {
      "cell_type": "code",
      "source": [
        "# The code block uses Python string formatting to print an integer number (25) with the actual formatting string \"%10o.\"\n",
        "\n",
        "print(\"%10.5o\"%(25))"
      ],
      "metadata": {
        "colab": {
          "base_uri": "https://localhost:8080/"
        },
        "id": "oMA6C6axjXS6",
        "outputId": "10e903dd-d63b-407e-97c6-cc43df862817"
      },
      "execution_count": 7,
      "outputs": [
        {
          "output_type": "stream",
          "name": "stdout",
          "text": [
            "     00031\n"
          ]
        }
      ]
    },
    {
      "cell_type": "code",
      "source": [
        "# The code block uses Python string formatting to print an integer number (47) with the actual formatting string \"%5x.\"\n",
        "\n",
        "# %5xThis indicates that the number should be formatted in lowercase hexadecimal notation, and 5 is the entered string.\n",
        "\n",
        "# When the code was executed, it converted the value to 47. It's hexadecimal. Which is the 2F printed minimum width of 5 characters for the entire output.\n",
        "\n",
        "\n",
        "print(\"%5x\"%(47))"
      ],
      "metadata": {
        "colab": {
          "base_uri": "https://localhost:8080/"
        },
        "id": "zu9mrbS5kvKZ",
        "outputId": "5bd8331b-6704-443e-cb60-f52a1fef1d25"
      },
      "execution_count": 8,
      "outputs": [
        {
          "output_type": "stream",
          "name": "stdout",
          "text": [
            "   2f\n"
          ]
        }
      ]
    },
    {
      "cell_type": "code",
      "source": [
        "# The code block uses Python string formatting to print an integer number (47) with the actual formatting string \"%5x.\"\n",
        "\n",
        "# %4xThis indicates that the number should be formatted in lowercase hexadecimal notation, and 4 is the entered string.\n",
        "\n",
        "# When the code was executed, it converted the value to 47. It's hexadecimal. Which is the 002F printed minimum width of 4 characters for the hexadecimal value of the entire output.\n",
        "\n",
        "\n",
        "print(\"%5.4X\"%(47))"
      ],
      "metadata": {
        "colab": {
          "base_uri": "https://localhost:8080/"
        },
        "id": "L6xHnvaLlW_4",
        "outputId": "4ccf532a-9750-4a94-ce91-79cad31e4677"
      },
      "execution_count": 9,
      "outputs": [
        {
          "output_type": "stream",
          "name": "stdout",
          "text": [
            " 002F\n"
          ]
        }
      ]
    },
    {
      "cell_type": "code",
      "source": [
        "# The code block is using Python's string formatting with the str.format() method to format and display an integer (453) and a floating-point number (59.058),\n",
        "\n",
        "# When the code is executed, it formats the integer 453 and the floating-point number 59.058 as per the directives and produces the string 'Art: 453, Price: 59.06'.\n",
        "\n",
        "\n",
        "\"Art:{a:5d}, Price:{p:8.2f}\".format(a=453,p=59.058)"
      ],
      "metadata": {
        "colab": {
          "base_uri": "https://localhost:8080/",
          "height": 36
        },
        "id": "B0aV4nfNnVRs",
        "outputId": "aa47c0dd-0024-477a-bf8b-56fa90f78b58"
      },
      "execution_count": 10,
      "outputs": [
        {
          "output_type": "execute_result",
          "data": {
            "text/plain": [
              "'Art:  453, Price:   59.06'"
            ],
            "application/vnd.google.colaboratory.intrinsic+json": {
              "type": "string"
            }
          },
          "metadata": {},
          "execution_count": 10
        }
      ]
    },
    {
      "cell_type": "code",
      "source": [
        "# The code block is using Python's string formatting with the str.format() method to format and display an integer 000378\n",
        "\n",
        "# The integer value is 378 is assigned to the variable x. The string \"The value is {:06d}\" contains a placeholder for an integer.\n",
        "\n",
        "\n",
        "# When executed, the code produces the output: 'The value is 000378'. The integer 378 is displayed with three leading zeros to ensure a total width of 6 characters.\n",
        "\n",
        "\n",
        "x=378\n",
        "print(\"The value is {:06d}\".format(x))"
      ],
      "metadata": {
        "colab": {
          "base_uri": "https://localhost:8080/"
        },
        "id": "AnWFbh5ypCQi",
        "outputId": "efc4ed6c-5547-4c65-d0f4-e8db9ad179e4"
      },
      "execution_count": 11,
      "outputs": [
        {
          "output_type": "stream",
          "name": "stdout",
          "text": [
            "The value is 000378\n"
          ]
        }
      ]
    },
    {
      "cell_type": "code",
      "source": [
        "# The code block uses Python's string formatting with the str.format() method to format and display a large integer 7893512456.\n",
        "\n",
        "# The string \"The value is {:,}\" contains a placeholder for an integer. It inserts commas as thousand separators in the integer.\n",
        "\n",
        "# When executed, the code produces the output: 'The value is 7,893,512,456'. The integer 7893512456 is printed.\n",
        "\n",
        "x=7893512456\n",
        "print(\"The value is {:,}\".format(x))"
      ],
      "metadata": {
        "colab": {
          "base_uri": "https://localhost:8080/"
        },
        "id": "lOiJnhwiqi1y",
        "outputId": "b7adf707-d219-4bdc-db7a-5a5eab385f04"
      },
      "execution_count": 12,
      "outputs": [
        {
          "output_type": "stream",
          "name": "stdout",
          "text": [
            "The value is 7,893,512,456\n"
          ]
        }
      ]
    },
    {
      "cell_type": "code",
      "source": [
        "# The code block uses Python's string formatting with the str.format() method to format and display a large integer 7893512456.\n",
        "\n",
        "# The string \"The value is {:6,d}\" contains a placeholder for an integer. Python to ensure a minimum width of 6 characters\n",
        "\n",
        "# When executed, the code produces the output: 'The value is 7,893,512,456'. The integer 7893512456 is printed.\n",
        "\n",
        "x=7893512456\n",
        "print(\"The value is {0:6,d}\".format(x))"
      ],
      "metadata": {
        "colab": {
          "base_uri": "https://localhost:8080/"
        },
        "id": "y_I0-qM9rwN_",
        "outputId": "75584e11-aa0a-4ba0-ca2f-522160f0c242"
      },
      "execution_count": 13,
      "outputs": [
        {
          "output_type": "stream",
          "name": "stdout",
          "text": [
            "The value is 7,893,512,456\n"
          ]
        }
      ]
    },
    {
      "cell_type": "code",
      "source": [
        "# The code block uses Python's string formatting with the str.format() method to format and display a large integer 7893512456.\n",
        "\n",
        "# The integer value 7893512456 is assigned to the variable x. and The integer is treated as a floating-point number for the purpose of formatting.\n",
        "\n",
        "# The string \"The value is {:12,.3f}\" contains a placeholder for a floating-point number.\n",
        "\n",
        "# 12 This ensures a minimum width of 12 characters for the displayed number.\n",
        "# f This formatting separator in the number with three decimal places.\n",
        "\n",
        "# When executed, the code produces the output: 'The value is 7,893,512,456.000'. The integer 7893512456 is printed.\n",
        "\n",
        "x=7893512456\n",
        "print(\"The value is {0:12,.3f}\".format(x))"
      ],
      "metadata": {
        "colab": {
          "base_uri": "https://localhost:8080/"
        },
        "id": "w8gRq0YntPKN",
        "outputId": "2d6baad7-480d-49d1-d1e2-31aef5db546d"
      },
      "execution_count": 16,
      "outputs": [
        {
          "output_type": "stream",
          "name": "stdout",
          "text": [
            "The value is 7,893,512,456.000\n"
          ]
        }
      ]
    },
    {
      "cell_type": "code",
      "source": [
        "# The code block uses Python's string formatting with the str.format() method to format and display two integer values, 47 and 11, within a string.\n",
        "\n",
        "# The string\"First argument: {0}, second one: {1}\" contains two placeholders {0} and {1}. These placeholders refer to the indexed positions of the arguments provided in the format() method.\n",
        "\n",
        "# {0}: Refers to the first argument provided informat(), which is 47.\n",
        "# {1}: Refers to the second argument provided informat(), which is 11.\n",
        "\n",
        "# When executed, the code produces the output: The resulting formatted string is: 'First argument: 47, second one: 11'as printed.\n",
        "\n",
        "\"First argument :{0}, second one: {1}\".format(47,11)"
      ],
      "metadata": {
        "colab": {
          "base_uri": "https://localhost:8080/",
          "height": 36
        },
        "id": "ZFY-Ey9suYU0",
        "outputId": "088d0fdb-7c61-4ffe-e325-e3ea0d388b2f"
      },
      "execution_count": null,
      "outputs": [
        {
          "output_type": "execute_result",
          "data": {
            "text/plain": [
              "'First argument :47, second one: 11'"
            ],
            "application/vnd.google.colaboratory.intrinsic+json": {
              "type": "string"
            }
          },
          "metadata": {},
          "execution_count": 17
        }
      ]
    },
    {
      "cell_type": "code",
      "source": [
        "# The code block uses Python's string formatting with the str.format() method to format and display values within a string based on format.\n",
        "\n",
        "# The string \"Second argument: {1:3d}, first one: {0:7.2f}\" contains two placeholders {1:3d} and {0:7.2f}. The arguments provided in the format() method and have specific formatting\n",
        "\n",
        "# {1:3d}refers to the second argument provided informat(), which is 11.\n",
        "# :3d format specifier indicates that the value should be formatted as an integer with a width of at least 3 characters.\n",
        "# {0:7.2f}: Refers to the first argument provided in format(), which is 47.42\n",
        "# :7.2f format specifier indicates that the value should be formatted as a floating-point number with a width of at least 7 characters, including 2 digits after the decimal point.\n",
        "\n",
        "# When executed, the code produces the output: The resulting formatted string is 'Second argument: 11, first one: 47.42'\n",
        "\n",
        "\"Second argument :{1:3d}, first one: {0:7.2f}\".format(47.42,11)"
      ],
      "metadata": {
        "colab": {
          "base_uri": "https://localhost:8080/",
          "height": 36
        },
        "id": "y6GWeF8Mwapd",
        "outputId": "dfa2cb8b-0094-4e6a-b4c3-55b2eb201ed1"
      },
      "execution_count": 1,
      "outputs": [
        {
          "output_type": "execute_result",
          "data": {
            "text/plain": [
              "'Second argument : 11, first one:   47.42'"
            ],
            "application/vnd.google.colaboratory.intrinsic+json": {
              "type": "string"
            }
          },
          "metadata": {},
          "execution_count": 1
        }
      ]
    },
    {
      "cell_type": "code",
      "source": [
        "# The code block uses Python's string formatting with the str.format() method to format a single float value (1.4148) in two different ways, showcasing different precision levels.\n",
        "\n",
        "# The string \"various precisions: {0:6.2f} or {0:6.3f}\" contains two placeholders {0:6.2f} and {0:6.3f} that both refer to the same argument. The value should be formatted as a floating-point number with a width of at least 6 characters, including 2 digits after the decimal point. So, 1.4148 becomes 1.41\n",
        "\n",
        "# The resulting printed string is 'various precisions : 1.41 or 1.415'\n",
        "\n",
        "\n",
        "\"various precisions :{0:6.2f} or {0:6.3f}\".format(1.4148)"
      ],
      "metadata": {
        "colab": {
          "base_uri": "https://localhost:8080/",
          "height": 36
        },
        "id": "nmhRkkUOx7rT",
        "outputId": "39e67d9f-574e-47b0-aa97-7a671f30c222"
      },
      "execution_count": 3,
      "outputs": [
        {
          "output_type": "execute_result",
          "data": {
            "text/plain": [
              "'various precisions :  1.41 or  1.415'"
            ],
            "application/vnd.google.colaboratory.intrinsic+json": {
              "type": "string"
            }
          },
          "metadata": {},
          "execution_count": 3
        }
      ]
    },
    {
      "cell_type": "code",
      "source": [
        "# Homework Assignment 6"
      ],
      "metadata": {
        "id": "6AV58YqvzS5A"
      },
      "execution_count": 4,
      "outputs": []
    }
  ]
}