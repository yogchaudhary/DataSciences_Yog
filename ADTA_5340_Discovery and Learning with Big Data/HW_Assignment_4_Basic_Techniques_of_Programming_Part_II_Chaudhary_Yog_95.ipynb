{
  "nbformat": 4,
  "nbformat_minor": 0,
  "metadata": {
    "colab": {
      "provenance": []
    },
    "kernelspec": {
      "name": "python3",
      "display_name": "Python 3"
    },
    "language_info": {
      "name": "python"
    }
  },
  "cells": [
    {
      "cell_type": "markdown",
      "source": [
        "# Homework Assignment 4: Basic Techniques of Programming Part II"
      ],
      "metadata": {
        "id": "X_Iekf-2Y9B4"
      }
    },
    {
      "cell_type": "code",
      "source": [
        "# The code blocks are called language that contains a list of names of programming languages: \"C\", \"C++\", \"Java\", \"Python\", \"Perl\", \"Ruby\", and \"Scala\". Then, it uses a for loop to iterate through each item in the language list. For each item in the list, it prints the name of the programming language to the output.\n",
        "# The result is a list of programming languages printed one by one.\n",
        "\n",
        "language=[\"C\",\"C++\",\"Java\",\"Python\",\"Perl\",\"Ruby\",\"Scala\"]\n",
        "\n",
        "for x in language:\n",
        "    print(x)"
      ],
      "metadata": {
        "colab": {
          "base_uri": "https://localhost:8080/"
        },
        "id": "Z1WjCMehY__I",
        "outputId": "d6c847b7-b8a4-4f3f-a662-b6f3e0915860"
      },
      "execution_count": 1,
      "outputs": [
        {
          "output_type": "stream",
          "name": "stdout",
          "text": [
            "C\n",
            "C++\n",
            "Java\n",
            "Python\n",
            "Perl\n",
            "Ruby\n",
            "Scala\n"
          ]
        }
      ]
    },
    {
      "cell_type": "code",
      "source": [
        "# The code block is named, edibles containing the list of items: \"ham\", \"spam\", \"eggs\", and \"nuts\". Then a for loop is used for edibles.\n",
        "# It will be executed only if the loop has not been \"broken \" by a BREAK statement.\n",
        "\n",
        "# So It will be executed after all the line items of the sequences in the header have been iterated through.\n",
        "# After the \"for\" loop, there's an \"else\" block. However, this \"else\" block is attached to the for loop, not the \"if\" statement. This means that the code inside the \"else\" block will execute if the for loop completes without encountering a break statement.\n",
        "\n",
        "# The loop will break when it encounters \"spam\", so the else block will not be executed. Therefore, \"I'm so glad; No spam!\" will not be printed.\n",
        "\n",
        "# After the loop (and possibly the else block), the code prints \"Finally, I finished stuffing myself\".\n",
        "\n",
        "edibles=[\"ham\",\"spam\",\"eggs\",\"nuts\"]\n",
        "for food in edibles:\n",
        "    if food== \"spam\":\n",
        "        print(\"No More spam please!\")\n",
        "        break\n",
        "    print(\"Great,delicious \" + food)\n",
        "else:\n",
        "          print(\"I'm so glad; No spam!\")\n",
        "print(\"Finally, I finished stuffing myself\")"
      ],
      "metadata": {
        "colab": {
          "base_uri": "https://localhost:8080/"
        },
        "id": "Gb04wvA9ZK44",
        "outputId": "4b2f47c7-0eb4-4a3b-805f-624f219cdad8"
      },
      "execution_count": 2,
      "outputs": [
        {
          "output_type": "stream",
          "name": "stdout",
          "text": [
            "Great,delicious ham\n",
            "No More spam please!\n",
            "Finally, I finished stuffing myself\n"
          ]
        }
      ]
    },
    {
      "cell_type": "code",
      "source": [
        "# The code block is named, edibles containing the list of items: \"ham\", \"spam\", \"eggs\", and \"nuts\". Then a for loop is used for edibles.\n",
        "\n",
        "# for loop to iterate over each item in the edibles list. For each item in the list (represented by the variable food), it prints the statement \"No break in FOR loop statements, but list item is: \" followed by the name of the current food item.\n",
        "\n",
        "# After the for loop completes its iteration over all items in the list, an else block attached to the for loop is executed. This else block will always run after the for loop completes since there's no break statement in the loop.\n",
        "\n",
        "# The else block prints the statement \"No break in FOR loop statements, but list item is: \" + food band \"I'm so glad; No spam!\".\n",
        "\n",
        "# Finally, outside of the loop and it's associated else block, the code prints \"Finally, I finished stuffing myself\".\n",
        "\n",
        "edibles=[\"ham\",\"spam\",\"eggs\",\"nuts\"]\n",
        "for food in edibles:\n",
        "    print(\"No break in FOR loop statements, but list item is: \" + food)\n",
        "else:\n",
        "    print(\"I'm so glad; No spam!\")\n",
        "\n",
        "print(\"Finally, I finished stuffing myself\")\n"
      ],
      "metadata": {
        "colab": {
          "base_uri": "https://localhost:8080/"
        },
        "id": "-0z_Kp2nbKGK",
        "outputId": "68cb1eb0-23b0-44ba-850a-a2bff1d57c5b"
      },
      "execution_count": 4,
      "outputs": [
        {
          "output_type": "stream",
          "name": "stdout",
          "text": [
            "No break in FOR loop statements, but list item is: ham\n",
            "No break in FOR loop statements, but list item is: spam\n",
            "No break in FOR loop statements, but list item is: eggs\n",
            "No break in FOR loop statements, but list item is: nuts\n",
            "I'm so glad; No spam!\n",
            "Finally, I finished stuffing myself\n"
          ]
        }
      ]
    },
    {
      "cell_type": "code",
      "source": [
        "# The code block is named, edibles containing the list of items: \"ham\", \"spam\", \"eggs\", and \"nuts\".\n",
        "\n",
        "# Next, a boolean variable named spam is initialized with the value False.\n",
        "\n",
        "# Then, a for loop is used to iterate over each item in the edibles list:\n",
        "\n",
        "# If the current item (food) is \"spam\", the code sets the spam variable to True, prints \"No More spam please!\", and then immediately exit the loop using the break statement.\n",
        "\n",
        "# If the current item is not \"spam\", the code concatenates the string \"Great, delicious \" with the name of the current food item and prints the resulting string.\n",
        "\n",
        "# After the for loop, there's an if condition that checks if the spam variable is still False. This means that if the loop did not encounter \"spam\", the code inside this if block will execute,\n",
        "\n",
        "# printing: Great,delicious ham No More spam, please! Finally, I finished stuffing myself\n",
        "\n",
        "\n",
        "\n",
        "edibles=[\"ham\",\"spam\",\"eggs\",\"nuts\"]\n",
        "spam=False\n",
        "\n",
        "for food in edibles:\n",
        "    if food== \"spam\":\n",
        "        spam=True\n",
        "        print(\"No More spam please!\")\n",
        "        break\n",
        "    print(\"Great,delicious \" + food)\n",
        "\n",
        "if(not spam):\n",
        "    print(\"I'm so glad; No spam!\")\n",
        "\n",
        "print(\"Finally, I finished stuffing myself\")"
      ],
      "metadata": {
        "colab": {
          "base_uri": "https://localhost:8080/"
        },
        "id": "puIA0EKcdeOR",
        "outputId": "8b0b573b-f70a-4db6-ac91-0d9b98f14e8c"
      },
      "execution_count": 5,
      "outputs": [
        {
          "output_type": "stream",
          "name": "stdout",
          "text": [
            "Great,delicious ham\n",
            "No More spam please!\n",
            "Finally, I finished stuffing myself\n"
          ]
        }
      ]
    },
    {
      "cell_type": "code",
      "source": [
        "# The code block is named, edibles containing the list of items: \"ham\", \"spam\", \"eggs\", and \"nuts\".\n",
        "\n",
        "# Next, a boolean variable named spam is initialized with the value False.\n",
        "\n",
        "# The code then enters a for loop, iterating over each item in the edibles list:\n",
        "\n",
        "# If the current item (food) is \"spam\", the code sets the spam variable to True, prints \"No More spam please!\", and then exits the loop using the break statement.\n",
        "\n",
        "# If the current item is not \"spam\", the code concatenates the string \"Great, delicious \" with the name of the current food item and prints the resulting string.\n",
        "\n",
        "# After the for loop, there's an if condition that checks if the spam variable is still False. Since \"spam\" is not in the edibles list in this instance, this condition is satisfied. Therefore, the code inside this if block will execute,\n",
        "\n",
        "# printing: Great,delicious ham Great,delicious eggs Great,delicious nuts I'm so glad; No spam! Finally, I finished stuffing myself\n",
        "\n",
        "\n",
        "\n",
        "edibles=[\"ham\",\"eggs\",\"nuts\"]\n",
        "spam=False\n",
        "\n",
        "for food in edibles:\n",
        "    if food== \"spam\":\n",
        "        spam= True\n",
        "        print(\"No More spam please!\")\n",
        "        break\n",
        "    print(\"Great,delicious \" + food)\n",
        "\n",
        "if(not spam):\n",
        "    print(\"I'm so glad; No spam!\")\n",
        "\n",
        "print(\"Finally, I finished stuffing myself\")"
      ],
      "metadata": {
        "colab": {
          "base_uri": "https://localhost:8080/"
        },
        "id": "5Da7GwUej40s",
        "outputId": "c7bc6ef1-caf4-445a-bdca-d6655cdf97ea"
      },
      "execution_count": 6,
      "outputs": [
        {
          "output_type": "stream",
          "name": "stdout",
          "text": [
            "Great,delicious ham\n",
            "Great,delicious eggs\n",
            "Great,delicious nuts\n",
            "I'm so glad; No spam!\n",
            "Finally, I finished stuffing myself\n"
          ]
        }
      ]
    },
    {
      "cell_type": "code",
      "source": [
        "# For loop runs as long as the number of processed items (numItems) is less than the total number of items to be sold (totalSoldItems).\n",
        "# The input function. The entered value is converted to an integer and stored in the variable price.\n",
        "# The value of price is added to totalSales to update the cumulative sales amount.\n",
        "# An if condition checks if the totalSales has reached or exceeded a threshold of 1000000. If it has, the loop terminates prematurely using the break statement.\n",
        "# If the threshold is not reached, numItems is incremented by 1 to update the count of processed items.\n",
        "# The user entered a price of 5000 for the first item.The user then entered a price of 1000000 for the second item.\n",
        "# Since the cumulative sales (totalSales) reached 1005000, which exceeds the threshold of 1000000, the loop terminated after processing just two items. The result 1005000 was printed.\n",
        "\n",
        "\n",
        "\n",
        "numItems=0\n",
        "totalSales=0\n",
        "totalSoldItems=5000\n",
        "\n",
        "while(numItems<totalSoldItems):\n",
        "    price=int(input(\"Enter the price of the next sold item: \"))\n",
        "    totalSales=totalSales+price\n",
        "    if(totalSales>=1000000):\n",
        "        break;\n",
        "    numItems=numItems+1\n",
        "print(totalSales)"
      ],
      "metadata": {
        "colab": {
          "base_uri": "https://localhost:8080/"
        },
        "id": "sIM2htAFlcec",
        "outputId": "4c20bd6b-e360-4745-b2ee-b049caa09591"
      },
      "execution_count": 10,
      "outputs": [
        {
          "output_type": "stream",
          "name": "stdout",
          "text": [
            "Enter the price of the next sold item: 5000\n",
            "Enter the price of the next sold item: 1000000\n",
            "1005000\n"
          ]
        }
      ]
    },
    {
      "cell_type": "code",
      "source": [
        "# Homework Assignment 4"
      ],
      "metadata": {
        "id": "P8EvrrGvmj0z"
      },
      "execution_count": 12,
      "outputs": []
    }
  ]
}