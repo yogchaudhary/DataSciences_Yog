{
  "nbformat": 4,
  "nbformat_minor": 0,
  "metadata": {
    "colab": {
      "provenance": []
    },
    "kernelspec": {
      "name": "python3",
      "display_name": "Python 3"
    },
    "language_info": {
      "name": "python"
    }
  },
  "cells": [
    {
      "cell_type": "markdown",
      "source": [
        "# Homework Assignment 8: Python Data Structures Range"
      ],
      "metadata": {
        "id": "GECVoT01yJ0P"
      }
    },
    {
      "cell_type": "code",
      "source": [
        "# The code block uses the range () functions to generate the consequences of the number string from 0 to 10.\n",
        "# Sequences are then converted into the list () of the function.\n",
        "\n",
        "list(range(10))"
      ],
      "metadata": {
        "colab": {
          "base_uri": "https://localhost:8080/"
        },
        "id": "dteleqTgyK0x",
        "outputId": "b6a0f913-b3f5-43e9-fc59-4a1599111f51"
      },
      "execution_count": 2,
      "outputs": [
        {
          "output_type": "execute_result",
          "data": {
            "text/plain": [
              "[0, 1, 2, 3, 4, 5, 6, 7, 8, 9]"
            ]
          },
          "metadata": {},
          "execution_count": 2
        }
      ]
    },
    {
      "cell_type": "code",
      "source": [
        "# The code block uses the range () functions to generate the consequences of the number string from 0 to 11.\n",
        "# Sequences are then converted into the list () of the function.\n",
        "list(range(1,11))"
      ],
      "metadata": {
        "colab": {
          "base_uri": "https://localhost:8080/"
        },
        "id": "OubdObZpyUgV",
        "outputId": "e99cace2-980f-43e9-f07d-ada0a91c0029"
      },
      "execution_count": 3,
      "outputs": [
        {
          "output_type": "execute_result",
          "data": {
            "text/plain": [
              "[1, 2, 3, 4, 5, 6, 7, 8, 9, 10]"
            ]
          },
          "metadata": {},
          "execution_count": 3
        }
      ]
    },
    {
      "cell_type": "code",
      "source": [
        "# The code block uses the range () functions to generate the consequences of the number string from 0 to incrementing by 5 each time and ending before 30.\n",
        "# Sequences are then converted into the list () of the function.\n",
        "\n",
        "\n",
        "list(range(0,30,5))"
      ],
      "metadata": {
        "colab": {
          "base_uri": "https://localhost:8080/"
        },
        "id": "gLx83oiO19dY",
        "outputId": "5316da10-21c1-446d-f534-dc91b0066da8"
      },
      "execution_count": 4,
      "outputs": [
        {
          "output_type": "execute_result",
          "data": {
            "text/plain": [
              "[0, 5, 10, 15, 20, 25]"
            ]
          },
          "metadata": {},
          "execution_count": 4
        }
      ]
    },
    {
      "cell_type": "code",
      "source": [
        "list(range(0,10,3))"
      ],
      "metadata": {
        "colab": {
          "base_uri": "https://localhost:8080/"
        },
        "id": "WW25-7cp2lqQ",
        "outputId": "4d8ef870-ae74-4e60-ed38-84b1c598f2d4"
      },
      "execution_count": 5,
      "outputs": [
        {
          "output_type": "execute_result",
          "data": {
            "text/plain": [
              "[0, 3, 6, 9]"
            ]
          },
          "metadata": {},
          "execution_count": 5
        }
      ]
    },
    {
      "cell_type": "code",
      "source": [
        "list(range(0,-10,-1))"
      ],
      "metadata": {
        "colab": {
          "base_uri": "https://localhost:8080/"
        },
        "id": "FxMzV00-3eZ_",
        "outputId": "9333d674-9abe-4139-ea7d-bf68de50823f"
      },
      "execution_count": 6,
      "outputs": [
        {
          "output_type": "execute_result",
          "data": {
            "text/plain": [
              "[0, -1, -2, -3, -4, -5, -6, -7, -8, -9]"
            ]
          },
          "metadata": {},
          "execution_count": 6
        }
      ]
    },
    {
      "cell_type": "code",
      "source": [
        "list(range(0))"
      ],
      "metadata": {
        "colab": {
          "base_uri": "https://localhost:8080/"
        },
        "id": "KerfIpWB39B_",
        "outputId": "5a59c44c-9246-416e-f776-35614ae8a36e"
      },
      "execution_count": 7,
      "outputs": [
        {
          "output_type": "execute_result",
          "data": {
            "text/plain": [
              "[]"
            ]
          },
          "metadata": {},
          "execution_count": 7
        }
      ]
    },
    {
      "cell_type": "code",
      "source": [
        "# Homework Assignment 8"
      ],
      "metadata": {
        "id": "39YCJlja4jjg"
      },
      "execution_count": 8,
      "outputs": []
    },
    {
      "cell_type": "code",
      "source": [],
      "metadata": {
        "id": "hwyMXpCU408Y"
      },
      "execution_count": null,
      "outputs": []
    }
  ]
}