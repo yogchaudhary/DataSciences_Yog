{
 "cells": [
  {
   "cell_type": "markdown",
   "metadata": {
    "id": "ukWOxcsGlFaR"
   },
   "source": [
    "# <center><font color=green>Python Primer </font> </center>  \n",
    "### <font color=red> **Important** </font>\n",
    "\n",
    "### Save this file with your initials and last two digits of ID number appended to file name like \"Module 1 Assignment, DOE Jane 25, H02 IPYNB\" before submitting it. \n",
    "### In addition, put a comment at the beginning of each code block to explain it with the same initials and digits. I have put one at the beginning as an example for you to follow. Do not forget to change it. \n",
    "### Finally, you will name all variables similarly: for instance, x = 3 below will be modified as xJD54 = 3. \n",
    "### If your initials and digits appear in any other student's submission or if another student's initials and digits appear in your submission you will be degraded one letter and I will file your submission to the Academic Integrity Office.\n",
    "### Be sure to run all the codes before you submit your assignment "
   ]
  },
  {
   "cell_type": "markdown",
   "metadata": {},
   "source": [
    "### 1. Comments \n",
    "\n",
    "Comments help a lot to take notes while coding. They are so useful to remind you and other coders of what you are doing."
   ]
  },
  {
   "cell_type": "markdown",
   "metadata": {},
   "source": [
    "<font color=red> **Run the following code by simply clicking on the \"Run this cell\" beside the block** </font>"
   ]
  },
  {
   "cell_type": "code",
   "execution_count": null,
   "metadata": {
    "id": "2Bc_KIm5wUlo"
   },
   "outputs": [],
   "source": [
    "# MO54 This is a simple comment to exemplify how the comments are placed in Pyhton\n",
    "# This is a comment"
   ]
  },
  {
   "cell_type": "markdown",
   "metadata": {},
   "source": [
    "<font color=red> **Write a comment below to express your first impression about this course and run it. Remember\n",
    "    that you are supposed to put a comment at the top of each code block with your initials and digits** </font> "
   ]
  },
  {
   "cell_type": "code",
   "execution_count": 17,
   "metadata": {},
   "outputs": [
    {
     "name": "stdout",
     "output_type": "stream",
     "text": [
      "Welcome to ADTA 5230 Data Mining analytics 2 Course \n"
     ]
    }
   ],
   "source": [
    "#YC95\n",
    "# I am very much interested to run pythan. This will be very helpful for me as \n",
    "\n",
    "\n",
    "# print(\"Welcome to ADTA 5230 Data Mining analytics 2 Course \")"
   ]
  },
  {
   "cell_type": "markdown",
   "metadata": {
    "id": "yc8vXoJR2kjD"
   },
   "source": [
    "## 2. Print text on screen"
   ]
  },
  {
   "cell_type": "code",
   "execution_count": 1,
   "metadata": {
    "id": "OjWsOMcN37ov"
   },
   "outputs": [
    {
     "name": "stdout",
     "output_type": "stream",
     "text": [
      "Hello World\n"
     ]
    }
   ],
   "source": [
    "print (\"Hello World\")"
   ]
  },
  {
   "cell_type": "markdown",
   "metadata": {},
   "source": [
    "<font color=red> **Write a command below to print \"Hello Professor Orhan!\"** </font>"
   ]
  },
  {
   "cell_type": "code",
   "execution_count": 20,
   "metadata": {},
   "outputs": [
    {
     "name": "stdout",
     "output_type": "stream",
     "text": [
      "Hello Professor Orhan!\n"
     ]
    }
   ],
   "source": [
    "#YC95\n",
    "print(\"Hello Professor Orhan!\")"
   ]
  },
  {
   "cell_type": "markdown",
   "metadata": {
    "id": "ij87BYPS5hse"
   },
   "source": [
    "## 3. Identifiers, Keywords, and Data Types"
   ]
  },
  {
   "cell_type": "markdown",
   "metadata": {
    "id": "V7PYcHfABSNl"
   },
   "source": [
    "### 3.1 Data Containers\n",
    "###### Variables are data containers whose values are likely to be changed along the course of executing a program."
   ]
  },
  {
   "cell_type": "markdown",
   "metadata": {
    "id": "MXnGVbFOBlqF"
   },
   "source": [
    "#### Variable/Identifier x:\n",
    "\n",
    " - x is an identifier. It is a ***variable.***\n",
    " - its value is 3: 3 is ***data***\n",
    " - The variable (identifier) x is the ***data container*** that contains the piece of data \"3\".\n",
    " - ***Data type*** of x is \"int\"\n",
    "\n",
    "Here is an example\n",
    "\n",
    " <font color=red> **Run the following code:** </font>"
   ]
  },
  {
   "cell_type": "code",
   "execution_count": 11,
   "metadata": {
    "id": "hmETYXsuBj5e"
   },
   "outputs": [
    {
     "name": "stdout",
     "output_type": "stream",
     "text": [
      "x is a variable. It is an identifier. Its value is:  3 \n",
      "\n",
      "Data type of x:  <class 'int'> \n",
      "\n",
      "stdName is a variable. It is an identifier. Its value is:  John Smith \n",
      "\n",
      "Data type of stdName:  <class 'str'> \n",
      "\n"
     ]
    }
   ],
   "source": [
    "# x is a name of a variable. x is an identifier.\n",
    "x = 3\n",
    "\n",
    "print (\"x is a variable. It is an identifier. Its value is: \",x, \"\\n\")\n",
    "print(\"Data type of x: \", type (x), '\\n')\n",
    "\n",
    "#stdName is a name of a variable that represents the name of a student.\n",
    "#stdName is an identifier\n",
    "\n",
    "stdName = \"John Smith\"\n",
    "\n",
    "print (\"stdName is a variable. It is an identifier. Its value is: \", stdName, \"\\n\")\n",
    "print(\"Data type of stdName: \", type (stdName), '\\n')"
   ]
  },
  {
   "cell_type": "markdown",
   "metadata": {},
   "source": [
    "<font color=red> **Define another variable y and set it equal to last three digits of your ID number. Define another variable for student name (call it stname) and set it equal to your full name. Modify the block code above with these two new variables (y and stname) and run it. Be careful about naming variables exlained at the top, i.e. y should appear as yMO354, for instance.** </font>"
   ]
  },
  {
   "cell_type": "code",
   "execution_count": 94,
   "metadata": {},
   "outputs": [
    {
     "name": "stdout",
     "output_type": "stream",
     "text": [
      "y is a variable. It is an identifier. Its value is:  095 \n",
      "\n",
      "Data type of y:  <class 'str'> \n",
      "\n",
      "stdName is a variable. It is an identifier. Its value is:  Yog Chaudhary \n",
      "\n",
      "Data type of stdName:  <class 'str'> \n",
      "\n"
     ]
    }
   ],
   "source": [
    "#YC95\n",
    "# y is a name of a variable. y is an identifier.\n",
    "y = \"095\"\n",
    "\n",
    "print (\"y is a variable. It is an identifier. Its value is: \",y, \"\\n\")\n",
    "print(\"Data type of y: \", type (y), '\\n')\n",
    "\n",
    "#stdName is a name of a variable that represents the name of a student.\n",
    "#stdName is an identifier\n",
    "\n",
    "stdName = \"Yog Chaudhary\"\n",
    "\n",
    "print (\"stdName is a variable. It is an identifier. Its value is: \", stdName, \"\\n\")\n",
    "print(\"Data type of stdName: \", type (stdName), '\\n')"
   ]
  },
  {
   "cell_type": "markdown",
   "metadata": {
    "id": "RkyxtNQMCJof"
   },
   "source": [
    "#### Variable/Identifier stdName:\n",
    "\n",
    " - ***stdName*** is an ***identifier***. It is a ***variable***.\n",
    "\n",
    " - Its ***value*** is \"john Smith\": \"JohN Smith\" is ***data***.\n",
    "\n",
    " - The ***variable (identifier)*** stdName is the ***data container*** that contains the piece of data \"John Smith\".\n",
    "\n",
    " - ***Data*** type of stdName is \"str\" (or String)\n",
    "\n",
    "<font color=red>IMPORTANT NOTES:</font> \n",
    " - In Python, identifiers are unlimited in length. Case is significant. \n",
    " - However, the user is strongly discouraged from using a very long name to label variables. Besides, the names should be meaningful."
   ]
  },
  {
   "cell_type": "markdown",
   "metadata": {
    "id": "pOJco8mnCinr"
   },
   "source": [
    "### 3.2 Constants\n",
    "Constants are data containers that contain permanent values, i.e., these values cannot be changed, along the course of executing a program."
   ]
  },
  {
   "cell_type": "code",
   "execution_count": 78,
   "metadata": {},
   "outputs": [],
   "source": [
    "#YC95 \n",
    "# Constaint are often named in uppercase to distinguish the from variables \n",
    "max_value = 100\n",
    "PI = 3.14159\n",
    "# Pi = 3.14 This will taise an error"
   ]
  },
  {
   "cell_type": "markdown",
   "metadata": {
    "id": "gUvO6P5jCwXy"
   },
   "source": [
    "## 4. Assignments\n",
    "### Overview\n",
    "The assignment operator, denoted by the “=” symbol, is the operator that is used to assign values to variables in Python.\n",
    "\n",
    "We use Python assignment statements to assign objects to names. The target of an assignment statement is written on the left side of the equal sign (=), and the object on the right can be an arbitrary expression that computes an object. \n",
    " \n",
    "***Binding a variable*** in Python means setting a name to hold a ***reference*** to some object. \n",
    "  - Assignments create references, not copies.\n",
    " \n",
    " Names in Python do not have an intrinsic type. ***Objects have types***.\n",
    "  - Python determines the ***type of the reference*** automatically based on the ***data object*** assigned to it.\n",
    "  \n",
    "  A name is created when it appears the first time on the left side of an assignment expression:\n",
    "  > x = 3\n",
    "  \n",
    "  A ***reference is deleted*** via garbage collection when NO variables or identifiers refer to it.\n",
    "  \n",
    "### 4.1. Reference Semantic in Python\n",
    "  \n",
    "#### Overview: The process of assigning a value\n",
    "  \n",
    "  What happens when we type: x = 3?\n",
    "  \n",
    "   - First, an integer 3 is created and stored in memory\n",
    "   - Then a name is created\n",
    "   - Next, a reference to the memory location storing the 3 is assigned to the name x\n",
    "   \n",
    "   \n",
    "### 4.2 Assignment manipulates references\n",
    " - y = x: An assignment of x to y\n",
    " - y = x: The assignment does not make a copy of the value of x.\n",
    " - y = x: The assignment makes y refer to the same object as x does.\n",
    "   \n",
    ">Let's say you assign x = 3\n",
    " \n",
    ">And then you assign y = x  \n",
    "\n",
    "When you assign y = x, you now have y = 3 since x = 3 \n",
    "\n",
    "Here is an example\n",
    "### <font color=red> **Run the following code:** </font>"
   ]
  },
  {
   "cell_type": "code",
   "execution_count": 27,
   "metadata": {
    "id": "f9wlJZo1CiJj"
   },
   "outputs": [
    {
     "data": {
      "text/plain": [
       "3"
      ]
     },
     "execution_count": 27,
     "metadata": {},
     "output_type": "execute_result"
    }
   ],
   "source": [
    "x=3\n",
    "\n",
    "y=x\n",
    "\n",
    "y"
   ]
  },
  {
   "cell_type": "markdown",
   "metadata": {},
   "source": [
    "<font color=red> **Revise the code block above with xx replacing x and set equal to 12.98, and yy replacing y** </font>"
   ]
  },
  {
   "cell_type": "code",
   "execution_count": 28,
   "metadata": {},
   "outputs": [
    {
     "data": {
      "text/plain": [
       "12.98"
      ]
     },
     "execution_count": 28,
     "metadata": {},
     "output_type": "execute_result"
    }
   ],
   "source": [
    "#YC95\n",
    "XX = 12.98\n",
    "YY = XX\n",
    "YY"
   ]
  },
  {
   "cell_type": "markdown",
   "metadata": {
    "id": "mhQfZcitEoGk"
   },
   "source": [
    "## 5. Operators and Operations"
   ]
  },
  {
   "cell_type": "markdown",
   "metadata": {
    "id": "ySfhQ8W3EwXt"
   },
   "source": [
    "## 5.1 Numeric Operations\n",
    "| <font size=4>Operator</font> | <font size=4>Operation</font>&nbsp;&nbsp;&nbsp;&nbsp;&nbsp;&nbsp;&nbsp;&nbsp;&nbsp;&nbsp;&nbsp;&nbsp;   | <font size=4>Example</font>&nbsp;&nbsp;&nbsp;&nbsp;&nbsp;&nbsp;&nbsp;&nbsp;&nbsp;&nbsp;&nbsp;&nbsp;  | <font size=4>Result</font> |\n",
    "| :--- | :--            | :--     | :-     |\n",
    "|<font size=4>+</font>     |<font size=4>Addition</font>        |<font size=4>33 + 3</font>   | <font size=4>36</font>     |\n",
    "|<font size=4>- </font>    |<font size=4>Subtraction</font>&nbsp;&nbsp;&nbsp;&nbsp;&nbsp;&nbsp;&nbsp;&nbsp;&nbsp;&nbsp;&nbsp;&nbsp;      |<font size=4>33 - 3</font>   | <font size=4>30</font>     |\n",
    "|<font size=4>* </font>    |<font size=4>Multiplication</font>  |<font size=4>33 * 3</font>&nbsp;&nbsp;&nbsp;&nbsp;&nbsp;&nbsp;&nbsp;&nbsp;&nbsp;&nbsp;&nbsp;&nbsp;    | <font size=4>99</font>     |\n",
    "|<font size=4>/</font>     |<font size=4>Division</font>        |<font size=4>11 / 3   | <font size=4>3.666  |\n",
    "|<font size=4>%</font>     |<font size=4>Remainder</font>       |<font size=4>33 % 3</font>   | <font size=4>0</font>      |\n",
    "|<font size=4>**</font>    |<font size=4>Exponent</font>        |<font size=4>33 ** 3</font>  | <font size=4>35937</font>  |\n",
    "|<font size=4>// </font>   |<font size=4>Floor</font>           |<font size=4>11 // 3</font>  |<font size=4> 3 </font>     |"
   ]
  },
  {
   "cell_type": "markdown",
   "metadata": {},
   "source": [
    "<font color=red> **Insert separate code blocks below to run all the examples above with different randomly selected integers. I am inserting the first line below for an example, you do the rest similarly.** </font>"
   ]
  },
  {
   "cell_type": "code",
   "execution_count": 30,
   "metadata": {},
   "outputs": [
    {
     "data": {
      "text/plain": [
       "854"
      ]
     },
     "execution_count": 30,
     "metadata": {},
     "output_type": "execute_result"
    }
   ],
   "source": [
    "# MO54\n",
    "833 + 21"
   ]
  },
  {
   "cell_type": "code",
   "execution_count": 36,
   "metadata": {},
   "outputs": [
    {
     "data": {
      "text/plain": [
       "36"
      ]
     },
     "execution_count": 36,
     "metadata": {},
     "output_type": "execute_result"
    }
   ],
   "source": [
    "#YC95\n",
    "#Addition \n",
    "33+3 "
   ]
  },
  {
   "cell_type": "code",
   "execution_count": 37,
   "metadata": {},
   "outputs": [
    {
     "data": {
      "text/plain": [
       "30"
      ]
     },
     "execution_count": 37,
     "metadata": {},
     "output_type": "execute_result"
    }
   ],
   "source": [
    "#YC95\n",
    "# Subtraction \n",
    "33-3"
   ]
  },
  {
   "cell_type": "code",
   "execution_count": 38,
   "metadata": {},
   "outputs": [
    {
     "data": {
      "text/plain": [
       "45"
      ]
     },
     "execution_count": 38,
     "metadata": {},
     "output_type": "execute_result"
    }
   ],
   "source": [
    "#YC95\n",
    "# Subtraction \n",
    "55-10"
   ]
  },
  {
   "cell_type": "code",
   "execution_count": 39,
   "metadata": {},
   "outputs": [
    {
     "data": {
      "text/plain": [
       "99"
      ]
     },
     "execution_count": 39,
     "metadata": {},
     "output_type": "execute_result"
    }
   ],
   "source": [
    "#YC95\n",
    "# Multiplication  \n",
    "33*3"
   ]
  },
  {
   "cell_type": "code",
   "execution_count": 40,
   "metadata": {},
   "outputs": [
    {
     "data": {
      "text/plain": [
       "500"
      ]
     },
     "execution_count": 40,
     "metadata": {},
     "output_type": "execute_result"
    }
   ],
   "source": [
    "#YC95\n",
    "# Multiplication  \n",
    "100*5"
   ]
  },
  {
   "cell_type": "code",
   "execution_count": 41,
   "metadata": {},
   "outputs": [
    {
     "data": {
      "text/plain": [
       "3.6666666666666665"
      ]
     },
     "execution_count": 41,
     "metadata": {},
     "output_type": "execute_result"
    }
   ],
   "source": [
    "#YC95\n",
    "# Division  \n",
    "11/3"
   ]
  },
  {
   "cell_type": "code",
   "execution_count": 42,
   "metadata": {},
   "outputs": [
    {
     "data": {
      "text/plain": [
       "8.666666666666666"
      ]
     },
     "execution_count": 42,
     "metadata": {},
     "output_type": "execute_result"
    }
   ],
   "source": [
    "#YC95\n",
    "# Division  \n",
    "78/9"
   ]
  },
  {
   "cell_type": "code",
   "execution_count": 43,
   "metadata": {},
   "outputs": [
    {
     "data": {
      "text/plain": [
       "0"
      ]
     },
     "execution_count": 43,
     "metadata": {},
     "output_type": "execute_result"
    }
   ],
   "source": [
    "#YC95\n",
    "# Remainder\n",
    "33 % 3"
   ]
  },
  {
   "cell_type": "code",
   "execution_count": 44,
   "metadata": {},
   "outputs": [
    {
     "data": {
      "text/plain": [
       "4"
      ]
     },
     "execution_count": 44,
     "metadata": {},
     "output_type": "execute_result"
    }
   ],
   "source": [
    "#YC95\n",
    "# Remainder\n",
    "44 % 5"
   ]
  },
  {
   "cell_type": "code",
   "execution_count": 45,
   "metadata": {},
   "outputs": [
    {
     "data": {
      "text/plain": [
       "35937"
      ]
     },
     "execution_count": 45,
     "metadata": {},
     "output_type": "execute_result"
    }
   ],
   "source": [
    "#YC95\n",
    "# Expoment \n",
    "33 ** 3\n"
   ]
  },
  {
   "cell_type": "code",
   "execution_count": 46,
   "metadata": {},
   "outputs": [
    {
     "data": {
      "text/plain": [
       "503284375"
      ]
     },
     "execution_count": 46,
     "metadata": {},
     "output_type": "execute_result"
    }
   ],
   "source": [
    "#YC95\n",
    "# Expoment \n",
    "55 ** 5\n"
   ]
  },
  {
   "cell_type": "markdown",
   "metadata": {
    "id": "dQLcPm9DE2lh"
   },
   "source": [
    "### 5.2 Augmented Operators\n",
    "| <font size=4>Operator</font> | <font size=4>Operation</font>&nbsp;&nbsp;&nbsp;&nbsp;&nbsp;&nbsp;&nbsp;&nbsp;&nbsp;&nbsp;&nbsp;&nbsp;   | <font size=4>Example</font>&nbsp;&nbsp;&nbsp;&nbsp;&nbsp;&nbsp;&nbsp;&nbsp;&nbsp;&nbsp;&nbsp;&nbsp;  | <font size=4>Result</font> |\n",
    "| :--- | :--            | :--     | :-     |\n",
    "|<font size=4>+=</font>     |<font size=4>Addition assignment</font>        |<font size=4>i += 8</font>   | <font size=4>i = i + 8</font>     |\n",
    "|<font size=4>-= </font>    |<font size=4>Subtraction assignment</font>     |<font size=4>i -= 8</font>   | <font size=4>i = i - 8</font>     |\n",
    "|<font size=4>*= </font>    |<font size=4>Multiplication assignment</font>&nbsp;&nbsp;&nbsp;&nbsp;&nbsp;&nbsp;&nbsp;&nbsp;&nbsp;&nbsp;&nbsp;&nbsp;   |<font size=4>i *= 8</font>   | <font size=4>i = i * 8</font>     |\n",
    "|<font size=4>/=</font>     |<font size=4>Division assignment</font>&nbsp;&nbsp;&nbsp;&nbsp;&nbsp;&nbsp;&nbsp;&nbsp;&nbsp;&nbsp;&nbsp;&nbsp;         |<font size=4>i /= 8   | <font size=4>i = i / 8  |\n",
    "|<font size=4>%=</font>     |<font size=4>Remainder assignment</font>       |<font size=4>i %= 8</font>   | <font size=4>i = i % 8      |\n",
    "|<font size=4>**=</font>    |<font size=4>Exponent assignment</font>        |<font size=4>i **= 8</font>  | <font size=4>i = i ** 8</font>  |\n",
    "|<font size=4>//= </font>   |<font size=4>Floor assignment</font>           |<font size=4>i //= 8</font>  |<font size=4> i = i // 8 </font>     |"
   ]
  },
  {
   "cell_type": "markdown",
   "metadata": {},
   "source": [
    "<font color=red> **Insert separate code blocks below to run all the examples above with different \n",
    "randomly selected integers. I am inserting the first line below for an example, you do the rest similarly.** </font>"
   ]
  },
  {
   "cell_type": "code",
   "execution_count": 50,
   "metadata": {},
   "outputs": [
    {
     "data": {
      "text/plain": [
       "24"
      ]
     },
     "execution_count": 50,
     "metadata": {},
     "output_type": "execute_result"
    }
   ],
   "source": [
    "# MO54\n",
    "i=12\n",
    "i+=12\n",
    "i"
   ]
  },
  {
   "cell_type": "code",
   "execution_count": 52,
   "metadata": {},
   "outputs": [
    {
     "data": {
      "text/plain": [
       "24"
      ]
     },
     "execution_count": 52,
     "metadata": {},
     "output_type": "execute_result"
    }
   ],
   "source": [
    "# YC95\n",
    "# Additional assignment \n",
    "i=12\n",
    "i+=12\n",
    "i"
   ]
  },
  {
   "cell_type": "code",
   "execution_count": 53,
   "metadata": {},
   "outputs": [
    {
     "data": {
      "text/plain": [
       "2"
      ]
     },
     "execution_count": 53,
     "metadata": {},
     "output_type": "execute_result"
    }
   ],
   "source": [
    "# YC95\n",
    "# Subtractin assignment \n",
    "i=12\n",
    "i-=10\n",
    "i"
   ]
  },
  {
   "cell_type": "code",
   "execution_count": 54,
   "metadata": {},
   "outputs": [
    {
     "data": {
      "text/plain": [
       "120"
      ]
     },
     "execution_count": 54,
     "metadata": {},
     "output_type": "execute_result"
    }
   ],
   "source": [
    "# YC95\n",
    "# Multiplication  assignment \n",
    "i=12\n",
    "i*=10\n",
    "i"
   ]
  },
  {
   "cell_type": "code",
   "execution_count": 55,
   "metadata": {},
   "outputs": [
    {
     "data": {
      "text/plain": [
       "1.188118811881188"
      ]
     },
     "execution_count": 55,
     "metadata": {},
     "output_type": "execute_result"
    }
   ],
   "source": [
    "# YC95\n",
    "# Division assignment \n",
    "i=120\n",
    "i/=101\n",
    "i"
   ]
  },
  {
   "cell_type": "code",
   "execution_count": 56,
   "metadata": {},
   "outputs": [
    {
     "data": {
      "text/plain": [
       "1"
      ]
     },
     "execution_count": 56,
     "metadata": {},
     "output_type": "execute_result"
    }
   ],
   "source": [
    "# YC95\n",
    "# Remainder assignment \n",
    "i=121\n",
    "i%=10\n",
    "i"
   ]
  },
  {
   "cell_type": "code",
   "execution_count": 58,
   "metadata": {},
   "outputs": [
    {
     "data": {
      "text/plain": [
       "19487171"
      ]
     },
     "execution_count": 58,
     "metadata": {},
     "output_type": "execute_result"
    }
   ],
   "source": [
    "# YC95\n",
    "# Exponebt assignment \n",
    "i=11\n",
    "i**=7\n",
    "i"
   ]
  },
  {
   "cell_type": "code",
   "execution_count": 59,
   "metadata": {},
   "outputs": [
    {
     "data": {
      "text/plain": [
       "12"
      ]
     },
     "execution_count": 59,
     "metadata": {},
     "output_type": "execute_result"
    }
   ],
   "source": [
    "# YC95\n",
    "# Floor assignment \n",
    "i=121\n",
    "i//=10\n",
    "i"
   ]
  },
  {
   "cell_type": "markdown",
   "metadata": {
    "id": "hK2oPWCgE97f"
   },
   "source": [
    "### 5.3 Relational Operators (a.k.a. Comparison Operators)\n",
    "\n",
    " - Relational operators, a.k.a. comparison operators, are used for comparisons.\n",
    " - A comparison, e.g. a>b, is called a conditional expression or boolean expression.\n",
    " - The result of a boolean expression is either True or False.\n",
    " \n",
    "|<font size=4>Operator</font>| <font size=4>Meaning</font>&nbsp;&nbsp;&nbsp;&nbsp;&nbsp;&nbsp;&nbsp;&nbsp;&nbsp;&nbsp;&nbsp;&nbsp;   | <font size=4>Example</font>     | <font size=4>Ex. Result</font> |\n",
    "| :--- | :--            | :----------|  ----:     |\n",
    "|<font size=4> (<) </font> |<font size=4>Less than</font>        |<font size=4>radius (<) 0 </font>     | <font size=4>False</font>     |\n",
    "|<font size=4>(=<) </font> |<font size=4>Less than or equal to&nbsp;&nbsp;&nbsp;&nbsp;&nbsp;&nbsp;&nbsp;&nbsp;&nbsp;&nbsp;&nbsp;&nbsp; </font>  |<font size=4>radius (<=) 0</font>     | <font size=4>True</font>     |\n",
    "|<font size=4>(>) </font> |<font size=4>Greater than</font>  |<font size=4>radius (>) 0</font>     | <font size=4>True</font>     |\n",
    "|<font size=4>(>=)</font> |<font size=4>Greater than or equal to</font>        |<font size=4>radius (>=) 0     | <font size=4>False </font>  |\n",
    "|<font size=4>(==)</font> |<font size=4>Equal to</font>       |<font size=4>radius (==) 0</font>     | <font size=4>True      |\n",
    "    |<font size=4>(!=)</font> |<font size=4>Not equal to</font>        |<font size=4>radius (!=) 0</font>    | <font size=4>False</font>  |\n"
   ]
  },
  {
   "cell_type": "code",
   "execution_count": null,
   "metadata": {},
   "outputs": [],
   "source": []
  },
  {
   "cell_type": "markdown",
   "metadata": {},
   "source": [
    "<font color=red> **Insert separate code blocks below to run all the examples above after setting the radius to\n",
    "a randomly selected number, say 4. I am inserting the first line below for an example, you do the rest \n",
    "similarly.** </font>"
   ]
  },
  {
   "cell_type": "code",
   "execution_count": 65,
   "metadata": {},
   "outputs": [
    {
     "data": {
      "text/plain": [
       "False"
      ]
     },
     "execution_count": 65,
     "metadata": {},
     "output_type": "execute_result"
    }
   ],
   "source": [
    "# MO54\n",
    "radius = 3\n",
    "radius < 0"
   ]
  },
  {
   "cell_type": "code",
   "execution_count": 67,
   "metadata": {},
   "outputs": [
    {
     "data": {
      "text/plain": [
       "True"
      ]
     },
     "execution_count": 67,
     "metadata": {},
     "output_type": "execute_result"
    }
   ],
   "source": [
    "# YC95\n",
    "radius = 5\n",
    "radius <=15"
   ]
  },
  {
   "cell_type": "code",
   "execution_count": 69,
   "metadata": {},
   "outputs": [
    {
     "data": {
      "text/plain": [
       "True"
      ]
     },
     "execution_count": 69,
     "metadata": {},
     "output_type": "execute_result"
    }
   ],
   "source": [
    "# YC95\n",
    "radius = 5\n",
    "radius > 2"
   ]
  },
  {
   "cell_type": "code",
   "execution_count": 71,
   "metadata": {},
   "outputs": [
    {
     "data": {
      "text/plain": [
       "False"
      ]
     },
     "execution_count": 71,
     "metadata": {},
     "output_type": "execute_result"
    }
   ],
   "source": [
    "# YC95\n",
    "radius = 3\n",
    "radius >= 5"
   ]
  },
  {
   "cell_type": "code",
   "execution_count": 72,
   "metadata": {},
   "outputs": [
    {
     "data": {
      "text/plain": [
       "True"
      ]
     },
     "execution_count": 72,
     "metadata": {},
     "output_type": "execute_result"
    }
   ],
   "source": [
    "# YC95\n",
    "radius = 9\n",
    "radius == 9"
   ]
  },
  {
   "cell_type": "markdown",
   "metadata": {
    "id": "BiuMiHkaFJt4"
   },
   "source": [
    "### 5.4 Logical Operators\n",
    "    \n",
    "|<font size=4>Operator</font>&nbsp;&nbsp;&nbsp;&nbsp;&nbsp;&nbsp;&nbsp;&nbsp;| <font size=4>Meaning</font>&nbsp;&nbsp;&nbsp;&nbsp;&nbsp;&nbsp;&nbsp;&nbsp;&nbsp;&nbsp;&nbsp;&nbsp;  | <font size=4>Example</font> |    \n",
    "| :--- |:--------------| :----------| \n",
    "|<font size=4>not</font>&nbsp;&nbsp;&nbsp;&nbsp;&nbsp;&nbsp;&nbsp;&nbsp;|<font size=4>Opposite</font>&nbsp;&nbsp;&nbsp;&nbsp;&nbsp;&nbsp;&nbsp;&nbsp;&nbsp;&nbsp;&nbsp;&nbsp; |<font size=4>not (radius < 0) </font> | \n",
    "|<font size=4>and</font>|<font size=4>And</font>&nbsp;&nbsp;&nbsp;&nbsp;&nbsp;&nbsp;&nbsp;&nbsp;&nbsp;&nbsp;&nbsp;&nbsp;       |<font size=4>(a > b) or (c < d)</font>     | \n",
    "|<font size=4>or</font>|<font size=4> Or </font>&nbsp;&nbsp;&nbsp;&nbsp;&nbsp;&nbsp;&nbsp;&nbsp;&nbsp;&nbsp;&nbsp;&nbsp;       |<font size=4>(a > b) or (c < d)</font>    | "
   ]
  },
  {
   "cell_type": "markdown",
   "metadata": {
    "id": "5DIrXB_pFPjs"
   },
   "source": [
    "#### 5.4.2  <font color=blue>and</font> Operators\n",
    "a and b ***is true** only when ***both a and b are true***.\n",
    "    \n",
    "|<font size=4>a</font>&nbsp;&nbsp;&nbsp;&nbsp;&nbsp;&nbsp;&nbsp;&nbsp;| <font size=4>b</font>&nbsp;&nbsp;&nbsp;&nbsp;&nbsp;&nbsp;&nbsp;&nbsp;&nbsp;&nbsp;&nbsp;&nbsp;  | <font size=4>a <font color=blue>&nbsp;&nbsp;and</font>&nbsp;&nbsp; b </font> |    \n",
    "| :--- |:--------------| :----------| \n",
    "|<font size=4>True</font>&nbsp;&nbsp;&nbsp;&nbsp;&nbsp;&nbsp;&nbsp;&nbsp;|<font size=4>True</font>&nbsp;&nbsp;&nbsp;&nbsp;&nbsp;&nbsp;&nbsp;&nbsp;&nbsp;&nbsp;&nbsp;&nbsp; |<font size=4>True </font> | \n",
    "|<font size=4>True</font>|<font size=4>False</font>&nbsp;&nbsp;&nbsp;&nbsp;&nbsp;&nbsp;&nbsp;&nbsp;&nbsp;&nbsp;&nbsp;&nbsp;       |<font size=4>False</font>     | \n",
    "|<font size=4>False</font>|<font size=4> True </font>&nbsp;&nbsp;&nbsp;&nbsp;&nbsp;&nbsp;&nbsp;&nbsp;&nbsp;&nbsp;&nbsp;&nbsp;       |<font size=4>False</font>    | \n",
    "|<font size=4>False</font>|<font size=4> False </font>&nbsp;&nbsp;&nbsp;&nbsp;&nbsp;&nbsp;&nbsp;&nbsp;&nbsp;&nbsp;&nbsp;&nbsp;       |<font size=4>False</font>    | "
   ]
  },
  {
   "cell_type": "markdown",
   "metadata": {
    "id": "9KVKlqIXFWYo"
   },
   "source": [
    "### 5.5 Identity Operators\n",
    "In Python, ***identity operators*** are used to check if the ***operands are identical***, i.e., they refer to the same object.\n",
    "\n",
    "|<font size=4>Operator</font>&nbsp;&nbsp;&nbsp;&nbsp;&nbsp;&nbsp;| <font size=4>Result</font>&nbsp;&nbsp;&nbsp;&nbsp;&nbsp;&nbsp;&nbsp;&nbsp;&nbsp;&nbsp;&nbsp;&nbsp;&nbsp;&nbsp;&nbsp;&nbsp;&nbsp;&nbsp;&nbsp;&nbsp;&nbsp;&nbsp;&nbsp;&nbsp;&nbsp;&nbsp;&nbsp;&nbsp;&nbsp;&nbsp;&nbsp;&nbsp;&nbsp;&nbsp;&nbsp;&nbsp;&nbsp;&nbsp;&nbsp;&nbsp;&nbsp;  | <font size=4>Example</font> |    \n",
    "| :--- |:--------------| :----------| \n",
    "|<font size=4>is</font>&nbsp;&nbsp;&nbsp;&nbsp;&nbsp;&nbsp;|<font size=4>True if the operands are identical, i.e., they refer to the same object</font>;&nbsp;&nbsp;&nbsp;&nbsp;&nbsp;&nbsp;&nbsp;&nbsp;&nbsp;&nbsp;&nbsp;&nbsp;&nbsp;&nbsp;&nbsp;&nbsp;&nbsp;&nbsp;&nbsp;&nbsp;&nbsp;&nbsp;&nbsp;&nbsp;&nbsp;&nbsp;&nbsp;&nbsp;&nbsp;&nbsp;&nbsp;&nbsp;&nbsp;&nbsp;&nbsp;&nbsp;&nbsp;&nbsp;&nbsp;&nbsp;&nbsp;&nbsp;&nbsp;&nbsp;&nbsp;&nbsp;&nbsp;&nbsp;&nbsp;&nbsp;&nbsp;&nbsp;&nbsp;&nbsp;&nbsp;&nbsp;&nbsp;&nbsp;&nbsp;&nbsp;&nbsp;&nbsp;&nbsp;&nbsp;&nbsp;|<font size=4>x is y </font> | \n",
    "|<font size=4>is not</font>|<font size=4>True if the operands are not identical, i.e., they do not refer to the same object</font>&nbsp;&nbsp;&nbsp;&nbsp;&nbsp;&nbsp;&nbsp;&nbsp;&nbsp;&nbsp;&nbsp;&nbsp;&nbsp;&nbsp;&nbsp;&nbsp;&nbsp;&nbsp;&nbsp;&nbsp;&nbsp;&nbsp;&nbsp;&nbsp;&nbsp;&nbsp;&nbsp;&nbsp;&nbsp;&nbsp;&nbsp;&nbsp;&nbsp;&nbsp;&nbsp;&nbsp;      |<font size=4>x is not y </font>     | \n"
   ]
  },
  {
   "cell_type": "markdown",
   "metadata": {
    "id": "oD-EIg_IFeO6"
   },
   "source": [
    "Let's illustrate what we have learned.\n",
    "\n",
    "### <font color=red> **Run the following 3 code blocks:** </font>"
   ]
  },
  {
   "cell_type": "code",
   "execution_count": 73,
   "metadata": {
    "id": "iMHhvYWtCgzP"
   },
   "outputs": [
    {
     "name": "stdout",
     "output_type": "stream",
     "text": [
      "x is y\n"
     ]
    }
   ],
   "source": [
    "#YC95\n",
    "x = 5\n",
    "y = 5\n",
    "\n",
    "isTrue = \"x is y\"\n",
    "isFalse = \"x is not y\"\n",
    "\n",
    "if (x is y):\n",
    "    print (isTrue)\n",
    "else:\n",
    "        print (isFalse)"
   ]
  },
  {
   "cell_type": "code",
   "execution_count": 99,
   "metadata": {
    "id": "30CfArcWFrQB"
   },
   "outputs": [
    {
     "name": "stdout",
     "output_type": "stream",
     "text": [
      "x is not y\n"
     ]
    }
   ],
   "source": [
    "#YC95\n",
    "x = 5\n",
    "y = 8\n",
    "\n",
    "isTrue = \"x is y\"\n",
    "isFalse = \"x is not y\"\n",
    "\n",
    "if (x is y):\n",
    "    print (isTrue)\n",
    "    \n",
    "else:\n",
    "    print (isFalse)"
   ]
  },
  {
   "cell_type": "code",
   "execution_count": 100,
   "metadata": {
    "id": "o8imbCB6FwNo"
   },
   "outputs": [
    {
     "name": "stdout",
     "output_type": "stream",
     "text": [
      "x is not y\n"
     ]
    }
   ],
   "source": [
    "#YC95\n",
    "x = 5\n",
    "y = 5\n",
    "\n",
    "isTrue = \"x is y\"\n",
    "isFalse = \"x is not y\"\n",
    "\n",
    "if (x is not y):\n",
    "    print (isTrue)\n",
    "else:\n",
    "        print (isFalse)"
   ]
  },
  {
   "cell_type": "markdown",
   "metadata": {
    "id": "6c2EeK9xF4Nv"
   },
   "source": [
    "### 5.6 Membership Operators\n",
    "\n",
    "In Python, many data structures have their internal structure of a sequence, e.g., String, List, Tuple, etc.\n",
    "\n",
    "For example:\n",
    "\n",
    " - aString = \"Hello World\"\n",
    "\n",
    " - aList = [1,2,3,4,5]\n",
    "\n",
    " - aTuple = (1, 2, 3, 4, 5)\n",
    "\n",
    "***Membership operators*** - in, not in - are used to test ***if a value is found*** in a sequence or not.\n",
    "\n",
    "|<font size=4>Operator</font>&nbsp;&nbsp;&nbsp;&nbsp;&nbsp;&nbsp;| <font size=4>Result</font>&nbsp;&nbsp;&nbsp;&nbsp;&nbsp;&nbsp;&nbsp;&nbsp;&nbsp;&nbsp;&nbsp;&nbsp;&nbsp;&nbsp;&nbsp;&nbsp;&nbsp;&nbsp;&nbsp;&nbsp;&nbsp;&nbsp;&nbsp;&nbsp;&nbsp;&nbsp;&nbsp;&nbsp;&nbsp;&nbsp;&nbsp;&nbsp;&nbsp;&nbsp;&nbsp;&nbsp;&nbsp;&nbsp;&nbsp;&nbsp;&nbsp;  | <font size=4>Example</font> |    \n",
    "| :--- |:--------------| :----------| \n",
    "|<font size=4>in</font>&nbsp;&nbsp;&nbsp;&nbsp;&nbsp;&nbsp;|<font size=4>True if the value/variable is found in the sequence</font>;&nbsp;&nbsp;&nbsp;&nbsp;&nbsp;&nbsp;&nbsp;&nbsp;&nbsp;&nbsp;&nbsp;&nbsp;&nbsp;&nbsp;&nbsp;&nbsp;&nbsp;&nbsp;&nbsp;&nbsp;&nbsp;&nbsp;&nbsp;&nbsp;&nbsp;&nbsp;&nbsp;&nbsp;&nbsp;&nbsp;&nbsp;&nbsp;&nbsp;&nbsp;&nbsp;&nbsp;&nbsp;&nbsp;&nbsp;&nbsp;&nbsp;&nbsp;&nbsp;&nbsp;&nbsp;&nbsp;&nbsp;&nbsp;&nbsp;&nbsp;&nbsp;&nbsp;&nbsp;&nbsp;&nbsp;&nbsp;&nbsp;&nbsp;&nbsp;&nbsp;&nbsp;&nbsp;&nbsp;&nbsp;&nbsp;|<font size=4>x in y </font> | \n",
    "|<font size=4>not in </font>|<font size=4>True if the value/variable is not found in the sequence</font>&nbsp;&nbsp;&nbsp;&nbsp;&nbsp;&nbsp;&nbsp;&nbsp;&nbsp;&nbsp;&nbsp;&nbsp;&nbsp;&nbsp;&nbsp;&nbsp;&nbsp;&nbsp;&nbsp;&nbsp;&nbsp;&nbsp;&nbsp;&nbsp;&nbsp;&nbsp;&nbsp;&nbsp;&nbsp;&nbsp;&nbsp;&nbsp;&nbsp;&nbsp;&nbsp;&nbsp;      |<font size=4>x not in y </font>     | \n",
    "\n",
    "<font color=red> **Run the following 2 code blocks. Never forget to put comments on top of each such code block:** </font>\n"
   ]
  },
  {
   "cell_type": "code",
   "execution_count": 91,
   "metadata": {
    "id": "Jn4thi7EF6Xv"
   },
   "outputs": [
    {
     "name": "stdout",
     "output_type": "stream",
     "text": [
      "H in x\n"
     ]
    }
   ],
   "source": [
    "#YC95\n",
    "x = 'Hello World'\n",
    "if ('H' in x):\n",
    "    print (\"H in x\")\n",
    "else:\n",
    "        print (\"H not in x\")"
   ]
  },
  {
   "cell_type": "code",
   "execution_count": 92,
   "metadata": {},
   "outputs": [
    {
     "name": "stdout",
     "output_type": "stream",
     "text": [
      "x is not y\n"
     ]
    }
   ],
   "source": [
    "#YC95\n",
    "# \n",
    "x = 10\n",
    "y = 10\n",
    "\n",
    "isTrue = \"x is y\"\n",
    "isFalse = \"x is not y\"\n",
    "\n",
    "if (x is not y):\n",
    "    print (isTrue)\n",
    "else:\n",
    "        print (isFalse)"
   ]
  },
  {
   "cell_type": "code",
   "execution_count": 98,
   "metadata": {
    "id": "5n5urJdSF9l8"
   },
   "outputs": [
    {
     "ename": "SyntaxError",
     "evalue": "invalid syntax. Perhaps you forgot a comma? (3706573892.py, line 4)",
     "output_type": "error",
     "traceback": [
      "\u001b[1;36m  Cell \u001b[1;32mIn[98], line 4\u001b[1;36m\u001b[0m\n\u001b[1;33m    if (8 not isn aList):\u001b[0m\n\u001b[1;37m        ^\u001b[0m\n\u001b[1;31mSyntaxError\u001b[0m\u001b[1;31m:\u001b[0m invalid syntax. Perhaps you forgot a comma?\n"
     ]
    }
   ],
   "source": [
    "#YC95\n",
    "# You will get an error but think why you have an error.\n",
    "aList = [1, 2, 3, 4, 5]\n",
    "if (8 not isn aList):\n",
    "    print (\"8 not in aList\")\n",
    "else:\n",
    "    print (\"8 in aList\")"
   ]
  },
  {
   "cell_type": "markdown",
   "metadata": {
    "id": "ZixNhSIhGW_N"
   },
   "source": [
    "## 6. Pseudo-Code \n",
    "\n",
    "### Overview\n",
    "In machine learning, many developers write pseudo-code for their machine learning algorithms. Python pseudocode is a syntax-free representation of code. So, the Python pseudocode does not involve any code in it. The Python pseudocode is a very close representation of the algorithmic logic. Read through the following scenario to better explain the purpose of pseudo-code.\n",
    "\n",
    "### 6.1 Scenario: A Problem\n",
    "\n",
    "It is assumed that a software developer is asked to write a Python program that can calculate and print the diameter and the circumference of a circle. The user enters the data of the radius and its measurement unit (in, ft, cm, or m) from the console.\n",
    "\n",
    "### 6.2 How to Solve the problem\n",
    "\n",
    " - First, we need to write pseudo-code (or create a flow-chart) of steps that can solve the problem. Formally, we design an algorithm that offers a solution to the problem.\n",
    " - Then, based on the steps of the pseudo-code/flowchart (or algorithm), we write the code of the program.\n",
    " \n",
    " These two steps are the foundation of the software engineering process.\n",
    " \n",
    "### 6.3 Pseudo-Code\n",
    " \n",
    " With pseudo-code, the developer writes down the steps to solve the problem in plain English.\n",
    " \n",
    " 1. Start\n",
    " 2. Read the input of the radius from the console\n",
    " 3. Read the measurement unit of the radius (in, ft, cm, m)\n",
    " 4. Calculate the diameter of the circle\n",
    "     - diameter = 2*radius\n",
    " 5. Calculate the circumference of the circle\n",
    "     - Circumference = diameter*PI (3.14159)\n",
    " 6. Print out the diameter\n",
    " 7. Print out the circumference\n",
    " 8. End"
   ]
  },
  {
   "cell_type": "markdown",
   "metadata": {},
   "source": [
    "<font color=red> **Suppose that you ask a person the year of his/her birth to compute the age of that person.\n",
    "Write a pseudo-code for this simple scenario below** </font>"
   ]
  },
  {
   "cell_type": "code",
   "execution_count": 97,
   "metadata": {},
   "outputs": [
    {
     "ename": "SyntaxError",
     "evalue": "invalid syntax (4067239379.py, line 2)",
     "output_type": "error",
     "traceback": [
      "\u001b[1;36m  Cell \u001b[1;32mIn[97], line 2\u001b[1;36m\u001b[0m\n\u001b[1;33m    1. start.\u001b[0m\n\u001b[1;37m       ^\u001b[0m\n\u001b[1;31mSyntaxError\u001b[0m\u001b[1;31m:\u001b[0m invalid syntax\n"
     ]
    }
   ],
   "source": [
    "# The pseudo-code representation of the steps needed developersolve. Here's summary of steps in the pseudo-code: \n",
    "1. start. \n",
    "2. Read the input of the radiou from the console.\n",
    "3. Calculation measuremsnt unit of the radiys (in, ft,cm,m).\n",
    "4. Calculation the daimenter of the circle: diameter = 2 * radius.\n",
    "5. Calculation the circumferences of the circle: Circumference = diameter * PI (3.14159).\n",
    "6. Print out the diameter.\n",
    "7. Print out the circumference.\n",
    "8 End.\n",
    " # Developer can use this pseudo-code as a guide to write the corresponding Python code to implement this algorithm. It \n",
    " # provided a structured approach to solving the problem and can help ensure that the logic is properly translated into code. "
   ]
  },
  {
   "cell_type": "markdown",
   "metadata": {
    "id": "Tyr0lHDfKLM8"
   },
   "source": [
    "<font color=green>**Great Job!**<font color=green> \n",
    "\n",
    "<font color=green>**You have learned the fundamentals of programming for data science with Python.**<font color=green>"
   ]
  }
 ],
 "metadata": {
  "colab": {
   "name": "Fundamentals_of_Programming_with_Python.ipynb",
   "provenance": []
  },
  "kernelspec": {
   "display_name": "Python 3 (ipykernel)",
   "language": "python",
   "name": "python3"
  },
  "language_info": {
   "codemirror_mode": {
    "name": "ipython",
    "version": 3
   },
   "file_extension": ".py",
   "mimetype": "text/x-python",
   "name": "python",
   "nbconvert_exporter": "python",
   "pygments_lexer": "ipython3",
   "version": "3.10.9"
  }
 },
 "nbformat": 4,
 "nbformat_minor": 1
}
