{
 "cells": [
  {
   "cell_type": "markdown",
   "id": "20344afb",
   "metadata": {},
   "source": [
    "#YC95"
   ]
  },
  {
   "cell_type": "markdown",
   "id": "de0d971f",
   "metadata": {},
   "source": [
    "Q1. Solve Problem 2.1 of Chapter 2 (a through h) on page 56 of your textbook. \n",
    "\n",
    "2.1 Assuming that data mining techniques are to be used in the following cases, identify whether. The task required is supervised or unsupervised learning. \n",
    "\n",
    "a. Deciding whether to issue a loan to an applicant based on demographic and financial data (with reference to a database of similar data on prior customers). \n",
    "\n",
    "Supervised learning: Supervised learning requires labeled data, such as the historical customer. database with loan approval status. It is possible to forecast loan issuance for new applicants by training a model with demographic and financial data as input characteristics and loan approval as the goal variable. \n",
    "\n",
    "b. In an online bookstore, making recommendations to customers concerning additional items to buy based on the buying patterns in prior transactions. \n",
    "\n",
    " Unsupervised learning: Unsupervised learning is a sort of machine learning in which the model is. trained using data that has not been labeled, i.e., there are no goal variables or predefined labels. Without any clear direction, the objective is to find patterns, structures, or correlations in the data. \n",
    "\n",
    "c. Identifying a network data packet as dangerous (virus, hacker attack) based on comparison to other packets whose threat status is known. \n",
    "\n",
    " Supervised learning: Supervised learning encompasses the challenge of classifying network data. packet as harmful based on comparison to other packets with known threat status. This is supervised learning because the status is known for the other packets. \n",
    "\n",
    "d. Identifying segments of similar customers. \n",
    "\n",
    "Unsupervised learning: Unsupervised learning, which groups clients based on patterns and correlations within their data rather than using predetermined labels or known outcomes, is in fact. used to find segments of comparable customers. \n",
    "\n",
    "e. Predicting whether a company will go bankrupt based on comparing its financial data to those of similar bankrupt and nonbankrupt firms. \n",
    "\n",
    "Supervised learning: An example of supervised learning is the problem of forecasting a company. bankruptcy based on a comparison of its financial data to similar bankrupt and nonbankrupt. enterprises. The model is trained using labeled data, with the labels being financial data from organizations that have filed for bankruptcy and those that have not. The program learns patterns. and associations to categorize new firms as bankrupt or nonbankrupt by examining financial metrics. \n",
    "\n",
    "f. Estimating the repair time required for an aircraft based on a trouble ticket. \n",
    "\n",
    "Supervised learning: Historical data with labeled repair times is used to train the model, which analyses trouble ticket features to make predictions. \n",
    "\n",
    "g. Automated sorting of mail by zip code scanning. \n",
    "\n",
    "Unsupervised learning: The model analyses zip codes without predefined labels to identify. patterns and cluster similar zip codes for sorting. This is supervised learning because you would probably know if the sorting was correct. \n",
    "\n",
    "h. Printing of custom discount coupons at the conclusion of a grocery store checkout based on what. you just bought and what others have bought previously. \n",
    "\n",
    "Unsupervised learning: Custom discount coupons based on your purchase history and the behavior of others involve unsupervised learning, specifically collaborative filtering. No predefined labels are needed as the system analyses collective purchasing behavior to generate personalization. coupons. "
   ]
  },
  {
   "cell_type": "markdown",
   "id": "c4815709",
   "metadata": {},
   "source": [
    "Q2. Solve Problem 2.2 of Chapter 2 on page 56 of your textbook. \n",
    "\n",
    "2.2 Describe the difference in roles assumed by the validation partition and the test partition. \n",
    "\n",
    "Answer: The validation partition is used to pick the best model (where multiple models are trained on the training data) whereas the test partition is used to provide an estimate of how the chosen model will perform with unknown data. "
   ]
  },
  {
   "cell_type": "markdown",
   "id": "1d86b30c",
   "metadata": {},
   "source": [
    "Q3. Solve Problem 2.3 of Chapter 2 on page 56 of your textbook. \n",
    "\n",
    "2.3 Consider the sample from a database of credit applications shown in Figure 2.16. Comment on the likelihood that it was sampled randomly, and whether it is likely to be a useful sample. \n",
    "\n",
    "Answer: As it can be seen from the OBS number, there is a pattern in the observations selected for the sample. More accurately, samples are selected based on multiples of 8. Therefore, these samples are likely. selected based on a pre-decided pattern and seems not to be random. Besides that, samples are probably not selected randomly, and that questions their usefulness, there are too many variables in the (columns) compared to samples (rows), which makes any kind of prediction inaccurate due to a low number of samples. "
   ]
  },
  {
   "cell_type": "markdown",
   "id": "96d486ad",
   "metadata": {},
   "source": [
    "Q4. What are the nine characteristics of big data? Instantiate a generation of big data in our daily life. \n",
    "\n",
    "Answer: The nine characteristics of big data, often referred to as the nine characteristics, are: \n",
    "\n",
    "a) Volume: Big data involves vast amounts of data that exceed the storage capacity of conventional databases and tools. \n",
    "\n",
    "b) Velocity: Data is generated and collected at high speeds, often in real-time or near-real-time. \n",
    "\n",
    "c) Variety: Big data comes in various forms, including structured, semi-structured, and unstructured data. It can include text, images, videos, sensor data, and more. \n",
    "\n",
    "d) Veracity: Data quality and reliability can vary significantly. Big data may contain errors, inconsistencies, and inaccuracies. \n",
    "\n",
    "e) Validity: Data should be relevant and accurate for the intended analysis or application. \n",
    "\n",
    "f) Variability: Data can have inconsistent formats, structures, or meanings, making it challenging to work with. \n",
    "\n",
    "g) Volatility: Data can change rapidly, requiring frequent updates and management. \n",
    "\n",
    "h) Visualization: Effective visualization tools and techniques are needed to make sense of the data and communicate insights. \n",
    "\n",
    "i) Value: Ultimately, the goal of big data is to extract valuable insights and knowledge that can drive informed decision-making. \n",
    "\n",
    "An example of big data in our daily lives is social media platforms like Facebook or Twitter. These platforms collect and process vast amounts of user-generated data, including text posts, images, videos, and user interactions. They analyze this data to provide personalized content recommendations, targeted advertisements, and insights into user behavior. The data is generated and processed in real-time, exhibiting characteristics like high volume, velocity, variety, and value. "
   ]
  },
  {
   "cell_type": "markdown",
   "id": "9e22a22a",
   "metadata": {},
   "source": [
    "Q5. Solve Problem 2.4 of Chapter 2 on page 56 of your textbook. \n",
    "\n",
    "Consider the sample from a bank database shown in Table 2.17, It was selected randomly from a large database to be training set. Personal Loan indicates whether a solicitation for a personal loan was accepted and is the response variable. A campaign is planned for a similar solicitation in the future and the bank is looking for a model that will identify a likely response. Examine the data carefully and indicate what your next step would be.  \n",
    "\n",
    " \n",
    "Answer: The dataset represents a sample from a bank database, specifically selected to be used as a training set for a campaign aimed at soliciting personal loans. The key variable of interest is \"Personal Loan,\" which indicates whether individuals accepted the solicitation for a personal loan (with values 1 for accepted and 0 for not accepted). This dataset contains various attributes for each individual that can potentially be used as predictors for identifying likely responders to the loan solicitation. \n",
    "\n",
    "After summarizing (dataset in Table 2.17) the columns and understanding their possible meanings, your next steps for building a model to identify likely responders to the personal loan solicitation campaign would typically involve data preprocessing, feature engineering, model selection, and evaluation. These steps are outlined in the previous response to ensure that you prepare the data and build a predictive model that can effectively identify potential responders. "
   ]
  },
  {
   "cell_type": "markdown",
   "id": "4d3cfd63",
   "metadata": {},
   "source": [
    "Q6. What is overfitting and why do we refrain from it? \n",
    "\n",
    "Answer: Overfitting is a phenomenon in machine learning where a model learns the training data too well, including its noise and random fluctuations. This leads to a model that performs exceptionally well on the training data but fails to generalize to new, unseen data. We refrain from overfitting because it results in models that are overly complex and not robust, making them unreliable for real-world applications. To combat overfitting, techniques like cross-validation, regularization, and using larger and more diverse datasets are employed. "
   ]
  },
  {
   "cell_type": "markdown",
   "id": "9514d2f9",
   "metadata": {},
   "source": [
    "Q7. Solve Problem 2.7 of Chapter 2 on page 57 of your textbook. \n",
    "A data set has 100 records and 50 variables with 5% of the values missing, spread randomly throughout the record and variable. An analyst decides to remove records with missing values. About how many records would you expect to be removed?  \n",
    "\n",
    "Answer:  Data set has 1000 records and 50 variables; we assume that each variable has 1000 records then 1000*50 = 50,000 values for missing values 5% of 50,000 = 2500 values are missing;  \n",
    "\n",
    "The number of records that may contain theses missing values = 2500/50 = 50 \n",
    "Therefore; 50 records are to be removed  "
   ]
  },
  {
   "cell_type": "markdown",
   "id": "4b3e6b8e",
   "metadata": {},
   "source": [
    "Q8. Why are there so many different methods for classification and prediction? \n",
    "\n",
    "Answer: There are many different methods for classification and prediction in machine learning because different problems require different approaches. The choice of method depends on factors such as the nature of the data, the problem's complexity, the amount of data available, and the desired trade-off between accuracy and interpretability. No single method is universally superior, so researchers and practitioners develop and use various algorithms to address the diversity of real-world problems.  \n",
    "\n",
    "The diversity of data, the complexity of problems, the availability of algorithms, and the specific needs of different applications all contribute to the wide array of classification and prediction methods available. The choice of method should be driven by careful consideration of the problem at hand, the characteristics of the data, and the goals of the analysis. "
   ]
  },
  {
   "cell_type": "markdown",
   "id": "567fe02d",
   "metadata": {},
   "source": [
    " Q9. Solve Problem 2.8 of Chapter 2 on page 57 of your textbook. \n",
    "\n",
    "Table 2.18 \n",
    "\n",
    "Age                         Income ($) \n",
    "\n",
    "25                          49,000 \n",
    "\n",
    "56                          156,000 \n",
    "\n",
    "65                          99,000 \n",
    "\n",
    "32                          192,000 \n",
    "\n",
    "41                          39,000 \n",
    "\n",
    "49                          57,000 \n",
    "\n",
    "Answer: Normalization of a measurement is obtained by subtracting the average from each measurement and dividing the difference by the standard deviation. \n",
    "\n",
    "Number of Items (N) = 6 \n",
    "\n",
    "Mean (M2) of Age = (25 + 56 + 65 + 32 + 41 + 49) / 6 =   44.6667 \n",
    "\n",
    "Mean (M1) of Income = (49000+156000+99000+192000+39000+5700) /6 = 98666.67 \n",
    "\n",
    "Standard Deviation (σ) =  \n",
    "\n",
    "Difference of mean and Normalized given values:\n"
   ]
  },
  {
   "cell_type": "code",
   "execution_count": 4,
   "id": "92f92d13",
   "metadata": {},
   "outputs": [],
   "source": [
    "# python \n",
    "import statistics \n",
    "ages = [25,56,65, 32,41,49]\n",
    "# Claculation mean average ages\n",
    "mean_age = statistics.mean(ages)\n",
    "# Saandeard Deviations \n",
    "std_dev_age = statistics.stdev(ages)"
   ]
  },
  {
   "cell_type": "markdown",
   "id": "9575bde1",
   "metadata": {},
   "source": [
    "Q10. What is the key difference between classification and prediction in data mining? \n",
    "\n",
    "Answer: The key difference between classification and prediction in data mining is as follows: Classification: Classification is a supervised learning task where the goal is to assign predefined labels or categories to input data based on its features. It involves training a model on a labeled dataset, and the model's primary objective is to classify new, unseen data points into one of the predefined classes. For example, classifying emails as spam or spam. Prediction: Prediction, also known as regression, is another supervised learning task. Instead of assigning categorical labels, prediction aims to estimate a continuous or numerical value as the output. It involves learning the relationships between input features and a target variable, allowing the model to make predictions about numerical outcomes. For instance, predicting house prices based on features like size, location, and number of bedrooms. "
   ]
  },
  {
   "cell_type": "markdown",
   "id": "ead31fb6",
   "metadata": {},
   "source": [
    "Q11. Give an example to the association rule that is used in marketing.\n",
    "\n",
    "Answer: An example of an association rule used in marketing is the \"Market Basket Analysis.\" In this context, market basket analysis identifies patterns in customer shopping behaviors by analyzing the items that tend to be purchased together. For instance, a common association rule could be: \"If a customer buys product A, they are likely to also buy product B. \"Supermarkets and online retailers use this type of association rule to improve product placement, optimize cross-selling strategies, and offer personalized product recommendations to customers. For example, if a customer adds coffee to their online shopping cart, the system might suggest purchasing coffee filters or a coffee maker as well."
   ]
  },
  {
   "cell_type": "markdown",
   "id": "7348716e",
   "metadata": {},
   "source": [
    "Q12. Solve Problem 2.10 of Chapter 2 on page 56 of your textbook. \n",
    "\n",
    "Answer: A model is developed based on a training set; the model learns from the training data set. A trained model is validated on the test data set. Based on test results, accuracy measures will be calculated. The accuracy measures tell the quality of a model. The efficiency of a model depends on how accurately it is classifying unknown data, and test data but on classifying known data training data. Therefore, the more accurate model (Model B) is considered for final deployment. Based on a training set, a model is created, and the model learns from the training data set. The test dataset is used to validate the trained model. Accuracy measures will be computed using test outcomes. The accuracy metrics reveal a model's quality. A model's effectiveness depends on how well it can identify both test and unknown data, as well as training and known data. The more accurate model (Model B) is therefore taken into consideration for the final deployment. "
   ]
  },
  {
   "cell_type": "markdown",
   "id": "82441b4d",
   "metadata": {},
   "source": [
    "Q13. What are outliers and how do we treat them in big data? \n",
    "\n",
    "Answer: Outliers are data points that significantly deviate from the majority of data in a dataset. They can be unusually high or low values and are often considered noise or anomalies. In big data, treating outliers is essential to ensure the quality and reliability of analyses and predictions. Various methods can be used to handle outliers, such as: \n",
    "\n",
    "a) Removing outliers: In some cases, it may be appropriate to remove outliers from the dataset if they are genuine errors or extreme values that do not represent the underlying patterns. \n",
    "\n",
    "b) Transforming data: Data transformation techniques, like logarithmic scaling or winsorization, can help reduce the impact of outliers on statistical analyses. \n",
    "\n",
    "c) Model-based approaches: Some machine learning models are robust to outliers, while others are sensitive. Choosing an appropriate model can help mitigate the influence of outliers. \n",
    "\n",
    "d) Imputation: For missing values caused by outliers, imputation methods can be used to estimate or replace the missing values. \n",
    "\n",
    "The treatment of outliers depends on the specific problem, the nature of the data, and the goals of the analysis. "
   ]
  },
  {
   "cell_type": "markdown",
   "id": "9fb2b2d7",
   "metadata": {},
   "source": [
    " Q14. What do we partition any data set into for machine learning? \n",
    "\n",
    "In machine learning, a dataset is typically partitioned into three main subsets: \n",
    "\n",
    "a) Training Set: The training set is the largest portion of the dataset and is used to train the machine learning model. The model learns patterns, relationships, and features from this set. Essentially, it's like a teacher providing examples to a student. \n",
    "\n",
    "b) Validation Set: The validation set is used to fine-tune the model's hyperparameters and evaluate its performance during training. It helps prevent overfitting by providing an independent dataset that the model hasn't seen during training. The model's performance on the validation set guides the adjustments to its configuration. \n",
    "\n",
    "c) Test Set: The test set is a completely independent dataset that is not used during model training or hyperparameter tuning. It serves as the final evaluation of the model's performance. By assessing how well the model generalizes to new, unseen data in the test set, we can gauge its overall effectiveness. \n",
    "\n",
    "The reason for partitioning a dataset into these subsets is to ensure that the machine learning model learns from one portion of the data, generalizes to another (validation set), and is rigorously tested on a third (test set) to assess its real-world performance. This process helps in building models that can make accurate predictions or classifications when exposed to new, unseen data. "
   ]
  },
  {
   "cell_type": "markdown",
   "id": "ac3c8e18",
   "metadata": {},
   "source": [
    "# HO1 Download and Installation is completed Jupyter Notebook  \n"
   ]
  },
  {
   "cell_type": "markdown",
   "id": "766c4d6b",
   "metadata": {},
   "source": [
    "# HO2 Completed code blocks with comments are run \n",
    "\n",
    "\n"
   ]
  },
  {
   "cell_type": "code",
   "execution_count": 4,
   "id": "01fa32ba",
   "metadata": {},
   "outputs": [
    {
     "name": "stdout",
     "output_type": "stream",
     "text": [
      "Welcome to python Programing and Data Mining analysis \n"
     ]
    }
   ],
   "source": [
    "print(\"Welcome to python Programing and Data Mining analysis \")"
   ]
  },
  {
   "cell_type": "code",
   "execution_count": 1,
   "id": "60d28943",
   "metadata": {},
   "outputs": [
    {
     "name": "stdout",
     "output_type": "stream",
     "text": [
      "12\n",
      "<class 'int'>\n"
     ]
    }
   ],
   "source": [
    "\n",
    "#**Integer**\n",
    "\n",
    "int1 = 12\n",
    "print(int1)\n",
    "print(type(int1))"
   ]
  },
  {
   "cell_type": "code",
   "execution_count": 2,
   "id": "e0293bf0",
   "metadata": {},
   "outputs": [
    {
     "name": "stdout",
     "output_type": "stream",
     "text": [
      "3.1414\n",
      "<class 'float'>\n"
     ]
    }
   ],
   "source": [
    "\n",
    "#**Float**\n",
    "\n",
    "flt1 = 3.1414\n",
    "print(flt1)\n",
    "print(type(flt1))"
   ]
  },
  {
   "cell_type": "code",
   "execution_count": 3,
   "id": "3393c3e5",
   "metadata": {},
   "outputs": [
    {
     "name": "stdout",
     "output_type": "stream",
     "text": [
      "(2+3j)\n",
      "<class 'complex'>\n"
     ]
    }
   ],
   "source": [
    "#**Complex**\n",
    "\n",
    "cmplx1 = 2+3j\n",
    "print(cmplx1)\n",
    "print(type(cmplx1))"
   ]
  },
  {
   "cell_type": "code",
   "execution_count": 4,
   "id": "9f7e5988",
   "metadata": {},
   "outputs": [
    {
     "name": "stdout",
     "output_type": "stream",
     "text": [
      "True\n",
      "<class 'bool'>\n"
     ]
    }
   ],
   "source": [
    "#**Boolean**\n",
    "\n",
    "bavindra = True\n",
    "print(bavindra)\n",
    "print(type(bavindra))"
   ]
  },
  {
   "cell_type": "code",
   "execution_count": 5,
   "id": "68c9964f",
   "metadata": {},
   "outputs": [
    {
     "name": "stdout",
     "output_type": "stream",
     "text": [
      "False\n",
      "<class 'bool'>\n"
     ]
    }
   ],
   "source": [
    "#**Boolean**\n",
    "\n",
    "bavindra = False\n",
    "print(bavindra)\n",
    "print(type(bavindra))"
   ]
  },
  {
   "cell_type": "code",
   "execution_count": 6,
   "id": "c84f454f",
   "metadata": {},
   "outputs": [
    {
     "name": "stdout",
     "output_type": "stream",
     "text": [
      "Python Programming\n",
      "<class 'str'>\n"
     ]
    }
   ],
   "source": [
    "#**String**\n",
    "\n",
    "str1 = 'Python Programming'\n",
    "print(str1)\n",
    "print(type(str1))\n",
    "     "
   ]
  },
  {
   "cell_type": "code",
   "execution_count": 7,
   "id": "2f8314ce",
   "metadata": {},
   "outputs": [
    {
     "name": "stdout",
     "output_type": "stream",
     "text": [
      "'Python Programming' \n",
      "<class 'str'>\n"
     ]
    },
    {
     "data": {
      "text/plain": [
       "\"'Python Programming' \""
      ]
     },
     "execution_count": 7,
     "metadata": {},
     "output_type": "execute_result"
    }
   ],
   "source": [
    "#**String**\n",
    "\n",
    "str1 = \"\"\"\\'Python Programming\\' \"\"\"\n",
    "print(str1)\n",
    "print(type(str1))\n",
    "str1"
   ]
  },
  {
   "cell_type": "code",
   "execution_count": 8,
   "id": "9d2669f5",
   "metadata": {},
   "outputs": [
    {
     "ename": "SyntaxError",
     "evalue": "invalid syntax (3436079364.py, line 1)",
     "output_type": "error",
     "traceback": [
      "\u001b[1;36m  Cell \u001b[1;32mIn[8], line 1\u001b[1;36m\u001b[0m\n\u001b[1;33m    str1 = My name is 'Yog Chaudhary'. I like \"Python Language\".\u001b[0m\n\u001b[1;37m              ^\u001b[0m\n\u001b[1;31mSyntaxError\u001b[0m\u001b[1;31m:\u001b[0m invalid syntax\n"
     ]
    }
   ],
   "source": [
    "\n",
    "str1 = My name is 'Yog Chaudhary'. I like \"Python Language\"."
   ]
  },
  {
   "cell_type": "code",
   "execution_count": 9,
   "id": "f028bec4",
   "metadata": {},
   "outputs": [
    {
     "name": "stdout",
     "output_type": "stream",
     "text": [
      "My name is 'Yog Chaudhary'. I like \"Python Language\".\n"
     ]
    }
   ],
   "source": [
    "\n",
    "str1 = \"\"\"My name is 'Yog Chaudhary'. I like \"Python Language\".\"\"\"\n",
    "print(str1)\n",
    "     "
   ]
  },
  {
   "cell_type": "code",
   "execution_count": 13,
   "id": "9cc71027",
   "metadata": {},
   "outputs": [],
   "source": [
    "str1 = \"Python Programming\""
   ]
  },
  {
   "cell_type": "code",
   "execution_count": 14,
   "id": "c9cd5ccc",
   "metadata": {},
   "outputs": [
    {
     "data": {
      "text/plain": [
       "'P'"
      ]
     },
     "execution_count": 14,
     "metadata": {},
     "output_type": "execute_result"
    }
   ],
   "source": [
    "str1[0]"
   ]
  },
  {
   "cell_type": "code",
   "execution_count": 17,
   "id": "882e09e6",
   "metadata": {},
   "outputs": [
    {
     "name": "stdout",
     "output_type": "stream",
     "text": [
      "P\n",
      "y\n",
      "t\n",
      "h\n",
      "o\n",
      "n\n"
     ]
    }
   ],
   "source": [
    "print(str1[0])\n",
    "print(str1[1])\n",
    "print(str1[2])\n",
    "print(str1[3])\n",
    "print(str1[4])\n",
    "print(str1[5])"
   ]
  },
  {
   "cell_type": "code",
   "execution_count": 18,
   "id": "dc11e441",
   "metadata": {},
   "outputs": [],
   "source": [
    "str1 = \" apple , banana, cherry\""
   ]
  },
  {
   "cell_type": "code",
   "execution_count": 21,
   "id": "3f05454d",
   "metadata": {},
   "outputs": [
    {
     "data": {
      "text/plain": [
       "' apple'"
      ]
     },
     "execution_count": 21,
     "metadata": {},
     "output_type": "execute_result"
    }
   ],
   "source": [
    "# print \"apple \"\n",
    "str1[0:6]"
   ]
  },
  {
   "cell_type": "code",
   "execution_count": 22,
   "id": "44a73193",
   "metadata": {},
   "outputs": [],
   "source": [
    "str1 = \"Python Programming\""
   ]
  },
  {
   "cell_type": "code",
   "execution_count": 23,
   "id": "35cee772",
   "metadata": {},
   "outputs": [
    {
     "name": "stdout",
     "output_type": "stream",
     "text": [
      "Python Programming\n",
      "Python Programming\n"
     ]
    }
   ],
   "source": [
    "print(str1[:])\n",
    "print(str1[::])"
   ]
  },
  {
   "cell_type": "code",
   "execution_count": 24,
   "id": "9418b08a",
   "metadata": {},
   "outputs": [
    {
     "name": "stdout",
     "output_type": "stream",
     "text": [
      "Python Programming\n",
      "Pto rgamn\n",
      "Ph oai\n",
      "Poran\n",
      "Pngi\n",
      "P a\n"
     ]
    }
   ],
   "source": [
    "print(str1[::1])\n",
    "print(str1[::2])\n",
    "print(str1[::3])\n",
    "print(str1[::4])\n",
    "print(str1[::5])\n",
    "print(str1[::6])"
   ]
  },
  {
   "cell_type": "code",
   "execution_count": 25,
   "id": "9ecfebc0",
   "metadata": {},
   "outputs": [
    {
     "name": "stdout",
     "output_type": "stream",
     "text": [
      "gnimmargorP nohtyP\n"
     ]
    }
   ],
   "source": [
    "\n",
    "print(str1[::-1])"
   ]
  },
  {
   "cell_type": "code",
   "execution_count": 26,
   "id": "72089d88",
   "metadata": {},
   "outputs": [
    {
     "name": "stdout",
     "output_type": "stream",
     "text": [
      "Harry Potter - Goblet of Fire\n",
      "-30\n",
      "eriF fo telboG - rettoP yrraH\n",
      "eriF fo telboG - rettoP yrraH\n",
      "Harry Potter - Goblet of Fire\n"
     ]
    }
   ],
   "source": [
    "str1 = 'Harry Potter - Goblet of Fire'\n",
    "\n",
    "# +ve indexing +ve slicing (left to right)\n",
    "print(str1[0:len(str1):1])\n",
    "\n",
    "print(-(len(str1)+1))\n",
    "\n",
    "# -ve indexing -ve slicing (right to left)\n",
    "print(str1[-1:-(len(str1)+1):-1])\n",
    "\n",
    "# +ve indexing -ve slicing (right to left)\n",
    "print(str1[28::-1])\n",
    "\n",
    "# -ve indexing +ve slicing (left to right)\n",
    "print(str1[-29::1])"
   ]
  },
  {
   "cell_type": "code",
   "execution_count": 27,
   "id": "c76b6643",
   "metadata": {},
   "outputs": [
    {
     "name": "stdout",
     "output_type": "stream",
     "text": [
      "PYTHON PROGRAMMING\n",
      "-19\n",
      "GNIMMARGORP NOHTYP\n",
      "GNIMMARGORP NOHTYP\n",
      "PYTHON PROGRAMMING\n"
     ]
    }
   ],
   "source": [
    "str1 = 'PYTHON PROGRAMMING'\n",
    "\n",
    "# +ve indexing +ve slicing (left to right)\n",
    "print(str1[0:len(str1):1])\n",
    "\n",
    "print(-(len(str1)+1))\n",
    "\n",
    "# -ve indexing -ve slicing (right to left)\n",
    "print(str1[-1:-(len(str1)+1):-1])\n",
    "\n",
    "# +ve indexing -ve slicing (right to left)\n",
    "print(str1[28::-1])\n",
    "\n",
    "# -ve indexing +ve slicing (left to right)\n",
    "print(str1[-29::1])"
   ]
  },
  {
   "cell_type": "code",
   "execution_count": null,
   "id": "ad6e2771",
   "metadata": {},
   "outputs": [],
   "source": [
    "# God job"
   ]
  }
 ],
 "metadata": {
  "kernelspec": {
   "display_name": "Python 3 (ipykernel)",
   "language": "python",
   "name": "python3"
  },
  "language_info": {
   "codemirror_mode": {
    "name": "ipython",
    "version": 3
   },
   "file_extension": ".py",
   "mimetype": "text/x-python",
   "name": "python",
   "nbconvert_exporter": "python",
   "pygments_lexer": "ipython3",
   "version": "3.10.9"
  }
 },
 "nbformat": 4,
 "nbformat_minor": 5
}
