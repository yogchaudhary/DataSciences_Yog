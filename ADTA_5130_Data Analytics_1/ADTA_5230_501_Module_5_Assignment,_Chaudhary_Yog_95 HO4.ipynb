{
 "cells": [
  {
   "cell_type": "code",
   "execution_count": 1,
   "metadata": {
    "id": "P4hTIgO12IyN"
   },
   "outputs": [],
   "source": [
    "#YC95"
   ]
  },
  {
   "cell_type": "markdown",
   "metadata": {
    "id": "d9uet-sD2PZD"
   },
   "source": [
    "HO4. Show the computation of Naive Bayes probabilities on page 205 of your textbook.\n",
    "\n",
    "Note: Calculation of P(Fraudulent | PriorLegal = y, Size = small) = 0.53 is given in detail, you will show detailed computation of the remaining probabilities of 0.87, 0.07, and 0.31, similarly. You do not need to use Python coding for this. You can use your calculator and append your answer to 16 Questions above, i.e. answer to Q16 followed by HO4."
   ]
  },
  {
   "cell_type": "markdown",
   "metadata": {
    "id": "agMlEIxP9agV"
   },
   "source": [
    "To determine a Naive Bayes classifier predictions an observation with attributes ( PriorLegal and Size) Follwing:\n",
    "\n",
    "Given the probabilities:\n",
    "\n",
    "# For an observation with PriorLegal = y and Size = small:\n",
    "\n",
    "The probability it's fraudulent is 0.53\n",
    "Assuming only two classes, the probability it's non-fraudulent is 1 - 0.53 = 0.47\n",
    "\n",
    "# For PriorLegal = y and Size = large:\n",
    "\n",
    "The probability it's fraudulent is 0.87\n",
    "The probability it's non-fraudulent is 1 - 0.87 = 0.13\n",
    "\n",
    "# For PriorLegal = n and Size = small:\n",
    "\n",
    "The probability it's fraudulent is 0.07\n",
    "The probability it's non-fraudulent is 1 - 0.07 = 0.93\n",
    "\n",
    "# For PriorLegal = n and Size = large:\n",
    "\n",
    "The probability it's fraudulent is 0.31\n",
    "The probability it's non-fraudulent is 1 - 0.31 = 0.69\n",
    "\n"
   ]
  },
  {
   "cell_type": "markdown",
   "metadata": {
    "id": "9bghU7Qc_kWd"
   },
   "source": [
    "# For Classification:\n",
    "\n",
    "If PriorLegal = y and Size = small, classify as 'fraudulent' since 0.53 > 0.47.\n",
    "\n",
    "If PriorLegal = y and Size = large, classify as 'fraudulent' since 0.87 > 0.13.\n",
    "\n",
    "If PriorLegal = n and Size = small, classify as 'non-fraudulent' since 0.93 > 0.07.\n",
    "\n",
    "If PriorLegal = n and Size = large, classify as 'non-fraudulent' since 0.69 > 0.31."
   ]
  },
  {
   "cell_type": "code",
   "execution_count": 2,
   "metadata": {
    "id": "HaJ-FFMC5KgD"
   },
   "outputs": [],
   "source": [
    "# Probabilities from the given question\n",
    "\n",
    "probabilities = {\n",
    "    'y': {\n",
    "        'small': 0.53,\n",
    "        'large': 0.87\n",
    "    },\n",
    "    'n': {\n",
    "        'small': 0.07,\n",
    "        'large': 0.31\n",
    "    }\n",
    "}\n",
    "\n",
    "def classify(prior_legal, size):\n",
    "    return probabilities[prior_legal][size]"
   ]
  },
  {
   "cell_type": "code",
   "execution_count": 3,
   "metadata": {
    "id": "JoKlXPir5R5b"
   },
   "outputs": [],
   "source": [
    "# Sample predictions\n",
    "prior_legal_value = 'y'\n",
    "size_value = 'small'"
   ]
  },
  {
   "cell_type": "code",
   "execution_count": 4,
   "metadata": {
    "colab": {
     "base_uri": "https://localhost:8080/"
    },
    "id": "dKgr8S_z5VSz",
    "outputId": "afacb7ea-a92d-4b5a-89c8-a978c62bacee"
   },
   "outputs": [
    {
     "name": "stdout",
     "output_type": "stream",
     "text": [
      "The probability of fraudulent behavior given PriorLegal = y and Size = small is: 0.53\n"
     ]
    }
   ],
   "source": [
    "# probabilites of fraudulent\n",
    "predicted_prob = classify(prior_legal_value, size_value)\n",
    "print(f\"The probability of fraudulent behavior given PriorLegal = {prior_legal_value} and Size = {size_value} is: {predicted_prob}\")\n",
    "\n"
   ]
  },
  {
   "cell_type": "code",
   "execution_count": 5,
   "metadata": {
    "id": "04DdPUBAAEwV"
   },
   "outputs": [],
   "source": [
    "# HO4"
   ]
  }
 ],
 "metadata": {
  "colab": {
   "provenance": []
  },
  "kernelspec": {
   "display_name": "Python 3 (ipykernel)",
   "language": "python",
   "name": "python3"
  },
  "language_info": {
   "codemirror_mode": {
    "name": "ipython",
    "version": 3
   },
   "file_extension": ".py",
   "mimetype": "text/x-python",
   "name": "python",
   "nbconvert_exporter": "python",
   "pygments_lexer": "ipython3",
   "version": "3.10.9"
  }
 },
 "nbformat": 4,
 "nbformat_minor": 1
}
